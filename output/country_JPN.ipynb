{
 "cells": [
  {
   "cell_type": "code",
   "execution_count": 1,
   "metadata": {
    "execution": {
     "iopub.execute_input": "2020-06-12T08:40:01.512981Z",
     "iopub.status.busy": "2020-06-12T08:40:01.512329Z",
     "iopub.status.idle": "2020-06-12T08:40:01.531765Z",
     "shell.execute_reply": "2020-06-12T08:40:01.531300Z"
    },
    "papermill": {
     "duration": 0.099078,
     "end_time": "2020-06-12T08:40:01.531866",
     "exception": false,
     "start_time": "2020-06-12T08:40:01.432788",
     "status": "completed"
    },
    "tags": []
   },
   "outputs": [],
   "source": [
    "%load_ext autoreload\n",
    "%autoreload 2"
   ]
  },
  {
   "cell_type": "code",
   "execution_count": 2,
   "metadata": {
    "execution": {
     "iopub.execute_input": "2020-06-12T08:40:01.595870Z",
     "iopub.status.busy": "2020-06-12T08:40:01.595229Z",
     "iopub.status.idle": "2020-06-12T08:40:02.633595Z",
     "shell.execute_reply": "2020-06-12T08:40:02.634279Z"
    },
    "papermill": {
     "duration": 1.073033,
     "end_time": "2020-06-12T08:40:02.634405",
     "exception": false,
     "start_time": "2020-06-12T08:40:01.561372",
     "status": "completed"
    },
    "tags": []
   },
   "outputs": [],
   "source": [
    "import scipy\n",
    "from scipy.integrate import odeint\n",
    "\n",
    "import pandas as pd\n",
    "import numpy as np\n",
    "import datetime\n",
    "\n",
    "import matplotlib.pyplot as plt\n",
    "import matplotlib.dates as mdates\n",
    "import seaborn as sns\n",
    "\n",
    "import lmfit\n",
    "from lmfit.lineshapes import gaussian, lorentzian\n",
    "\n",
    "plt.style.use('fivethirtyeight')\n",
    "%matplotlib inline "
   ]
  },
  {
   "cell_type": "code",
   "execution_count": 3,
   "metadata": {
    "execution": {
     "iopub.execute_input": "2020-06-12T08:40:02.695602Z",
     "iopub.status.busy": "2020-06-12T08:40:02.694941Z",
     "iopub.status.idle": "2020-06-12T08:40:02.715158Z",
     "shell.execute_reply": "2020-06-12T08:40:02.714524Z"
    },
    "papermill": {
     "duration": 0.051804,
     "end_time": "2020-06-12T08:40:02.715252",
     "exception": false,
     "start_time": "2020-06-12T08:40:02.663448",
     "status": "completed"
    },
    "tags": [
     "parameters"
    ]
   },
   "outputs": [],
   "source": [
    "# parameters \n",
    "\n",
    "COUNTRY = 'JPN'  # 'SGP', 'MYS', 'DEU', 'OWID_WRL'\n",
    "\n",
    "START_DATE = '2020-02-14'"
   ]
  },
  {
   "cell_type": "code",
   "execution_count": 4,
   "metadata": {
    "execution": {
     "iopub.execute_input": "2020-06-12T08:40:02.772706Z",
     "iopub.status.busy": "2020-06-12T08:40:02.772070Z",
     "iopub.status.idle": "2020-06-12T08:40:02.798404Z",
     "shell.execute_reply": "2020-06-12T08:40:02.797585Z"
    },
    "papermill": {
     "duration": 0.056251,
     "end_time": "2020-06-12T08:40:02.798517",
     "exception": false,
     "start_time": "2020-06-12T08:40:02.742266",
     "status": "completed"
    },
    "tags": [
     "injected-parameters"
    ]
   },
   "outputs": [],
   "source": [
    "# Parameters\n",
    "COUNTRY = \"JPN\"\n",
    "START_DATE = \"2020-02-14\"\n"
   ]
  },
  {
   "cell_type": "code",
   "execution_count": 5,
   "metadata": {
    "execution": {
     "iopub.execute_input": "2020-06-12T08:40:02.862188Z",
     "iopub.status.busy": "2020-06-12T08:40:02.861545Z",
     "iopub.status.idle": "2020-06-12T08:40:03.029505Z",
     "shell.execute_reply": "2020-06-12T08:40:03.028883Z"
    },
    "papermill": {
     "duration": 0.198951,
     "end_time": "2020-06-12T08:40:03.029596",
     "exception": false,
     "start_time": "2020-06-12T08:40:02.830645",
     "status": "completed"
    },
    "tags": []
   },
   "outputs": [
    {
     "data": {
      "text/plain": [
       "(23194, 33)"
      ]
     },
     "execution_count": 5,
     "metadata": {},
     "output_type": "execute_result"
    }
   ],
   "source": [
    "DATA_PATH = '../covid-19-data/public/data/owid-covid-data.csv'\n",
    "# DATA_PATH = '../covid-19-data/public/data/ecdc/full_data.csv'\n",
    "\n",
    "df = pd.read_csv(DATA_PATH)\n",
    "df['date'] = pd.to_datetime(df['date'], yearfirst=True)\n",
    "df.shape"
   ]
  },
  {
   "cell_type": "code",
   "execution_count": 6,
   "metadata": {
    "execution": {
     "iopub.execute_input": "2020-06-12T08:40:03.092907Z",
     "iopub.status.busy": "2020-06-12T08:40:03.092209Z",
     "iopub.status.idle": "2020-06-12T08:40:03.141029Z",
     "shell.execute_reply": "2020-06-12T08:40:03.140388Z"
    },
    "papermill": {
     "duration": 0.080513,
     "end_time": "2020-06-12T08:40:03.141120",
     "exception": false,
     "start_time": "2020-06-12T08:40:03.060607",
     "status": "completed"
    },
    "tags": []
   },
   "outputs": [
    {
     "data": {
      "text/html": [
       "<div>\n",
       "<style scoped>\n",
       "    .dataframe tbody tr th:only-of-type {\n",
       "        vertical-align: middle;\n",
       "    }\n",
       "\n",
       "    .dataframe tbody tr th {\n",
       "        vertical-align: top;\n",
       "    }\n",
       "\n",
       "    .dataframe thead th {\n",
       "        text-align: right;\n",
       "    }\n",
       "</style>\n",
       "<table border=\"1\" class=\"dataframe\">\n",
       "  <thead>\n",
       "    <tr style=\"text-align: right;\">\n",
       "      <th></th>\n",
       "      <th>iso_code</th>\n",
       "      <th>continent</th>\n",
       "      <th>location</th>\n",
       "      <th>date</th>\n",
       "      <th>total_cases</th>\n",
       "      <th>new_cases</th>\n",
       "      <th>total_deaths</th>\n",
       "      <th>new_deaths</th>\n",
       "      <th>total_cases_per_million</th>\n",
       "      <th>new_cases_per_million</th>\n",
       "      <th>...</th>\n",
       "      <th>aged_65_older</th>\n",
       "      <th>aged_70_older</th>\n",
       "      <th>gdp_per_capita</th>\n",
       "      <th>extreme_poverty</th>\n",
       "      <th>cvd_death_rate</th>\n",
       "      <th>diabetes_prevalence</th>\n",
       "      <th>female_smokers</th>\n",
       "      <th>male_smokers</th>\n",
       "      <th>handwashing_facilities</th>\n",
       "      <th>hospital_beds_per_thousand</th>\n",
       "    </tr>\n",
       "  </thead>\n",
       "  <tbody>\n",
       "    <tr>\n",
       "      <th>0</th>\n",
       "      <td>AFG</td>\n",
       "      <td>Asia</td>\n",
       "      <td>Afghanistan</td>\n",
       "      <td>2019-12-31</td>\n",
       "      <td>0</td>\n",
       "      <td>0</td>\n",
       "      <td>0</td>\n",
       "      <td>0</td>\n",
       "      <td>0.0</td>\n",
       "      <td>0.0</td>\n",
       "      <td>...</td>\n",
       "      <td>2.581</td>\n",
       "      <td>1.337</td>\n",
       "      <td>1803.987</td>\n",
       "      <td>NaN</td>\n",
       "      <td>597.029</td>\n",
       "      <td>9.59</td>\n",
       "      <td>NaN</td>\n",
       "      <td>NaN</td>\n",
       "      <td>37.746</td>\n",
       "      <td>0.5</td>\n",
       "    </tr>\n",
       "    <tr>\n",
       "      <th>1</th>\n",
       "      <td>AFG</td>\n",
       "      <td>Asia</td>\n",
       "      <td>Afghanistan</td>\n",
       "      <td>2020-01-01</td>\n",
       "      <td>0</td>\n",
       "      <td>0</td>\n",
       "      <td>0</td>\n",
       "      <td>0</td>\n",
       "      <td>0.0</td>\n",
       "      <td>0.0</td>\n",
       "      <td>...</td>\n",
       "      <td>2.581</td>\n",
       "      <td>1.337</td>\n",
       "      <td>1803.987</td>\n",
       "      <td>NaN</td>\n",
       "      <td>597.029</td>\n",
       "      <td>9.59</td>\n",
       "      <td>NaN</td>\n",
       "      <td>NaN</td>\n",
       "      <td>37.746</td>\n",
       "      <td>0.5</td>\n",
       "    </tr>\n",
       "    <tr>\n",
       "      <th>2</th>\n",
       "      <td>AFG</td>\n",
       "      <td>Asia</td>\n",
       "      <td>Afghanistan</td>\n",
       "      <td>2020-01-02</td>\n",
       "      <td>0</td>\n",
       "      <td>0</td>\n",
       "      <td>0</td>\n",
       "      <td>0</td>\n",
       "      <td>0.0</td>\n",
       "      <td>0.0</td>\n",
       "      <td>...</td>\n",
       "      <td>2.581</td>\n",
       "      <td>1.337</td>\n",
       "      <td>1803.987</td>\n",
       "      <td>NaN</td>\n",
       "      <td>597.029</td>\n",
       "      <td>9.59</td>\n",
       "      <td>NaN</td>\n",
       "      <td>NaN</td>\n",
       "      <td>37.746</td>\n",
       "      <td>0.5</td>\n",
       "    </tr>\n",
       "    <tr>\n",
       "      <th>3</th>\n",
       "      <td>AFG</td>\n",
       "      <td>Asia</td>\n",
       "      <td>Afghanistan</td>\n",
       "      <td>2020-01-03</td>\n",
       "      <td>0</td>\n",
       "      <td>0</td>\n",
       "      <td>0</td>\n",
       "      <td>0</td>\n",
       "      <td>0.0</td>\n",
       "      <td>0.0</td>\n",
       "      <td>...</td>\n",
       "      <td>2.581</td>\n",
       "      <td>1.337</td>\n",
       "      <td>1803.987</td>\n",
       "      <td>NaN</td>\n",
       "      <td>597.029</td>\n",
       "      <td>9.59</td>\n",
       "      <td>NaN</td>\n",
       "      <td>NaN</td>\n",
       "      <td>37.746</td>\n",
       "      <td>0.5</td>\n",
       "    </tr>\n",
       "    <tr>\n",
       "      <th>4</th>\n",
       "      <td>AFG</td>\n",
       "      <td>Asia</td>\n",
       "      <td>Afghanistan</td>\n",
       "      <td>2020-01-04</td>\n",
       "      <td>0</td>\n",
       "      <td>0</td>\n",
       "      <td>0</td>\n",
       "      <td>0</td>\n",
       "      <td>0.0</td>\n",
       "      <td>0.0</td>\n",
       "      <td>...</td>\n",
       "      <td>2.581</td>\n",
       "      <td>1.337</td>\n",
       "      <td>1803.987</td>\n",
       "      <td>NaN</td>\n",
       "      <td>597.029</td>\n",
       "      <td>9.59</td>\n",
       "      <td>NaN</td>\n",
       "      <td>NaN</td>\n",
       "      <td>37.746</td>\n",
       "      <td>0.5</td>\n",
       "    </tr>\n",
       "  </tbody>\n",
       "</table>\n",
       "<p>5 rows × 33 columns</p>\n",
       "</div>"
      ],
      "text/plain": [
       "  iso_code continent     location       date  total_cases  new_cases  \\\n",
       "0      AFG      Asia  Afghanistan 2019-12-31            0          0   \n",
       "1      AFG      Asia  Afghanistan 2020-01-01            0          0   \n",
       "2      AFG      Asia  Afghanistan 2020-01-02            0          0   \n",
       "3      AFG      Asia  Afghanistan 2020-01-03            0          0   \n",
       "4      AFG      Asia  Afghanistan 2020-01-04            0          0   \n",
       "\n",
       "   total_deaths  new_deaths  total_cases_per_million  new_cases_per_million  \\\n",
       "0             0           0                      0.0                    0.0   \n",
       "1             0           0                      0.0                    0.0   \n",
       "2             0           0                      0.0                    0.0   \n",
       "3             0           0                      0.0                    0.0   \n",
       "4             0           0                      0.0                    0.0   \n",
       "\n",
       "   ...  aged_65_older  aged_70_older  gdp_per_capita  extreme_poverty  \\\n",
       "0  ...          2.581          1.337        1803.987              NaN   \n",
       "1  ...          2.581          1.337        1803.987              NaN   \n",
       "2  ...          2.581          1.337        1803.987              NaN   \n",
       "3  ...          2.581          1.337        1803.987              NaN   \n",
       "4  ...          2.581          1.337        1803.987              NaN   \n",
       "\n",
       "   cvd_death_rate  diabetes_prevalence  female_smokers  male_smokers  \\\n",
       "0         597.029                 9.59             NaN           NaN   \n",
       "1         597.029                 9.59             NaN           NaN   \n",
       "2         597.029                 9.59             NaN           NaN   \n",
       "3         597.029                 9.59             NaN           NaN   \n",
       "4         597.029                 9.59             NaN           NaN   \n",
       "\n",
       "  handwashing_facilities  hospital_beds_per_thousand  \n",
       "0                 37.746                         0.5  \n",
       "1                 37.746                         0.5  \n",
       "2                 37.746                         0.5  \n",
       "3                 37.746                         0.5  \n",
       "4                 37.746                         0.5  \n",
       "\n",
       "[5 rows x 33 columns]"
      ]
     },
     "execution_count": 6,
     "metadata": {},
     "output_type": "execute_result"
    }
   ],
   "source": [
    "df.head()"
   ]
  },
  {
   "cell_type": "code",
   "execution_count": 7,
   "metadata": {
    "execution": {
     "iopub.execute_input": "2020-06-12T08:40:03.205417Z",
     "iopub.status.busy": "2020-06-12T08:40:03.204735Z",
     "iopub.status.idle": "2020-06-12T08:40:03.235892Z",
     "shell.execute_reply": "2020-06-12T08:40:03.235274Z"
    },
    "papermill": {
     "duration": 0.063703,
     "end_time": "2020-06-12T08:40:03.235999",
     "exception": false,
     "start_time": "2020-06-12T08:40:03.172296",
     "status": "completed"
    },
    "tags": []
   },
   "outputs": [
    {
     "data": {
      "text/plain": [
       "RUS    165\n",
       "LTU    165\n",
       "CAN    165\n",
       "BEL    164\n",
       "GBR    164\n",
       "AUS    164\n",
       "ITA    164\n",
       "AUT    164\n",
       "BLR    164\n",
       "SWE    164\n",
       "FIN    164\n",
       "ISR    164\n",
       "CHE    164\n",
       "MYS    164\n",
       "NLD    164\n",
       "ISL    164\n",
       "GRC    164\n",
       "HRV    164\n",
       "BRA    164\n",
       "CZE    164\n",
       "Name: iso_code, dtype: int64"
      ]
     },
     "execution_count": 7,
     "metadata": {},
     "output_type": "execute_result"
    }
   ],
   "source": [
    "df['iso_code'].value_counts().head(20)"
   ]
  },
  {
   "cell_type": "markdown",
   "metadata": {
    "papermill": {
     "duration": 0.029645,
     "end_time": "2020-06-12T08:40:03.294302",
     "exception": false,
     "start_time": "2020-06-12T08:40:03.264657",
     "status": "completed"
    },
    "tags": []
   },
   "source": [
    "filter country"
   ]
  },
  {
   "cell_type": "code",
   "execution_count": 8,
   "metadata": {
    "execution": {
     "iopub.execute_input": "2020-06-12T08:40:03.360303Z",
     "iopub.status.busy": "2020-06-12T08:40:03.359586Z",
     "iopub.status.idle": "2020-06-12T08:40:03.420457Z",
     "shell.execute_reply": "2020-06-12T08:40:03.420975Z"
    },
    "papermill": {
     "duration": 0.095104,
     "end_time": "2020-06-12T08:40:03.421100",
     "exception": false,
     "start_time": "2020-06-12T08:40:03.325996",
     "status": "completed"
    },
    "tags": []
   },
   "outputs": [
    {
     "data": {
      "text/html": [
       "<div>\n",
       "<style scoped>\n",
       "    .dataframe tbody tr th:only-of-type {\n",
       "        vertical-align: middle;\n",
       "    }\n",
       "\n",
       "    .dataframe tbody tr th {\n",
       "        vertical-align: top;\n",
       "    }\n",
       "\n",
       "    .dataframe thead th {\n",
       "        text-align: right;\n",
       "    }\n",
       "</style>\n",
       "<table border=\"1\" class=\"dataframe\">\n",
       "  <thead>\n",
       "    <tr style=\"text-align: right;\">\n",
       "      <th></th>\n",
       "      <th>iso_code</th>\n",
       "      <th>continent</th>\n",
       "      <th>location</th>\n",
       "      <th>date</th>\n",
       "      <th>total_cases</th>\n",
       "      <th>new_cases</th>\n",
       "      <th>total_deaths</th>\n",
       "      <th>new_deaths</th>\n",
       "      <th>total_cases_per_million</th>\n",
       "      <th>new_cases_per_million</th>\n",
       "      <th>...</th>\n",
       "      <th>aged_65_older</th>\n",
       "      <th>aged_70_older</th>\n",
       "      <th>gdp_per_capita</th>\n",
       "      <th>extreme_poverty</th>\n",
       "      <th>cvd_death_rate</th>\n",
       "      <th>diabetes_prevalence</th>\n",
       "      <th>female_smokers</th>\n",
       "      <th>male_smokers</th>\n",
       "      <th>handwashing_facilities</th>\n",
       "      <th>hospital_beds_per_thousand</th>\n",
       "    </tr>\n",
       "  </thead>\n",
       "  <tbody>\n",
       "    <tr>\n",
       "      <th>10979</th>\n",
       "      <td>JPN</td>\n",
       "      <td>Asia</td>\n",
       "      <td>Japan</td>\n",
       "      <td>2020-02-15</td>\n",
       "      <td>38</td>\n",
       "      <td>8</td>\n",
       "      <td>1</td>\n",
       "      <td>0</td>\n",
       "      <td>0.300</td>\n",
       "      <td>0.063</td>\n",
       "      <td>...</td>\n",
       "      <td>27.049</td>\n",
       "      <td>18.493</td>\n",
       "      <td>39002.223</td>\n",
       "      <td>NaN</td>\n",
       "      <td>79.37</td>\n",
       "      <td>5.72</td>\n",
       "      <td>11.2</td>\n",
       "      <td>33.7</td>\n",
       "      <td>NaN</td>\n",
       "      <td>13.05</td>\n",
       "    </tr>\n",
       "    <tr>\n",
       "      <th>10980</th>\n",
       "      <td>JPN</td>\n",
       "      <td>Asia</td>\n",
       "      <td>Japan</td>\n",
       "      <td>2020-02-16</td>\n",
       "      <td>52</td>\n",
       "      <td>14</td>\n",
       "      <td>1</td>\n",
       "      <td>0</td>\n",
       "      <td>0.411</td>\n",
       "      <td>0.111</td>\n",
       "      <td>...</td>\n",
       "      <td>27.049</td>\n",
       "      <td>18.493</td>\n",
       "      <td>39002.223</td>\n",
       "      <td>NaN</td>\n",
       "      <td>79.37</td>\n",
       "      <td>5.72</td>\n",
       "      <td>11.2</td>\n",
       "      <td>33.7</td>\n",
       "      <td>NaN</td>\n",
       "      <td>13.05</td>\n",
       "    </tr>\n",
       "    <tr>\n",
       "      <th>10981</th>\n",
       "      <td>JPN</td>\n",
       "      <td>Asia</td>\n",
       "      <td>Japan</td>\n",
       "      <td>2020-02-17</td>\n",
       "      <td>59</td>\n",
       "      <td>7</td>\n",
       "      <td>1</td>\n",
       "      <td>0</td>\n",
       "      <td>0.466</td>\n",
       "      <td>0.055</td>\n",
       "      <td>...</td>\n",
       "      <td>27.049</td>\n",
       "      <td>18.493</td>\n",
       "      <td>39002.223</td>\n",
       "      <td>NaN</td>\n",
       "      <td>79.37</td>\n",
       "      <td>5.72</td>\n",
       "      <td>11.2</td>\n",
       "      <td>33.7</td>\n",
       "      <td>NaN</td>\n",
       "      <td>13.05</td>\n",
       "    </tr>\n",
       "    <tr>\n",
       "      <th>10982</th>\n",
       "      <td>JPN</td>\n",
       "      <td>Asia</td>\n",
       "      <td>Japan</td>\n",
       "      <td>2020-02-18</td>\n",
       "      <td>59</td>\n",
       "      <td>0</td>\n",
       "      <td>1</td>\n",
       "      <td>0</td>\n",
       "      <td>0.466</td>\n",
       "      <td>0.000</td>\n",
       "      <td>...</td>\n",
       "      <td>27.049</td>\n",
       "      <td>18.493</td>\n",
       "      <td>39002.223</td>\n",
       "      <td>NaN</td>\n",
       "      <td>79.37</td>\n",
       "      <td>5.72</td>\n",
       "      <td>11.2</td>\n",
       "      <td>33.7</td>\n",
       "      <td>NaN</td>\n",
       "      <td>13.05</td>\n",
       "    </tr>\n",
       "    <tr>\n",
       "      <th>10983</th>\n",
       "      <td>JPN</td>\n",
       "      <td>Asia</td>\n",
       "      <td>Japan</td>\n",
       "      <td>2020-02-19</td>\n",
       "      <td>66</td>\n",
       "      <td>7</td>\n",
       "      <td>1</td>\n",
       "      <td>0</td>\n",
       "      <td>0.522</td>\n",
       "      <td>0.055</td>\n",
       "      <td>...</td>\n",
       "      <td>27.049</td>\n",
       "      <td>18.493</td>\n",
       "      <td>39002.223</td>\n",
       "      <td>NaN</td>\n",
       "      <td>79.37</td>\n",
       "      <td>5.72</td>\n",
       "      <td>11.2</td>\n",
       "      <td>33.7</td>\n",
       "      <td>NaN</td>\n",
       "      <td>13.05</td>\n",
       "    </tr>\n",
       "    <tr>\n",
       "      <th>...</th>\n",
       "      <td>...</td>\n",
       "      <td>...</td>\n",
       "      <td>...</td>\n",
       "      <td>...</td>\n",
       "      <td>...</td>\n",
       "      <td>...</td>\n",
       "      <td>...</td>\n",
       "      <td>...</td>\n",
       "      <td>...</td>\n",
       "      <td>...</td>\n",
       "      <td>...</td>\n",
       "      <td>...</td>\n",
       "      <td>...</td>\n",
       "      <td>...</td>\n",
       "      <td>...</td>\n",
       "      <td>...</td>\n",
       "      <td>...</td>\n",
       "      <td>...</td>\n",
       "      <td>...</td>\n",
       "      <td>...</td>\n",
       "      <td>...</td>\n",
       "    </tr>\n",
       "    <tr>\n",
       "      <th>11092</th>\n",
       "      <td>JPN</td>\n",
       "      <td>Asia</td>\n",
       "      <td>Japan</td>\n",
       "      <td>2020-06-07</td>\n",
       "      <td>17141</td>\n",
       "      <td>38</td>\n",
       "      <td>916</td>\n",
       "      <td>2</td>\n",
       "      <td>135.527</td>\n",
       "      <td>0.300</td>\n",
       "      <td>...</td>\n",
       "      <td>27.049</td>\n",
       "      <td>18.493</td>\n",
       "      <td>39002.223</td>\n",
       "      <td>NaN</td>\n",
       "      <td>79.37</td>\n",
       "      <td>5.72</td>\n",
       "      <td>11.2</td>\n",
       "      <td>33.7</td>\n",
       "      <td>NaN</td>\n",
       "      <td>13.05</td>\n",
       "    </tr>\n",
       "    <tr>\n",
       "      <th>11093</th>\n",
       "      <td>JPN</td>\n",
       "      <td>Asia</td>\n",
       "      <td>Japan</td>\n",
       "      <td>2020-06-08</td>\n",
       "      <td>17174</td>\n",
       "      <td>33</td>\n",
       "      <td>916</td>\n",
       "      <td>0</td>\n",
       "      <td>135.788</td>\n",
       "      <td>0.261</td>\n",
       "      <td>...</td>\n",
       "      <td>27.049</td>\n",
       "      <td>18.493</td>\n",
       "      <td>39002.223</td>\n",
       "      <td>NaN</td>\n",
       "      <td>79.37</td>\n",
       "      <td>5.72</td>\n",
       "      <td>11.2</td>\n",
       "      <td>33.7</td>\n",
       "      <td>NaN</td>\n",
       "      <td>13.05</td>\n",
       "    </tr>\n",
       "    <tr>\n",
       "      <th>11094</th>\n",
       "      <td>JPN</td>\n",
       "      <td>Asia</td>\n",
       "      <td>Japan</td>\n",
       "      <td>2020-06-09</td>\n",
       "      <td>17210</td>\n",
       "      <td>36</td>\n",
       "      <td>916</td>\n",
       "      <td>0</td>\n",
       "      <td>136.073</td>\n",
       "      <td>0.285</td>\n",
       "      <td>...</td>\n",
       "      <td>27.049</td>\n",
       "      <td>18.493</td>\n",
       "      <td>39002.223</td>\n",
       "      <td>NaN</td>\n",
       "      <td>79.37</td>\n",
       "      <td>5.72</td>\n",
       "      <td>11.2</td>\n",
       "      <td>33.7</td>\n",
       "      <td>NaN</td>\n",
       "      <td>13.05</td>\n",
       "    </tr>\n",
       "    <tr>\n",
       "      <th>11095</th>\n",
       "      <td>JPN</td>\n",
       "      <td>Asia</td>\n",
       "      <td>Japan</td>\n",
       "      <td>2020-06-10</td>\n",
       "      <td>17251</td>\n",
       "      <td>41</td>\n",
       "      <td>919</td>\n",
       "      <td>3</td>\n",
       "      <td>136.397</td>\n",
       "      <td>0.324</td>\n",
       "      <td>...</td>\n",
       "      <td>27.049</td>\n",
       "      <td>18.493</td>\n",
       "      <td>39002.223</td>\n",
       "      <td>NaN</td>\n",
       "      <td>79.37</td>\n",
       "      <td>5.72</td>\n",
       "      <td>11.2</td>\n",
       "      <td>33.7</td>\n",
       "      <td>NaN</td>\n",
       "      <td>13.05</td>\n",
       "    </tr>\n",
       "    <tr>\n",
       "      <th>11096</th>\n",
       "      <td>JPN</td>\n",
       "      <td>Asia</td>\n",
       "      <td>Japan</td>\n",
       "      <td>2020-06-11</td>\n",
       "      <td>17292</td>\n",
       "      <td>41</td>\n",
       "      <td>920</td>\n",
       "      <td>1</td>\n",
       "      <td>136.721</td>\n",
       "      <td>0.324</td>\n",
       "      <td>...</td>\n",
       "      <td>27.049</td>\n",
       "      <td>18.493</td>\n",
       "      <td>39002.223</td>\n",
       "      <td>NaN</td>\n",
       "      <td>79.37</td>\n",
       "      <td>5.72</td>\n",
       "      <td>11.2</td>\n",
       "      <td>33.7</td>\n",
       "      <td>NaN</td>\n",
       "      <td>13.05</td>\n",
       "    </tr>\n",
       "  </tbody>\n",
       "</table>\n",
       "<p>118 rows × 33 columns</p>\n",
       "</div>"
      ],
      "text/plain": [
       "      iso_code continent location       date  total_cases  new_cases  \\\n",
       "10979      JPN      Asia    Japan 2020-02-15           38          8   \n",
       "10980      JPN      Asia    Japan 2020-02-16           52         14   \n",
       "10981      JPN      Asia    Japan 2020-02-17           59          7   \n",
       "10982      JPN      Asia    Japan 2020-02-18           59          0   \n",
       "10983      JPN      Asia    Japan 2020-02-19           66          7   \n",
       "...        ...       ...      ...        ...          ...        ...   \n",
       "11092      JPN      Asia    Japan 2020-06-07        17141         38   \n",
       "11093      JPN      Asia    Japan 2020-06-08        17174         33   \n",
       "11094      JPN      Asia    Japan 2020-06-09        17210         36   \n",
       "11095      JPN      Asia    Japan 2020-06-10        17251         41   \n",
       "11096      JPN      Asia    Japan 2020-06-11        17292         41   \n",
       "\n",
       "       total_deaths  new_deaths  total_cases_per_million  \\\n",
       "10979             1           0                    0.300   \n",
       "10980             1           0                    0.411   \n",
       "10981             1           0                    0.466   \n",
       "10982             1           0                    0.466   \n",
       "10983             1           0                    0.522   \n",
       "...             ...         ...                      ...   \n",
       "11092           916           2                  135.527   \n",
       "11093           916           0                  135.788   \n",
       "11094           916           0                  136.073   \n",
       "11095           919           3                  136.397   \n",
       "11096           920           1                  136.721   \n",
       "\n",
       "       new_cases_per_million  ...  aged_65_older  aged_70_older  \\\n",
       "10979                  0.063  ...         27.049         18.493   \n",
       "10980                  0.111  ...         27.049         18.493   \n",
       "10981                  0.055  ...         27.049         18.493   \n",
       "10982                  0.000  ...         27.049         18.493   \n",
       "10983                  0.055  ...         27.049         18.493   \n",
       "...                      ...  ...            ...            ...   \n",
       "11092                  0.300  ...         27.049         18.493   \n",
       "11093                  0.261  ...         27.049         18.493   \n",
       "11094                  0.285  ...         27.049         18.493   \n",
       "11095                  0.324  ...         27.049         18.493   \n",
       "11096                  0.324  ...         27.049         18.493   \n",
       "\n",
       "       gdp_per_capita  extreme_poverty  cvd_death_rate  diabetes_prevalence  \\\n",
       "10979       39002.223              NaN           79.37                 5.72   \n",
       "10980       39002.223              NaN           79.37                 5.72   \n",
       "10981       39002.223              NaN           79.37                 5.72   \n",
       "10982       39002.223              NaN           79.37                 5.72   \n",
       "10983       39002.223              NaN           79.37                 5.72   \n",
       "...               ...              ...             ...                  ...   \n",
       "11092       39002.223              NaN           79.37                 5.72   \n",
       "11093       39002.223              NaN           79.37                 5.72   \n",
       "11094       39002.223              NaN           79.37                 5.72   \n",
       "11095       39002.223              NaN           79.37                 5.72   \n",
       "11096       39002.223              NaN           79.37                 5.72   \n",
       "\n",
       "       female_smokers  male_smokers handwashing_facilities  \\\n",
       "10979            11.2          33.7                    NaN   \n",
       "10980            11.2          33.7                    NaN   \n",
       "10981            11.2          33.7                    NaN   \n",
       "10982            11.2          33.7                    NaN   \n",
       "10983            11.2          33.7                    NaN   \n",
       "...               ...           ...                    ...   \n",
       "11092            11.2          33.7                    NaN   \n",
       "11093            11.2          33.7                    NaN   \n",
       "11094            11.2          33.7                    NaN   \n",
       "11095            11.2          33.7                    NaN   \n",
       "11096            11.2          33.7                    NaN   \n",
       "\n",
       "       hospital_beds_per_thousand  \n",
       "10979                       13.05  \n",
       "10980                       13.05  \n",
       "10981                       13.05  \n",
       "10982                       13.05  \n",
       "10983                       13.05  \n",
       "...                           ...  \n",
       "11092                       13.05  \n",
       "11093                       13.05  \n",
       "11094                       13.05  \n",
       "11095                       13.05  \n",
       "11096                       13.05  \n",
       "\n",
       "[118 rows x 33 columns]"
      ]
     },
     "execution_count": 8,
     "metadata": {},
     "output_type": "execute_result"
    }
   ],
   "source": [
    "df_country = df[df['iso_code'] == COUNTRY]\n",
    "df_country = df_country[df_country['date'] > START_DATE]\n",
    "df_country"
   ]
  },
  {
   "cell_type": "code",
   "execution_count": 9,
   "metadata": {
    "execution": {
     "iopub.execute_input": "2020-06-12T08:40:03.487700Z",
     "iopub.status.busy": "2020-06-12T08:40:03.487089Z",
     "iopub.status.idle": "2020-06-12T08:40:03.507507Z",
     "shell.execute_reply": "2020-06-12T08:40:03.507985Z"
    },
    "papermill": {
     "duration": 0.054794,
     "end_time": "2020-06-12T08:40:03.508200",
     "exception": false,
     "start_time": "2020-06-12T08:40:03.453406",
     "status": "completed"
    },
    "tags": []
   },
   "outputs": [
    {
     "data": {
      "text/plain": [
       "Timestamp('2020-06-11 00:00:00')"
      ]
     },
     "execution_count": 9,
     "metadata": {},
     "output_type": "execute_result"
    }
   ],
   "source": [
    "df_country['date'].max()"
   ]
  },
  {
   "cell_type": "markdown",
   "metadata": {
    "papermill": {
     "duration": 0.030916,
     "end_time": "2020-06-12T08:40:03.570147",
     "exception": false,
     "start_time": "2020-06-12T08:40:03.539231",
     "status": "completed"
    },
    "tags": []
   },
   "source": [
    "### weekly case counts"
   ]
  },
  {
   "cell_type": "code",
   "execution_count": 10,
   "metadata": {
    "execution": {
     "iopub.execute_input": "2020-06-12T08:40:03.639903Z",
     "iopub.status.busy": "2020-06-12T08:40:03.639250Z",
     "iopub.status.idle": "2020-06-12T08:40:04.291488Z",
     "shell.execute_reply": "2020-06-12T08:40:04.290918Z"
    },
    "papermill": {
     "duration": 0.688347,
     "end_time": "2020-06-12T08:40:04.291570",
     "exception": false,
     "start_time": "2020-06-12T08:40:03.603223",
     "status": "completed"
    },
    "tags": []
   },
   "outputs": [
    {
     "data": {
      "image/png": "[encoded data removed]",
      "text/plain": [
       "<Figure size 864x576 with 1 Axes>"
      ]
     },
     "metadata": {
      "needs_background": "light"
     },
     "output_type": "display_data"
    }
   ],
   "source": [
    "fig, ax = plt.subplots(1, 1, figsize=(12,8))\n",
    "    \n",
    "ax.bar(df_country['date'], df_country['new_cases'])\n",
    "ax.xaxis_date()\n",
    "#set ticks every week\n",
    "ax.xaxis.set_major_locator(mdates.WeekdayLocator())\n",
    "#set major ticks format\n",
    "ax.xaxis.set_major_formatter(mdates.DateFormatter('%b %d'))\n",
    "\n",
    "plt.show()"
   ]
  },
  {
   "cell_type": "markdown",
   "metadata": {
    "papermill": {
     "duration": 0.037822,
     "end_time": "2020-06-12T08:40:04.363464",
     "exception": false,
     "start_time": "2020-06-12T08:40:04.325642",
     "status": "completed"
    },
    "tags": []
   },
   "source": [
    "### cumulative total case counts (log)"
   ]
  },
  {
   "cell_type": "code",
   "execution_count": 11,
   "metadata": {
    "execution": {
     "iopub.execute_input": "2020-06-12T08:40:04.435382Z",
     "iopub.status.busy": "2020-06-12T08:40:04.434737Z",
     "iopub.status.idle": "2020-06-12T08:40:05.408427Z",
     "shell.execute_reply": "2020-06-12T08:40:05.407762Z"
    },
    "papermill": {
     "duration": 1.009951,
     "end_time": "2020-06-12T08:40:05.408517",
     "exception": false,
     "start_time": "2020-06-12T08:40:04.398566",
     "status": "completed"
    },
    "tags": []
   },
   "outputs": [
    {
     "data": {
      "text/plain": [
       "<matplotlib.axes._subplots.AxesSubplot at 0x7fd3db1f1fd0>"
      ]
     },
     "execution_count": 11,
     "metadata": {},
     "output_type": "execute_result"
    },
    {
     "data": {
      "image/png": "[encoded data removed]",
      "text/plain": [
       "<Figure size 864x576 with 1 Axes>"
      ]
     },
     "metadata": {
      "needs_background": "light"
     },
     "output_type": "display_data"
    }
   ],
   "source": [
    "fig, ax = plt.subplots(figsize = (12,8)) \n",
    "plt.yscale('log')\n",
    "\n",
    "sns.lineplot(data=df_country, y='total_cases', x='date', ax=ax)"
   ]
  },
  {
   "cell_type": "markdown",
   "metadata": {
    "papermill": {
     "duration": 0.033843,
     "end_time": "2020-06-12T08:40:05.478088",
     "exception": false,
     "start_time": "2020-06-12T08:40:05.444245",
     "status": "completed"
    },
    "tags": []
   },
   "source": [
    "## SIR model with ODE  "
   ]
  },
  {
   "cell_type": "code",
   "execution_count": 12,
   "metadata": {
    "execution": {
     "iopub.execute_input": "2020-06-12T08:40:05.551167Z",
     "iopub.status.busy": "2020-06-12T08:40:05.550531Z",
     "iopub.status.idle": "2020-06-12T08:40:05.572951Z",
     "shell.execute_reply": "2020-06-12T08:40:05.572301Z"
    },
    "papermill": {
     "duration": 0.061746,
     "end_time": "2020-06-12T08:40:05.573039",
     "exception": false,
     "start_time": "2020-06-12T08:40:05.511293",
     "status": "completed"
    },
    "tags": []
   },
   "outputs": [],
   "source": [
    "def sir_model(y, t, N, beta, gamma):\n",
    "    '''\n",
    "    N: total population\n",
    "    S(t): no. of susceptible ppl on day t\n",
    "    I(t): no. of infected ppl on day t\n",
    "    R(t): no. of recovered on day t\n",
    "    beta: transmission rate; expected amount of people an infected person infects per day\n",
    "    D: number of days an infected person has and can spread the disease (from research is 18 days?) \n",
    "    gamma: recovery rate; proportion of infected recovering per day (gamma = 1/D)\n",
    "    R_0: total no. of people an infected person infects (R_0 = beta / gamma)\n",
    "    '''\n",
    "    S, I, R = y\n",
    "    \n",
    "    dSdt = -beta * S * (I / N)\n",
    "    dIdt = beta * S * (I / N) - gamma * I\n",
    "    dRdt = gamma * I\n",
    "    \n",
    "    return dSdt, dIdt, dRdt"
   ]
  },
  {
   "cell_type": "code",
   "execution_count": 13,
   "metadata": {
    "execution": {
     "iopub.execute_input": "2020-06-12T08:40:05.652460Z",
     "iopub.status.busy": "2020-06-12T08:40:05.651797Z",
     "iopub.status.idle": "2020-06-12T08:40:05.674257Z",
     "shell.execute_reply": "2020-06-12T08:40:05.673529Z"
    },
    "papermill": {
     "duration": 0.064748,
     "end_time": "2020-06-12T08:40:05.674349",
     "exception": false,
     "start_time": "2020-06-12T08:40:05.609601",
     "status": "completed"
    },
    "tags": []
   },
   "outputs": [],
   "source": [
    "def plot_sir(t, S, I, R, x_ticks):\n",
    "    f, ax = plt.subplots(1, 1, figsize=(12,6))\n",
    "    \n",
    "    ax.plot(x_ticks, S, 'b', alpha=0.7, linewidth=1, label='Susceptible')  # TODO: t\n",
    "    ax.plot(x_ticks, I, 'r', alpha=0.7, linewidth=2, label='Infected')\n",
    "    ax.plot(x_ticks, R, 'y', alpha=0.7, linewidth=1, label='Recovered')\n",
    "\n",
    "    ax.set_xlabel('Time (days)')\n",
    "\n",
    "    ax.yaxis.set_tick_params(length=0)\n",
    "    ax.xaxis.set_tick_params(length=0)\n",
    "        \n",
    "    ax.grid(b=True, which='major', c='w', lw=2, ls='-')\n",
    "    legend = ax.legend()\n",
    "    legend.get_frame().set_alpha(0.5)\n",
    "    for spine in ('top', 'right', 'bottom', 'left'):\n",
    "        ax.spines[spine].set_visible(False)\n",
    "    plt.show();"
   ]
  },
  {
   "cell_type": "markdown",
   "metadata": {
    "papermill": {
     "duration": 0.035923,
     "end_time": "2020-06-12T08:40:05.748238",
     "exception": false,
     "start_time": "2020-06-12T08:40:05.712315",
     "status": "completed"
    },
    "tags": []
   },
   "source": [
    "# curve fitting with actual country data  "
   ]
  },
  {
   "cell_type": "code",
   "execution_count": 14,
   "metadata": {
    "execution": {
     "iopub.execute_input": "2020-06-12T08:40:05.822426Z",
     "iopub.status.busy": "2020-06-12T08:40:05.821819Z",
     "iopub.status.idle": "2020-06-12T08:40:05.842829Z",
     "shell.execute_reply": "2020-06-12T08:40:05.842436Z"
    },
    "papermill": {
     "duration": 0.061348,
     "end_time": "2020-06-12T08:40:05.842972",
     "exception": false,
     "start_time": "2020-06-12T08:40:05.781624",
     "status": "completed"
    },
    "tags": []
   },
   "outputs": [
    {
     "data": {
      "text/plain": [
       "array([   8,   14,    7,    0,    7,   18,    9,   12,   27,   12,    0,\n",
       "         20,   22,   24,   20,    9,   15,    0,   14,   49,   32,   59,\n",
       "         47,   33,   26,   54,   51,   56,   62,   43,   34,   10,    5,\n",
       "         44,   77,   57,   39,   43,   39,   65,   75,   96,  135,  194,\n",
       "        173,   87,    0,  225,  439,  318,  336,  383,  163,   89,  351,\n",
       "        410,  680, 1401,  507,  390,  455,  482,  585,  628,  566,  390,\n",
       "        367,  378,  276,  468,  652,  290,  203,  191,  276,  236,  193,\n",
       "        263,  295,  218,  174,  123,  109,   84,   81,  119,   51,   76,\n",
       "        150,   55,  114,   44,   48,   20,   60,   20,   39,   89,   23,\n",
       "         14,   31,   42,   28,    0,   68,   85,   47,   33,   46,   56,\n",
       "         32,   46,   39,   38,   33,   36,   41,   41])"
      ]
     },
     "execution_count": 14,
     "metadata": {},
     "output_type": "execute_result"
    }
   ],
   "source": [
    "data = df_country['new_cases'].values\n",
    "data"
   ]
  },
  {
   "cell_type": "code",
   "execution_count": 15,
   "metadata": {
    "execution": {
     "iopub.execute_input": "2020-06-12T08:40:05.937151Z",
     "iopub.status.busy": "2020-06-12T08:40:05.920248Z",
     "iopub.status.idle": "2020-06-12T08:40:05.945798Z",
     "shell.execute_reply": "2020-06-12T08:40:05.946513Z"
    },
    "papermill": {
     "duration": 0.066207,
     "end_time": "2020-06-12T08:40:05.946638",
     "exception": false,
     "start_time": "2020-06-12T08:40:05.880431",
     "status": "completed"
    },
    "tags": []
   },
   "outputs": [
    {
     "data": {
      "text/plain": [
       "118"
      ]
     },
     "execution_count": 15,
     "metadata": {},
     "output_type": "execute_result"
    }
   ],
   "source": [
    "N = 5000000\n",
    "\n",
    "# find beta & gamma from fitting\n",
    "# beta = 2.0  # infected person infects 1 other person per day\n",
    "# D = 14.0  # infections lasts X days\n",
    "# gamma = 1.0 / D\n",
    "\n",
    "days = len(data)\n",
    "days"
   ]
  },
  {
   "cell_type": "code",
   "execution_count": 16,
   "metadata": {
    "execution": {
     "iopub.execute_input": "2020-06-12T08:40:06.025719Z",
     "iopub.status.busy": "2020-06-12T08:40:06.025130Z",
     "iopub.status.idle": "2020-06-12T08:40:06.045157Z",
     "shell.execute_reply": "2020-06-12T08:40:06.044574Z"
    },
    "papermill": {
     "duration": 0.06085,
     "end_time": "2020-06-12T08:40:06.045243",
     "exception": false,
     "start_time": "2020-06-12T08:40:05.984393",
     "status": "completed"
    },
    "tags": []
   },
   "outputs": [],
   "source": [
    "def Model_SIR(days, N, beta, gamma):\n",
    "    t = np.linspace(0, days-1, days, dtype=int)  # time grid (in days)\n",
    "\n",
    "    y0 = N-1, 1, 0  # S0, I0, R0\n",
    "\n",
    "    # Integrate the equations over the time grid, t.\n",
    "    result = odeint(sir_model, y0, t, args=(N, beta, gamma))\n",
    "    S, I, R = result.T\n",
    "    return t, S, I, R"
   ]
  },
  {
   "cell_type": "code",
   "execution_count": 17,
   "metadata": {
    "execution": {
     "iopub.execute_input": "2020-06-12T08:40:06.124420Z",
     "iopub.status.busy": "2020-06-12T08:40:06.123832Z",
     "iopub.status.idle": "2020-06-12T08:40:06.143859Z",
     "shell.execute_reply": "2020-06-12T08:40:06.143244Z"
    },
    "papermill": {
     "duration": 0.059703,
     "end_time": "2020-06-12T08:40:06.143948",
     "exception": false,
     "start_time": "2020-06-12T08:40:06.084245",
     "status": "completed"
    },
    "tags": []
   },
   "outputs": [],
   "source": [
    "def fit_model(x, N, beta, gamma):\n",
    "    \"\"\"\n",
    "    returns: infections I per day ? \n",
    "    \"\"\"\n",
    "    return Model_SIR(days, N, beta, gamma)[2][x]"
   ]
  },
  {
   "cell_type": "markdown",
   "metadata": {
    "papermill": {
     "duration": 0.037841,
     "end_time": "2020-06-12T08:40:06.217242",
     "exception": false,
     "start_time": "2020-06-12T08:40:06.179401",
     "status": "completed"
    },
    "tags": []
   },
   "source": [
    "### initiate model & set params"
   ]
  },
  {
   "cell_type": "code",
   "execution_count": 18,
   "metadata": {
    "execution": {
     "iopub.execute_input": "2020-06-12T08:40:06.295384Z",
     "iopub.status.busy": "2020-06-12T08:40:06.294795Z",
     "iopub.status.idle": "2020-06-12T08:40:06.319455Z",
     "shell.execute_reply": "2020-06-12T08:40:06.318880Z"
    },
    "papermill": {
     "duration": 0.065202,
     "end_time": "2020-06-12T08:40:06.319546",
     "exception": false,
     "start_time": "2020-06-12T08:40:06.254344",
     "status": "completed"
    },
    "tags": []
   },
   "outputs": [
    {
     "data": {
      "text/html": [
       "<table><tr><th> name </th><th> value </th><th> initial value </th><th> min </th><th> max </th><th> vary </th></tr><tr><td> N </td><td>  5000000.00 </td><td> None </td><td>  0.00000000 </td><td>         inf </td><td> True </td></tr><tr><td> beta </td><td>  0.50000000 </td><td> None </td><td>  0.00000000 </td><td>         inf </td><td> True </td></tr><tr><td> gamma </td><td>  0.10000000 </td><td> None </td><td>  0.00000000 </td><td>  1.00000000 </td><td> True </td></tr></table>"
      ],
      "text/plain": [
       "Parameters([('N', <Parameter 'N', value=5000000, bounds=[0:inf]>),\n",
       "            ('beta', <Parameter 'beta', value=0.5, bounds=[0:inf]>),\n",
       "            ('gamma', <Parameter 'gamma', value=0.1, bounds=[0:1]>)])"
      ]
     },
     "execution_count": 18,
     "metadata": {},
     "output_type": "execute_result"
    }
   ],
   "source": [
    "mod = lmfit.Model(fit_model)\n",
    "\n",
    "mod.set_param_hint(\"N\", value=N, min=0, vary=True)\n",
    "mod.set_param_hint(\"beta\", value=0.5, min=0, vary=True)\n",
    "# mod.set_param_hint(\"gamma\", value=1/18, min=1/19, max=1/17, vary=True)\n",
    "mod.set_param_hint(\"gamma\", value=0.1, min=0, max=1, vary=True)\n",
    "\n",
    "params = mod.make_params()\n",
    "params"
   ]
  },
  {
   "cell_type": "code",
   "execution_count": 19,
   "metadata": {
    "execution": {
     "iopub.execute_input": "2020-06-12T08:40:06.395687Z",
     "iopub.status.busy": "2020-06-12T08:40:06.395100Z",
     "iopub.status.idle": "2020-06-12T08:40:07.523551Z",
     "shell.execute_reply": "2020-06-12T08:40:07.522822Z"
    },
    "papermill": {
     "duration": 1.167955,
     "end_time": "2020-06-12T08:40:07.523642",
     "exception": false,
     "start_time": "2020-06-12T08:40:06.355687",
     "status": "completed"
    },
    "tags": []
   },
   "outputs": [],
   "source": [
    "# fitting\n",
    "\n",
    "x_data = np.linspace(0, days-1, days, dtype=int)  # time grid (in days)\n",
    "\n",
    "results = mod.fit(data, params, method=\"leastsq\", x=x_data)  # leastsq, least_squares?"
   ]
  },
  {
   "cell_type": "code",
   "execution_count": 20,
   "metadata": {
    "execution": {
     "iopub.execute_input": "2020-06-12T08:40:07.602826Z",
     "iopub.status.busy": "2020-06-12T08:40:07.602245Z",
     "iopub.status.idle": "2020-06-12T08:40:07.860800Z",
     "shell.execute_reply": "2020-06-12T08:40:07.861343Z"
    },
    "papermill": {
     "duration": 0.299732,
     "end_time": "2020-06-12T08:40:07.861450",
     "exception": false,
     "start_time": "2020-06-12T08:40:07.561718",
     "status": "completed"
    },
    "tags": []
   },
   "outputs": [
    {
     "data": {
      "text/plain": [
       "{'N': 79234.03704147537,\n",
       " 'beta': 1.1264403182744305,\n",
       " 'gamma': 0.9999941341471266}"
      ]
     },
     "execution_count": 20,
     "metadata": {},
     "output_type": "execute_result"
    },
    {
     "data": {
      "image/png": "[encoded data removed]",
      "text/plain": [
       "<Figure size 576x360 with 1 Axes>"
      ]
     },
     "metadata": {
      "needs_background": "light"
     },
     "output_type": "display_data"
    }
   ],
   "source": [
    "plt.figure(figsize=(8,5))\n",
    "results.plot_fit(datafmt=\".\", fitfmt=\"-\");\n",
    "results.best_values"
   ]
  },
  {
   "cell_type": "code",
   "execution_count": 21,
   "metadata": {
    "execution": {
     "iopub.execute_input": "2020-06-12T08:40:07.946160Z",
     "iopub.status.busy": "2020-06-12T08:40:07.945427Z",
     "iopub.status.idle": "2020-06-12T08:40:08.175408Z",
     "shell.execute_reply": "2020-06-12T08:40:08.175999Z"
    },
    "papermill": {
     "duration": 0.2743,
     "end_time": "2020-06-12T08:40:08.176126",
     "exception": false,
     "start_time": "2020-06-12T08:40:07.901826",
     "status": "completed"
    },
    "tags": []
   },
   "outputs": [
    {
     "data": {
      "text/plain": [
       "<matplotlib.axes._subplots.AxesSubplot at 0x7fd3db1f1240>"
      ]
     },
     "execution_count": 21,
     "metadata": {},
     "output_type": "execute_result"
    },
    {
     "data": {
      "image/png": "[encoded data removed]",
      "text/plain": [
       "<Figure size 576x360 with 1 Axes>"
      ]
     },
     "metadata": {
      "needs_background": "light"
     },
     "output_type": "display_data"
    }
   ],
   "source": [
    "plt.figure(figsize=(8,5))\n",
    "results.plot_residuals()"
   ]
  },
  {
   "cell_type": "code",
   "execution_count": 22,
   "metadata": {
    "execution": {
     "iopub.execute_input": "2020-06-12T08:40:08.260101Z",
     "iopub.status.busy": "2020-06-12T08:40:08.259418Z",
     "iopub.status.idle": "2020-06-12T08:40:08.279828Z",
     "shell.execute_reply": "2020-06-12T08:40:08.279228Z"
    },
    "papermill": {
     "duration": 0.062803,
     "end_time": "2020-06-12T08:40:08.279915",
     "exception": false,
     "start_time": "2020-06-12T08:40:08.217112",
     "status": "completed"
    },
    "tags": []
   },
   "outputs": [
    {
     "data": {
      "text/html": [
       "<h2> Model</h2> Model(fit_model) <h2>Fit Statistics</h2><table><tr><td>fitting method</td><td>leastsq</td><td></td></tr><tr><td># function evals</td><td>377</td><td></td></tr><tr><td># data points</td><td>118</td><td></td></tr><tr><td># variables</td><td>3</td><td></td></tr><tr><td>chi-square</td><td> 1446164.07</td><td></td></tr><tr><td>reduced chi-square</td><td> 12575.3398</td><td></td></tr><tr><td>Akaike info crit.</td><td> 1116.82138</td><td></td></tr><tr><td>Bayesian info crit.</td><td> 1125.13344</td><td></td></tr></table><h2>Variables</h2><table><tr><th> name </th><th> value </th><th> standard error </th><th> relative error </th><th> initial value </th><th> min </th><th> max </th><th> vary </th></tr><tr><td> N </td><td>  79234.0370 </td><td>  96289.9384 </td><td> (121.53%) </td><td> 5000000 </td><td>  0.00000000 </td><td>         inf </td><td> True </td></tr><tr><td> beta </td><td>  1.12644032 </td><td>  0.67354630 </td><td> (59.79%) </td><td> 0.5 </td><td>  0.00000000 </td><td>         inf </td><td> True </td></tr><tr><td> gamma </td><td>  0.99999413 </td><td>  0.57456385 </td><td> (57.46%) </td><td> 0.1 </td><td>  0.00000000 </td><td>  1.00000000 </td><td> True </td></tr></table><h2>Correlations (unreported correlations are < 0.100)</h2><table><tr><td>beta</td><td>gamma</td><td>1.0000</td></tr><tr><td>N</td><td>gamma</td><td>0.9994</td></tr><tr><td>N</td><td>beta</td><td>0.9994</td></tr></table>"
      ],
      "text/plain": [
       "<lmfit.model.ModelResult at 0x7fd3dafdff98>"
      ]
     },
     "execution_count": 22,
     "metadata": {},
     "output_type": "execute_result"
    }
   ],
   "source": [
    "results"
   ]
  },
  {
   "cell_type": "code",
   "execution_count": 23,
   "metadata": {
    "execution": {
     "iopub.execute_input": "2020-06-12T08:40:08.366321Z",
     "iopub.status.busy": "2020-06-12T08:40:08.365655Z",
     "iopub.status.idle": "2020-06-12T08:40:08.385491Z",
     "shell.execute_reply": "2020-06-12T08:40:08.384872Z"
    },
    "papermill": {
     "duration": 0.063677,
     "end_time": "2020-06-12T08:40:08.385579",
     "exception": false,
     "start_time": "2020-06-12T08:40:08.321902",
     "status": "completed"
    },
    "tags": []
   },
   "outputs": [
    {
     "data": {
      "text/plain": [
       "0.05555555555555555"
      ]
     },
     "execution_count": 23,
     "metadata": {},
     "output_type": "execute_result"
    }
   ],
   "source": [
    "# gamma should be close to this: \n",
    "1/18"
   ]
  },
  {
   "cell_type": "code",
   "execution_count": 24,
   "metadata": {
    "execution": {
     "iopub.execute_input": "2020-06-12T08:40:08.478324Z",
     "iopub.status.busy": "2020-06-12T08:40:08.477389Z",
     "iopub.status.idle": "2020-06-12T08:40:08.501646Z",
     "shell.execute_reply": "2020-06-12T08:40:08.502268Z"
    },
    "papermill": {
     "duration": 0.074054,
     "end_time": "2020-06-12T08:40:08.502449",
     "exception": false,
     "start_time": "2020-06-12T08:40:08.428395",
     "status": "completed"
    },
    "tags": []
   },
   "outputs": [],
   "source": [
    "def plot_sir2(t, S, I, R, x_ticks, COUNTRY):\n",
    "    f, ax = plt.subplots(1, 1, figsize=(12,8))\n",
    "    ax.set_title('Country: %s' % COUNTRY, fontsize= 20) \n",
    "    \n",
    "    ax.plot(x_ticks, S, 'b', alpha=0.7, linewidth=1, label='Susceptible')  # TODO: t\n",
    "    ax.plot(x_ticks, I, 'r', alpha=0.7, linewidth=2, label='Infected')\n",
    "    ax.plot(x_ticks, R, 'y', alpha=0.7, linewidth=1, label='Recovered')\n",
    "\n",
    "    ax.set_xlabel('Time (days)')\n",
    "\n",
    "    ax.yaxis.set_tick_params(length=0)\n",
    "    ax.xaxis.set_tick_params(length=0)\n",
    "    \n",
    "    # ax.set_ylim(0, 1800)\n",
    "    \n",
    "    ax.grid(b=True, which='major', c='w', lw=2, ls='-')\n",
    "    legend = ax.legend()\n",
    "    legend.get_frame().set_alpha(0.5)\n",
    "    for spine in ('top', 'right', 'bottom', 'left'):\n",
    "        ax.spines[spine].set_visible(False)\n",
    "        \n",
    "    # overlay actual data\n",
    "    ax.bar(df_country['date'], df_country['new_cases'])\n",
    "\n",
    "    plt.show()"
   ]
  },
  {
   "cell_type": "code",
   "execution_count": 25,
   "metadata": {
    "execution": {
     "iopub.execute_input": "2020-06-12T08:40:08.595136Z",
     "iopub.status.busy": "2020-06-12T08:40:08.594503Z",
     "iopub.status.idle": "2020-06-12T08:40:08.617166Z",
     "shell.execute_reply": "2020-06-12T08:40:08.616516Z"
    },
    "papermill": {
     "duration": 0.070885,
     "end_time": "2020-06-12T08:40:08.617257",
     "exception": false,
     "start_time": "2020-06-12T08:40:08.546372",
     "status": "completed"
    },
    "tags": []
   },
   "outputs": [],
   "source": [
    "def plot_infected(t, S, I, R, x_ticks, COUNTRY):\n",
    "    f, ax = plt.subplots(1, 1, figsize=(12,8))\n",
    "    ax.set_title('Country: %s' % COUNTRY, fontsize= 20) \n",
    "    \n",
    "    ax.plot(x_ticks, I, 'r', alpha=0.7, linewidth=2, label='Infected (prediction)')\n",
    "\n",
    "    ax.set_xlabel('Time (days)')\n",
    "\n",
    "    ax.yaxis.set_tick_params(length=0)\n",
    "    ax.xaxis.set_tick_params(length=0)\n",
    "    \n",
    "    # ax.set_ylim(0, 1800)\n",
    "    ax.grid(b=True, which='major', c='w', lw=2, ls='-')\n",
    "    legend = ax.legend()\n",
    "    legend.get_frame().set_alpha(0.5)\n",
    "    \n",
    "    # overlay actual data\n",
    "    ax.bar(df_country['date'], df_country['new_cases'])\n",
    "\n",
    "    plt.show()"
   ]
  },
  {
   "cell_type": "code",
   "execution_count": 26,
   "metadata": {
    "execution": {
     "iopub.execute_input": "2020-06-12T08:40:08.708613Z",
     "iopub.status.busy": "2020-06-12T08:40:08.708001Z",
     "iopub.status.idle": "2020-06-12T08:40:08.729120Z",
     "shell.execute_reply": "2020-06-12T08:40:08.729699Z"
    },
    "papermill": {
     "duration": 0.068329,
     "end_time": "2020-06-12T08:40:08.729972",
     "exception": false,
     "start_time": "2020-06-12T08:40:08.661643",
     "status": "completed"
    },
    "tags": []
   },
   "outputs": [],
   "source": [
    "max_days = 210\n",
    "first_date = np.datetime64(df_country['date'].min()) - np.timedelta64(0, 'D')\n",
    "\n",
    "x_ticks = pd.date_range(start=first_date, periods=max_days, freq=\"D\")"
   ]
  },
  {
   "cell_type": "code",
   "execution_count": 27,
   "metadata": {
    "execution": {
     "iopub.execute_input": "2020-06-12T08:40:08.825908Z",
     "iopub.status.busy": "2020-06-12T08:40:08.825255Z",
     "iopub.status.idle": "2020-06-12T08:40:09.501266Z",
     "shell.execute_reply": "2020-06-12T08:40:09.501852Z"
    },
    "papermill": {
     "duration": 0.724678,
     "end_time": "2020-06-12T08:40:09.501961",
     "exception": false,
     "start_time": "2020-06-12T08:40:08.777283",
     "status": "completed"
    },
    "tags": []
   },
   "outputs": [
    {
     "data": {
      "image/png": "[encoded data removed]",
      "text/plain": [
       "<Figure size 864x576 with 1 Axes>"
      ]
     },
     "metadata": {
      "needs_background": "light"
     },
     "output_type": "display_data"
    }
   ],
   "source": [
    "plot_sir2(*Model_SIR(max_days, **results.best_values), x_ticks, COUNTRY)"
   ]
  },
  {
   "cell_type": "code",
   "execution_count": 28,
   "metadata": {
    "execution": {
     "iopub.execute_input": "2020-06-12T08:40:09.592481Z",
     "iopub.status.busy": "2020-06-12T08:40:09.591752Z",
     "iopub.status.idle": "2020-06-12T08:40:10.239037Z",
     "shell.execute_reply": "2020-06-12T08:40:10.238642Z"
    },
    "papermill": {
     "duration": 0.692659,
     "end_time": "2020-06-12T08:40:10.239175",
     "exception": false,
     "start_time": "2020-06-12T08:40:09.546516",
     "status": "completed"
    },
    "tags": []
   },
   "outputs": [
    {
     "data": {
      "image/png": "[encoded data removed]",
      "text/plain": [
       "<Figure size 864x576 with 1 Axes>"
      ]
     },
     "metadata": {
      "needs_background": "light"
     },
     "output_type": "display_data"
    }
   ],
   "source": [
    "plot_infected(*Model_SIR(max_days, **results.best_values), x_ticks, COUNTRY)"
   ]
  },
  {
   "cell_type": "markdown",
   "metadata": {
    "papermill": {
     "duration": 0.043471,
     "end_time": "2020-06-12T08:40:10.328017",
     "exception": false,
     "start_time": "2020-06-12T08:40:10.284546",
     "status": "completed"
    },
    "tags": []
   },
   "source": [
    "# observations\n",
    "\n",
    "- It is difficult to make predictions for different countries with the evolving situation and resources available. A country could be at different stages of the outbreak\n",
    "- A more complicated model could be used e.g. SEIR "
   ]
  },
  {
   "cell_type": "code",
   "execution_count": null,
   "metadata": {
    "papermill": {
     "duration": 0.043333,
     "end_time": "2020-06-12T08:40:10.415301",
     "exception": false,
     "start_time": "2020-06-12T08:40:10.371968",
     "status": "completed"
    },
    "tags": []
   },
   "outputs": [],
   "source": []
  },
  {
   "cell_type": "code",
   "execution_count": null,
   "metadata": {
    "papermill": {
     "duration": 0.045804,
     "end_time": "2020-06-12T08:40:10.507465",
     "exception": false,
     "start_time": "2020-06-12T08:40:10.461661",
     "status": "completed"
    },
    "tags": []
   },
   "outputs": [],
   "source": []
  }
 ],
 "metadata": {
  "kernelspec": {
   "display_name": "Python 3",
   "language": "python",
   "name": "python3"
  },
  "language_info": {
   "codemirror_mode": {
    "name": "ipython",
    "version": 3
   },
   "file_extension": ".py",
   "mimetype": "text/x-python",
   "name": "python",
   "nbconvert_exporter": "python",
   "pygments_lexer": "ipython3",
   "version": "3.7.3"
  },
  "papermill": {
   "duration": 10.310272,
   "end_time": "2020-06-12T08:40:10.973486",
   "environment_variables": {},
   "exception": null,
   "input_path": "sir_country_model.ipynb",
   "output_path": "output/country_JPN.ipynb",
   "parameters": {
    "COUNTRY": "JPN",
    "START_DATE": "2020-02-14"
   },
   "start_time": "2020-06-12T08:40:00.663214",
   "version": "2.1.1"
  }
 },
 "nbformat": 4,
 "nbformat_minor": 4
}