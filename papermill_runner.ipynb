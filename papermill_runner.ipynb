{
 "cells": [
  {
   "cell_type": "code",
   "execution_count": 3,
   "metadata": {},
   "outputs": [],
   "source": [
    "import papermill as pm\n",
    "from logger import logger"
   ]
  },
  {
   "cell_type": "code",
   "execution_count": 16,
   "metadata": {},
   "outputs": [
    {
     "name": "stdout",
     "output_type": "stream",
     "text": [
      "Already up to date.\r\n"
     ]
    }
   ],
   "source": [
    "! cd ../covid-19-data/ && git pull"
   ]
  },
  {
   "cell_type": "code",
   "execution_count": 20,
   "metadata": {},
   "outputs": [
    {
     "name": "stdout",
     "output_type": "stream",
     "text": [
      "[12/Jun/2020 16:39:40] INFO - Running SGP notebook...\n",
      "[12/Jun/2020 16:39:40] INFO - Input Notebook:  sir_country_model.ipynb\n",
      "[12/Jun/2020 16:39:40] INFO - Output Notebook: output/country_SGP.ipynb\n"
     ]
    },
    {
     "data": {
      "application/vnd.jupyter.widget-view+json": {
       "model_id": "c190463506cb4fb0aea3c6ce9bd8320d",
       "version_major": 2,
       "version_minor": 0
      },
      "text/plain": [
       "HBox(children=(FloatProgress(value=0.0, description='Executing', max=37.0, style=ProgressStyle(description_wid…"
      ]
     },
     "metadata": {},
     "output_type": "display_data"
    },
    {
     "name": "stdout",
     "output_type": "stream",
     "text": [
      "[12/Jun/2020 16:39:41] INFO - Executing notebook with kernel: python3\n",
      "\n",
      "[12/Jun/2020 16:39:50] INFO - Running MYS notebook...\n",
      "[12/Jun/2020 16:39:50] INFO - Input Notebook:  sir_country_model.ipynb\n",
      "[12/Jun/2020 16:39:50] INFO - Output Notebook: output/country_MYS.ipynb\n"
     ]
    },
    {
     "data": {
      "application/vnd.jupyter.widget-view+json": {
       "model_id": "c9a8158104634dc8b48ee6b34262e4c2",
       "version_major": 2,
       "version_minor": 0
      },
      "text/plain": [
       "HBox(children=(FloatProgress(value=0.0, description='Executing', max=37.0, style=ProgressStyle(description_wid…"
      ]
     },
     "metadata": {},
     "output_type": "display_data"
    },
    {
     "name": "stdout",
     "output_type": "stream",
     "text": [
      "[12/Jun/2020 16:39:51] INFO - Executing notebook with kernel: python3\n",
      "\n",
      "[12/Jun/2020 16:40:00] INFO - Running JPN notebook...\n",
      "[12/Jun/2020 16:40:00] INFO - Input Notebook:  sir_country_model.ipynb\n",
      "[12/Jun/2020 16:40:00] INFO - Output Notebook: output/country_JPN.ipynb\n"
     ]
    },
    {
     "data": {
      "application/vnd.jupyter.widget-view+json": {
       "model_id": "3abd2bf9d3144326a34cfbd3e7a0afe3",
       "version_major": 2,
       "version_minor": 0
      },
      "text/plain": [
       "HBox(children=(FloatProgress(value=0.0, description='Executing', max=37.0, style=ProgressStyle(description_wid…"
      ]
     },
     "metadata": {},
     "output_type": "display_data"
    },
    {
     "name": "stdout",
     "output_type": "stream",
     "text": [
      "[12/Jun/2020 16:40:01] INFO - Executing notebook with kernel: python3\n",
      "\n",
      "[12/Jun/2020 16:40:11] INFO - Running RUS notebook...\n",
      "[12/Jun/2020 16:40:11] INFO - Input Notebook:  sir_country_model.ipynb\n",
      "[12/Jun/2020 16:40:11] INFO - Output Notebook: output/country_RUS.ipynb\n"
     ]
    },
    {
     "data": {
      "application/vnd.jupyter.widget-view+json": {
       "model_id": "d23db4d587b84772951d0ee0375caaec",
       "version_major": 2,
       "version_minor": 0
      },
      "text/plain": [
       "HBox(children=(FloatProgress(value=0.0, description='Executing', max=37.0, style=ProgressStyle(description_wid…"
      ]
     },
     "metadata": {},
     "output_type": "display_data"
    },
    {
     "name": "stdout",
     "output_type": "stream",
     "text": [
      "[12/Jun/2020 16:40:11] INFO - Executing notebook with kernel: python3\n",
      "\n",
      "[12/Jun/2020 16:40:21] INFO - Running USA notebook...\n",
      "[12/Jun/2020 16:40:21] INFO - Input Notebook:  sir_country_model.ipynb\n",
      "[12/Jun/2020 16:40:21] INFO - Output Notebook: output/country_USA.ipynb\n"
     ]
    },
    {
     "data": {
      "application/vnd.jupyter.widget-view+json": {
       "model_id": "f60c0036740144f1a11f453764c83ddf",
       "version_major": 2,
       "version_minor": 0
      },
      "text/plain": [
       "HBox(children=(FloatProgress(value=0.0, description='Executing', max=37.0, style=ProgressStyle(description_wid…"
      ]
     },
     "metadata": {},
     "output_type": "display_data"
    },
    {
     "name": "stdout",
     "output_type": "stream",
     "text": [
      "[12/Jun/2020 16:40:21] INFO - Executing notebook with kernel: python3\n",
      "\n",
      "[12/Jun/2020 16:40:30] INFO - Running BRA notebook...\n",
      "[12/Jun/2020 16:40:30] INFO - Input Notebook:  sir_country_model.ipynb\n",
      "[12/Jun/2020 16:40:30] INFO - Output Notebook: output/country_BRA.ipynb\n"
     ]
    },
    {
     "data": {
      "application/vnd.jupyter.widget-view+json": {
       "model_id": "217a99d808ee494aabe5dd45600fbc92",
       "version_major": 2,
       "version_minor": 0
      },
      "text/plain": [
       "HBox(children=(FloatProgress(value=0.0, description='Executing', max=37.0, style=ProgressStyle(description_wid…"
      ]
     },
     "metadata": {},
     "output_type": "display_data"
    },
    {
     "name": "stdout",
     "output_type": "stream",
     "text": [
      "[12/Jun/2020 16:40:31] INFO - Executing notebook with kernel: python3\n",
      "\n",
      "[12/Jun/2020 16:40:41] INFO - Running KOR notebook...\n",
      "[12/Jun/2020 16:40:41] INFO - Input Notebook:  sir_country_model.ipynb\n",
      "[12/Jun/2020 16:40:41] INFO - Output Notebook: output/country_KOR.ipynb\n"
     ]
    },
    {
     "data": {
      "application/vnd.jupyter.widget-view+json": {
       "model_id": "db44a28c8c2f456eb757bc6397b02497",
       "version_major": 2,
       "version_minor": 0
      },
      "text/plain": [
       "HBox(children=(FloatProgress(value=0.0, description='Executing', max=37.0, style=ProgressStyle(description_wid…"
      ]
     },
     "metadata": {},
     "output_type": "display_data"
    },
    {
     "name": "stdout",
     "output_type": "stream",
     "text": [
      "[12/Jun/2020 16:40:41] INFO - Executing notebook with kernel: python3\n",
      "\n",
      "[12/Jun/2020 16:40:52] INFO - Running CHN notebook...\n",
      "[12/Jun/2020 16:40:52] INFO - Input Notebook:  sir_country_model.ipynb\n",
      "[12/Jun/2020 16:40:52] INFO - Output Notebook: output/country_CHN.ipynb\n"
     ]
    },
    {
     "data": {
      "application/vnd.jupyter.widget-view+json": {
       "model_id": "3acfdde6f5004cdaa69d64ba97ed6bd8",
       "version_major": 2,
       "version_minor": 0
      },
      "text/plain": [
       "HBox(children=(FloatProgress(value=0.0, description='Executing', max=37.0, style=ProgressStyle(description_wid…"
      ]
     },
     "metadata": {},
     "output_type": "display_data"
    },
    {
     "name": "stdout",
     "output_type": "stream",
     "text": [
      "[12/Jun/2020 16:40:53] INFO - Executing notebook with kernel: python3\n",
      "\n"
     ]
    }
   ],
   "source": [
    "COUNTRIES = ['SGP', 'MYS', 'JPN', 'RUS', 'USA', 'BRA', 'KOR', 'CHN']\n",
    "S = '2020-02-14'\n",
    "\n",
    "for c in COUNTRIES:\n",
    "    logger.info(f\"Running {c} notebook...\")\n",
    "    pm.execute_notebook(input_path='sir_country_model.ipynb',\n",
    "                        output_path=f\"output/country_{c}.ipynb\",\n",
    "                        parameters={'COUNTRY': c, 'START_DATE': S})"
   ]
  },
  {
   "cell_type": "code",
   "execution_count": null,
   "metadata": {},
   "outputs": [],
   "source": []
  }
 ],
 "metadata": {
  "kernelspec": {
   "display_name": "Python 3",
   "language": "python",
   "name": "python3"
  },
  "language_info": {
   "codemirror_mode": {
    "name": "ipython",
    "version": 3
   },
   "file_extension": ".py",
   "mimetype": "text/x-python",
   "name": "python",
   "nbconvert_exporter": "python",
   "pygments_lexer": "ipython3",
   "version": "3.7.3"
  }
 },
 "nbformat": 4,
 "nbformat_minor": 4
}
