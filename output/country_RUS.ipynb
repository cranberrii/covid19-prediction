{
 "cells": [
  {
   "cell_type": "code",
   "execution_count": 1,
   "metadata": {
    "execution": {
     "iopub.execute_input": "2020-06-12T08:40:11.992569Z",
     "iopub.status.busy": "2020-06-12T08:40:11.991847Z",
     "iopub.status.idle": "2020-06-12T08:40:12.005122Z",
     "shell.execute_reply": "2020-06-12T08:40:12.004425Z"
    },
    "papermill": {
     "duration": 0.048266,
     "end_time": "2020-06-12T08:40:12.005221",
     "exception": false,
     "start_time": "2020-06-12T08:40:11.956955",
     "status": "completed"
    },
    "tags": []
   },
   "outputs": [],
   "source": [
    "%load_ext autoreload\n",
    "%autoreload 2"
   ]
  },
  {
   "cell_type": "code",
   "execution_count": 2,
   "metadata": {
    "execution": {
     "iopub.execute_input": "2020-06-12T08:40:12.072139Z",
     "iopub.status.busy": "2020-06-12T08:40:12.071380Z",
     "iopub.status.idle": "2020-06-12T08:40:13.132823Z",
     "shell.execute_reply": "2020-06-12T08:40:13.132187Z"
    },
    "papermill": {
     "duration": 1.097639,
     "end_time": "2020-06-12T08:40:13.132911",
     "exception": false,
     "start_time": "2020-06-12T08:40:12.035272",
     "status": "completed"
    },
    "tags": []
   },
   "outputs": [],
   "source": [
    "import scipy\n",
    "from scipy.integrate import odeint\n",
    "\n",
    "import pandas as pd\n",
    "import numpy as np\n",
    "import datetime\n",
    "\n",
    "import matplotlib.pyplot as plt\n",
    "import matplotlib.dates as mdates\n",
    "import seaborn as sns\n",
    "\n",
    "import lmfit\n",
    "from lmfit.lineshapes import gaussian, lorentzian\n",
    "\n",
    "plt.style.use('fivethirtyeight')\n",
    "%matplotlib inline "
   ]
  },
  {
   "cell_type": "code",
   "execution_count": 3,
   "metadata": {
    "execution": {
     "iopub.execute_input": "2020-06-12T08:40:13.212209Z",
     "iopub.status.busy": "2020-06-12T08:40:13.211566Z",
     "iopub.status.idle": "2020-06-12T08:40:13.231941Z",
     "shell.execute_reply": "2020-06-12T08:40:13.232493Z"
    },
    "papermill": {
     "duration": 0.051842,
     "end_time": "2020-06-12T08:40:13.232611",
     "exception": false,
     "start_time": "2020-06-12T08:40:13.180769",
     "status": "completed"
    },
    "tags": [
     "parameters"
    ]
   },
   "outputs": [],
   "source": [
    "# parameters \n",
    "\n",
    "COUNTRY = 'JPN'  # 'SGP', 'MYS', 'DEU', 'OWID_WRL'\n",
    "\n",
    "START_DATE = '2020-02-14'"
   ]
  },
  {
   "cell_type": "code",
   "execution_count": 4,
   "metadata": {
    "execution": {
     "iopub.execute_input": "2020-06-12T08:40:13.289509Z",
     "iopub.status.busy": "2020-06-12T08:40:13.288792Z",
     "iopub.status.idle": "2020-06-12T08:40:13.401429Z",
     "shell.execute_reply": "2020-06-12T08:40:13.403027Z"
    },
    "papermill": {
     "duration": 0.144084,
     "end_time": "2020-06-12T08:40:13.403374",
     "exception": false,
     "start_time": "2020-06-12T08:40:13.259290",
     "status": "completed"
    },
    "tags": [
     "injected-parameters"
    ]
   },
   "outputs": [],
   "source": [
    "# Parameters\n",
    "COUNTRY = \"RUS\"\n",
    "START_DATE = \"2020-02-14\"\n"
   ]
  },
  {
   "cell_type": "code",
   "execution_count": 5,
   "metadata": {
    "execution": {
     "iopub.execute_input": "2020-06-12T08:40:13.489369Z",
     "iopub.status.busy": "2020-06-12T08:40:13.488773Z",
     "iopub.status.idle": "2020-06-12T08:40:13.667561Z",
     "shell.execute_reply": "2020-06-12T08:40:13.666483Z"
    },
    "papermill": {
     "duration": 0.209878,
     "end_time": "2020-06-12T08:40:13.667665",
     "exception": false,
     "start_time": "2020-06-12T08:40:13.457787",
     "status": "completed"
    },
    "tags": []
   },
   "outputs": [
    {
     "data": {
      "text/plain": [
       "(23194, 33)"
      ]
     },
     "execution_count": 5,
     "metadata": {},
     "output_type": "execute_result"
    }
   ],
   "source": [
    "DATA_PATH = '../covid-19-data/public/data/owid-covid-data.csv'\n",
    "# DATA_PATH = '../covid-19-data/public/data/ecdc/full_data.csv'\n",
    "\n",
    "df = pd.read_csv(DATA_PATH)\n",
    "df['date'] = pd.to_datetime(df['date'], yearfirst=True)\n",
    "df.shape"
   ]
  },
  {
   "cell_type": "code",
   "execution_count": 6,
   "metadata": {
    "execution": {
     "iopub.execute_input": "2020-06-12T08:40:13.731076Z",
     "iopub.status.busy": "2020-06-12T08:40:13.730418Z",
     "iopub.status.idle": "2020-06-12T08:40:13.775386Z",
     "shell.execute_reply": "2020-06-12T08:40:13.774652Z"
    },
    "papermill": {
     "duration": 0.077621,
     "end_time": "2020-06-12T08:40:13.775483",
     "exception": false,
     "start_time": "2020-06-12T08:40:13.697862",
     "status": "completed"
    },
    "tags": []
   },
   "outputs": [
    {
     "data": {
      "text/html": [
       "<div>\n",
       "<style scoped>\n",
       "    .dataframe tbody tr th:only-of-type {\n",
       "        vertical-align: middle;\n",
       "    }\n",
       "\n",
       "    .dataframe tbody tr th {\n",
       "        vertical-align: top;\n",
       "    }\n",
       "\n",
       "    .dataframe thead th {\n",
       "        text-align: right;\n",
       "    }\n",
       "</style>\n",
       "<table border=\"1\" class=\"dataframe\">\n",
       "  <thead>\n",
       "    <tr style=\"text-align: right;\">\n",
       "      <th></th>\n",
       "      <th>iso_code</th>\n",
       "      <th>continent</th>\n",
       "      <th>location</th>\n",
       "      <th>date</th>\n",
       "      <th>total_cases</th>\n",
       "      <th>new_cases</th>\n",
       "      <th>total_deaths</th>\n",
       "      <th>new_deaths</th>\n",
       "      <th>total_cases_per_million</th>\n",
       "      <th>new_cases_per_million</th>\n",
       "      <th>...</th>\n",
       "      <th>aged_65_older</th>\n",
       "      <th>aged_70_older</th>\n",
       "      <th>gdp_per_capita</th>\n",
       "      <th>extreme_poverty</th>\n",
       "      <th>cvd_death_rate</th>\n",
       "      <th>diabetes_prevalence</th>\n",
       "      <th>female_smokers</th>\n",
       "      <th>male_smokers</th>\n",
       "      <th>handwashing_facilities</th>\n",
       "      <th>hospital_beds_per_thousand</th>\n",
       "    </tr>\n",
       "  </thead>\n",
       "  <tbody>\n",
       "    <tr>\n",
       "      <th>0</th>\n",
       "      <td>AFG</td>\n",
       "      <td>Asia</td>\n",
       "      <td>Afghanistan</td>\n",
       "      <td>2019-12-31</td>\n",
       "      <td>0</td>\n",
       "      <td>0</td>\n",
       "      <td>0</td>\n",
       "      <td>0</td>\n",
       "      <td>0.0</td>\n",
       "      <td>0.0</td>\n",
       "      <td>...</td>\n",
       "      <td>2.581</td>\n",
       "      <td>1.337</td>\n",
       "      <td>1803.987</td>\n",
       "      <td>NaN</td>\n",
       "      <td>597.029</td>\n",
       "      <td>9.59</td>\n",
       "      <td>NaN</td>\n",
       "      <td>NaN</td>\n",
       "      <td>37.746</td>\n",
       "      <td>0.5</td>\n",
       "    </tr>\n",
       "    <tr>\n",
       "      <th>1</th>\n",
       "      <td>AFG</td>\n",
       "      <td>Asia</td>\n",
       "      <td>Afghanistan</td>\n",
       "      <td>2020-01-01</td>\n",
       "      <td>0</td>\n",
       "      <td>0</td>\n",
       "      <td>0</td>\n",
       "      <td>0</td>\n",
       "      <td>0.0</td>\n",
       "      <td>0.0</td>\n",
       "      <td>...</td>\n",
       "      <td>2.581</td>\n",
       "      <td>1.337</td>\n",
       "      <td>1803.987</td>\n",
       "      <td>NaN</td>\n",
       "      <td>597.029</td>\n",
       "      <td>9.59</td>\n",
       "      <td>NaN</td>\n",
       "      <td>NaN</td>\n",
       "      <td>37.746</td>\n",
       "      <td>0.5</td>\n",
       "    </tr>\n",
       "    <tr>\n",
       "      <th>2</th>\n",
       "      <td>AFG</td>\n",
       "      <td>Asia</td>\n",
       "      <td>Afghanistan</td>\n",
       "      <td>2020-01-02</td>\n",
       "      <td>0</td>\n",
       "      <td>0</td>\n",
       "      <td>0</td>\n",
       "      <td>0</td>\n",
       "      <td>0.0</td>\n",
       "      <td>0.0</td>\n",
       "      <td>...</td>\n",
       "      <td>2.581</td>\n",
       "      <td>1.337</td>\n",
       "      <td>1803.987</td>\n",
       "      <td>NaN</td>\n",
       "      <td>597.029</td>\n",
       "      <td>9.59</td>\n",
       "      <td>NaN</td>\n",
       "      <td>NaN</td>\n",
       "      <td>37.746</td>\n",
       "      <td>0.5</td>\n",
       "    </tr>\n",
       "    <tr>\n",
       "      <th>3</th>\n",
       "      <td>AFG</td>\n",
       "      <td>Asia</td>\n",
       "      <td>Afghanistan</td>\n",
       "      <td>2020-01-03</td>\n",
       "      <td>0</td>\n",
       "      <td>0</td>\n",
       "      <td>0</td>\n",
       "      <td>0</td>\n",
       "      <td>0.0</td>\n",
       "      <td>0.0</td>\n",
       "      <td>...</td>\n",
       "      <td>2.581</td>\n",
       "      <td>1.337</td>\n",
       "      <td>1803.987</td>\n",
       "      <td>NaN</td>\n",
       "      <td>597.029</td>\n",
       "      <td>9.59</td>\n",
       "      <td>NaN</td>\n",
       "      <td>NaN</td>\n",
       "      <td>37.746</td>\n",
       "      <td>0.5</td>\n",
       "    </tr>\n",
       "    <tr>\n",
       "      <th>4</th>\n",
       "      <td>AFG</td>\n",
       "      <td>Asia</td>\n",
       "      <td>Afghanistan</td>\n",
       "      <td>2020-01-04</td>\n",
       "      <td>0</td>\n",
       "      <td>0</td>\n",
       "      <td>0</td>\n",
       "      <td>0</td>\n",
       "      <td>0.0</td>\n",
       "      <td>0.0</td>\n",
       "      <td>...</td>\n",
       "      <td>2.581</td>\n",
       "      <td>1.337</td>\n",
       "      <td>1803.987</td>\n",
       "      <td>NaN</td>\n",
       "      <td>597.029</td>\n",
       "      <td>9.59</td>\n",
       "      <td>NaN</td>\n",
       "      <td>NaN</td>\n",
       "      <td>37.746</td>\n",
       "      <td>0.5</td>\n",
       "    </tr>\n",
       "  </tbody>\n",
       "</table>\n",
       "<p>5 rows × 33 columns</p>\n",
       "</div>"
      ],
      "text/plain": [
       "  iso_code continent     location       date  total_cases  new_cases  \\\n",
       "0      AFG      Asia  Afghanistan 2019-12-31            0          0   \n",
       "1      AFG      Asia  Afghanistan 2020-01-01            0          0   \n",
       "2      AFG      Asia  Afghanistan 2020-01-02            0          0   \n",
       "3      AFG      Asia  Afghanistan 2020-01-03            0          0   \n",
       "4      AFG      Asia  Afghanistan 2020-01-04            0          0   \n",
       "\n",
       "   total_deaths  new_deaths  total_cases_per_million  new_cases_per_million  \\\n",
       "0             0           0                      0.0                    0.0   \n",
       "1             0           0                      0.0                    0.0   \n",
       "2             0           0                      0.0                    0.0   \n",
       "3             0           0                      0.0                    0.0   \n",
       "4             0           0                      0.0                    0.0   \n",
       "\n",
       "   ...  aged_65_older  aged_70_older  gdp_per_capita  extreme_poverty  \\\n",
       "0  ...          2.581          1.337        1803.987              NaN   \n",
       "1  ...          2.581          1.337        1803.987              NaN   \n",
       "2  ...          2.581          1.337        1803.987              NaN   \n",
       "3  ...          2.581          1.337        1803.987              NaN   \n",
       "4  ...          2.581          1.337        1803.987              NaN   \n",
       "\n",
       "   cvd_death_rate  diabetes_prevalence  female_smokers  male_smokers  \\\n",
       "0         597.029                 9.59             NaN           NaN   \n",
       "1         597.029                 9.59             NaN           NaN   \n",
       "2         597.029                 9.59             NaN           NaN   \n",
       "3         597.029                 9.59             NaN           NaN   \n",
       "4         597.029                 9.59             NaN           NaN   \n",
       "\n",
       "  handwashing_facilities  hospital_beds_per_thousand  \n",
       "0                 37.746                         0.5  \n",
       "1                 37.746                         0.5  \n",
       "2                 37.746                         0.5  \n",
       "3                 37.746                         0.5  \n",
       "4                 37.746                         0.5  \n",
       "\n",
       "[5 rows x 33 columns]"
      ]
     },
     "execution_count": 6,
     "metadata": {},
     "output_type": "execute_result"
    }
   ],
   "source": [
    "df.head()"
   ]
  },
  {
   "cell_type": "code",
   "execution_count": 7,
   "metadata": {
    "execution": {
     "iopub.execute_input": "2020-06-12T08:40:13.843133Z",
     "iopub.status.busy": "2020-06-12T08:40:13.842446Z",
     "iopub.status.idle": "2020-06-12T08:40:13.871427Z",
     "shell.execute_reply": "2020-06-12T08:40:13.870803Z"
    },
    "papermill": {
     "duration": 0.065375,
     "end_time": "2020-06-12T08:40:13.871515",
     "exception": false,
     "start_time": "2020-06-12T08:40:13.806140",
     "status": "completed"
    },
    "tags": []
   },
   "outputs": [
    {
     "data": {
      "text/plain": [
       "LTU    165\n",
       "RUS    165\n",
       "CAN    165\n",
       "CHE    164\n",
       "NOR    164\n",
       "VNM    164\n",
       "CZE    164\n",
       "BEL    164\n",
       "BHR    164\n",
       "AUS    164\n",
       "GBR    164\n",
       "JPN    164\n",
       "GRC    164\n",
       "FIN    164\n",
       "BRA    164\n",
       "MEX    164\n",
       "ITA    164\n",
       "MYS    164\n",
       "SGP    164\n",
       "NPL    164\n",
       "Name: iso_code, dtype: int64"
      ]
     },
     "execution_count": 7,
     "metadata": {},
     "output_type": "execute_result"
    }
   ],
   "source": [
    "df['iso_code'].value_counts().head(20)"
   ]
  },
  {
   "cell_type": "markdown",
   "metadata": {
    "papermill": {
     "duration": 0.031641,
     "end_time": "2020-06-12T08:40:13.932381",
     "exception": false,
     "start_time": "2020-06-12T08:40:13.900740",
     "status": "completed"
    },
    "tags": []
   },
   "source": [
    "filter country"
   ]
  },
  {
   "cell_type": "code",
   "execution_count": 8,
   "metadata": {
    "execution": {
     "iopub.execute_input": "2020-06-12T08:40:13.999577Z",
     "iopub.status.busy": "2020-06-12T08:40:13.998899Z",
     "iopub.status.idle": "2020-06-12T08:40:14.057176Z",
     "shell.execute_reply": "2020-06-12T08:40:14.056459Z"
    },
    "papermill": {
     "duration": 0.093297,
     "end_time": "2020-06-12T08:40:14.057305",
     "exception": false,
     "start_time": "2020-06-12T08:40:13.964008",
     "status": "completed"
    },
    "tags": []
   },
   "outputs": [
    {
     "data": {
      "text/html": [
       "<div>\n",
       "<style scoped>\n",
       "    .dataframe tbody tr th:only-of-type {\n",
       "        vertical-align: middle;\n",
       "    }\n",
       "\n",
       "    .dataframe tbody tr th {\n",
       "        vertical-align: top;\n",
       "    }\n",
       "\n",
       "    .dataframe thead th {\n",
       "        text-align: right;\n",
       "    }\n",
       "</style>\n",
       "<table border=\"1\" class=\"dataframe\">\n",
       "  <thead>\n",
       "    <tr style=\"text-align: right;\">\n",
       "      <th></th>\n",
       "      <th>iso_code</th>\n",
       "      <th>continent</th>\n",
       "      <th>location</th>\n",
       "      <th>date</th>\n",
       "      <th>total_cases</th>\n",
       "      <th>new_cases</th>\n",
       "      <th>total_deaths</th>\n",
       "      <th>new_deaths</th>\n",
       "      <th>total_cases_per_million</th>\n",
       "      <th>new_cases_per_million</th>\n",
       "      <th>...</th>\n",
       "      <th>aged_65_older</th>\n",
       "      <th>aged_70_older</th>\n",
       "      <th>gdp_per_capita</th>\n",
       "      <th>extreme_poverty</th>\n",
       "      <th>cvd_death_rate</th>\n",
       "      <th>diabetes_prevalence</th>\n",
       "      <th>female_smokers</th>\n",
       "      <th>male_smokers</th>\n",
       "      <th>handwashing_facilities</th>\n",
       "      <th>hospital_beds_per_thousand</th>\n",
       "    </tr>\n",
       "  </thead>\n",
       "  <tbody>\n",
       "    <tr>\n",
       "      <th>17433</th>\n",
       "      <td>RUS</td>\n",
       "      <td>Europe</td>\n",
       "      <td>Russia</td>\n",
       "      <td>2020-02-15</td>\n",
       "      <td>2</td>\n",
       "      <td>0</td>\n",
       "      <td>0</td>\n",
       "      <td>0</td>\n",
       "      <td>0.014</td>\n",
       "      <td>0.000</td>\n",
       "      <td>...</td>\n",
       "      <td>14.178</td>\n",
       "      <td>9.393</td>\n",
       "      <td>24765.954</td>\n",
       "      <td>0.1</td>\n",
       "      <td>431.297</td>\n",
       "      <td>6.18</td>\n",
       "      <td>23.4</td>\n",
       "      <td>58.3</td>\n",
       "      <td>NaN</td>\n",
       "      <td>8.05</td>\n",
       "    </tr>\n",
       "    <tr>\n",
       "      <th>17434</th>\n",
       "      <td>RUS</td>\n",
       "      <td>Europe</td>\n",
       "      <td>Russia</td>\n",
       "      <td>2020-02-16</td>\n",
       "      <td>2</td>\n",
       "      <td>0</td>\n",
       "      <td>0</td>\n",
       "      <td>0</td>\n",
       "      <td>0.014</td>\n",
       "      <td>0.000</td>\n",
       "      <td>...</td>\n",
       "      <td>14.178</td>\n",
       "      <td>9.393</td>\n",
       "      <td>24765.954</td>\n",
       "      <td>0.1</td>\n",
       "      <td>431.297</td>\n",
       "      <td>6.18</td>\n",
       "      <td>23.4</td>\n",
       "      <td>58.3</td>\n",
       "      <td>NaN</td>\n",
       "      <td>8.05</td>\n",
       "    </tr>\n",
       "    <tr>\n",
       "      <th>17435</th>\n",
       "      <td>RUS</td>\n",
       "      <td>Europe</td>\n",
       "      <td>Russia</td>\n",
       "      <td>2020-02-17</td>\n",
       "      <td>2</td>\n",
       "      <td>0</td>\n",
       "      <td>0</td>\n",
       "      <td>0</td>\n",
       "      <td>0.014</td>\n",
       "      <td>0.000</td>\n",
       "      <td>...</td>\n",
       "      <td>14.178</td>\n",
       "      <td>9.393</td>\n",
       "      <td>24765.954</td>\n",
       "      <td>0.1</td>\n",
       "      <td>431.297</td>\n",
       "      <td>6.18</td>\n",
       "      <td>23.4</td>\n",
       "      <td>58.3</td>\n",
       "      <td>NaN</td>\n",
       "      <td>8.05</td>\n",
       "    </tr>\n",
       "    <tr>\n",
       "      <th>17436</th>\n",
       "      <td>RUS</td>\n",
       "      <td>Europe</td>\n",
       "      <td>Russia</td>\n",
       "      <td>2020-02-18</td>\n",
       "      <td>2</td>\n",
       "      <td>0</td>\n",
       "      <td>0</td>\n",
       "      <td>0</td>\n",
       "      <td>0.014</td>\n",
       "      <td>0.000</td>\n",
       "      <td>...</td>\n",
       "      <td>14.178</td>\n",
       "      <td>9.393</td>\n",
       "      <td>24765.954</td>\n",
       "      <td>0.1</td>\n",
       "      <td>431.297</td>\n",
       "      <td>6.18</td>\n",
       "      <td>23.4</td>\n",
       "      <td>58.3</td>\n",
       "      <td>NaN</td>\n",
       "      <td>8.05</td>\n",
       "    </tr>\n",
       "    <tr>\n",
       "      <th>17437</th>\n",
       "      <td>RUS</td>\n",
       "      <td>Europe</td>\n",
       "      <td>Russia</td>\n",
       "      <td>2020-02-19</td>\n",
       "      <td>2</td>\n",
       "      <td>0</td>\n",
       "      <td>0</td>\n",
       "      <td>0</td>\n",
       "      <td>0.014</td>\n",
       "      <td>0.000</td>\n",
       "      <td>...</td>\n",
       "      <td>14.178</td>\n",
       "      <td>9.393</td>\n",
       "      <td>24765.954</td>\n",
       "      <td>0.1</td>\n",
       "      <td>431.297</td>\n",
       "      <td>6.18</td>\n",
       "      <td>23.4</td>\n",
       "      <td>58.3</td>\n",
       "      <td>NaN</td>\n",
       "      <td>8.05</td>\n",
       "    </tr>\n",
       "    <tr>\n",
       "      <th>...</th>\n",
       "      <td>...</td>\n",
       "      <td>...</td>\n",
       "      <td>...</td>\n",
       "      <td>...</td>\n",
       "      <td>...</td>\n",
       "      <td>...</td>\n",
       "      <td>...</td>\n",
       "      <td>...</td>\n",
       "      <td>...</td>\n",
       "      <td>...</td>\n",
       "      <td>...</td>\n",
       "      <td>...</td>\n",
       "      <td>...</td>\n",
       "      <td>...</td>\n",
       "      <td>...</td>\n",
       "      <td>...</td>\n",
       "      <td>...</td>\n",
       "      <td>...</td>\n",
       "      <td>...</td>\n",
       "      <td>...</td>\n",
       "      <td>...</td>\n",
       "    </tr>\n",
       "    <tr>\n",
       "      <th>17547</th>\n",
       "      <td>RUS</td>\n",
       "      <td>Europe</td>\n",
       "      <td>Russia</td>\n",
       "      <td>2020-06-08</td>\n",
       "      <td>467673</td>\n",
       "      <td>8984</td>\n",
       "      <td>5859</td>\n",
       "      <td>134</td>\n",
       "      <td>3204.678</td>\n",
       "      <td>61.562</td>\n",
       "      <td>...</td>\n",
       "      <td>14.178</td>\n",
       "      <td>9.393</td>\n",
       "      <td>24765.954</td>\n",
       "      <td>0.1</td>\n",
       "      <td>431.297</td>\n",
       "      <td>6.18</td>\n",
       "      <td>23.4</td>\n",
       "      <td>58.3</td>\n",
       "      <td>NaN</td>\n",
       "      <td>8.05</td>\n",
       "    </tr>\n",
       "    <tr>\n",
       "      <th>17548</th>\n",
       "      <td>RUS</td>\n",
       "      <td>Europe</td>\n",
       "      <td>Russia</td>\n",
       "      <td>2020-06-09</td>\n",
       "      <td>476658</td>\n",
       "      <td>8985</td>\n",
       "      <td>5971</td>\n",
       "      <td>112</td>\n",
       "      <td>3266.247</td>\n",
       "      <td>61.569</td>\n",
       "      <td>...</td>\n",
       "      <td>14.178</td>\n",
       "      <td>9.393</td>\n",
       "      <td>24765.954</td>\n",
       "      <td>0.1</td>\n",
       "      <td>431.297</td>\n",
       "      <td>6.18</td>\n",
       "      <td>23.4</td>\n",
       "      <td>58.3</td>\n",
       "      <td>NaN</td>\n",
       "      <td>8.05</td>\n",
       "    </tr>\n",
       "    <tr>\n",
       "      <th>17549</th>\n",
       "      <td>RUS</td>\n",
       "      <td>Europe</td>\n",
       "      <td>Russia</td>\n",
       "      <td>2020-06-10</td>\n",
       "      <td>485253</td>\n",
       "      <td>8595</td>\n",
       "      <td>6141</td>\n",
       "      <td>170</td>\n",
       "      <td>3325.143</td>\n",
       "      <td>58.896</td>\n",
       "      <td>...</td>\n",
       "      <td>14.178</td>\n",
       "      <td>9.393</td>\n",
       "      <td>24765.954</td>\n",
       "      <td>0.1</td>\n",
       "      <td>431.297</td>\n",
       "      <td>6.18</td>\n",
       "      <td>23.4</td>\n",
       "      <td>58.3</td>\n",
       "      <td>NaN</td>\n",
       "      <td>8.05</td>\n",
       "    </tr>\n",
       "    <tr>\n",
       "      <th>17550</th>\n",
       "      <td>RUS</td>\n",
       "      <td>Europe</td>\n",
       "      <td>Russia</td>\n",
       "      <td>2020-06-11</td>\n",
       "      <td>493657</td>\n",
       "      <td>8404</td>\n",
       "      <td>6358</td>\n",
       "      <td>217</td>\n",
       "      <td>3382.731</td>\n",
       "      <td>57.587</td>\n",
       "      <td>...</td>\n",
       "      <td>14.178</td>\n",
       "      <td>9.393</td>\n",
       "      <td>24765.954</td>\n",
       "      <td>0.1</td>\n",
       "      <td>431.297</td>\n",
       "      <td>6.18</td>\n",
       "      <td>23.4</td>\n",
       "      <td>58.3</td>\n",
       "      <td>NaN</td>\n",
       "      <td>8.05</td>\n",
       "    </tr>\n",
       "    <tr>\n",
       "      <th>17551</th>\n",
       "      <td>RUS</td>\n",
       "      <td>Europe</td>\n",
       "      <td>Russia</td>\n",
       "      <td>2020-06-12</td>\n",
       "      <td>0</td>\n",
       "      <td>0</td>\n",
       "      <td>0</td>\n",
       "      <td>0</td>\n",
       "      <td>NaN</td>\n",
       "      <td>NaN</td>\n",
       "      <td>...</td>\n",
       "      <td>14.178</td>\n",
       "      <td>9.393</td>\n",
       "      <td>24765.954</td>\n",
       "      <td>0.1</td>\n",
       "      <td>431.297</td>\n",
       "      <td>6.18</td>\n",
       "      <td>23.4</td>\n",
       "      <td>58.3</td>\n",
       "      <td>NaN</td>\n",
       "      <td>8.05</td>\n",
       "    </tr>\n",
       "  </tbody>\n",
       "</table>\n",
       "<p>119 rows × 33 columns</p>\n",
       "</div>"
      ],
      "text/plain": [
       "      iso_code continent location       date  total_cases  new_cases  \\\n",
       "17433      RUS    Europe   Russia 2020-02-15            2          0   \n",
       "17434      RUS    Europe   Russia 2020-02-16            2          0   \n",
       "17435      RUS    Europe   Russia 2020-02-17            2          0   \n",
       "17436      RUS    Europe   Russia 2020-02-18            2          0   \n",
       "17437      RUS    Europe   Russia 2020-02-19            2          0   \n",
       "...        ...       ...      ...        ...          ...        ...   \n",
       "17547      RUS    Europe   Russia 2020-06-08       467673       8984   \n",
       "17548      RUS    Europe   Russia 2020-06-09       476658       8985   \n",
       "17549      RUS    Europe   Russia 2020-06-10       485253       8595   \n",
       "17550      RUS    Europe   Russia 2020-06-11       493657       8404   \n",
       "17551      RUS    Europe   Russia 2020-06-12            0          0   \n",
       "\n",
       "       total_deaths  new_deaths  total_cases_per_million  \\\n",
       "17433             0           0                    0.014   \n",
       "17434             0           0                    0.014   \n",
       "17435             0           0                    0.014   \n",
       "17436             0           0                    0.014   \n",
       "17437             0           0                    0.014   \n",
       "...             ...         ...                      ...   \n",
       "17547          5859         134                 3204.678   \n",
       "17548          5971         112                 3266.247   \n",
       "17549          6141         170                 3325.143   \n",
       "17550          6358         217                 3382.731   \n",
       "17551             0           0                      NaN   \n",
       "\n",
       "       new_cases_per_million  ...  aged_65_older  aged_70_older  \\\n",
       "17433                  0.000  ...         14.178          9.393   \n",
       "17434                  0.000  ...         14.178          9.393   \n",
       "17435                  0.000  ...         14.178          9.393   \n",
       "17436                  0.000  ...         14.178          9.393   \n",
       "17437                  0.000  ...         14.178          9.393   \n",
       "...                      ...  ...            ...            ...   \n",
       "17547                 61.562  ...         14.178          9.393   \n",
       "17548                 61.569  ...         14.178          9.393   \n",
       "17549                 58.896  ...         14.178          9.393   \n",
       "17550                 57.587  ...         14.178          9.393   \n",
       "17551                    NaN  ...         14.178          9.393   \n",
       "\n",
       "       gdp_per_capita  extreme_poverty  cvd_death_rate  diabetes_prevalence  \\\n",
       "17433       24765.954              0.1         431.297                 6.18   \n",
       "17434       24765.954              0.1         431.297                 6.18   \n",
       "17435       24765.954              0.1         431.297                 6.18   \n",
       "17436       24765.954              0.1         431.297                 6.18   \n",
       "17437       24765.954              0.1         431.297                 6.18   \n",
       "...               ...              ...             ...                  ...   \n",
       "17547       24765.954              0.1         431.297                 6.18   \n",
       "17548       24765.954              0.1         431.297                 6.18   \n",
       "17549       24765.954              0.1         431.297                 6.18   \n",
       "17550       24765.954              0.1         431.297                 6.18   \n",
       "17551       24765.954              0.1         431.297                 6.18   \n",
       "\n",
       "       female_smokers  male_smokers handwashing_facilities  \\\n",
       "17433            23.4          58.3                    NaN   \n",
       "17434            23.4          58.3                    NaN   \n",
       "17435            23.4          58.3                    NaN   \n",
       "17436            23.4          58.3                    NaN   \n",
       "17437            23.4          58.3                    NaN   \n",
       "...               ...           ...                    ...   \n",
       "17547            23.4          58.3                    NaN   \n",
       "17548            23.4          58.3                    NaN   \n",
       "17549            23.4          58.3                    NaN   \n",
       "17550            23.4          58.3                    NaN   \n",
       "17551            23.4          58.3                    NaN   \n",
       "\n",
       "       hospital_beds_per_thousand  \n",
       "17433                        8.05  \n",
       "17434                        8.05  \n",
       "17435                        8.05  \n",
       "17436                        8.05  \n",
       "17437                        8.05  \n",
       "...                           ...  \n",
       "17547                        8.05  \n",
       "17548                        8.05  \n",
       "17549                        8.05  \n",
       "17550                        8.05  \n",
       "17551                        8.05  \n",
       "\n",
       "[119 rows x 33 columns]"
      ]
     },
     "execution_count": 8,
     "metadata": {},
     "output_type": "execute_result"
    }
   ],
   "source": [
    "df_country = df[df['iso_code'] == COUNTRY]\n",
    "df_country = df_country[df_country['date'] > START_DATE]\n",
    "df_country"
   ]
  },
  {
   "cell_type": "code",
   "execution_count": 9,
   "metadata": {
    "execution": {
     "iopub.execute_input": "2020-06-12T08:40:14.124618Z",
     "iopub.status.busy": "2020-06-12T08:40:14.123890Z",
     "iopub.status.idle": "2020-06-12T08:40:14.145432Z",
     "shell.execute_reply": "2020-06-12T08:40:14.144812Z"
    },
    "papermill": {
     "duration": 0.056349,
     "end_time": "2020-06-12T08:40:14.145524",
     "exception": false,
     "start_time": "2020-06-12T08:40:14.089175",
     "status": "completed"
    },
    "tags": []
   },
   "outputs": [
    {
     "data": {
      "text/plain": [
       "Timestamp('2020-06-12 00:00:00')"
      ]
     },
     "execution_count": 9,
     "metadata": {},
     "output_type": "execute_result"
    }
   ],
   "source": [
    "df_country['date'].max()"
   ]
  },
  {
   "cell_type": "markdown",
   "metadata": {
    "papermill": {
     "duration": 0.036134,
     "end_time": "2020-06-12T08:40:14.213697",
     "exception": false,
     "start_time": "2020-06-12T08:40:14.177563",
     "status": "completed"
    },
    "tags": []
   },
   "source": [
    "### weekly case counts"
   ]
  },
  {
   "cell_type": "code",
   "execution_count": 10,
   "metadata": {
    "execution": {
     "iopub.execute_input": "2020-06-12T08:40:14.285510Z",
     "iopub.status.busy": "2020-06-12T08:40:14.284848Z",
     "iopub.status.idle": "2020-06-12T08:40:14.924592Z",
     "shell.execute_reply": "2020-06-12T08:40:14.923765Z"
    },
    "papermill": {
     "duration": 0.676992,
     "end_time": "2020-06-12T08:40:14.924686",
     "exception": false,
     "start_time": "2020-06-12T08:40:14.247694",
     "status": "completed"
    },
    "tags": []
   },
   "outputs": [
    {
     "data": {
      "image/png": "[encoded data removed]",
      "text/plain": [
       "<Figure size 864x576 with 1 Axes>"
      ]
     },
     "metadata": {
      "needs_background": "light"
     },
     "output_type": "display_data"
    }
   ],
   "source": [
    "fig, ax = plt.subplots(1, 1, figsize=(12,8))\n",
    "    \n",
    "ax.bar(df_country['date'], df_country['new_cases'])\n",
    "ax.xaxis_date()\n",
    "#set ticks every week\n",
    "ax.xaxis.set_major_locator(mdates.WeekdayLocator())\n",
    "#set major ticks format\n",
    "ax.xaxis.set_major_formatter(mdates.DateFormatter('%b %d'))\n",
    "\n",
    "plt.show()"
   ]
  },
  {
   "cell_type": "markdown",
   "metadata": {
    "papermill": {
     "duration": 0.031617,
     "end_time": "2020-06-12T08:40:14.991084",
     "exception": false,
     "start_time": "2020-06-12T08:40:14.959467",
     "status": "completed"
    },
    "tags": []
   },
   "source": [
    "### cumulative total case counts (log)"
   ]
  },
  {
   "cell_type": "code",
   "execution_count": 11,
   "metadata": {
    "execution": {
     "iopub.execute_input": "2020-06-12T08:40:15.059888Z",
     "iopub.status.busy": "2020-06-12T08:40:15.059248Z",
     "iopub.status.idle": "2020-06-12T08:40:16.233745Z",
     "shell.execute_reply": "2020-06-12T08:40:16.233214Z"
    },
    "papermill": {
     "duration": 1.210615,
     "end_time": "2020-06-12T08:40:16.233837",
     "exception": false,
     "start_time": "2020-06-12T08:40:15.023222",
     "status": "completed"
    },
    "tags": []
   },
   "outputs": [
    {
     "data": {
      "text/plain": [
       "<matplotlib.axes._subplots.AxesSubplot at 0x7f0fcb17b080>"
      ]
     },
     "execution_count": 11,
     "metadata": {},
     "output_type": "execute_result"
    },
    {
     "data": {
      "image/png": "[encoded data removed]",
      "text/plain": [
       "<Figure size 864x576 with 1 Axes>"
      ]
     },
     "metadata": {
      "needs_background": "light"
     },
     "output_type": "display_data"
    }
   ],
   "source": [
    "fig, ax = plt.subplots(figsize = (12,8)) \n",
    "plt.yscale('log')\n",
    "\n",
    "sns.lineplot(data=df_country, y='total_cases', x='date', ax=ax)"
   ]
  },
  {
   "cell_type": "markdown",
   "metadata": {
    "papermill": {
     "duration": 0.03392,
     "end_time": "2020-06-12T08:40:16.313218",
     "exception": false,
     "start_time": "2020-06-12T08:40:16.279298",
     "status": "completed"
    },
    "tags": []
   },
   "source": [
    "## SIR model with ODE  "
   ]
  },
  {
   "cell_type": "code",
   "execution_count": 12,
   "metadata": {
    "execution": {
     "iopub.execute_input": "2020-06-12T08:40:16.385490Z",
     "iopub.status.busy": "2020-06-12T08:40:16.384784Z",
     "iopub.status.idle": "2020-06-12T08:40:16.404402Z",
     "shell.execute_reply": "2020-06-12T08:40:16.404694Z"
    },
    "papermill": {
     "duration": 0.058336,
     "end_time": "2020-06-12T08:40:16.404919",
     "exception": false,
     "start_time": "2020-06-12T08:40:16.346583",
     "status": "completed"
    },
    "tags": []
   },
   "outputs": [],
   "source": [
    "def sir_model(y, t, N, beta, gamma):\n",
    "    '''\n",
    "    N: total population\n",
    "    S(t): no. of susceptible ppl on day t\n",
    "    I(t): no. of infected ppl on day t\n",
    "    R(t): no. of recovered on day t\n",
    "    beta: transmission rate; expected amount of people an infected person infects per day\n",
    "    D: number of days an infected person has and can spread the disease (from research is 18 days?) \n",
    "    gamma: recovery rate; proportion of infected recovering per day (gamma = 1/D)\n",
    "    R_0: total no. of people an infected person infects (R_0 = beta / gamma)\n",
    "    '''\n",
    "    S, I, R = y\n",
    "    \n",
    "    dSdt = -beta * S * (I / N)\n",
    "    dIdt = beta * S * (I / N) - gamma * I\n",
    "    dRdt = gamma * I\n",
    "    \n",
    "    return dSdt, dIdt, dRdt"
   ]
  },
  {
   "cell_type": "code",
   "execution_count": 13,
   "metadata": {
    "execution": {
     "iopub.execute_input": "2020-06-12T08:40:16.483328Z",
     "iopub.status.busy": "2020-06-12T08:40:16.482688Z",
     "iopub.status.idle": "2020-06-12T08:40:16.505046Z",
     "shell.execute_reply": "2020-06-12T08:40:16.504356Z"
    },
    "papermill": {
     "duration": 0.064488,
     "end_time": "2020-06-12T08:40:16.505137",
     "exception": false,
     "start_time": "2020-06-12T08:40:16.440649",
     "status": "completed"
    },
    "tags": []
   },
   "outputs": [],
   "source": [
    "def plot_sir(t, S, I, R, x_ticks):\n",
    "    f, ax = plt.subplots(1, 1, figsize=(12,6))\n",
    "    \n",
    "    ax.plot(x_ticks, S, 'b', alpha=0.7, linewidth=1, label='Susceptible')  # TODO: t\n",
    "    ax.plot(x_ticks, I, 'r', alpha=0.7, linewidth=2, label='Infected')\n",
    "    ax.plot(x_ticks, R, 'y', alpha=0.7, linewidth=1, label='Recovered')\n",
    "\n",
    "    ax.set_xlabel('Time (days)')\n",
    "\n",
    "    ax.yaxis.set_tick_params(length=0)\n",
    "    ax.xaxis.set_tick_params(length=0)\n",
    "        \n",
    "    ax.grid(b=True, which='major', c='w', lw=2, ls='-')\n",
    "    legend = ax.legend()\n",
    "    legend.get_frame().set_alpha(0.5)\n",
    "    for spine in ('top', 'right', 'bottom', 'left'):\n",
    "        ax.spines[spine].set_visible(False)\n",
    "    plt.show();"
   ]
  },
  {
   "cell_type": "markdown",
   "metadata": {
    "papermill": {
     "duration": 0.034309,
     "end_time": "2020-06-12T08:40:16.575364",
     "exception": false,
     "start_time": "2020-06-12T08:40:16.541055",
     "status": "completed"
    },
    "tags": []
   },
   "source": [
    "# curve fitting with actual country data  "
   ]
  },
  {
   "cell_type": "code",
   "execution_count": 14,
   "metadata": {
    "execution": {
     "iopub.execute_input": "2020-06-12T08:40:16.646273Z",
     "iopub.status.busy": "2020-06-12T08:40:16.645566Z",
     "iopub.status.idle": "2020-06-12T08:40:16.666210Z",
     "shell.execute_reply": "2020-06-12T08:40:16.666891Z"
    },
    "papermill": {
     "duration": 0.058253,
     "end_time": "2020-06-12T08:40:16.667092",
     "exception": false,
     "start_time": "2020-06-12T08:40:16.608839",
     "status": "completed"
    },
    "tags": []
   },
   "outputs": [
    {
     "data": {
      "text/plain": [
       "array([    0,     0,     0,     0,     0,     0,     0,     0,     0,\n",
       "           0,     0,     0,     0,     0,     0,     0,     0,     1,\n",
       "           1,     0,     0,     6,     0,     0,     0,     0,    15,\n",
       "           5,    15,    14,     4,    30,    21,    33,    52,    54,\n",
       "          53,   132,     0,    57,   163,   182,   196,   228,   270,\n",
       "         302,   501,   440,   771,   601,   582,   658,   954,  1154,\n",
       "        1175,  1459,  1786,  1667,  2186,  2558,  2774,  3388,  3448,\n",
       "        4070,  4785,  6060,  4268,  5642,  5236,  4774,  5849,  5966,\n",
       "        6361,  6198,  6411,  5841,  7099,  7933,  9623, 10633, 10581,\n",
       "       10102, 10559, 11231, 10699, 10817, 11012, 11656, 10899, 10028,\n",
       "        9974, 10598,  9200,  9709,  8926,  9263,  8764,  8849,  8894,\n",
       "        9434,  8599,  8946,  8915,  8338,  8371,  8572,  8952,  9268,\n",
       "        9035,  8863,  8536,  8831,  8726,  8855,  8984,  8985,  8595,\n",
       "        8404,     0])"
      ]
     },
     "execution_count": 14,
     "metadata": {},
     "output_type": "execute_result"
    }
   ],
   "source": [
    "data = df_country['new_cases'].values\n",
    "data"
   ]
  },
  {
   "cell_type": "code",
   "execution_count": 15,
   "metadata": {
    "execution": {
     "iopub.execute_input": "2020-06-12T08:40:16.745142Z",
     "iopub.status.busy": "2020-06-12T08:40:16.744489Z",
     "iopub.status.idle": "2020-06-12T08:40:16.765544Z",
     "shell.execute_reply": "2020-06-12T08:40:16.766110Z"
    },
    "papermill": {
     "duration": 0.060508,
     "end_time": "2020-06-12T08:40:16.766298",
     "exception": false,
     "start_time": "2020-06-12T08:40:16.705790",
     "status": "completed"
    },
    "tags": []
   },
   "outputs": [
    {
     "data": {
      "text/plain": [
       "119"
      ]
     },
     "execution_count": 15,
     "metadata": {},
     "output_type": "execute_result"
    }
   ],
   "source": [
    "N = 5000000\n",
    "\n",
    "# find beta & gamma from fitting\n",
    "# beta = 2.0  # infected person infects 1 other person per day\n",
    "# D = 14.0  # infections lasts X days\n",
    "# gamma = 1.0 / D\n",
    "\n",
    "days = len(data)\n",
    "days"
   ]
  },
  {
   "cell_type": "code",
   "execution_count": 16,
   "metadata": {
    "execution": {
     "iopub.execute_input": "2020-06-12T08:40:16.845169Z",
     "iopub.status.busy": "2020-06-12T08:40:16.844488Z",
     "iopub.status.idle": "2020-06-12T08:40:16.864867Z",
     "shell.execute_reply": "2020-06-12T08:40:16.864226Z"
    },
    "papermill": {
     "duration": 0.063529,
     "end_time": "2020-06-12T08:40:16.864956",
     "exception": false,
     "start_time": "2020-06-12T08:40:16.801427",
     "status": "completed"
    },
    "tags": []
   },
   "outputs": [],
   "source": [
    "def Model_SIR(days, N, beta, gamma):\n",
    "    t = np.linspace(0, days-1, days, dtype=int)  # time grid (in days)\n",
    "\n",
    "    y0 = N-1, 1, 0  # S0, I0, R0\n",
    "\n",
    "    # Integrate the equations over the time grid, t.\n",
    "    result = odeint(sir_model, y0, t, args=(N, beta, gamma))\n",
    "    S, I, R = result.T\n",
    "    return t, S, I, R"
   ]
  },
  {
   "cell_type": "code",
   "execution_count": 17,
   "metadata": {
    "execution": {
     "iopub.execute_input": "2020-06-12T08:40:16.945388Z",
     "iopub.status.busy": "2020-06-12T08:40:16.944772Z",
     "iopub.status.idle": "2020-06-12T08:40:16.964441Z",
     "shell.execute_reply": "2020-06-12T08:40:16.963723Z"
    },
    "papermill": {
     "duration": 0.062541,
     "end_time": "2020-06-12T08:40:16.964565",
     "exception": false,
     "start_time": "2020-06-12T08:40:16.902024",
     "status": "completed"
    },
    "tags": []
   },
   "outputs": [],
   "source": [
    "def fit_model(x, N, beta, gamma):\n",
    "    \"\"\"\n",
    "    returns: infections I per day ? \n",
    "    \"\"\"\n",
    "    return Model_SIR(days, N, beta, gamma)[2][x]"
   ]
  },
  {
   "cell_type": "markdown",
   "metadata": {
    "papermill": {
     "duration": 0.035668,
     "end_time": "2020-06-12T08:40:17.038337",
     "exception": false,
     "start_time": "2020-06-12T08:40:17.002669",
     "status": "completed"
    },
    "tags": []
   },
   "source": [
    "### initiate model & set params"
   ]
  },
  {
   "cell_type": "code",
   "execution_count": 18,
   "metadata": {
    "execution": {
     "iopub.execute_input": "2020-06-12T08:40:17.114592Z",
     "iopub.status.busy": "2020-06-12T08:40:17.113942Z",
     "iopub.status.idle": "2020-06-12T08:40:17.137295Z",
     "shell.execute_reply": "2020-06-12T08:40:17.137777Z"
    },
    "papermill": {
     "duration": 0.064346,
     "end_time": "2020-06-12T08:40:17.137893",
     "exception": false,
     "start_time": "2020-06-12T08:40:17.073547",
     "status": "completed"
    },
    "tags": []
   },
   "outputs": [
    {
     "data": {
      "text/html": [
       "<table><tr><th> name </th><th> value </th><th> initial value </th><th> min </th><th> max </th><th> vary </th></tr><tr><td> N </td><td>  5000000.00 </td><td> None </td><td>  0.00000000 </td><td>         inf </td><td> True </td></tr><tr><td> beta </td><td>  0.50000000 </td><td> None </td><td>  0.00000000 </td><td>         inf </td><td> True </td></tr><tr><td> gamma </td><td>  0.10000000 </td><td> None </td><td>  0.00000000 </td><td>  1.00000000 </td><td> True </td></tr></table>"
      ],
      "text/plain": [
       "Parameters([('N', <Parameter 'N', value=5000000, bounds=[0:inf]>),\n",
       "            ('beta', <Parameter 'beta', value=0.5, bounds=[0:inf]>),\n",
       "            ('gamma', <Parameter 'gamma', value=0.1, bounds=[0:1]>)])"
      ]
     },
     "execution_count": 18,
     "metadata": {},
     "output_type": "execute_result"
    }
   ],
   "source": [
    "mod = lmfit.Model(fit_model)\n",
    "\n",
    "mod.set_param_hint(\"N\", value=N, min=0, vary=True)\n",
    "mod.set_param_hint(\"beta\", value=0.5, min=0, vary=True)\n",
    "# mod.set_param_hint(\"gamma\", value=1/18, min=1/19, max=1/17, vary=True)\n",
    "mod.set_param_hint(\"gamma\", value=0.1, min=0, max=1, vary=True)\n",
    "\n",
    "params = mod.make_params()\n",
    "params"
   ]
  },
  {
   "cell_type": "code",
   "execution_count": 19,
   "metadata": {
    "execution": {
     "iopub.execute_input": "2020-06-12T08:40:17.218503Z",
     "iopub.status.busy": "2020-06-12T08:40:17.217881Z",
     "iopub.status.idle": "2020-06-12T08:40:17.523877Z",
     "shell.execute_reply": "2020-06-12T08:40:17.523221Z"
    },
    "papermill": {
     "duration": 0.347005,
     "end_time": "2020-06-12T08:40:17.523968",
     "exception": false,
     "start_time": "2020-06-12T08:40:17.176963",
     "status": "completed"
    },
    "tags": []
   },
   "outputs": [],
   "source": [
    "# fitting\n",
    "\n",
    "x_data = np.linspace(0, days-1, days, dtype=int)  # time grid (in days)\n",
    "\n",
    "results = mod.fit(data, params, method=\"leastsq\", x=x_data)  # leastsq, least_squares?"
   ]
  },
  {
   "cell_type": "code",
   "execution_count": 20,
   "metadata": {
    "execution": {
     "iopub.execute_input": "2020-06-12T08:40:17.600271Z",
     "iopub.status.busy": "2020-06-12T08:40:17.599579Z",
     "iopub.status.idle": "2020-06-12T08:40:17.857801Z",
     "shell.execute_reply": "2020-06-12T08:40:17.857282Z"
    },
    "papermill": {
     "duration": 0.297874,
     "end_time": "2020-06-12T08:40:17.857913",
     "exception": false,
     "start_time": "2020-06-12T08:40:17.560039",
     "status": "completed"
    },
    "tags": []
   },
   "outputs": [
    {
     "data": {
      "text/plain": [
       "{'N': 16900.090484809196,\n",
       " 'beta': 0.15391373997241353,\n",
       " 'gamma': 0.01974916231061835}"
      ]
     },
     "execution_count": 20,
     "metadata": {},
     "output_type": "execute_result"
    },
    {
     "data": {
      "image/png": "[encoded data removed]",
      "text/plain": [
       "<Figure size 576x360 with 1 Axes>"
      ]
     },
     "metadata": {
      "needs_background": "light"
     },
     "output_type": "display_data"
    }
   ],
   "source": [
    "plt.figure(figsize=(8,5))\n",
    "results.plot_fit(datafmt=\".\", fitfmt=\"-\");\n",
    "results.best_values"
   ]
  },
  {
   "cell_type": "code",
   "execution_count": 21,
   "metadata": {
    "execution": {
     "iopub.execute_input": "2020-06-12T08:40:17.944772Z",
     "iopub.status.busy": "2020-06-12T08:40:17.944154Z",
     "iopub.status.idle": "2020-06-12T08:40:18.167737Z",
     "shell.execute_reply": "2020-06-12T08:40:18.168312Z"
    },
    "papermill": {
     "duration": 0.270996,
     "end_time": "2020-06-12T08:40:18.168483",
     "exception": false,
     "start_time": "2020-06-12T08:40:17.897487",
     "status": "completed"
    },
    "tags": []
   },
   "outputs": [
    {
     "data": {
      "text/plain": [
       "<matplotlib.axes._subplots.AxesSubplot at 0x7f0fcb13eef0>"
      ]
     },
     "execution_count": 21,
     "metadata": {},
     "output_type": "execute_result"
    },
    {
     "data": {
      "image/png": "[encoded data removed]",
      "text/plain": [
       "<Figure size 576x360 with 1 Axes>"
      ]
     },
     "metadata": {
      "needs_background": "light"
     },
     "output_type": "display_data"
    }
   ],
   "source": [
    "plt.figure(figsize=(8,5))\n",
    "results.plot_residuals()"
   ]
  },
  {
   "cell_type": "code",
   "execution_count": 22,
   "metadata": {
    "execution": {
     "iopub.execute_input": "2020-06-12T08:40:18.254773Z",
     "iopub.status.busy": "2020-06-12T08:40:18.253951Z",
     "iopub.status.idle": "2020-06-12T08:40:18.272993Z",
     "shell.execute_reply": "2020-06-12T08:40:18.273477Z"
    },
    "papermill": {
     "duration": 0.063596,
     "end_time": "2020-06-12T08:40:18.273596",
     "exception": false,
     "start_time": "2020-06-12T08:40:18.210000",
     "status": "completed"
    },
    "tags": []
   },
   "outputs": [
    {
     "data": {
      "text/html": [
       "<h2> Model</h2> Model(fit_model) <h2>Fit Statistics</h2><table><tr><td>fitting method</td><td>leastsq</td><td></td></tr><tr><td># function evals</td><td>79</td><td></td></tr><tr><td># data points</td><td>119</td><td></td></tr><tr><td># variables</td><td>3</td><td></td></tr><tr><td>chi-square</td><td> 97213232.2</td><td></td></tr><tr><td>reduced chi-square</td><td> 838045.105</td><td></td></tr><tr><td>Akaike info crit.</td><td> 1625.98197</td><td></td></tr><tr><td>Bayesian info crit.</td><td> 1634.31934</td><td></td></tr></table><h2>Variables</h2><table><tr><th> name </th><th> value </th><th> standard error </th><th> relative error </th><th> initial value </th><th> min </th><th> max </th><th> vary </th></tr><tr><td> N </td><td>  16900.0905 </td><td>  1266.73846 </td><td> (7.50%) </td><td> 5000000 </td><td>  0.00000000 </td><td>         inf </td><td> True </td></tr><tr><td> beta </td><td>  0.15391374 </td><td>  0.00238770 </td><td> (1.55%) </td><td> 0.5 </td><td>  0.00000000 </td><td>         inf </td><td> True </td></tr><tr><td> gamma </td><td>  0.01974916 </td><td>  0.00299054 </td><td> (15.14%) </td><td> 0.1 </td><td>  0.00000000 </td><td>  1.00000000 </td><td> True </td></tr></table><h2>Correlations (unreported correlations are < 0.100)</h2><table><tr><td>N</td><td>gamma</td><td>0.9806</td></tr><tr><td>beta</td><td>gamma</td><td>0.9182</td></tr><tr><td>N</td><td>beta</td><td>0.8922</td></tr></table>"
      ],
      "text/plain": [
       "<lmfit.model.ModelResult at 0x7f0fcb18a240>"
      ]
     },
     "execution_count": 22,
     "metadata": {},
     "output_type": "execute_result"
    }
   ],
   "source": [
    "results"
   ]
  },
  {
   "cell_type": "code",
   "execution_count": 23,
   "metadata": {
    "execution": {
     "iopub.execute_input": "2020-06-12T08:40:18.360339Z",
     "iopub.status.busy": "2020-06-12T08:40:18.359580Z",
     "iopub.status.idle": "2020-06-12T08:40:18.381166Z",
     "shell.execute_reply": "2020-06-12T08:40:18.380591Z"
    },
    "papermill": {
     "duration": 0.065931,
     "end_time": "2020-06-12T08:40:18.381301",
     "exception": false,
     "start_time": "2020-06-12T08:40:18.315370",
     "status": "completed"
    },
    "tags": []
   },
   "outputs": [
    {
     "data": {
      "text/plain": [
       "0.05555555555555555"
      ]
     },
     "execution_count": 23,
     "metadata": {},
     "output_type": "execute_result"
    }
   ],
   "source": [
    "# gamma should be close to this: \n",
    "1/18"
   ]
  },
  {
   "cell_type": "code",
   "execution_count": 24,
   "metadata": {
    "execution": {
     "iopub.execute_input": "2020-06-12T08:40:18.475063Z",
     "iopub.status.busy": "2020-06-12T08:40:18.474391Z",
     "iopub.status.idle": "2020-06-12T08:40:18.495662Z",
     "shell.execute_reply": "2020-06-12T08:40:18.496153Z"
    },
    "papermill": {
     "duration": 0.072562,
     "end_time": "2020-06-12T08:40:18.496271",
     "exception": false,
     "start_time": "2020-06-12T08:40:18.423709",
     "status": "completed"
    },
    "tags": []
   },
   "outputs": [],
   "source": [
    "def plot_sir2(t, S, I, R, x_ticks, COUNTRY):\n",
    "    f, ax = plt.subplots(1, 1, figsize=(12,8))\n",
    "    ax.set_title('Country: %s' % COUNTRY, fontsize= 20) \n",
    "    \n",
    "    ax.plot(x_ticks, S, 'b', alpha=0.7, linewidth=1, label='Susceptible')  # TODO: t\n",
    "    ax.plot(x_ticks, I, 'r', alpha=0.7, linewidth=2, label='Infected')\n",
    "    ax.plot(x_ticks, R, 'y', alpha=0.7, linewidth=1, label='Recovered')\n",
    "\n",
    "    ax.set_xlabel('Time (days)')\n",
    "\n",
    "    ax.yaxis.set_tick_params(length=0)\n",
    "    ax.xaxis.set_tick_params(length=0)\n",
    "    \n",
    "    # ax.set_ylim(0, 1800)\n",
    "    \n",
    "    ax.grid(b=True, which='major', c='w', lw=2, ls='-')\n",
    "    legend = ax.legend()\n",
    "    legend.get_frame().set_alpha(0.5)\n",
    "    for spine in ('top', 'right', 'bottom', 'left'):\n",
    "        ax.spines[spine].set_visible(False)\n",
    "        \n",
    "    # overlay actual data\n",
    "    ax.bar(df_country['date'], df_country['new_cases'])\n",
    "\n",
    "    plt.show()"
   ]
  },
  {
   "cell_type": "code",
   "execution_count": 25,
   "metadata": {
    "execution": {
     "iopub.execute_input": "2020-06-12T08:40:18.590594Z",
     "iopub.status.busy": "2020-06-12T08:40:18.589929Z",
     "iopub.status.idle": "2020-06-12T08:40:18.612165Z",
     "shell.execute_reply": "2020-06-12T08:40:18.611540Z"
    },
    "papermill": {
     "duration": 0.070666,
     "end_time": "2020-06-12T08:40:18.612267",
     "exception": false,
     "start_time": "2020-06-12T08:40:18.541601",
     "status": "completed"
    },
    "tags": []
   },
   "outputs": [],
   "source": [
    "def plot_infected(t, S, I, R, x_ticks, COUNTRY):\n",
    "    f, ax = plt.subplots(1, 1, figsize=(12,8))\n",
    "    ax.set_title('Country: %s' % COUNTRY, fontsize= 20) \n",
    "    \n",
    "    ax.plot(x_ticks, I, 'r', alpha=0.7, linewidth=2, label='Infected (prediction)')\n",
    "\n",
    "    ax.set_xlabel('Time (days)')\n",
    "\n",
    "    ax.yaxis.set_tick_params(length=0)\n",
    "    ax.xaxis.set_tick_params(length=0)\n",
    "    \n",
    "    # ax.set_ylim(0, 1800)\n",
    "    ax.grid(b=True, which='major', c='w', lw=2, ls='-')\n",
    "    legend = ax.legend()\n",
    "    legend.get_frame().set_alpha(0.5)\n",
    "    \n",
    "    # overlay actual data\n",
    "    ax.bar(df_country['date'], df_country['new_cases'])\n",
    "\n",
    "    plt.show()"
   ]
  },
  {
   "cell_type": "code",
   "execution_count": 26,
   "metadata": {
    "execution": {
     "iopub.execute_input": "2020-06-12T08:40:18.701122Z",
     "iopub.status.busy": "2020-06-12T08:40:18.700432Z",
     "iopub.status.idle": "2020-06-12T08:40:18.720496Z",
     "shell.execute_reply": "2020-06-12T08:40:18.721398Z"
    },
    "papermill": {
     "duration": 0.067057,
     "end_time": "2020-06-12T08:40:18.721521",
     "exception": false,
     "start_time": "2020-06-12T08:40:18.654464",
     "status": "completed"
    },
    "tags": []
   },
   "outputs": [],
   "source": [
    "max_days = 210\n",
    "first_date = np.datetime64(df_country['date'].min()) - np.timedelta64(0, 'D')\n",
    "\n",
    "x_ticks = pd.date_range(start=first_date, periods=max_days, freq=\"D\")"
   ]
  },
  {
   "cell_type": "code",
   "execution_count": 27,
   "metadata": {
    "execution": {
     "iopub.execute_input": "2020-06-12T08:40:18.812858Z",
     "iopub.status.busy": "2020-06-12T08:40:18.811637Z",
     "iopub.status.idle": "2020-06-12T08:40:19.496977Z",
     "shell.execute_reply": "2020-06-12T08:40:19.497462Z"
    },
    "papermill": {
     "duration": 0.733175,
     "end_time": "2020-06-12T08:40:19.497580",
     "exception": false,
     "start_time": "2020-06-12T08:40:18.764405",
     "status": "completed"
    },
    "tags": []
   },
   "outputs": [
    {
     "data": {
      "image/png": "[encoded data removed]",
      "text/plain": [
       "<Figure size 864x576 with 1 Axes>"
      ]
     },
     "metadata": {
      "needs_background": "light"
     },
     "output_type": "display_data"
    }
   ],
   "source": [
    "plot_sir2(*Model_SIR(max_days, **results.best_values), x_ticks, COUNTRY)"
   ]
  },
  {
   "cell_type": "code",
   "execution_count": 28,
   "metadata": {
    "execution": {
     "iopub.execute_input": "2020-06-12T08:40:19.587952Z",
     "iopub.status.busy": "2020-06-12T08:40:19.587318Z",
     "iopub.status.idle": "2020-06-12T08:40:20.232746Z",
     "shell.execute_reply": "2020-06-12T08:40:20.232141Z"
    },
    "papermill": {
     "duration": 0.691006,
     "end_time": "2020-06-12T08:40:20.232835",
     "exception": false,
     "start_time": "2020-06-12T08:40:19.541829",
     "status": "completed"
    },
    "tags": []
   },
   "outputs": [
    {
     "data": {
      "image/png": "[encoded data removed]",
      "text/plain": [
       "<Figure size 864x576 with 1 Axes>"
      ]
     },
     "metadata": {
      "needs_background": "light"
     },
     "output_type": "display_data"
    }
   ],
   "source": [
    "plot_infected(*Model_SIR(max_days, **results.best_values), x_ticks, COUNTRY)"
   ]
  },
  {
   "cell_type": "markdown",
   "metadata": {
    "papermill": {
     "duration": 0.044187,
     "end_time": "2020-06-12T08:40:20.322707",
     "exception": false,
     "start_time": "2020-06-12T08:40:20.278520",
     "status": "completed"
    },
    "tags": []
   },
   "source": [
    "# observations\n",
    "\n",
    "- It is difficult to make predictions for different countries with the evolving situation and resources available. A country could be at different stages of the outbreak\n",
    "- A more complicated model could be used e.g. SEIR "
   ]
  },
  {
   "cell_type": "code",
   "execution_count": null,
   "metadata": {
    "papermill": {
     "duration": 0.046775,
     "end_time": "2020-06-12T08:40:20.413642",
     "exception": false,
     "start_time": "2020-06-12T08:40:20.366867",
     "status": "completed"
    },
    "tags": []
   },
   "outputs": [],
   "source": []
  },
  {
   "cell_type": "code",
   "execution_count": null,
   "metadata": {
    "papermill": {
     "duration": 0.044384,
     "end_time": "2020-06-12T08:40:20.504328",
     "exception": false,
     "start_time": "2020-06-12T08:40:20.459944",
     "status": "completed"
    },
    "tags": []
   },
   "outputs": [],
   "source": []
  }
 ],
 "metadata": {
  "kernelspec": {
   "display_name": "Python 3",
   "language": "python",
   "name": "python3"
  },
  "language_info": {
   "codemirror_mode": {
    "name": "ipython",
    "version": 3
   },
   "file_extension": ".py",
   "mimetype": "text/x-python",
   "name": "python",
   "nbconvert_exporter": "python",
   "pygments_lexer": "ipython3",
   "version": "3.7.3"
  },
  "papermill": {
   "duration": 9.784268,
   "end_time": "2020-06-12T08:40:20.966736",
   "environment_variables": {},
   "exception": null,
   "input_path": "sir_country_model.ipynb",
   "output_path": "output/country_RUS.ipynb",
   "parameters": {
    "COUNTRY": "RUS",
    "START_DATE": "2020-02-14"
   },
   "start_time": "2020-06-12T08:40:11.182468",
   "version": "2.1.1"
  }
 },
 "nbformat": 4,
 "nbformat_minor": 4
}