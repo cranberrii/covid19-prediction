{
 "cells": [
  {
   "cell_type": "code",
   "execution_count": 1,
   "metadata": {},
   "outputs": [],
   "source": [
    "import scipy\n",
    "from scipy.integrate import odeint\n",
    "\n",
    "import pandas as pd\n",
    "import numpy as np\n",
    "\n",
    "import matplotlib.pyplot as plt\n",
    "import matplotlib.dates as mdates\n",
    "import seaborn as sns\n",
    "\n",
    "import lmfit\n",
    "from lmfit.lineshapes import gaussian, lorentzian\n",
    "\n",
    "plt.style.use('fivethirtyeight')\n",
    "%matplotlib inline "
   ]
  },
  {
   "cell_type": "code",
   "execution_count": 2,
   "metadata": {},
   "outputs": [
    {
     "data": {
      "text/plain": [
       "(16801, 29)"
      ]
     },
     "execution_count": 2,
     "metadata": {},
     "output_type": "execute_result"
    }
   ],
   "source": [
    "DATA_PATH = '../covid-19-data/public/data/owid-covid-data.csv'\n",
    "# DATA_PATH = '../covid-19-data/public/data/ecdc/full_data.csv'\n",
    "\n",
    "df = pd.read_csv(DATA_PATH)\n",
    "df['date'] = pd.to_datetime(df['date'], yearfirst=True)\n",
    "df.shape"
   ]
  },
  {
   "cell_type": "code",
   "execution_count": 3,
   "metadata": {},
   "outputs": [
    {
     "data": {
      "text/html": [
       "<div>\n",
       "<style scoped>\n",
       "    .dataframe tbody tr th:only-of-type {\n",
       "        vertical-align: middle;\n",
       "    }\n",
       "\n",
       "    .dataframe tbody tr th {\n",
       "        vertical-align: top;\n",
       "    }\n",
       "\n",
       "    .dataframe thead th {\n",
       "        text-align: right;\n",
       "    }\n",
       "</style>\n",
       "<table border=\"1\" class=\"dataframe\">\n",
       "  <thead>\n",
       "    <tr style=\"text-align: right;\">\n",
       "      <th></th>\n",
       "      <th>iso_code</th>\n",
       "      <th>location</th>\n",
       "      <th>date</th>\n",
       "      <th>total_cases</th>\n",
       "      <th>new_cases</th>\n",
       "      <th>total_deaths</th>\n",
       "      <th>new_deaths</th>\n",
       "      <th>total_cases_per_million</th>\n",
       "      <th>new_cases_per_million</th>\n",
       "      <th>total_deaths_per_million</th>\n",
       "      <th>...</th>\n",
       "      <th>aged_65_older</th>\n",
       "      <th>aged_70_older</th>\n",
       "      <th>gdp_per_capita</th>\n",
       "      <th>extreme_poverty</th>\n",
       "      <th>cvd_death_rate</th>\n",
       "      <th>diabetes_prevalence</th>\n",
       "      <th>female_smokers</th>\n",
       "      <th>male_smokers</th>\n",
       "      <th>handwashing_facilities</th>\n",
       "      <th>hospital_beds_per_100k</th>\n",
       "    </tr>\n",
       "  </thead>\n",
       "  <tbody>\n",
       "    <tr>\n",
       "      <th>0</th>\n",
       "      <td>ABW</td>\n",
       "      <td>Aruba</td>\n",
       "      <td>2020-03-13</td>\n",
       "      <td>2</td>\n",
       "      <td>2</td>\n",
       "      <td>0</td>\n",
       "      <td>0</td>\n",
       "      <td>18.733</td>\n",
       "      <td>18.733</td>\n",
       "      <td>0.0</td>\n",
       "      <td>...</td>\n",
       "      <td>13.085</td>\n",
       "      <td>7.452</td>\n",
       "      <td>35973.781</td>\n",
       "      <td>NaN</td>\n",
       "      <td>NaN</td>\n",
       "      <td>11.62</td>\n",
       "      <td>NaN</td>\n",
       "      <td>NaN</td>\n",
       "      <td>NaN</td>\n",
       "      <td>NaN</td>\n",
       "    </tr>\n",
       "    <tr>\n",
       "      <th>1</th>\n",
       "      <td>ABW</td>\n",
       "      <td>Aruba</td>\n",
       "      <td>2020-03-20</td>\n",
       "      <td>4</td>\n",
       "      <td>2</td>\n",
       "      <td>0</td>\n",
       "      <td>0</td>\n",
       "      <td>37.465</td>\n",
       "      <td>18.733</td>\n",
       "      <td>0.0</td>\n",
       "      <td>...</td>\n",
       "      <td>13.085</td>\n",
       "      <td>7.452</td>\n",
       "      <td>35973.781</td>\n",
       "      <td>NaN</td>\n",
       "      <td>NaN</td>\n",
       "      <td>11.62</td>\n",
       "      <td>NaN</td>\n",
       "      <td>NaN</td>\n",
       "      <td>NaN</td>\n",
       "      <td>NaN</td>\n",
       "    </tr>\n",
       "    <tr>\n",
       "      <th>2</th>\n",
       "      <td>ABW</td>\n",
       "      <td>Aruba</td>\n",
       "      <td>2020-03-24</td>\n",
       "      <td>12</td>\n",
       "      <td>8</td>\n",
       "      <td>0</td>\n",
       "      <td>0</td>\n",
       "      <td>112.395</td>\n",
       "      <td>74.930</td>\n",
       "      <td>0.0</td>\n",
       "      <td>...</td>\n",
       "      <td>13.085</td>\n",
       "      <td>7.452</td>\n",
       "      <td>35973.781</td>\n",
       "      <td>NaN</td>\n",
       "      <td>NaN</td>\n",
       "      <td>11.62</td>\n",
       "      <td>NaN</td>\n",
       "      <td>NaN</td>\n",
       "      <td>NaN</td>\n",
       "      <td>NaN</td>\n",
       "    </tr>\n",
       "    <tr>\n",
       "      <th>3</th>\n",
       "      <td>ABW</td>\n",
       "      <td>Aruba</td>\n",
       "      <td>2020-03-25</td>\n",
       "      <td>17</td>\n",
       "      <td>5</td>\n",
       "      <td>0</td>\n",
       "      <td>0</td>\n",
       "      <td>159.227</td>\n",
       "      <td>46.831</td>\n",
       "      <td>0.0</td>\n",
       "      <td>...</td>\n",
       "      <td>13.085</td>\n",
       "      <td>7.452</td>\n",
       "      <td>35973.781</td>\n",
       "      <td>NaN</td>\n",
       "      <td>NaN</td>\n",
       "      <td>11.62</td>\n",
       "      <td>NaN</td>\n",
       "      <td>NaN</td>\n",
       "      <td>NaN</td>\n",
       "      <td>NaN</td>\n",
       "    </tr>\n",
       "    <tr>\n",
       "      <th>4</th>\n",
       "      <td>ABW</td>\n",
       "      <td>Aruba</td>\n",
       "      <td>2020-03-26</td>\n",
       "      <td>19</td>\n",
       "      <td>2</td>\n",
       "      <td>0</td>\n",
       "      <td>0</td>\n",
       "      <td>177.959</td>\n",
       "      <td>18.733</td>\n",
       "      <td>0.0</td>\n",
       "      <td>...</td>\n",
       "      <td>13.085</td>\n",
       "      <td>7.452</td>\n",
       "      <td>35973.781</td>\n",
       "      <td>NaN</td>\n",
       "      <td>NaN</td>\n",
       "      <td>11.62</td>\n",
       "      <td>NaN</td>\n",
       "      <td>NaN</td>\n",
       "      <td>NaN</td>\n",
       "      <td>NaN</td>\n",
       "    </tr>\n",
       "  </tbody>\n",
       "</table>\n",
       "<p>5 rows × 29 columns</p>\n",
       "</div>"
      ],
      "text/plain": [
       "  iso_code location       date  total_cases  new_cases  total_deaths  \\\n",
       "0      ABW    Aruba 2020-03-13            2          2             0   \n",
       "1      ABW    Aruba 2020-03-20            4          2             0   \n",
       "2      ABW    Aruba 2020-03-24           12          8             0   \n",
       "3      ABW    Aruba 2020-03-25           17          5             0   \n",
       "4      ABW    Aruba 2020-03-26           19          2             0   \n",
       "\n",
       "   new_deaths  total_cases_per_million  new_cases_per_million  \\\n",
       "0           0                   18.733                 18.733   \n",
       "1           0                   37.465                 18.733   \n",
       "2           0                  112.395                 74.930   \n",
       "3           0                  159.227                 46.831   \n",
       "4           0                  177.959                 18.733   \n",
       "\n",
       "   total_deaths_per_million  ...  aged_65_older  aged_70_older  \\\n",
       "0                       0.0  ...         13.085          7.452   \n",
       "1                       0.0  ...         13.085          7.452   \n",
       "2                       0.0  ...         13.085          7.452   \n",
       "3                       0.0  ...         13.085          7.452   \n",
       "4                       0.0  ...         13.085          7.452   \n",
       "\n",
       "   gdp_per_capita  extreme_poverty  cvd_death_rate diabetes_prevalence  \\\n",
       "0       35973.781              NaN             NaN               11.62   \n",
       "1       35973.781              NaN             NaN               11.62   \n",
       "2       35973.781              NaN             NaN               11.62   \n",
       "3       35973.781              NaN             NaN               11.62   \n",
       "4       35973.781              NaN             NaN               11.62   \n",
       "\n",
       "   female_smokers  male_smokers  handwashing_facilities  \\\n",
       "0             NaN           NaN                     NaN   \n",
       "1             NaN           NaN                     NaN   \n",
       "2             NaN           NaN                     NaN   \n",
       "3             NaN           NaN                     NaN   \n",
       "4             NaN           NaN                     NaN   \n",
       "\n",
       "   hospital_beds_per_100k  \n",
       "0                     NaN  \n",
       "1                     NaN  \n",
       "2                     NaN  \n",
       "3                     NaN  \n",
       "4                     NaN  \n",
       "\n",
       "[5 rows x 29 columns]"
      ]
     },
     "execution_count": 3,
     "metadata": {},
     "output_type": "execute_result"
    }
   ],
   "source": [
    "df.head()"
   ]
  },
  {
   "cell_type": "code",
   "execution_count": 4,
   "metadata": {},
   "outputs": [
    {
     "name": "stdout",
     "output_type": "stream",
     "text": [
      "<class 'pandas.core.frame.DataFrame'>\n",
      "RangeIndex: 16801 entries, 0 to 16800\n",
      "Data columns (total 29 columns):\n",
      " #   Column                    Non-Null Count  Dtype         \n",
      "---  ------                    --------------  -----         \n",
      " 0   iso_code                  16737 non-null  object        \n",
      " 1   location                  16801 non-null  object        \n",
      " 2   date                      16801 non-null  datetime64[ns]\n",
      " 3   total_cases               16801 non-null  int64         \n",
      " 4   new_cases                 16801 non-null  int64         \n",
      " 5   total_deaths              16801 non-null  int64         \n",
      " 6   new_deaths                16801 non-null  int64         \n",
      " 7   total_cases_per_million   16492 non-null  float64       \n",
      " 8   new_cases_per_million     16492 non-null  float64       \n",
      " 9   total_deaths_per_million  16492 non-null  float64       \n",
      " 10  new_deaths_per_million    16492 non-null  float64       \n",
      " 11  total_tests               4318 non-null   float64       \n",
      " 12  new_tests                 3878 non-null   float64       \n",
      " 13  total_tests_per_thousand  4318 non-null   float64       \n",
      " 14  new_tests_per_thousand    3883 non-null   float64       \n",
      " 15  tests_units               4318 non-null   object        \n",
      " 16  population                16571 non-null  float64       \n",
      " 17  population_density        16095 non-null  float64       \n",
      " 18  median_age                15346 non-null  float64       \n",
      " 19  aged_65_older             15145 non-null  float64       \n",
      " 20  aged_70_older             15270 non-null  float64       \n",
      " 21  gdp_per_capita            15155 non-null  float64       \n",
      " 22  extreme_poverty           10103 non-null  float64       \n",
      " 23  cvd_death_rate            15377 non-null  float64       \n",
      " 24  diabetes_prevalence       15831 non-null  float64       \n",
      " 25  female_smokers            12682 non-null  float64       \n",
      " 26  male_smokers              12553 non-null  float64       \n",
      " 27  handwashing_facilities    6544 non-null   float64       \n",
      " 28  hospital_beds_per_100k    14284 non-null  float64       \n",
      "dtypes: datetime64[ns](1), float64(21), int64(4), object(3)\n",
      "memory usage: 3.7+ MB\n"
     ]
    }
   ],
   "source": [
    "df.info()"
   ]
  },
  {
   "cell_type": "code",
   "execution_count": 5,
   "metadata": {},
   "outputs": [
    {
     "data": {
      "text/plain": [
       "CAN         134\n",
       "HRV         134\n",
       "USA         134\n",
       "BEL         134\n",
       "ISR         134\n",
       "AUT         134\n",
       "SWE         134\n",
       "RUS         134\n",
       "THA         134\n",
       "CZE         134\n",
       "CHE         134\n",
       "OWID_WRL    134\n",
       "DNK         134\n",
       "IRN         134\n",
       "NOR         134\n",
       "EST         134\n",
       "FIN         134\n",
       "GBR         134\n",
       "JPN         134\n",
       "AUS         134\n",
       "ITA         134\n",
       "BRA         134\n",
       "FRA         134\n",
       "SGP         134\n",
       "MEX         134\n",
       "KOR         134\n",
       "ISL         134\n",
       "DEU         134\n",
       "NLD         134\n",
       "CHN         134\n",
       "Name: iso_code, dtype: int64"
      ]
     },
     "execution_count": 5,
     "metadata": {},
     "output_type": "execute_result"
    }
   ],
   "source": [
    "df['iso_code'].value_counts().head(30)"
   ]
  },
  {
   "cell_type": "markdown",
   "metadata": {},
   "source": [
    "*choose a country*"
   ]
  },
  {
   "cell_type": "code",
   "execution_count": 68,
   "metadata": {},
   "outputs": [],
   "source": [
    "COUNTRY = 'SGP'  # 'SGP', 'MYS', 'DEU', 'OWID_WRL'\n",
    "\n",
    "START_DATE = '2020-02-28'"
   ]
  },
  {
   "cell_type": "code",
   "execution_count": 69,
   "metadata": {},
   "outputs": [
    {
     "data": {
      "text/html": [
       "<div>\n",
       "<style scoped>\n",
       "    .dataframe tbody tr th:only-of-type {\n",
       "        vertical-align: middle;\n",
       "    }\n",
       "\n",
       "    .dataframe tbody tr th {\n",
       "        vertical-align: top;\n",
       "    }\n",
       "\n",
       "    .dataframe thead th {\n",
       "        text-align: right;\n",
       "    }\n",
       "</style>\n",
       "<table border=\"1\" class=\"dataframe\">\n",
       "  <thead>\n",
       "    <tr style=\"text-align: right;\">\n",
       "      <th></th>\n",
       "      <th>iso_code</th>\n",
       "      <th>location</th>\n",
       "      <th>date</th>\n",
       "      <th>total_cases</th>\n",
       "      <th>new_cases</th>\n",
       "      <th>total_deaths</th>\n",
       "      <th>new_deaths</th>\n",
       "      <th>total_cases_per_million</th>\n",
       "      <th>new_cases_per_million</th>\n",
       "      <th>total_deaths_per_million</th>\n",
       "      <th>...</th>\n",
       "      <th>aged_65_older</th>\n",
       "      <th>aged_70_older</th>\n",
       "      <th>gdp_per_capita</th>\n",
       "      <th>extreme_poverty</th>\n",
       "      <th>cvd_death_rate</th>\n",
       "      <th>diabetes_prevalence</th>\n",
       "      <th>female_smokers</th>\n",
       "      <th>male_smokers</th>\n",
       "      <th>handwashing_facilities</th>\n",
       "      <th>hospital_beds_per_100k</th>\n",
       "    </tr>\n",
       "  </thead>\n",
       "  <tbody>\n",
       "    <tr>\n",
       "      <th>13840</th>\n",
       "      <td>SGP</td>\n",
       "      <td>Singapore</td>\n",
       "      <td>2020-02-29</td>\n",
       "      <td>98</td>\n",
       "      <td>2</td>\n",
       "      <td>0</td>\n",
       "      <td>0</td>\n",
       "      <td>16.751</td>\n",
       "      <td>0.342</td>\n",
       "      <td>0.000</td>\n",
       "      <td>...</td>\n",
       "      <td>12.922</td>\n",
       "      <td>7.049</td>\n",
       "      <td>85535.383</td>\n",
       "      <td>NaN</td>\n",
       "      <td>92.243</td>\n",
       "      <td>10.99</td>\n",
       "      <td>5.2</td>\n",
       "      <td>28.3</td>\n",
       "      <td>NaN</td>\n",
       "      <td>2.4</td>\n",
       "    </tr>\n",
       "    <tr>\n",
       "      <th>13841</th>\n",
       "      <td>SGP</td>\n",
       "      <td>Singapore</td>\n",
       "      <td>2020-03-01</td>\n",
       "      <td>102</td>\n",
       "      <td>4</td>\n",
       "      <td>0</td>\n",
       "      <td>0</td>\n",
       "      <td>17.435</td>\n",
       "      <td>0.684</td>\n",
       "      <td>0.000</td>\n",
       "      <td>...</td>\n",
       "      <td>12.922</td>\n",
       "      <td>7.049</td>\n",
       "      <td>85535.383</td>\n",
       "      <td>NaN</td>\n",
       "      <td>92.243</td>\n",
       "      <td>10.99</td>\n",
       "      <td>5.2</td>\n",
       "      <td>28.3</td>\n",
       "      <td>NaN</td>\n",
       "      <td>2.4</td>\n",
       "    </tr>\n",
       "    <tr>\n",
       "      <th>13842</th>\n",
       "      <td>SGP</td>\n",
       "      <td>Singapore</td>\n",
       "      <td>2020-03-02</td>\n",
       "      <td>106</td>\n",
       "      <td>4</td>\n",
       "      <td>0</td>\n",
       "      <td>0</td>\n",
       "      <td>18.119</td>\n",
       "      <td>0.684</td>\n",
       "      <td>0.000</td>\n",
       "      <td>...</td>\n",
       "      <td>12.922</td>\n",
       "      <td>7.049</td>\n",
       "      <td>85535.383</td>\n",
       "      <td>NaN</td>\n",
       "      <td>92.243</td>\n",
       "      <td>10.99</td>\n",
       "      <td>5.2</td>\n",
       "      <td>28.3</td>\n",
       "      <td>NaN</td>\n",
       "      <td>2.4</td>\n",
       "    </tr>\n",
       "    <tr>\n",
       "      <th>13843</th>\n",
       "      <td>SGP</td>\n",
       "      <td>Singapore</td>\n",
       "      <td>2020-03-03</td>\n",
       "      <td>108</td>\n",
       "      <td>2</td>\n",
       "      <td>0</td>\n",
       "      <td>0</td>\n",
       "      <td>18.460</td>\n",
       "      <td>0.342</td>\n",
       "      <td>0.000</td>\n",
       "      <td>...</td>\n",
       "      <td>12.922</td>\n",
       "      <td>7.049</td>\n",
       "      <td>85535.383</td>\n",
       "      <td>NaN</td>\n",
       "      <td>92.243</td>\n",
       "      <td>10.99</td>\n",
       "      <td>5.2</td>\n",
       "      <td>28.3</td>\n",
       "      <td>NaN</td>\n",
       "      <td>2.4</td>\n",
       "    </tr>\n",
       "    <tr>\n",
       "      <th>13844</th>\n",
       "      <td>SGP</td>\n",
       "      <td>Singapore</td>\n",
       "      <td>2020-03-04</td>\n",
       "      <td>110</td>\n",
       "      <td>2</td>\n",
       "      <td>0</td>\n",
       "      <td>0</td>\n",
       "      <td>18.802</td>\n",
       "      <td>0.342</td>\n",
       "      <td>0.000</td>\n",
       "      <td>...</td>\n",
       "      <td>12.922</td>\n",
       "      <td>7.049</td>\n",
       "      <td>85535.383</td>\n",
       "      <td>NaN</td>\n",
       "      <td>92.243</td>\n",
       "      <td>10.99</td>\n",
       "      <td>5.2</td>\n",
       "      <td>28.3</td>\n",
       "      <td>NaN</td>\n",
       "      <td>2.4</td>\n",
       "    </tr>\n",
       "    <tr>\n",
       "      <th>...</th>\n",
       "      <td>...</td>\n",
       "      <td>...</td>\n",
       "      <td>...</td>\n",
       "      <td>...</td>\n",
       "      <td>...</td>\n",
       "      <td>...</td>\n",
       "      <td>...</td>\n",
       "      <td>...</td>\n",
       "      <td>...</td>\n",
       "      <td>...</td>\n",
       "      <td>...</td>\n",
       "      <td>...</td>\n",
       "      <td>...</td>\n",
       "      <td>...</td>\n",
       "      <td>...</td>\n",
       "      <td>...</td>\n",
       "      <td>...</td>\n",
       "      <td>...</td>\n",
       "      <td>...</td>\n",
       "      <td>...</td>\n",
       "      <td>...</td>\n",
       "    </tr>\n",
       "    <tr>\n",
       "      <th>13909</th>\n",
       "      <td>SGP</td>\n",
       "      <td>Singapore</td>\n",
       "      <td>2020-05-08</td>\n",
       "      <td>20939</td>\n",
       "      <td>741</td>\n",
       "      <td>20</td>\n",
       "      <td>0</td>\n",
       "      <td>3579.106</td>\n",
       "      <td>126.659</td>\n",
       "      <td>3.419</td>\n",
       "      <td>...</td>\n",
       "      <td>12.922</td>\n",
       "      <td>7.049</td>\n",
       "      <td>85535.383</td>\n",
       "      <td>NaN</td>\n",
       "      <td>92.243</td>\n",
       "      <td>10.99</td>\n",
       "      <td>5.2</td>\n",
       "      <td>28.3</td>\n",
       "      <td>NaN</td>\n",
       "      <td>2.4</td>\n",
       "    </tr>\n",
       "    <tr>\n",
       "      <th>13910</th>\n",
       "      <td>SGP</td>\n",
       "      <td>Singapore</td>\n",
       "      <td>2020-05-09</td>\n",
       "      <td>21707</td>\n",
       "      <td>768</td>\n",
       "      <td>20</td>\n",
       "      <td>0</td>\n",
       "      <td>3710.381</td>\n",
       "      <td>131.274</td>\n",
       "      <td>3.419</td>\n",
       "      <td>...</td>\n",
       "      <td>12.922</td>\n",
       "      <td>7.049</td>\n",
       "      <td>85535.383</td>\n",
       "      <td>NaN</td>\n",
       "      <td>92.243</td>\n",
       "      <td>10.99</td>\n",
       "      <td>5.2</td>\n",
       "      <td>28.3</td>\n",
       "      <td>NaN</td>\n",
       "      <td>2.4</td>\n",
       "    </tr>\n",
       "    <tr>\n",
       "      <th>13911</th>\n",
       "      <td>SGP</td>\n",
       "      <td>Singapore</td>\n",
       "      <td>2020-05-10</td>\n",
       "      <td>22460</td>\n",
       "      <td>753</td>\n",
       "      <td>20</td>\n",
       "      <td>0</td>\n",
       "      <td>3839.091</td>\n",
       "      <td>128.710</td>\n",
       "      <td>3.419</td>\n",
       "      <td>...</td>\n",
       "      <td>12.922</td>\n",
       "      <td>7.049</td>\n",
       "      <td>85535.383</td>\n",
       "      <td>NaN</td>\n",
       "      <td>92.243</td>\n",
       "      <td>10.99</td>\n",
       "      <td>5.2</td>\n",
       "      <td>28.3</td>\n",
       "      <td>NaN</td>\n",
       "      <td>2.4</td>\n",
       "    </tr>\n",
       "    <tr>\n",
       "      <th>13912</th>\n",
       "      <td>SGP</td>\n",
       "      <td>Singapore</td>\n",
       "      <td>2020-05-11</td>\n",
       "      <td>23336</td>\n",
       "      <td>876</td>\n",
       "      <td>20</td>\n",
       "      <td>0</td>\n",
       "      <td>3988.826</td>\n",
       "      <td>149.735</td>\n",
       "      <td>3.419</td>\n",
       "      <td>...</td>\n",
       "      <td>12.922</td>\n",
       "      <td>7.049</td>\n",
       "      <td>85535.383</td>\n",
       "      <td>NaN</td>\n",
       "      <td>92.243</td>\n",
       "      <td>10.99</td>\n",
       "      <td>5.2</td>\n",
       "      <td>28.3</td>\n",
       "      <td>NaN</td>\n",
       "      <td>2.4</td>\n",
       "    </tr>\n",
       "    <tr>\n",
       "      <th>13913</th>\n",
       "      <td>SGP</td>\n",
       "      <td>Singapore</td>\n",
       "      <td>2020-05-12</td>\n",
       "      <td>23787</td>\n",
       "      <td>451</td>\n",
       "      <td>21</td>\n",
       "      <td>1</td>\n",
       "      <td>4065.915</td>\n",
       "      <td>77.089</td>\n",
       "      <td>3.590</td>\n",
       "      <td>...</td>\n",
       "      <td>12.922</td>\n",
       "      <td>7.049</td>\n",
       "      <td>85535.383</td>\n",
       "      <td>NaN</td>\n",
       "      <td>92.243</td>\n",
       "      <td>10.99</td>\n",
       "      <td>5.2</td>\n",
       "      <td>28.3</td>\n",
       "      <td>NaN</td>\n",
       "      <td>2.4</td>\n",
       "    </tr>\n",
       "  </tbody>\n",
       "</table>\n",
       "<p>74 rows × 29 columns</p>\n",
       "</div>"
      ],
      "text/plain": [
       "      iso_code   location       date  total_cases  new_cases  total_deaths  \\\n",
       "13840      SGP  Singapore 2020-02-29           98          2             0   \n",
       "13841      SGP  Singapore 2020-03-01          102          4             0   \n",
       "13842      SGP  Singapore 2020-03-02          106          4             0   \n",
       "13843      SGP  Singapore 2020-03-03          108          2             0   \n",
       "13844      SGP  Singapore 2020-03-04          110          2             0   \n",
       "...        ...        ...        ...          ...        ...           ...   \n",
       "13909      SGP  Singapore 2020-05-08        20939        741            20   \n",
       "13910      SGP  Singapore 2020-05-09        21707        768            20   \n",
       "13911      SGP  Singapore 2020-05-10        22460        753            20   \n",
       "13912      SGP  Singapore 2020-05-11        23336        876            20   \n",
       "13913      SGP  Singapore 2020-05-12        23787        451            21   \n",
       "\n",
       "       new_deaths  total_cases_per_million  new_cases_per_million  \\\n",
       "13840           0                   16.751                  0.342   \n",
       "13841           0                   17.435                  0.684   \n",
       "13842           0                   18.119                  0.684   \n",
       "13843           0                   18.460                  0.342   \n",
       "13844           0                   18.802                  0.342   \n",
       "...           ...                      ...                    ...   \n",
       "13909           0                 3579.106                126.659   \n",
       "13910           0                 3710.381                131.274   \n",
       "13911           0                 3839.091                128.710   \n",
       "13912           0                 3988.826                149.735   \n",
       "13913           1                 4065.915                 77.089   \n",
       "\n",
       "       total_deaths_per_million  ...  aged_65_older  aged_70_older  \\\n",
       "13840                     0.000  ...         12.922          7.049   \n",
       "13841                     0.000  ...         12.922          7.049   \n",
       "13842                     0.000  ...         12.922          7.049   \n",
       "13843                     0.000  ...         12.922          7.049   \n",
       "13844                     0.000  ...         12.922          7.049   \n",
       "...                         ...  ...            ...            ...   \n",
       "13909                     3.419  ...         12.922          7.049   \n",
       "13910                     3.419  ...         12.922          7.049   \n",
       "13911                     3.419  ...         12.922          7.049   \n",
       "13912                     3.419  ...         12.922          7.049   \n",
       "13913                     3.590  ...         12.922          7.049   \n",
       "\n",
       "       gdp_per_capita  extreme_poverty  cvd_death_rate diabetes_prevalence  \\\n",
       "13840       85535.383              NaN          92.243               10.99   \n",
       "13841       85535.383              NaN          92.243               10.99   \n",
       "13842       85535.383              NaN          92.243               10.99   \n",
       "13843       85535.383              NaN          92.243               10.99   \n",
       "13844       85535.383              NaN          92.243               10.99   \n",
       "...               ...              ...             ...                 ...   \n",
       "13909       85535.383              NaN          92.243               10.99   \n",
       "13910       85535.383              NaN          92.243               10.99   \n",
       "13911       85535.383              NaN          92.243               10.99   \n",
       "13912       85535.383              NaN          92.243               10.99   \n",
       "13913       85535.383              NaN          92.243               10.99   \n",
       "\n",
       "       female_smokers  male_smokers  handwashing_facilities  \\\n",
       "13840             5.2          28.3                     NaN   \n",
       "13841             5.2          28.3                     NaN   \n",
       "13842             5.2          28.3                     NaN   \n",
       "13843             5.2          28.3                     NaN   \n",
       "13844             5.2          28.3                     NaN   \n",
       "...               ...           ...                     ...   \n",
       "13909             5.2          28.3                     NaN   \n",
       "13910             5.2          28.3                     NaN   \n",
       "13911             5.2          28.3                     NaN   \n",
       "13912             5.2          28.3                     NaN   \n",
       "13913             5.2          28.3                     NaN   \n",
       "\n",
       "       hospital_beds_per_100k  \n",
       "13840                     2.4  \n",
       "13841                     2.4  \n",
       "13842                     2.4  \n",
       "13843                     2.4  \n",
       "13844                     2.4  \n",
       "...                       ...  \n",
       "13909                     2.4  \n",
       "13910                     2.4  \n",
       "13911                     2.4  \n",
       "13912                     2.4  \n",
       "13913                     2.4  \n",
       "\n",
       "[74 rows x 29 columns]"
      ]
     },
     "execution_count": 69,
     "metadata": {},
     "output_type": "execute_result"
    }
   ],
   "source": [
    "df_country = df[df['iso_code'] == COUNTRY]\n",
    "df_country = df_country[df_country['date'] > START_DATE]\n",
    "df_country"
   ]
  },
  {
   "cell_type": "markdown",
   "metadata": {},
   "source": [
    "### weekly case counts"
   ]
  },
  {
   "cell_type": "code",
   "execution_count": 70,
   "metadata": {},
   "outputs": [
    {
     "data": {
      "image/png": "[encoded data removed]",
      "text/plain": [
       "<Figure size 864x432 with 1 Axes>"
      ]
     },
     "metadata": {
      "needs_background": "light"
     },
     "output_type": "display_data"
    }
   ],
   "source": [
    "fig, ax = plt.subplots(1, 1, figsize=(12,6))\n",
    "    \n",
    "ax.bar(df_country['date'], df_country['new_cases'])\n",
    "ax.xaxis_date()\n",
    "#set ticks every week\n",
    "ax.xaxis.set_major_locator(mdates.WeekdayLocator())\n",
    "#set major ticks format\n",
    "ax.xaxis.set_major_formatter(mdates.DateFormatter('%b %d'))\n",
    "\n",
    "plt.show()"
   ]
  },
  {
   "cell_type": "markdown",
   "metadata": {},
   "source": [
    "### cumulative total case counts (log)"
   ]
  },
  {
   "cell_type": "code",
   "execution_count": 71,
   "metadata": {},
   "outputs": [
    {
     "data": {
      "text/plain": [
       "<matplotlib.axes._subplots.AxesSubplot at 0x7f5911b965f8>"
      ]
     },
     "execution_count": 71,
     "metadata": {},
     "output_type": "execute_result"
    },
    {
     "data": {
      "image/png": "[encoded data removed]",
      "text/plain": [
       "<Figure size 864x432 with 1 Axes>"
      ]
     },
     "metadata": {
      "needs_background": "light"
     },
     "output_type": "display_data"
    }
   ],
   "source": [
    "fig, ax = plt.subplots(figsize = (12,6)) \n",
    "plt.yscale('log')\n",
    "\n",
    "sns.lineplot(data=df_country, y='total_cases', x='date', ax=ax)"
   ]
  },
  {
   "cell_type": "code",
   "execution_count": 72,
   "metadata": {},
   "outputs": [],
   "source": [
    "# fig, ax = plt.subplots(figsize = (12,6)) \n",
    "\n",
    "# x_dates = df_sgp['date'].dt.strftime('%Y-%M-%D').sort_values().unique()\n",
    "# ax.set_xticklabels(labels=x_dates, rotation=45, ha='right')\n",
    "\n",
    "# sns.barplot(data=df_sgp, y='new_cases', x='date', ci=None, ax=ax)"
   ]
  },
  {
   "cell_type": "markdown",
   "metadata": {},
   "source": [
    "## SIR model with ODE  "
   ]
  },
  {
   "cell_type": "code",
   "execution_count": 73,
   "metadata": {},
   "outputs": [],
   "source": [
    "def sir_model(y, t, N, beta, gamma):\n",
    "    '''\n",
    "    N: total population\n",
    "    S(t): no. of susceptible ppl on day t\n",
    "    I(t): no. of infected ppl on day t\n",
    "    R(t): no. of recovered on day t\n",
    "    beta: expected amount of people an infected person infects per day\n",
    "    D: number of days an infected person has and can spread the disease\n",
    "    gamma: proportion of infected recovering per day (gamma = 1/D)\n",
    "    R_0: total no. of people an infected person infects (R_0 = beta / gamma)\n",
    "    '''\n",
    "    S, I, R = y\n",
    "    \n",
    "    dSdt = -beta * S * (I / N)\n",
    "    dIdt = beta * S * (I / N) - gamma * I\n",
    "    dRdt = gamma * I\n",
    "    \n",
    "    return dSdt, dIdt, dRdt"
   ]
  },
  {
   "cell_type": "markdown",
   "metadata": {},
   "source": [
    "### demo SIR ODE: set initial conditions"
   ]
  },
  {
   "cell_type": "code",
   "execution_count": 74,
   "metadata": {},
   "outputs": [],
   "source": [
    "N = 1000000\n",
    "beta = 1.0  # infected person infects 1 other person per day\n",
    "D = 21.0  # infections lasts four days\n",
    "gamma = 1.0 / D\n",
    "\n",
    "days = 100\n",
    "\n",
    "I0 = 20\n",
    "S0 = N - I0\n",
    "R0 = 0"
   ]
  },
  {
   "cell_type": "code",
   "execution_count": 75,
   "metadata": {},
   "outputs": [],
   "source": [
    "t = np.linspace(0, days, days)  # time grid (in days)\n",
    "\n",
    "y0 = S0, I0, R0\n",
    "\n",
    "# Integrate the SIR equations over the time grid, t.\n",
    "result = odeint(sir_model, y0, t, args=(N, beta, gamma))\n",
    "S, I, R = result.T"
   ]
  },
  {
   "cell_type": "code",
   "execution_count": 76,
   "metadata": {},
   "outputs": [
    {
     "data": {
      "text/plain": [
       "(100, 3)"
      ]
     },
     "execution_count": 76,
     "metadata": {},
     "output_type": "execute_result"
    }
   ],
   "source": [
    "result.shape"
   ]
  },
  {
   "cell_type": "code",
   "execution_count": 77,
   "metadata": {},
   "outputs": [
    {
     "data": {
      "text/plain": [
       "array([1.03365580e-03, 1.47546919e+04, 9.85245307e+05])"
      ]
     },
     "execution_count": 77,
     "metadata": {},
     "output_type": "execute_result"
    }
   ],
   "source": [
    "result[99]"
   ]
  },
  {
   "cell_type": "code",
   "execution_count": 78,
   "metadata": {},
   "outputs": [],
   "source": [
    "def plot_sir(t, S, I, R, x_ticks):\n",
    "    f, ax = plt.subplots(1, 1, figsize=(12,6))\n",
    "    \n",
    "    ax.plot(x_ticks, S, 'b', alpha=0.7, linewidth=1, label='Susceptible')  # TODO: t\n",
    "    ax.plot(x_ticks, I, 'r', alpha=0.7, linewidth=2, label='Infected')\n",
    "    ax.plot(x_ticks, R, 'y', alpha=0.7, linewidth=1, label='Recovered')\n",
    "\n",
    "    ax.set_xlabel('Time (days)')\n",
    "\n",
    "    ax.yaxis.set_tick_params(length=0)\n",
    "    ax.xaxis.set_tick_params(length=0)\n",
    "        \n",
    "    ax.grid(b=True, which='major', c='w', lw=2, ls='-')\n",
    "    legend = ax.legend()\n",
    "    legend.get_frame().set_alpha(0.5)\n",
    "    for spine in ('top', 'right', 'bottom', 'left'):\n",
    "        ax.spines[spine].set_visible(False)\n",
    "    plt.show();"
   ]
  },
  {
   "cell_type": "code",
   "execution_count": 79,
   "metadata": {},
   "outputs": [],
   "source": [
    "first_date = np.datetime64(df_country['date'].min()) - np.timedelta64(0, 'D')\n",
    "\n",
    "x_ticks = pd.date_range(start=first_date, periods=days, freq=\"D\")"
   ]
  },
  {
   "cell_type": "code",
   "execution_count": 80,
   "metadata": {},
   "outputs": [
    {
     "data": {
      "image/png": "[encoded data removed]",
      "text/plain": [
       "<Figure size 864x432 with 1 Axes>"
      ]
     },
     "metadata": {
      "needs_background": "light"
     },
     "output_type": "display_data"
    }
   ],
   "source": [
    "plot_sir(t, S, I, R, x_ticks)"
   ]
  },
  {
   "cell_type": "code",
   "execution_count": null,
   "metadata": {},
   "outputs": [],
   "source": []
  },
  {
   "cell_type": "markdown",
   "metadata": {},
   "source": [
    "### curve fitting example with lmfit"
   ]
  },
  {
   "cell_type": "code",
   "execution_count": 81,
   "metadata": {},
   "outputs": [
    {
     "data": {
      "text/plain": [
       "[<matplotlib.lines.Line2D at 0x7f5911e764e0>]"
      ]
     },
     "execution_count": 81,
     "metadata": {},
     "output_type": "execute_result"
    },
    {
     "data": {
      "image/png": "[encoded data removed]",
      "text/plain": [
       "<Figure size 432x288 with 1 Axes>"
      ]
     },
     "metadata": {
      "needs_background": "light"
     },
     "output_type": "display_data"
    }
   ],
   "source": [
    "np.random.seed(555)\n",
    "x = np.linspace(0, 20.0, 1000)\n",
    "\n",
    "data = (gaussian(x, 21, 7.1, 2.1) + np.random.normal(scale=0.3, size=x.size))  # normal distr. with some noise\n",
    "\n",
    "plt.plot(x, data)"
   ]
  },
  {
   "cell_type": "code",
   "execution_count": 82,
   "metadata": {},
   "outputs": [
    {
     "data": {
      "text/html": [
       "<table><tr><th> name </th><th> value </th><th> initial value </th><th> min </th><th> max </th><th> vary </th></tr><tr><td> a </td><td>  10.0000000 </td><td> None </td><td>        -inf </td><td>         inf </td><td> True </td></tr><tr><td> b </td><td>  5.00000000 </td><td> None </td><td>        -inf </td><td>         inf </td><td> True </td></tr><tr><td> c </td><td>  1.00000000 </td><td> None </td><td>        -inf </td><td>         inf </td><td> True </td></tr></table>"
      ],
      "text/plain": [
       "Parameters([('a', <Parameter 'a', value=10.0, bounds=[-inf:inf]>),\n",
       "            ('b', <Parameter 'b', value=5.0, bounds=[-inf:inf]>),\n",
       "            ('c', <Parameter 'c', value=1.0, bounds=[-inf:inf]>)])"
      ]
     },
     "execution_count": 82,
     "metadata": {},
     "output_type": "execute_result"
    }
   ],
   "source": [
    "# define a function that takes x as the first argument, and then the parameters to be fitted (a, b, c)\n",
    "def f(x, a, b, c):\n",
    "    return gaussian(x, a, b, c)\n",
    "\n",
    "\n",
    "mod = lmfit.Model(f)\n",
    "# we set the parameters (and some initial parameter guesses)\n",
    "mod.set_param_hint(\"a\", value=10.0, vary=True)\n",
    "mod.set_param_hint(\"b\", value=5.0, vary=True)\n",
    "mod.set_param_hint(\"c\", value=1.0, vary=True)\n",
    "\n",
    "params = mod.make_params()\n",
    "params"
   ]
  },
  {
   "cell_type": "code",
   "execution_count": 83,
   "metadata": {},
   "outputs": [
    {
     "data": {
      "text/plain": [
       "{'a': 20.893950161752713, 'b': 7.1071101616645285, 'c': 2.0980312203106943}"
      ]
     },
     "execution_count": 83,
     "metadata": {},
     "output_type": "execute_result"
    },
    {
     "data": {
      "image/png": "[encoded data removed]",
      "text/plain": [
       "<Figure size 576x288 with 1 Axes>"
      ]
     },
     "metadata": {
      "needs_background": "light"
     },
     "output_type": "display_data"
    }
   ],
   "source": [
    "# fitting\n",
    "result = mod.fit(data, params, method=\"leastsq\", x=x)\n",
    "\n",
    "plt.figure(figsize=(8,4))\n",
    "result.plot_fit(datafmt=\"-\");\n",
    "result.best_values"
   ]
  },
  {
   "cell_type": "code",
   "execution_count": 84,
   "metadata": {},
   "outputs": [],
   "source": [
    "# result"
   ]
  },
  {
   "cell_type": "code",
   "execution_count": null,
   "metadata": {},
   "outputs": [],
   "source": []
  },
  {
   "cell_type": "markdown",
   "metadata": {},
   "source": [
    "# curve fitting with real country data  "
   ]
  },
  {
   "cell_type": "markdown",
   "metadata": {},
   "source": [
    "set initial conditions"
   ]
  },
  {
   "cell_type": "code",
   "execution_count": 85,
   "metadata": {},
   "outputs": [
    {
     "data": {
      "text/plain": [
       "array([   2,    4,    4,    2,    2,    2,    5,   13,    8,   12,   10,\n",
       "          6,   12,    9,   13,   14,   12,   17,   23,   47,   32,   40,\n",
       "         47,   23,   54,   49,   10,   26,  138,   71,   41,    0,   35,\n",
       "        121,   49,   65,   75,  120,   66,  106,  142,  286,    0,  390,\n",
       "        233,  386,  334,  447,  728,  623,  942,  596, 1426, 1111, 1016,\n",
       "       1037,    0, 1515,  931,  799,  528,  690,  528,  932,  447,  657,\n",
       "        573,  632,  788,  741,  768,  753,  876,  451])"
      ]
     },
     "execution_count": 85,
     "metadata": {},
     "output_type": "execute_result"
    }
   ],
   "source": [
    "data = df_country['new_cases'].values\n",
    "data"
   ]
  },
  {
   "cell_type": "code",
   "execution_count": 86,
   "metadata": {},
   "outputs": [
    {
     "data": {
      "text/plain": [
       "74"
      ]
     },
     "execution_count": 86,
     "metadata": {},
     "output_type": "execute_result"
    }
   ],
   "source": [
    "N = 5000000\n",
    "\n",
    "# find beta & gamma from fitting\n",
    "# beta = 2.0  # infected person infects 1 other person per day\n",
    "# D = 14.0  # infections lasts four days\n",
    "# gamma = 1.0 / D\n",
    "\n",
    "days = len(data)\n",
    "days"
   ]
  },
  {
   "cell_type": "code",
   "execution_count": 87,
   "metadata": {},
   "outputs": [],
   "source": [
    "def Model_SIR(days, N, beta, gamma):\n",
    "    t = np.linspace(0, days-1, days, dtype=int)  # time grid (in days)\n",
    "\n",
    "    y0 = N-1, 1, 0  # S0, I0, R0\n",
    "\n",
    "    # Integrate the equations over the time grid, t.\n",
    "    result = odeint(sir_model, y0, t, args=(N, beta, gamma))\n",
    "    S, I, R = result.T\n",
    "    return t, S, I, R"
   ]
  },
  {
   "cell_type": "code",
   "execution_count": 88,
   "metadata": {},
   "outputs": [],
   "source": [
    "def fit_model(x, N, beta, gamma):\n",
    "    \"\"\"\n",
    "    returns: infections I per day ? \n",
    "    \"\"\"\n",
    "    return Model_SIR(days, N, beta, gamma)[2][x]"
   ]
  },
  {
   "cell_type": "code",
   "execution_count": 89,
   "metadata": {},
   "outputs": [
    {
     "data": {
      "text/html": [
       "<table><tr><th> name </th><th> value </th><th> initial value </th><th> min </th><th> max </th><th> vary </th></tr><tr><td> N </td><td>  5000000.00 </td><td> None </td><td>  0.00000000 </td><td>         inf </td><td> True </td></tr><tr><td> beta </td><td>  1.00000000 </td><td> None </td><td>  0.00000000 </td><td>         inf </td><td> True </td></tr><tr><td> gamma </td><td>  0.10000000 </td><td> None </td><td>  0.00000000 </td><td>  1.00000000 </td><td> True </td></tr></table>"
      ],
      "text/plain": [
       "Parameters([('N', <Parameter 'N', value=5000000, bounds=[0:inf]>),\n",
       "            ('beta', <Parameter 'beta', value=1.0, bounds=[0:inf]>),\n",
       "            ('gamma', <Parameter 'gamma', value=0.1, bounds=[0:1]>)])"
      ]
     },
     "execution_count": 89,
     "metadata": {},
     "output_type": "execute_result"
    }
   ],
   "source": [
    "# initiate model\n",
    "\n",
    "mod = lmfit.Model(fit_model)\n",
    "\n",
    "mod.set_param_hint(\"N\", value=N, min=0, vary=True)\n",
    "mod.set_param_hint(\"beta\", value=1.0, min=0, vary=True)\n",
    "mod.set_param_hint(\"gamma\", value=0.1, min=0, max=1, vary=True)\n",
    "\n",
    "params = mod.make_params()\n",
    "params"
   ]
  },
  {
   "cell_type": "code",
   "execution_count": 90,
   "metadata": {},
   "outputs": [],
   "source": [
    "# fitting\n",
    "\n",
    "x_data = np.linspace(0, days-1, days, dtype=int)  # time grid (in days)\n",
    "\n",
    "results = mod.fit(data, params, method=\"leastsq\", x=x_data)  # leastsq, least_squares?"
   ]
  },
  {
   "cell_type": "code",
   "execution_count": 91,
   "metadata": {},
   "outputs": [
    {
     "data": {
      "text/plain": [
       "{'N': 3951.435590531358,\n",
       " 'beta': 0.25287005265870843,\n",
       " 'gamma': 0.10609766389209402}"
      ]
     },
     "execution_count": 91,
     "metadata": {},
     "output_type": "execute_result"
    },
    {
     "data": {
      "image/png": "[encoded data removed]",
      "text/plain": [
       "<Figure size 576x360 with 1 Axes>"
      ]
     },
     "metadata": {
      "needs_background": "light"
     },
     "output_type": "display_data"
    }
   ],
   "source": [
    "plt.figure(figsize=(8,5))\n",
    "results.plot_fit(datafmt=\".\", fitfmt=\"-\");\n",
    "results.best_values"
   ]
  },
  {
   "cell_type": "code",
   "execution_count": 92,
   "metadata": {},
   "outputs": [
    {
     "data": {
      "text/plain": [
       "<matplotlib.axes._subplots.AxesSubplot at 0x7f5911d16908>"
      ]
     },
     "execution_count": 92,
     "metadata": {},
     "output_type": "execute_result"
    },
    {
     "data": {
      "image/png": "[encoded data removed]",
      "text/plain": [
       "<Figure size 576x360 with 1 Axes>"
      ]
     },
     "metadata": {
      "needs_background": "light"
     },
     "output_type": "display_data"
    }
   ],
   "source": [
    "plt.figure(figsize=(8,5))\n",
    "results.plot_residuals()"
   ]
  },
  {
   "cell_type": "code",
   "execution_count": 93,
   "metadata": {},
   "outputs": [
    {
     "data": {
      "text/html": [
       "<h2> Model</h2> Model(fit_model) <h2>Fit Statistics</h2><table><tr><td>fitting method</td><td>leastsq</td><td></td></tr><tr><td># function evals</td><td>187</td><td></td></tr><tr><td># data points</td><td>74</td><td></td></tr><tr><td># variables</td><td>3</td><td></td></tr><tr><td>chi-square</td><td> 2798862.82</td><td></td></tr><tr><td>reduced chi-square</td><td> 39420.6031</td><td></td></tr><tr><td>Akaike info crit.</td><td> 786.008741</td><td></td></tr><tr><td>Bayesian info crit.</td><td> 792.920936</td><td></td></tr></table><h2>Variables</h2><table><tr><th> name </th><th> value </th><th> standard error </th><th> relative error </th><th> initial value </th><th> min </th><th> max </th><th> vary </th></tr><tr><td> N </td><td>  3951.43559 </td><td>  3553.88072 </td><td> (89.94%) </td><td> 5000000 </td><td>  0.00000000 </td><td>         inf </td><td> True </td></tr><tr><td> beta </td><td>  0.25287005 </td><td>  0.08498625 </td><td> (33.61%) </td><td> 1.0 </td><td>  0.00000000 </td><td>         inf </td><td> True </td></tr><tr><td> gamma </td><td>  0.10609766 </td><td>  0.08930527 </td><td> (84.17%) </td><td> 0.1 </td><td>  0.00000000 </td><td>  1.00000000 </td><td> True </td></tr></table><h2>Correlations (unreported correlations are < 0.100)</h2><table><tr><td>beta</td><td>gamma</td><td>0.9993</td></tr><tr><td>N</td><td>gamma</td><td>0.9984</td></tr><tr><td>N</td><td>beta</td><td>0.9972</td></tr></table>"
      ],
      "text/plain": [
       "<lmfit.model.ModelResult at 0x7f5911e9dcf8>"
      ]
     },
     "execution_count": 93,
     "metadata": {},
     "output_type": "execute_result"
    }
   ],
   "source": [
    "results"
   ]
  },
  {
   "cell_type": "raw",
   "metadata": {},
   "source": [
    "MYS\n",
    "# 28-Feb\n",
    "chi-square\t74830.5555\t\n",
    "reduced chi-square\t1116.87396\t\n",
    "Akaike info crit.\t494.214043\t\n",
    "Bayesian info crit.\t500.959529\n",
    "# 15-Feb\n",
    "chi-square\t74376.8747\t\n",
    "reduced chi-square\t929.710934\t\n",
    "Akaike info crit.\t570.238958\t\n",
    "Bayesian info crit.\t577.495480\t\n",
    "\n",
    "SGP\n",
    "# 15-Feb\n",
    "chi-square\t2895132.00\t\n",
    "reduced chi-square\t35742.3704\t\n",
    "Akaike info crit.\t883.608855\t\n",
    "Bayesian info crit.\t890.901306"
   ]
  },
  {
   "cell_type": "code",
   "execution_count": 94,
   "metadata": {},
   "outputs": [],
   "source": [
    "def plot_sir2(t, S, I, R, x_ticks):\n",
    "    f, ax = plt.subplots(1, 1, figsize=(12,8))\n",
    "    ax.set_title('Country: %s' % COUNTRY, fontsize= 20) \n",
    "    \n",
    "    ax.plot(x_ticks, S, 'b', alpha=0.7, linewidth=1, label='Susceptible')  # TODO: t\n",
    "    ax.plot(x_ticks, I, 'r', alpha=0.7, linewidth=2, label='Infected')\n",
    "    ax.plot(x_ticks, R, 'y', alpha=0.7, linewidth=1, label='Recovered')\n",
    "\n",
    "    ax.set_xlabel('Time (days)')\n",
    "\n",
    "    ax.yaxis.set_tick_params(length=0)\n",
    "    ax.xaxis.set_tick_params(length=0)\n",
    "    \n",
    "    # ax.set_ylim(0, 1800)\n",
    "    \n",
    "    ax.grid(b=True, which='major', c='w', lw=2, ls='-')\n",
    "    legend = ax.legend()\n",
    "    legend.get_frame().set_alpha(0.5)\n",
    "    for spine in ('top', 'right', 'bottom', 'left'):\n",
    "        ax.spines[spine].set_visible(False)\n",
    "        \n",
    "    # overlay actual data\n",
    "    ax.bar(df_country['date'], df_country['new_cases'])\n",
    "\n",
    "    plt.show()"
   ]
  },
  {
   "cell_type": "code",
   "execution_count": 95,
   "metadata": {},
   "outputs": [],
   "source": [
    "def plot_infected(t, S, I, R, x_ticks):\n",
    "    f, ax = plt.subplots(1, 1, figsize=(12,8))\n",
    "    ax.set_title('Country: %s' % COUNTRY, fontsize= 20) \n",
    "    \n",
    "    ax.plot(x_ticks, I, 'r', alpha=0.7, linewidth=2, label='Infected (prediction)')\n",
    "\n",
    "    ax.set_xlabel('Time (days)')\n",
    "\n",
    "    ax.yaxis.set_tick_params(length=0)\n",
    "    ax.xaxis.set_tick_params(length=0)\n",
    "    \n",
    "    # ax.set_ylim(0, 1800)\n",
    "    ax.grid(b=True, which='major', c='w', lw=2, ls='-')\n",
    "    legend = ax.legend()\n",
    "    legend.get_frame().set_alpha(0.5)\n",
    "    \n",
    "    # overlay actual data\n",
    "    ax.bar(df_country['date'], df_country['new_cases'])\n",
    "\n",
    "    plt.show()"
   ]
  },
  {
   "cell_type": "code",
   "execution_count": 96,
   "metadata": {},
   "outputs": [],
   "source": [
    "max_days = 210\n",
    "\n",
    "first_date = np.datetime64(df_country['date'].min()) - np.timedelta64(0, 'D')\n",
    "\n",
    "x_ticks = pd.date_range(start=first_date, periods=max_days, freq=\"D\")"
   ]
  },
  {
   "cell_type": "code",
   "execution_count": 97,
   "metadata": {},
   "outputs": [
    {
     "data": {
      "image/png": "[encoded data removed]",
      "text/plain": [
       "<Figure size 864x576 with 1 Axes>"
      ]
     },
     "metadata": {
      "needs_background": "light"
     },
     "output_type": "display_data"
    }
   ],
   "source": [
    "plot_sir2(*Model_SIR(max_days, **results.best_values), x_ticks)"
   ]
  },
  {
   "cell_type": "code",
   "execution_count": 98,
   "metadata": {},
   "outputs": [
    {
     "data": {
      "image/png": "[encoded data removed]",
      "text/plain": [
       "<Figure size 864x576 with 1 Axes>"
      ]
     },
     "metadata": {
      "needs_background": "light"
     },
     "output_type": "display_data"
    }
   ],
   "source": [
    "plot_infected(*Model_SIR(max_days, **results.best_values), x_ticks)"
   ]
  },
  {
   "cell_type": "markdown",
   "metadata": {},
   "source": [
    "# observations\n",
    "\n",
    "- It is difficult to make predictions for different countries with the evolving situation and resources available. A country could be at different stages of the outbreak\n",
    "- A more complicated model could be used e.g. SEIR "
   ]
  },
  {
   "cell_type": "code",
   "execution_count": null,
   "metadata": {},
   "outputs": [],
   "source": []
  },
  {
   "cell_type": "code",
   "execution_count": null,
   "metadata": {},
   "outputs": [],
   "source": []
  }
 ],
 "metadata": {
  "kernelspec": {
   "display_name": "Python 3",
   "language": "python",
   "name": "python3"
  },
  "language_info": {
   "codemirror_mode": {
    "name": "ipython",
    "version": 3
   },
   "file_extension": ".py",
   "mimetype": "text/x-python",
   "name": "python",
   "nbconvert_exporter": "python",
   "pygments_lexer": "ipython3",
   "version": "3.7.3"
  }
 },
 "nbformat": 4,
 "nbformat_minor": 4
}
