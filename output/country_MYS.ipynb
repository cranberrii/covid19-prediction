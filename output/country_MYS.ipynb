{
 "cells": [
  {
   "cell_type": "code",
   "execution_count": 1,
   "metadata": {
    "execution": {
     "iopub.execute_input": "2020-06-12T08:39:51.364285Z",
     "iopub.status.busy": "2020-06-12T08:39:51.363290Z",
     "iopub.status.idle": "2020-06-12T08:39:51.385420Z",
     "shell.execute_reply": "2020-06-12T08:39:51.386010Z"
    },
    "papermill": {
     "duration": 0.083971,
     "end_time": "2020-06-12T08:39:51.386142",
     "exception": false,
     "start_time": "2020-06-12T08:39:51.302171",
     "status": "completed"
    },
    "tags": []
   },
   "outputs": [],
   "source": [
    "%load_ext autoreload\n",
    "%autoreload 2"
   ]
  },
  {
   "cell_type": "code",
   "execution_count": 2,
   "metadata": {
    "execution": {
     "iopub.execute_input": "2020-06-12T08:39:51.462881Z",
     "iopub.status.busy": "2020-06-12T08:39:51.462168Z",
     "iopub.status.idle": "2020-06-12T08:39:52.551010Z",
     "shell.execute_reply": "2020-06-12T08:39:52.551584Z"
    },
    "papermill": {
     "duration": 1.122349,
     "end_time": "2020-06-12T08:39:52.551781",
     "exception": false,
     "start_time": "2020-06-12T08:39:51.429432",
     "status": "completed"
    },
    "tags": []
   },
   "outputs": [],
   "source": [
    "import scipy\n",
    "from scipy.integrate import odeint\n",
    "\n",
    "import pandas as pd\n",
    "import numpy as np\n",
    "import datetime\n",
    "\n",
    "import matplotlib.pyplot as plt\n",
    "import matplotlib.dates as mdates\n",
    "import seaborn as sns\n",
    "\n",
    "import lmfit\n",
    "from lmfit.lineshapes import gaussian, lorentzian\n",
    "\n",
    "plt.style.use('fivethirtyeight')\n",
    "%matplotlib inline "
   ]
  },
  {
   "cell_type": "code",
   "execution_count": 3,
   "metadata": {
    "execution": {
     "iopub.execute_input": "2020-06-12T08:39:52.619656Z",
     "iopub.status.busy": "2020-06-12T08:39:52.618848Z",
     "iopub.status.idle": "2020-06-12T08:39:52.639200Z",
     "shell.execute_reply": "2020-06-12T08:39:52.639877Z"
    },
    "papermill": {
     "duration": 0.05665,
     "end_time": "2020-06-12T08:39:52.639998",
     "exception": false,
     "start_time": "2020-06-12T08:39:52.583348",
     "status": "completed"
    },
    "tags": [
     "parameters"
    ]
   },
   "outputs": [],
   "source": [
    "# parameters \n",
    "\n",
    "COUNTRY = 'JPN'  # 'SGP', 'MYS', 'DEU', 'OWID_WRL'\n",
    "\n",
    "START_DATE = '2020-02-14'"
   ]
  },
  {
   "cell_type": "code",
   "execution_count": 4,
   "metadata": {
    "execution": {
     "iopub.execute_input": "2020-06-12T08:39:52.704634Z",
     "iopub.status.busy": "2020-06-12T08:39:52.703885Z",
     "iopub.status.idle": "2020-06-12T08:39:52.729833Z",
     "shell.execute_reply": "2020-06-12T08:39:52.730639Z"
    },
    "papermill": {
     "duration": 0.061002,
     "end_time": "2020-06-12T08:39:52.730812",
     "exception": false,
     "start_time": "2020-06-12T08:39:52.669810",
     "status": "completed"
    },
    "tags": [
     "injected-parameters"
    ]
   },
   "outputs": [],
   "source": [
    "# Parameters\n",
    "COUNTRY = \"MYS\"\n",
    "START_DATE = \"2020-02-14\"\n"
   ]
  },
  {
   "cell_type": "code",
   "execution_count": 5,
   "metadata": {
    "execution": {
     "iopub.execute_input": "2020-06-12T08:39:52.798270Z",
     "iopub.status.busy": "2020-06-12T08:39:52.797562Z",
     "iopub.status.idle": "2020-06-12T08:39:52.974706Z",
     "shell.execute_reply": "2020-06-12T08:39:52.975298Z"
    },
    "papermill": {
     "duration": 0.210485,
     "end_time": "2020-06-12T08:39:52.975418",
     "exception": false,
     "start_time": "2020-06-12T08:39:52.764933",
     "status": "completed"
    },
    "tags": []
   },
   "outputs": [
    {
     "data": {
      "text/plain": [
       "(23194, 33)"
      ]
     },
     "execution_count": 5,
     "metadata": {},
     "output_type": "execute_result"
    }
   ],
   "source": [
    "DATA_PATH = '../covid-19-data/public/data/owid-covid-data.csv'\n",
    "# DATA_PATH = '../covid-19-data/public/data/ecdc/full_data.csv'\n",
    "\n",
    "df = pd.read_csv(DATA_PATH)\n",
    "df['date'] = pd.to_datetime(df['date'], yearfirst=True)\n",
    "df.shape"
   ]
  },
  {
   "cell_type": "code",
   "execution_count": 6,
   "metadata": {
    "execution": {
     "iopub.execute_input": "2020-06-12T08:39:53.039103Z",
     "iopub.status.busy": "2020-06-12T08:39:53.038458Z",
     "iopub.status.idle": "2020-06-12T08:39:53.083784Z",
     "shell.execute_reply": "2020-06-12T08:39:53.084323Z"
    },
    "papermill": {
     "duration": 0.078405,
     "end_time": "2020-06-12T08:39:53.084441",
     "exception": false,
     "start_time": "2020-06-12T08:39:53.006036",
     "status": "completed"
    },
    "tags": []
   },
   "outputs": [
    {
     "data": {
      "text/html": [
       "<div>\n",
       "<style scoped>\n",
       "    .dataframe tbody tr th:only-of-type {\n",
       "        vertical-align: middle;\n",
       "    }\n",
       "\n",
       "    .dataframe tbody tr th {\n",
       "        vertical-align: top;\n",
       "    }\n",
       "\n",
       "    .dataframe thead th {\n",
       "        text-align: right;\n",
       "    }\n",
       "</style>\n",
       "<table border=\"1\" class=\"dataframe\">\n",
       "  <thead>\n",
       "    <tr style=\"text-align: right;\">\n",
       "      <th></th>\n",
       "      <th>iso_code</th>\n",
       "      <th>continent</th>\n",
       "      <th>location</th>\n",
       "      <th>date</th>\n",
       "      <th>total_cases</th>\n",
       "      <th>new_cases</th>\n",
       "      <th>total_deaths</th>\n",
       "      <th>new_deaths</th>\n",
       "      <th>total_cases_per_million</th>\n",
       "      <th>new_cases_per_million</th>\n",
       "      <th>...</th>\n",
       "      <th>aged_65_older</th>\n",
       "      <th>aged_70_older</th>\n",
       "      <th>gdp_per_capita</th>\n",
       "      <th>extreme_poverty</th>\n",
       "      <th>cvd_death_rate</th>\n",
       "      <th>diabetes_prevalence</th>\n",
       "      <th>female_smokers</th>\n",
       "      <th>male_smokers</th>\n",
       "      <th>handwashing_facilities</th>\n",
       "      <th>hospital_beds_per_thousand</th>\n",
       "    </tr>\n",
       "  </thead>\n",
       "  <tbody>\n",
       "    <tr>\n",
       "      <th>0</th>\n",
       "      <td>AFG</td>\n",
       "      <td>Asia</td>\n",
       "      <td>Afghanistan</td>\n",
       "      <td>2019-12-31</td>\n",
       "      <td>0</td>\n",
       "      <td>0</td>\n",
       "      <td>0</td>\n",
       "      <td>0</td>\n",
       "      <td>0.0</td>\n",
       "      <td>0.0</td>\n",
       "      <td>...</td>\n",
       "      <td>2.581</td>\n",
       "      <td>1.337</td>\n",
       "      <td>1803.987</td>\n",
       "      <td>NaN</td>\n",
       "      <td>597.029</td>\n",
       "      <td>9.59</td>\n",
       "      <td>NaN</td>\n",
       "      <td>NaN</td>\n",
       "      <td>37.746</td>\n",
       "      <td>0.5</td>\n",
       "    </tr>\n",
       "    <tr>\n",
       "      <th>1</th>\n",
       "      <td>AFG</td>\n",
       "      <td>Asia</td>\n",
       "      <td>Afghanistan</td>\n",
       "      <td>2020-01-01</td>\n",
       "      <td>0</td>\n",
       "      <td>0</td>\n",
       "      <td>0</td>\n",
       "      <td>0</td>\n",
       "      <td>0.0</td>\n",
       "      <td>0.0</td>\n",
       "      <td>...</td>\n",
       "      <td>2.581</td>\n",
       "      <td>1.337</td>\n",
       "      <td>1803.987</td>\n",
       "      <td>NaN</td>\n",
       "      <td>597.029</td>\n",
       "      <td>9.59</td>\n",
       "      <td>NaN</td>\n",
       "      <td>NaN</td>\n",
       "      <td>37.746</td>\n",
       "      <td>0.5</td>\n",
       "    </tr>\n",
       "    <tr>\n",
       "      <th>2</th>\n",
       "      <td>AFG</td>\n",
       "      <td>Asia</td>\n",
       "      <td>Afghanistan</td>\n",
       "      <td>2020-01-02</td>\n",
       "      <td>0</td>\n",
       "      <td>0</td>\n",
       "      <td>0</td>\n",
       "      <td>0</td>\n",
       "      <td>0.0</td>\n",
       "      <td>0.0</td>\n",
       "      <td>...</td>\n",
       "      <td>2.581</td>\n",
       "      <td>1.337</td>\n",
       "      <td>1803.987</td>\n",
       "      <td>NaN</td>\n",
       "      <td>597.029</td>\n",
       "      <td>9.59</td>\n",
       "      <td>NaN</td>\n",
       "      <td>NaN</td>\n",
       "      <td>37.746</td>\n",
       "      <td>0.5</td>\n",
       "    </tr>\n",
       "    <tr>\n",
       "      <th>3</th>\n",
       "      <td>AFG</td>\n",
       "      <td>Asia</td>\n",
       "      <td>Afghanistan</td>\n",
       "      <td>2020-01-03</td>\n",
       "      <td>0</td>\n",
       "      <td>0</td>\n",
       "      <td>0</td>\n",
       "      <td>0</td>\n",
       "      <td>0.0</td>\n",
       "      <td>0.0</td>\n",
       "      <td>...</td>\n",
       "      <td>2.581</td>\n",
       "      <td>1.337</td>\n",
       "      <td>1803.987</td>\n",
       "      <td>NaN</td>\n",
       "      <td>597.029</td>\n",
       "      <td>9.59</td>\n",
       "      <td>NaN</td>\n",
       "      <td>NaN</td>\n",
       "      <td>37.746</td>\n",
       "      <td>0.5</td>\n",
       "    </tr>\n",
       "    <tr>\n",
       "      <th>4</th>\n",
       "      <td>AFG</td>\n",
       "      <td>Asia</td>\n",
       "      <td>Afghanistan</td>\n",
       "      <td>2020-01-04</td>\n",
       "      <td>0</td>\n",
       "      <td>0</td>\n",
       "      <td>0</td>\n",
       "      <td>0</td>\n",
       "      <td>0.0</td>\n",
       "      <td>0.0</td>\n",
       "      <td>...</td>\n",
       "      <td>2.581</td>\n",
       "      <td>1.337</td>\n",
       "      <td>1803.987</td>\n",
       "      <td>NaN</td>\n",
       "      <td>597.029</td>\n",
       "      <td>9.59</td>\n",
       "      <td>NaN</td>\n",
       "      <td>NaN</td>\n",
       "      <td>37.746</td>\n",
       "      <td>0.5</td>\n",
       "    </tr>\n",
       "  </tbody>\n",
       "</table>\n",
       "<p>5 rows × 33 columns</p>\n",
       "</div>"
      ],
      "text/plain": [
       "  iso_code continent     location       date  total_cases  new_cases  \\\n",
       "0      AFG      Asia  Afghanistan 2019-12-31            0          0   \n",
       "1      AFG      Asia  Afghanistan 2020-01-01            0          0   \n",
       "2      AFG      Asia  Afghanistan 2020-01-02            0          0   \n",
       "3      AFG      Asia  Afghanistan 2020-01-03            0          0   \n",
       "4      AFG      Asia  Afghanistan 2020-01-04            0          0   \n",
       "\n",
       "   total_deaths  new_deaths  total_cases_per_million  new_cases_per_million  \\\n",
       "0             0           0                      0.0                    0.0   \n",
       "1             0           0                      0.0                    0.0   \n",
       "2             0           0                      0.0                    0.0   \n",
       "3             0           0                      0.0                    0.0   \n",
       "4             0           0                      0.0                    0.0   \n",
       "\n",
       "   ...  aged_65_older  aged_70_older  gdp_per_capita  extreme_poverty  \\\n",
       "0  ...          2.581          1.337        1803.987              NaN   \n",
       "1  ...          2.581          1.337        1803.987              NaN   \n",
       "2  ...          2.581          1.337        1803.987              NaN   \n",
       "3  ...          2.581          1.337        1803.987              NaN   \n",
       "4  ...          2.581          1.337        1803.987              NaN   \n",
       "\n",
       "   cvd_death_rate  diabetes_prevalence  female_smokers  male_smokers  \\\n",
       "0         597.029                 9.59             NaN           NaN   \n",
       "1         597.029                 9.59             NaN           NaN   \n",
       "2         597.029                 9.59             NaN           NaN   \n",
       "3         597.029                 9.59             NaN           NaN   \n",
       "4         597.029                 9.59             NaN           NaN   \n",
       "\n",
       "  handwashing_facilities  hospital_beds_per_thousand  \n",
       "0                 37.746                         0.5  \n",
       "1                 37.746                         0.5  \n",
       "2                 37.746                         0.5  \n",
       "3                 37.746                         0.5  \n",
       "4                 37.746                         0.5  \n",
       "\n",
       "[5 rows x 33 columns]"
      ]
     },
     "execution_count": 6,
     "metadata": {},
     "output_type": "execute_result"
    }
   ],
   "source": [
    "df.head()"
   ]
  },
  {
   "cell_type": "code",
   "execution_count": 7,
   "metadata": {
    "execution": {
     "iopub.execute_input": "2020-06-12T08:39:53.151041Z",
     "iopub.status.busy": "2020-06-12T08:39:53.150451Z",
     "iopub.status.idle": "2020-06-12T08:39:53.180745Z",
     "shell.execute_reply": "2020-06-12T08:39:53.181324Z"
    },
    "papermill": {
     "duration": 0.064325,
     "end_time": "2020-06-12T08:39:53.181458",
     "exception": false,
     "start_time": "2020-06-12T08:39:53.117133",
     "status": "completed"
    },
    "tags": []
   },
   "outputs": [
    {
     "data": {
      "text/plain": [
       "CAN         165\n",
       "LTU         165\n",
       "RUS         165\n",
       "FIN         164\n",
       "CHE         164\n",
       "SWE         164\n",
       "IRN         164\n",
       "DEU         164\n",
       "BEL         164\n",
       "HRV         164\n",
       "MYS         164\n",
       "AUT         164\n",
       "EST         164\n",
       "NLD         164\n",
       "CHN         164\n",
       "MEX         164\n",
       "OWID_WRL    164\n",
       "BHR         164\n",
       "NPL         164\n",
       "CZE         164\n",
       "Name: iso_code, dtype: int64"
      ]
     },
     "execution_count": 7,
     "metadata": {},
     "output_type": "execute_result"
    }
   ],
   "source": [
    "df['iso_code'].value_counts().head(20)"
   ]
  },
  {
   "cell_type": "markdown",
   "metadata": {
    "papermill": {
     "duration": 0.036656,
     "end_time": "2020-06-12T08:39:53.248141",
     "exception": false,
     "start_time": "2020-06-12T08:39:53.211485",
     "status": "completed"
    },
    "tags": []
   },
   "source": [
    "filter country"
   ]
  },
  {
   "cell_type": "code",
   "execution_count": 8,
   "metadata": {
    "execution": {
     "iopub.execute_input": "2020-06-12T08:39:53.323421Z",
     "iopub.status.busy": "2020-06-12T08:39:53.322742Z",
     "iopub.status.idle": "2020-06-12T08:39:53.390882Z",
     "shell.execute_reply": "2020-06-12T08:39:53.391596Z"
    },
    "papermill": {
     "duration": 0.10642,
     "end_time": "2020-06-12T08:39:53.391830",
     "exception": false,
     "start_time": "2020-06-12T08:39:53.285410",
     "status": "completed"
    },
    "tags": []
   },
   "outputs": [
    {
     "data": {
      "text/html": [
       "<div>\n",
       "<style scoped>\n",
       "    .dataframe tbody tr th:only-of-type {\n",
       "        vertical-align: middle;\n",
       "    }\n",
       "\n",
       "    .dataframe tbody tr th {\n",
       "        vertical-align: top;\n",
       "    }\n",
       "\n",
       "    .dataframe thead th {\n",
       "        text-align: right;\n",
       "    }\n",
       "</style>\n",
       "<table border=\"1\" class=\"dataframe\">\n",
       "  <thead>\n",
       "    <tr style=\"text-align: right;\">\n",
       "      <th></th>\n",
       "      <th>iso_code</th>\n",
       "      <th>continent</th>\n",
       "      <th>location</th>\n",
       "      <th>date</th>\n",
       "      <th>total_cases</th>\n",
       "      <th>new_cases</th>\n",
       "      <th>total_deaths</th>\n",
       "      <th>new_deaths</th>\n",
       "      <th>total_cases_per_million</th>\n",
       "      <th>new_cases_per_million</th>\n",
       "      <th>...</th>\n",
       "      <th>aged_65_older</th>\n",
       "      <th>aged_70_older</th>\n",
       "      <th>gdp_per_capita</th>\n",
       "      <th>extreme_poverty</th>\n",
       "      <th>cvd_death_rate</th>\n",
       "      <th>diabetes_prevalence</th>\n",
       "      <th>female_smokers</th>\n",
       "      <th>male_smokers</th>\n",
       "      <th>handwashing_facilities</th>\n",
       "      <th>hospital_beds_per_thousand</th>\n",
       "    </tr>\n",
       "  </thead>\n",
       "  <tbody>\n",
       "    <tr>\n",
       "      <th>13102</th>\n",
       "      <td>MYS</td>\n",
       "      <td>Asia</td>\n",
       "      <td>Malaysia</td>\n",
       "      <td>2020-02-15</td>\n",
       "      <td>21</td>\n",
       "      <td>2</td>\n",
       "      <td>0</td>\n",
       "      <td>0</td>\n",
       "      <td>0.649</td>\n",
       "      <td>0.062</td>\n",
       "      <td>...</td>\n",
       "      <td>6.293</td>\n",
       "      <td>3.407</td>\n",
       "      <td>26808.164</td>\n",
       "      <td>0.1</td>\n",
       "      <td>260.942</td>\n",
       "      <td>16.74</td>\n",
       "      <td>1.0</td>\n",
       "      <td>42.4</td>\n",
       "      <td>NaN</td>\n",
       "      <td>1.9</td>\n",
       "    </tr>\n",
       "    <tr>\n",
       "      <th>13103</th>\n",
       "      <td>MYS</td>\n",
       "      <td>Asia</td>\n",
       "      <td>Malaysia</td>\n",
       "      <td>2020-02-16</td>\n",
       "      <td>22</td>\n",
       "      <td>1</td>\n",
       "      <td>0</td>\n",
       "      <td>0</td>\n",
       "      <td>0.680</td>\n",
       "      <td>0.031</td>\n",
       "      <td>...</td>\n",
       "      <td>6.293</td>\n",
       "      <td>3.407</td>\n",
       "      <td>26808.164</td>\n",
       "      <td>0.1</td>\n",
       "      <td>260.942</td>\n",
       "      <td>16.74</td>\n",
       "      <td>1.0</td>\n",
       "      <td>42.4</td>\n",
       "      <td>NaN</td>\n",
       "      <td>1.9</td>\n",
       "    </tr>\n",
       "    <tr>\n",
       "      <th>13104</th>\n",
       "      <td>MYS</td>\n",
       "      <td>Asia</td>\n",
       "      <td>Malaysia</td>\n",
       "      <td>2020-02-17</td>\n",
       "      <td>22</td>\n",
       "      <td>0</td>\n",
       "      <td>0</td>\n",
       "      <td>0</td>\n",
       "      <td>0.680</td>\n",
       "      <td>0.000</td>\n",
       "      <td>...</td>\n",
       "      <td>6.293</td>\n",
       "      <td>3.407</td>\n",
       "      <td>26808.164</td>\n",
       "      <td>0.1</td>\n",
       "      <td>260.942</td>\n",
       "      <td>16.74</td>\n",
       "      <td>1.0</td>\n",
       "      <td>42.4</td>\n",
       "      <td>NaN</td>\n",
       "      <td>1.9</td>\n",
       "    </tr>\n",
       "    <tr>\n",
       "      <th>13105</th>\n",
       "      <td>MYS</td>\n",
       "      <td>Asia</td>\n",
       "      <td>Malaysia</td>\n",
       "      <td>2020-02-18</td>\n",
       "      <td>22</td>\n",
       "      <td>0</td>\n",
       "      <td>0</td>\n",
       "      <td>0</td>\n",
       "      <td>0.680</td>\n",
       "      <td>0.000</td>\n",
       "      <td>...</td>\n",
       "      <td>6.293</td>\n",
       "      <td>3.407</td>\n",
       "      <td>26808.164</td>\n",
       "      <td>0.1</td>\n",
       "      <td>260.942</td>\n",
       "      <td>16.74</td>\n",
       "      <td>1.0</td>\n",
       "      <td>42.4</td>\n",
       "      <td>NaN</td>\n",
       "      <td>1.9</td>\n",
       "    </tr>\n",
       "    <tr>\n",
       "      <th>13106</th>\n",
       "      <td>MYS</td>\n",
       "      <td>Asia</td>\n",
       "      <td>Malaysia</td>\n",
       "      <td>2020-02-19</td>\n",
       "      <td>22</td>\n",
       "      <td>0</td>\n",
       "      <td>0</td>\n",
       "      <td>0</td>\n",
       "      <td>0.680</td>\n",
       "      <td>0.000</td>\n",
       "      <td>...</td>\n",
       "      <td>6.293</td>\n",
       "      <td>3.407</td>\n",
       "      <td>26808.164</td>\n",
       "      <td>0.1</td>\n",
       "      <td>260.942</td>\n",
       "      <td>16.74</td>\n",
       "      <td>1.0</td>\n",
       "      <td>42.4</td>\n",
       "      <td>NaN</td>\n",
       "      <td>1.9</td>\n",
       "    </tr>\n",
       "    <tr>\n",
       "      <th>...</th>\n",
       "      <td>...</td>\n",
       "      <td>...</td>\n",
       "      <td>...</td>\n",
       "      <td>...</td>\n",
       "      <td>...</td>\n",
       "      <td>...</td>\n",
       "      <td>...</td>\n",
       "      <td>...</td>\n",
       "      <td>...</td>\n",
       "      <td>...</td>\n",
       "      <td>...</td>\n",
       "      <td>...</td>\n",
       "      <td>...</td>\n",
       "      <td>...</td>\n",
       "      <td>...</td>\n",
       "      <td>...</td>\n",
       "      <td>...</td>\n",
       "      <td>...</td>\n",
       "      <td>...</td>\n",
       "      <td>...</td>\n",
       "      <td>...</td>\n",
       "    </tr>\n",
       "    <tr>\n",
       "      <th>13215</th>\n",
       "      <td>MYS</td>\n",
       "      <td>Asia</td>\n",
       "      <td>Malaysia</td>\n",
       "      <td>2020-06-07</td>\n",
       "      <td>8303</td>\n",
       "      <td>37</td>\n",
       "      <td>117</td>\n",
       "      <td>1</td>\n",
       "      <td>256.535</td>\n",
       "      <td>1.143</td>\n",
       "      <td>...</td>\n",
       "      <td>6.293</td>\n",
       "      <td>3.407</td>\n",
       "      <td>26808.164</td>\n",
       "      <td>0.1</td>\n",
       "      <td>260.942</td>\n",
       "      <td>16.74</td>\n",
       "      <td>1.0</td>\n",
       "      <td>42.4</td>\n",
       "      <td>NaN</td>\n",
       "      <td>1.9</td>\n",
       "    </tr>\n",
       "    <tr>\n",
       "      <th>13216</th>\n",
       "      <td>MYS</td>\n",
       "      <td>Asia</td>\n",
       "      <td>Malaysia</td>\n",
       "      <td>2020-06-08</td>\n",
       "      <td>8322</td>\n",
       "      <td>19</td>\n",
       "      <td>117</td>\n",
       "      <td>0</td>\n",
       "      <td>257.122</td>\n",
       "      <td>0.587</td>\n",
       "      <td>...</td>\n",
       "      <td>6.293</td>\n",
       "      <td>3.407</td>\n",
       "      <td>26808.164</td>\n",
       "      <td>0.1</td>\n",
       "      <td>260.942</td>\n",
       "      <td>16.74</td>\n",
       "      <td>1.0</td>\n",
       "      <td>42.4</td>\n",
       "      <td>NaN</td>\n",
       "      <td>1.9</td>\n",
       "    </tr>\n",
       "    <tr>\n",
       "      <th>13217</th>\n",
       "      <td>MYS</td>\n",
       "      <td>Asia</td>\n",
       "      <td>Malaysia</td>\n",
       "      <td>2020-06-09</td>\n",
       "      <td>8329</td>\n",
       "      <td>7</td>\n",
       "      <td>117</td>\n",
       "      <td>0</td>\n",
       "      <td>257.338</td>\n",
       "      <td>0.216</td>\n",
       "      <td>...</td>\n",
       "      <td>6.293</td>\n",
       "      <td>3.407</td>\n",
       "      <td>26808.164</td>\n",
       "      <td>0.1</td>\n",
       "      <td>260.942</td>\n",
       "      <td>16.74</td>\n",
       "      <td>1.0</td>\n",
       "      <td>42.4</td>\n",
       "      <td>NaN</td>\n",
       "      <td>1.9</td>\n",
       "    </tr>\n",
       "    <tr>\n",
       "      <th>13218</th>\n",
       "      <td>MYS</td>\n",
       "      <td>Asia</td>\n",
       "      <td>Malaysia</td>\n",
       "      <td>2020-06-10</td>\n",
       "      <td>8336</td>\n",
       "      <td>7</td>\n",
       "      <td>117</td>\n",
       "      <td>0</td>\n",
       "      <td>257.554</td>\n",
       "      <td>0.216</td>\n",
       "      <td>...</td>\n",
       "      <td>6.293</td>\n",
       "      <td>3.407</td>\n",
       "      <td>26808.164</td>\n",
       "      <td>0.1</td>\n",
       "      <td>260.942</td>\n",
       "      <td>16.74</td>\n",
       "      <td>1.0</td>\n",
       "      <td>42.4</td>\n",
       "      <td>NaN</td>\n",
       "      <td>1.9</td>\n",
       "    </tr>\n",
       "    <tr>\n",
       "      <th>13219</th>\n",
       "      <td>MYS</td>\n",
       "      <td>Asia</td>\n",
       "      <td>Malaysia</td>\n",
       "      <td>2020-06-11</td>\n",
       "      <td>8338</td>\n",
       "      <td>2</td>\n",
       "      <td>118</td>\n",
       "      <td>1</td>\n",
       "      <td>257.616</td>\n",
       "      <td>0.062</td>\n",
       "      <td>...</td>\n",
       "      <td>6.293</td>\n",
       "      <td>3.407</td>\n",
       "      <td>26808.164</td>\n",
       "      <td>0.1</td>\n",
       "      <td>260.942</td>\n",
       "      <td>16.74</td>\n",
       "      <td>1.0</td>\n",
       "      <td>42.4</td>\n",
       "      <td>NaN</td>\n",
       "      <td>1.9</td>\n",
       "    </tr>\n",
       "  </tbody>\n",
       "</table>\n",
       "<p>118 rows × 33 columns</p>\n",
       "</div>"
      ],
      "text/plain": [
       "      iso_code continent  location       date  total_cases  new_cases  \\\n",
       "13102      MYS      Asia  Malaysia 2020-02-15           21          2   \n",
       "13103      MYS      Asia  Malaysia 2020-02-16           22          1   \n",
       "13104      MYS      Asia  Malaysia 2020-02-17           22          0   \n",
       "13105      MYS      Asia  Malaysia 2020-02-18           22          0   \n",
       "13106      MYS      Asia  Malaysia 2020-02-19           22          0   \n",
       "...        ...       ...       ...        ...          ...        ...   \n",
       "13215      MYS      Asia  Malaysia 2020-06-07         8303         37   \n",
       "13216      MYS      Asia  Malaysia 2020-06-08         8322         19   \n",
       "13217      MYS      Asia  Malaysia 2020-06-09         8329          7   \n",
       "13218      MYS      Asia  Malaysia 2020-06-10         8336          7   \n",
       "13219      MYS      Asia  Malaysia 2020-06-11         8338          2   \n",
       "\n",
       "       total_deaths  new_deaths  total_cases_per_million  \\\n",
       "13102             0           0                    0.649   \n",
       "13103             0           0                    0.680   \n",
       "13104             0           0                    0.680   \n",
       "13105             0           0                    0.680   \n",
       "13106             0           0                    0.680   \n",
       "...             ...         ...                      ...   \n",
       "13215           117           1                  256.535   \n",
       "13216           117           0                  257.122   \n",
       "13217           117           0                  257.338   \n",
       "13218           117           0                  257.554   \n",
       "13219           118           1                  257.616   \n",
       "\n",
       "       new_cases_per_million  ...  aged_65_older  aged_70_older  \\\n",
       "13102                  0.062  ...          6.293          3.407   \n",
       "13103                  0.031  ...          6.293          3.407   \n",
       "13104                  0.000  ...          6.293          3.407   \n",
       "13105                  0.000  ...          6.293          3.407   \n",
       "13106                  0.000  ...          6.293          3.407   \n",
       "...                      ...  ...            ...            ...   \n",
       "13215                  1.143  ...          6.293          3.407   \n",
       "13216                  0.587  ...          6.293          3.407   \n",
       "13217                  0.216  ...          6.293          3.407   \n",
       "13218                  0.216  ...          6.293          3.407   \n",
       "13219                  0.062  ...          6.293          3.407   \n",
       "\n",
       "       gdp_per_capita  extreme_poverty  cvd_death_rate  diabetes_prevalence  \\\n",
       "13102       26808.164              0.1         260.942                16.74   \n",
       "13103       26808.164              0.1         260.942                16.74   \n",
       "13104       26808.164              0.1         260.942                16.74   \n",
       "13105       26808.164              0.1         260.942                16.74   \n",
       "13106       26808.164              0.1         260.942                16.74   \n",
       "...               ...              ...             ...                  ...   \n",
       "13215       26808.164              0.1         260.942                16.74   \n",
       "13216       26808.164              0.1         260.942                16.74   \n",
       "13217       26808.164              0.1         260.942                16.74   \n",
       "13218       26808.164              0.1         260.942                16.74   \n",
       "13219       26808.164              0.1         260.942                16.74   \n",
       "\n",
       "       female_smokers  male_smokers handwashing_facilities  \\\n",
       "13102             1.0          42.4                    NaN   \n",
       "13103             1.0          42.4                    NaN   \n",
       "13104             1.0          42.4                    NaN   \n",
       "13105             1.0          42.4                    NaN   \n",
       "13106             1.0          42.4                    NaN   \n",
       "...               ...           ...                    ...   \n",
       "13215             1.0          42.4                    NaN   \n",
       "13216             1.0          42.4                    NaN   \n",
       "13217             1.0          42.4                    NaN   \n",
       "13218             1.0          42.4                    NaN   \n",
       "13219             1.0          42.4                    NaN   \n",
       "\n",
       "       hospital_beds_per_thousand  \n",
       "13102                         1.9  \n",
       "13103                         1.9  \n",
       "13104                         1.9  \n",
       "13105                         1.9  \n",
       "13106                         1.9  \n",
       "...                           ...  \n",
       "13215                         1.9  \n",
       "13216                         1.9  \n",
       "13217                         1.9  \n",
       "13218                         1.9  \n",
       "13219                         1.9  \n",
       "\n",
       "[118 rows x 33 columns]"
      ]
     },
     "execution_count": 8,
     "metadata": {},
     "output_type": "execute_result"
    }
   ],
   "source": [
    "df_country = df[df['iso_code'] == COUNTRY]\n",
    "df_country = df_country[df_country['date'] > START_DATE]\n",
    "df_country"
   ]
  },
  {
   "cell_type": "code",
   "execution_count": 9,
   "metadata": {
    "execution": {
     "iopub.execute_input": "2020-06-12T08:39:53.461610Z",
     "iopub.status.busy": "2020-06-12T08:39:53.460808Z",
     "iopub.status.idle": "2020-06-12T08:39:53.482330Z",
     "shell.execute_reply": "2020-06-12T08:39:53.482907Z"
    },
    "papermill": {
     "duration": 0.057035,
     "end_time": "2020-06-12T08:39:53.483028",
     "exception": false,
     "start_time": "2020-06-12T08:39:53.425993",
     "status": "completed"
    },
    "tags": []
   },
   "outputs": [
    {
     "data": {
      "text/plain": [
       "Timestamp('2020-06-11 00:00:00')"
      ]
     },
     "execution_count": 9,
     "metadata": {},
     "output_type": "execute_result"
    }
   ],
   "source": [
    "df_country['date'].max()"
   ]
  },
  {
   "cell_type": "markdown",
   "metadata": {
    "papermill": {
     "duration": 0.033314,
     "end_time": "2020-06-12T08:39:53.548654",
     "exception": false,
     "start_time": "2020-06-12T08:39:53.515340",
     "status": "completed"
    },
    "tags": []
   },
   "source": [
    "### weekly case counts"
   ]
  },
  {
   "cell_type": "code",
   "execution_count": 10,
   "metadata": {
    "execution": {
     "iopub.execute_input": "2020-06-12T08:39:53.619096Z",
     "iopub.status.busy": "2020-06-12T08:39:53.618509Z",
     "iopub.status.idle": "2020-06-12T08:39:54.300489Z",
     "shell.execute_reply": "2020-06-12T08:39:54.300977Z"
    },
    "papermill": {
     "duration": 0.717949,
     "end_time": "2020-06-12T08:39:54.301097",
     "exception": false,
     "start_time": "2020-06-12T08:39:53.583148",
     "status": "completed"
    },
    "tags": []
   },
   "outputs": [
    {
     "data": {
      "image/png": "[encoded data removed]",
      "text/plain": [
       "<Figure size 864x576 with 1 Axes>"
      ]
     },
     "metadata": {
      "needs_background": "light"
     },
     "output_type": "display_data"
    }
   ],
   "source": [
    "fig, ax = plt.subplots(1, 1, figsize=(12,8))\n",
    "    \n",
    "ax.bar(df_country['date'], df_country['new_cases'])\n",
    "ax.xaxis_date()\n",
    "#set ticks every week\n",
    "ax.xaxis.set_major_locator(mdates.WeekdayLocator())\n",
    "#set major ticks format\n",
    "ax.xaxis.set_major_formatter(mdates.DateFormatter('%b %d'))\n",
    "\n",
    "plt.show()"
   ]
  },
  {
   "cell_type": "markdown",
   "metadata": {
    "papermill": {
     "duration": 0.040925,
     "end_time": "2020-06-12T08:39:54.378405",
     "exception": false,
     "start_time": "2020-06-12T08:39:54.337480",
     "status": "completed"
    },
    "tags": []
   },
   "source": [
    "### cumulative total case counts (log)"
   ]
  },
  {
   "cell_type": "code",
   "execution_count": 11,
   "metadata": {
    "execution": {
     "iopub.execute_input": "2020-06-12T08:39:54.455471Z",
     "iopub.status.busy": "2020-06-12T08:39:54.454836Z",
     "iopub.status.idle": "2020-06-12T08:39:55.565840Z",
     "shell.execute_reply": "2020-06-12T08:39:55.565235Z"
    },
    "papermill": {
     "duration": 1.15128,
     "end_time": "2020-06-12T08:39:55.565931",
     "exception": false,
     "start_time": "2020-06-12T08:39:54.414651",
     "status": "completed"
    },
    "tags": []
   },
   "outputs": [
    {
     "data": {
      "text/plain": [
       "<matplotlib.axes._subplots.AxesSubplot at 0x7f8d423c4940>"
      ]
     },
     "execution_count": 11,
     "metadata": {},
     "output_type": "execute_result"
    },
    {
     "data": {
      "image/png": "[encoded data removed]",
      "text/plain": [
       "<Figure size 864x576 with 1 Axes>"
      ]
     },
     "metadata": {
      "needs_background": "light"
     },
     "output_type": "display_data"
    }
   ],
   "source": [
    "fig, ax = plt.subplots(figsize = (12,8)) \n",
    "plt.yscale('log')\n",
    "\n",
    "sns.lineplot(data=df_country, y='total_cases', x='date', ax=ax)"
   ]
  },
  {
   "cell_type": "markdown",
   "metadata": {
    "papermill": {
     "duration": 0.03856,
     "end_time": "2020-06-12T08:39:55.645891",
     "exception": false,
     "start_time": "2020-06-12T08:39:55.607331",
     "status": "completed"
    },
    "tags": []
   },
   "source": [
    "## SIR model with ODE  "
   ]
  },
  {
   "cell_type": "code",
   "execution_count": 12,
   "metadata": {
    "execution": {
     "iopub.execute_input": "2020-06-12T08:39:55.725191Z",
     "iopub.status.busy": "2020-06-12T08:39:55.724481Z",
     "iopub.status.idle": "2020-06-12T08:39:55.746067Z",
     "shell.execute_reply": "2020-06-12T08:39:55.745356Z"
    },
    "papermill": {
     "duration": 0.063682,
     "end_time": "2020-06-12T08:39:55.746191",
     "exception": false,
     "start_time": "2020-06-12T08:39:55.682509",
     "status": "completed"
    },
    "tags": []
   },
   "outputs": [],
   "source": [
    "def sir_model(y, t, N, beta, gamma):\n",
    "    '''\n",
    "    N: total population\n",
    "    S(t): no. of susceptible ppl on day t\n",
    "    I(t): no. of infected ppl on day t\n",
    "    R(t): no. of recovered on day t\n",
    "    beta: transmission rate; expected amount of people an infected person infects per day\n",
    "    D: number of days an infected person has and can spread the disease (from research is 18 days?) \n",
    "    gamma: recovery rate; proportion of infected recovering per day (gamma = 1/D)\n",
    "    R_0: total no. of people an infected person infects (R_0 = beta / gamma)\n",
    "    '''\n",
    "    S, I, R = y\n",
    "    \n",
    "    dSdt = -beta * S * (I / N)\n",
    "    dIdt = beta * S * (I / N) - gamma * I\n",
    "    dRdt = gamma * I\n",
    "    \n",
    "    return dSdt, dIdt, dRdt"
   ]
  },
  {
   "cell_type": "code",
   "execution_count": 13,
   "metadata": {
    "execution": {
     "iopub.execute_input": "2020-06-12T08:39:55.835517Z",
     "iopub.status.busy": "2020-06-12T08:39:55.834816Z",
     "iopub.status.idle": "2020-06-12T08:39:55.861011Z",
     "shell.execute_reply": "2020-06-12T08:39:55.860222Z"
    },
    "papermill": {
     "duration": 0.076812,
     "end_time": "2020-06-12T08:39:55.861107",
     "exception": false,
     "start_time": "2020-06-12T08:39:55.784295",
     "status": "completed"
    },
    "tags": []
   },
   "outputs": [],
   "source": [
    "def plot_sir(t, S, I, R, x_ticks):\n",
    "    f, ax = plt.subplots(1, 1, figsize=(12,6))\n",
    "    \n",
    "    ax.plot(x_ticks, S, 'b', alpha=0.7, linewidth=1, label='Susceptible')  # TODO: t\n",
    "    ax.plot(x_ticks, I, 'r', alpha=0.7, linewidth=2, label='Infected')\n",
    "    ax.plot(x_ticks, R, 'y', alpha=0.7, linewidth=1, label='Recovered')\n",
    "\n",
    "    ax.set_xlabel('Time (days)')\n",
    "\n",
    "    ax.yaxis.set_tick_params(length=0)\n",
    "    ax.xaxis.set_tick_params(length=0)\n",
    "        \n",
    "    ax.grid(b=True, which='major', c='w', lw=2, ls='-')\n",
    "    legend = ax.legend()\n",
    "    legend.get_frame().set_alpha(0.5)\n",
    "    for spine in ('top', 'right', 'bottom', 'left'):\n",
    "        ax.spines[spine].set_visible(False)\n",
    "    plt.show();"
   ]
  },
  {
   "cell_type": "markdown",
   "metadata": {
    "papermill": {
     "duration": 0.043723,
     "end_time": "2020-06-12T08:39:55.944370",
     "exception": false,
     "start_time": "2020-06-12T08:39:55.900647",
     "status": "completed"
    },
    "tags": []
   },
   "source": [
    "# curve fitting with actual country data  "
   ]
  },
  {
   "cell_type": "code",
   "execution_count": 14,
   "metadata": {
    "execution": {
     "iopub.execute_input": "2020-06-12T08:39:56.030853Z",
     "iopub.status.busy": "2020-06-12T08:39:56.029739Z",
     "iopub.status.idle": "2020-06-12T08:39:56.052030Z",
     "shell.execute_reply": "2020-06-12T08:39:56.051355Z"
    },
    "papermill": {
     "duration": 0.068338,
     "end_time": "2020-06-12T08:39:56.052170",
     "exception": false,
     "start_time": "2020-06-12T08:39:55.983832",
     "status": "completed"
    },
    "tags": []
   },
   "outputs": [
    {
     "data": {
      "text/plain": [
       "array([  2,   1,   0,   0,   0,   0,   0,   0,   0,   0,   0,   0,   0,\n",
       "         1,   2,   0,   4,   0,   7,  14,   0,  33,  10,   6,  18,  12,\n",
       "        20,   9,  39,  41, 190, 125, 120, 117, 110, 130, 153, 123, 212,\n",
       "       106, 172, 235, 130, 159, 150, 156, 140, 142, 208, 217, 150, 179,\n",
       "       131, 170, 156, 109, 118, 184, 153, 134, 170,  85, 110,  69,  54,\n",
       "        84,  36,  57,  50,  71,  88,  51,  38,  40,  31,  94,  57,  69,\n",
       "       105, 122,  55,  30,  45,  39,  68,  54,  67,  70,  16,  37,  40,\n",
       "        36,  17,  22,  47,  37,  31,  50,  78,  48,  60, 172, 187,  15,\n",
       "        10, 103,  30,  57,  38,  20,  93,   0, 296,  37,  19,   7,   7,\n",
       "         2])"
      ]
     },
     "execution_count": 14,
     "metadata": {},
     "output_type": "execute_result"
    }
   ],
   "source": [
    "data = df_country['new_cases'].values\n",
    "data"
   ]
  },
  {
   "cell_type": "code",
   "execution_count": 15,
   "metadata": {
    "execution": {
     "iopub.execute_input": "2020-06-12T08:39:56.130722Z",
     "iopub.status.busy": "2020-06-12T08:39:56.130124Z",
     "iopub.status.idle": "2020-06-12T08:39:56.151611Z",
     "shell.execute_reply": "2020-06-12T08:39:56.152195Z"
    },
    "papermill": {
     "duration": 0.061825,
     "end_time": "2020-06-12T08:39:56.152308",
     "exception": false,
     "start_time": "2020-06-12T08:39:56.090483",
     "status": "completed"
    },
    "tags": []
   },
   "outputs": [
    {
     "data": {
      "text/plain": [
       "118"
      ]
     },
     "execution_count": 15,
     "metadata": {},
     "output_type": "execute_result"
    }
   ],
   "source": [
    "N = 5000000\n",
    "\n",
    "# find beta & gamma from fitting\n",
    "# beta = 2.0  # infected person infects 1 other person per day\n",
    "# D = 14.0  # infections lasts X days\n",
    "# gamma = 1.0 / D\n",
    "\n",
    "days = len(data)\n",
    "days"
   ]
  },
  {
   "cell_type": "code",
   "execution_count": 16,
   "metadata": {
    "execution": {
     "iopub.execute_input": "2020-06-12T08:39:56.233993Z",
     "iopub.status.busy": "2020-06-12T08:39:56.233278Z",
     "iopub.status.idle": "2020-06-12T08:39:56.256692Z",
     "shell.execute_reply": "2020-06-12T08:39:56.255903Z"
    },
    "papermill": {
     "duration": 0.065733,
     "end_time": "2020-06-12T08:39:56.256853",
     "exception": false,
     "start_time": "2020-06-12T08:39:56.191120",
     "status": "completed"
    },
    "tags": []
   },
   "outputs": [],
   "source": [
    "def Model_SIR(days, N, beta, gamma):\n",
    "    t = np.linspace(0, days-1, days, dtype=int)  # time grid (in days)\n",
    "\n",
    "    y0 = N-1, 1, 0  # S0, I0, R0\n",
    "\n",
    "    # Integrate the equations over the time grid, t.\n",
    "    result = odeint(sir_model, y0, t, args=(N, beta, gamma))\n",
    "    S, I, R = result.T\n",
    "    return t, S, I, R"
   ]
  },
  {
   "cell_type": "code",
   "execution_count": 17,
   "metadata": {
    "execution": {
     "iopub.execute_input": "2020-06-12T08:39:56.344806Z",
     "iopub.status.busy": "2020-06-12T08:39:56.344187Z",
     "iopub.status.idle": "2020-06-12T08:39:56.365548Z",
     "shell.execute_reply": "2020-06-12T08:39:56.364656Z"
    },
    "papermill": {
     "duration": 0.068344,
     "end_time": "2020-06-12T08:39:56.365658",
     "exception": false,
     "start_time": "2020-06-12T08:39:56.297314",
     "status": "completed"
    },
    "tags": []
   },
   "outputs": [],
   "source": [
    "def fit_model(x, N, beta, gamma):\n",
    "    \"\"\"\n",
    "    returns: infections I per day ? \n",
    "    \"\"\"\n",
    "    return Model_SIR(days, N, beta, gamma)[2][x]"
   ]
  },
  {
   "cell_type": "markdown",
   "metadata": {
    "papermill": {
     "duration": 0.038149,
     "end_time": "2020-06-12T08:39:56.445216",
     "exception": false,
     "start_time": "2020-06-12T08:39:56.407067",
     "status": "completed"
    },
    "tags": []
   },
   "source": [
    "### initiate model & set params"
   ]
  },
  {
   "cell_type": "code",
   "execution_count": 18,
   "metadata": {
    "execution": {
     "iopub.execute_input": "2020-06-12T08:39:56.525714Z",
     "iopub.status.busy": "2020-06-12T08:39:56.524910Z",
     "iopub.status.idle": "2020-06-12T08:39:56.550744Z",
     "shell.execute_reply": "2020-06-12T08:39:56.550087Z"
    },
    "papermill": {
     "duration": 0.068637,
     "end_time": "2020-06-12T08:39:56.550833",
     "exception": false,
     "start_time": "2020-06-12T08:39:56.482196",
     "status": "completed"
    },
    "tags": []
   },
   "outputs": [
    {
     "data": {
      "text/html": [
       "<table><tr><th> name </th><th> value </th><th> initial value </th><th> min </th><th> max </th><th> vary </th></tr><tr><td> N </td><td>  5000000.00 </td><td> None </td><td>  0.00000000 </td><td>         inf </td><td> True </td></tr><tr><td> beta </td><td>  0.50000000 </td><td> None </td><td>  0.00000000 </td><td>         inf </td><td> True </td></tr><tr><td> gamma </td><td>  0.10000000 </td><td> None </td><td>  0.00000000 </td><td>  1.00000000 </td><td> True </td></tr></table>"
      ],
      "text/plain": [
       "Parameters([('N', <Parameter 'N', value=5000000, bounds=[0:inf]>),\n",
       "            ('beta', <Parameter 'beta', value=0.5, bounds=[0:inf]>),\n",
       "            ('gamma', <Parameter 'gamma', value=0.1, bounds=[0:1]>)])"
      ]
     },
     "execution_count": 18,
     "metadata": {},
     "output_type": "execute_result"
    }
   ],
   "source": [
    "mod = lmfit.Model(fit_model)\n",
    "\n",
    "mod.set_param_hint(\"N\", value=N, min=0, vary=True)\n",
    "mod.set_param_hint(\"beta\", value=0.5, min=0, vary=True)\n",
    "# mod.set_param_hint(\"gamma\", value=1/18, min=1/19, max=1/17, vary=True)\n",
    "mod.set_param_hint(\"gamma\", value=0.1, min=0, max=1, vary=True)\n",
    "\n",
    "params = mod.make_params()\n",
    "params"
   ]
  },
  {
   "cell_type": "code",
   "execution_count": 19,
   "metadata": {
    "execution": {
     "iopub.execute_input": "2020-06-12T08:39:56.635971Z",
     "iopub.status.busy": "2020-06-12T08:39:56.635291Z",
     "iopub.status.idle": "2020-06-12T08:39:56.874999Z",
     "shell.execute_reply": "2020-06-12T08:39:56.874281Z"
    },
    "papermill": {
     "duration": 0.283387,
     "end_time": "2020-06-12T08:39:56.875089",
     "exception": false,
     "start_time": "2020-06-12T08:39:56.591702",
     "status": "completed"
    },
    "tags": []
   },
   "outputs": [],
   "source": [
    "# fitting\n",
    "\n",
    "x_data = np.linspace(0, days-1, days, dtype=int)  # time grid (in days)\n",
    "\n",
    "results = mod.fit(data, params, method=\"leastsq\", x=x_data)  # leastsq, least_squares?"
   ]
  },
  {
   "cell_type": "code",
   "execution_count": 20,
   "metadata": {
    "execution": {
     "iopub.execute_input": "2020-06-12T08:39:56.966656Z",
     "iopub.status.busy": "2020-06-12T08:39:56.965888Z",
     "iopub.status.idle": "2020-06-12T08:39:57.284284Z",
     "shell.execute_reply": "2020-06-12T08:39:57.283666Z"
    },
    "papermill": {
     "duration": 0.365378,
     "end_time": "2020-06-12T08:39:57.284393",
     "exception": false,
     "start_time": "2020-06-12T08:39:56.919015",
     "status": "completed"
    },
    "tags": []
   },
   "outputs": [
    {
     "data": {
      "text/plain": [
       "{'N': 272.23406284916695,\n",
       " 'beta': 0.20185030327029985,\n",
       " 'gamma': 0.0293096266453286}"
      ]
     },
     "execution_count": 20,
     "metadata": {},
     "output_type": "execute_result"
    },
    {
     "data": {
      "image/png": "[encoded data removed]",
      "text/plain": [
       "<Figure size 576x360 with 1 Axes>"
      ]
     },
     "metadata": {
      "needs_background": "light"
     },
     "output_type": "display_data"
    }
   ],
   "source": [
    "plt.figure(figsize=(8,5))\n",
    "results.plot_fit(datafmt=\".\", fitfmt=\"-\");\n",
    "results.best_values"
   ]
  },
  {
   "cell_type": "code",
   "execution_count": 21,
   "metadata": {
    "execution": {
     "iopub.execute_input": "2020-06-12T08:39:57.371322Z",
     "iopub.status.busy": "2020-06-12T08:39:57.370597Z",
     "iopub.status.idle": "2020-06-12T08:39:57.615703Z",
     "shell.execute_reply": "2020-06-12T08:39:57.616305Z"
    },
    "papermill": {
     "duration": 0.289923,
     "end_time": "2020-06-12T08:39:57.616484",
     "exception": false,
     "start_time": "2020-06-12T08:39:57.326561",
     "status": "completed"
    },
    "tags": []
   },
   "outputs": [
    {
     "data": {
      "text/plain": [
       "<matplotlib.axes._subplots.AxesSubplot at 0x7f8d42164278>"
      ]
     },
     "execution_count": 21,
     "metadata": {},
     "output_type": "execute_result"
    },
    {
     "data": {
      "image/png": "[encoded data removed]",
      "text/plain": [
       "<Figure size 576x360 with 1 Axes>"
      ]
     },
     "metadata": {
      "needs_background": "light"
     },
     "output_type": "display_data"
    }
   ],
   "source": [
    "plt.figure(figsize=(8,5))\n",
    "results.plot_residuals()"
   ]
  },
  {
   "cell_type": "code",
   "execution_count": 22,
   "metadata": {
    "execution": {
     "iopub.execute_input": "2020-06-12T08:39:57.705205Z",
     "iopub.status.busy": "2020-06-12T08:39:57.704361Z",
     "iopub.status.idle": "2020-06-12T08:39:57.726699Z",
     "shell.execute_reply": "2020-06-12T08:39:57.725563Z"
    },
    "papermill": {
     "duration": 0.067091,
     "end_time": "2020-06-12T08:39:57.726827",
     "exception": false,
     "start_time": "2020-06-12T08:39:57.659736",
     "status": "completed"
    },
    "tags": []
   },
   "outputs": [
    {
     "data": {
      "text/html": [
       "<h2> Model</h2> Model(fit_model) <h2>Fit Statistics</h2><table><tr><td>fitting method</td><td>leastsq</td><td></td></tr><tr><td># function evals</td><td>62</td><td></td></tr><tr><td># data points</td><td>118</td><td></td></tr><tr><td># variables</td><td>3</td><td></td></tr><tr><td>chi-square</td><td> 220590.376</td><td></td></tr><tr><td>reduced chi-square</td><td> 1918.17718</td><td></td></tr><tr><td>Akaike info crit.</td><td> 894.938620</td><td></td></tr><tr><td>Bayesian info crit.</td><td> 903.250673</td><td></td></tr></table><h2>Variables</h2><table><tr><th> name </th><th> value </th><th> standard error </th><th> relative error </th><th> initial value </th><th> min </th><th> max </th><th> vary </th></tr><tr><td> N </td><td>  272.234063 </td><td>  33.7212262 </td><td> (12.39%) </td><td> 5000000 </td><td>  0.00000000 </td><td>         inf </td><td> True </td></tr><tr><td> beta </td><td>  0.20185030 </td><td>  0.00687892 </td><td> (3.41%) </td><td> 0.5 </td><td>  0.00000000 </td><td>         inf </td><td> True </td></tr><tr><td> gamma </td><td>  0.02930963 </td><td>  0.00501958 </td><td> (17.13%) </td><td> 0.1 </td><td>  0.00000000 </td><td>  1.00000000 </td><td> True </td></tr></table><h2>Correlations (unreported correlations are < 0.100)</h2><table><tr><td>N</td><td>gamma</td><td>0.9297</td></tr></table>"
      ],
      "text/plain": [
       "<lmfit.model.ModelResult at 0x7f8d421078d0>"
      ]
     },
     "execution_count": 22,
     "metadata": {},
     "output_type": "execute_result"
    }
   ],
   "source": [
    "results"
   ]
  },
  {
   "cell_type": "code",
   "execution_count": 23,
   "metadata": {
    "execution": {
     "iopub.execute_input": "2020-06-12T08:39:57.820312Z",
     "iopub.status.busy": "2020-06-12T08:39:57.819593Z",
     "iopub.status.idle": "2020-06-12T08:39:57.840950Z",
     "shell.execute_reply": "2020-06-12T08:39:57.840256Z"
    },
    "papermill": {
     "duration": 0.071372,
     "end_time": "2020-06-12T08:39:57.841040",
     "exception": false,
     "start_time": "2020-06-12T08:39:57.769668",
     "status": "completed"
    },
    "tags": []
   },
   "outputs": [
    {
     "data": {
      "text/plain": [
       "0.05555555555555555"
      ]
     },
     "execution_count": 23,
     "metadata": {},
     "output_type": "execute_result"
    }
   ],
   "source": [
    "# gamma should be close to this: \n",
    "1/18"
   ]
  },
  {
   "cell_type": "code",
   "execution_count": 24,
   "metadata": {
    "execution": {
     "iopub.execute_input": "2020-06-12T08:39:57.940594Z",
     "iopub.status.busy": "2020-06-12T08:39:57.939878Z",
     "iopub.status.idle": "2020-06-12T08:39:57.964637Z",
     "shell.execute_reply": "2020-06-12T08:39:57.963924Z"
    },
    "papermill": {
     "duration": 0.080497,
     "end_time": "2020-06-12T08:39:57.964728",
     "exception": false,
     "start_time": "2020-06-12T08:39:57.884231",
     "status": "completed"
    },
    "tags": []
   },
   "outputs": [],
   "source": [
    "def plot_sir2(t, S, I, R, x_ticks, COUNTRY):\n",
    "    f, ax = plt.subplots(1, 1, figsize=(12,8))\n",
    "    ax.set_title('Country: %s' % COUNTRY, fontsize= 20) \n",
    "    \n",
    "    ax.plot(x_ticks, S, 'b', alpha=0.7, linewidth=1, label='Susceptible')  # TODO: t\n",
    "    ax.plot(x_ticks, I, 'r', alpha=0.7, linewidth=2, label='Infected')\n",
    "    ax.plot(x_ticks, R, 'y', alpha=0.7, linewidth=1, label='Recovered')\n",
    "\n",
    "    ax.set_xlabel('Time (days)')\n",
    "\n",
    "    ax.yaxis.set_tick_params(length=0)\n",
    "    ax.xaxis.set_tick_params(length=0)\n",
    "    \n",
    "    # ax.set_ylim(0, 1800)\n",
    "    \n",
    "    ax.grid(b=True, which='major', c='w', lw=2, ls='-')\n",
    "    legend = ax.legend()\n",
    "    legend.get_frame().set_alpha(0.5)\n",
    "    for spine in ('top', 'right', 'bottom', 'left'):\n",
    "        ax.spines[spine].set_visible(False)\n",
    "        \n",
    "    # overlay actual data\n",
    "    ax.bar(df_country['date'], df_country['new_cases'])\n",
    "\n",
    "    plt.show()"
   ]
  },
  {
   "cell_type": "code",
   "execution_count": 25,
   "metadata": {
    "execution": {
     "iopub.execute_input": "2020-06-12T08:39:58.058452Z",
     "iopub.status.busy": "2020-06-12T08:39:58.057827Z",
     "iopub.status.idle": "2020-06-12T08:39:58.078436Z",
     "shell.execute_reply": "2020-06-12T08:39:58.078932Z"
    },
    "papermill": {
     "duration": 0.071508,
     "end_time": "2020-06-12T08:39:58.079063",
     "exception": false,
     "start_time": "2020-06-12T08:39:58.007555",
     "status": "completed"
    },
    "tags": []
   },
   "outputs": [],
   "source": [
    "def plot_infected(t, S, I, R, x_ticks, COUNTRY):\n",
    "    f, ax = plt.subplots(1, 1, figsize=(12,8))\n",
    "    ax.set_title('Country: %s' % COUNTRY, fontsize= 20) \n",
    "    \n",
    "    ax.plot(x_ticks, I, 'r', alpha=0.7, linewidth=2, label='Infected (prediction)')\n",
    "\n",
    "    ax.set_xlabel('Time (days)')\n",
    "\n",
    "    ax.yaxis.set_tick_params(length=0)\n",
    "    ax.xaxis.set_tick_params(length=0)\n",
    "    \n",
    "    # ax.set_ylim(0, 1800)\n",
    "    ax.grid(b=True, which='major', c='w', lw=2, ls='-')\n",
    "    legend = ax.legend()\n",
    "    legend.get_frame().set_alpha(0.5)\n",
    "    \n",
    "    # overlay actual data\n",
    "    ax.bar(df_country['date'], df_country['new_cases'])\n",
    "\n",
    "    plt.show()"
   ]
  },
  {
   "cell_type": "code",
   "execution_count": 26,
   "metadata": {
    "execution": {
     "iopub.execute_input": "2020-06-12T08:39:58.172863Z",
     "iopub.status.busy": "2020-06-12T08:39:58.172190Z",
     "iopub.status.idle": "2020-06-12T08:39:58.193486Z",
     "shell.execute_reply": "2020-06-12T08:39:58.192735Z"
    },
    "papermill": {
     "duration": 0.071905,
     "end_time": "2020-06-12T08:39:58.193580",
     "exception": false,
     "start_time": "2020-06-12T08:39:58.121675",
     "status": "completed"
    },
    "tags": []
   },
   "outputs": [],
   "source": [
    "max_days = 210\n",
    "first_date = np.datetime64(df_country['date'].min()) - np.timedelta64(0, 'D')\n",
    "\n",
    "x_ticks = pd.date_range(start=first_date, periods=max_days, freq=\"D\")"
   ]
  },
  {
   "cell_type": "code",
   "execution_count": 27,
   "metadata": {
    "execution": {
     "iopub.execute_input": "2020-06-12T08:39:58.285167Z",
     "iopub.status.busy": "2020-06-12T08:39:58.284578Z",
     "iopub.status.idle": "2020-06-12T08:39:58.975910Z",
     "shell.execute_reply": "2020-06-12T08:39:58.975210Z"
    },
    "papermill": {
     "duration": 0.739633,
     "end_time": "2020-06-12T08:39:58.976001",
     "exception": false,
     "start_time": "2020-06-12T08:39:58.236368",
     "status": "completed"
    },
    "tags": []
   },
   "outputs": [
    {
     "data": {
      "image/png": "[encoded data removed]",
      "text/plain": [
       "<Figure size 864x576 with 1 Axes>"
      ]
     },
     "metadata": {
      "needs_background": "light"
     },
     "output_type": "display_data"
    }
   ],
   "source": [
    "plot_sir2(*Model_SIR(max_days, **results.best_values), x_ticks, COUNTRY)"
   ]
  },
  {
   "cell_type": "code",
   "execution_count": 28,
   "metadata": {
    "execution": {
     "iopub.execute_input": "2020-06-12T08:39:59.068997Z",
     "iopub.status.busy": "2020-06-12T08:39:59.068408Z",
     "iopub.status.idle": "2020-06-12T08:39:59.741775Z",
     "shell.execute_reply": "2020-06-12T08:39:59.741123Z"
    },
    "papermill": {
     "duration": 0.720927,
     "end_time": "2020-06-12T08:39:59.741865",
     "exception": false,
     "start_time": "2020-06-12T08:39:59.020938",
     "status": "completed"
    },
    "tags": []
   },
   "outputs": [
    {
     "data": {
      "image/png": "[encoded data removed]",
      "text/plain": [
       "<Figure size 864x576 with 1 Axes>"
      ]
     },
     "metadata": {
      "needs_background": "light"
     },
     "output_type": "display_data"
    }
   ],
   "source": [
    "plot_infected(*Model_SIR(max_days, **results.best_values), x_ticks, COUNTRY)"
   ]
  },
  {
   "cell_type": "markdown",
   "metadata": {
    "papermill": {
     "duration": 0.050615,
     "end_time": "2020-06-12T08:39:59.838525",
     "exception": false,
     "start_time": "2020-06-12T08:39:59.787910",
     "status": "completed"
    },
    "tags": []
   },
   "source": [
    "# observations\n",
    "\n",
    "- It is difficult to make predictions for different countries with the evolving situation and resources available. A country could be at different stages of the outbreak\n",
    "- A more complicated model could be used e.g. SEIR "
   ]
  },
  {
   "cell_type": "code",
   "execution_count": null,
   "metadata": {
    "papermill": {
     "duration": 0.047722,
     "end_time": "2020-06-12T08:39:59.930266",
     "exception": false,
     "start_time": "2020-06-12T08:39:59.882544",
     "status": "completed"
    },
    "tags": []
   },
   "outputs": [],
   "source": []
  },
  {
   "cell_type": "code",
   "execution_count": null,
   "metadata": {
    "papermill": {
     "duration": 0.049125,
     "end_time": "2020-06-12T08:40:00.026974",
     "exception": false,
     "start_time": "2020-06-12T08:39:59.977849",
     "status": "completed"
    },
    "tags": []
   },
   "outputs": [],
   "source": []
  }
 ],
 "metadata": {
  "kernelspec": {
   "display_name": "Python 3",
   "language": "python",
   "name": "python3"
  },
  "language_info": {
   "codemirror_mode": {
    "name": "ipython",
    "version": 3
   },
   "file_extension": ".py",
   "mimetype": "text/x-python",
   "name": "python",
   "nbconvert_exporter": "python",
   "pygments_lexer": "ipython3",
   "version": "3.7.3"
  },
  "papermill": {
   "duration": 9.987075,
   "end_time": "2020-06-12T08:40:00.488434",
   "environment_variables": {},
   "exception": null,
   "input_path": "sir_country_model.ipynb",
   "output_path": "output/country_MYS.ipynb",
   "parameters": {
    "COUNTRY": "MYS",
    "START_DATE": "2020-02-14"
   },
   "start_time": "2020-06-12T08:39:50.501359",
   "version": "2.1.1"
  }
 },
 "nbformat": 4,
 "nbformat_minor": 4
}