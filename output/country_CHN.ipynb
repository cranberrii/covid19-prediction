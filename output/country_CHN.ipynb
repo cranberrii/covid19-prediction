{
 "cells": [
  {
   "cell_type": "code",
   "execution_count": 1,
   "metadata": {
    "execution": {
     "iopub.execute_input": "2020-06-12T08:40:53.399147Z",
     "iopub.status.busy": "2020-06-12T08:40:53.398220Z",
     "iopub.status.idle": "2020-06-12T08:40:53.410958Z",
     "shell.execute_reply": "2020-06-12T08:40:53.409907Z"
    },
    "papermill": {
     "duration": 0.083918,
     "end_time": "2020-06-12T08:40:53.411060",
     "exception": false,
     "start_time": "2020-06-12T08:40:53.327142",
     "status": "completed"
    },
    "tags": []
   },
   "outputs": [],
   "source": [
    "%load_ext autoreload\n",
    "%autoreload 2"
   ]
  },
  {
   "cell_type": "code",
   "execution_count": 2,
   "metadata": {
    "execution": {
     "iopub.execute_input": "2020-06-12T08:40:53.476623Z",
     "iopub.status.busy": "2020-06-12T08:40:53.475866Z",
     "iopub.status.idle": "2020-06-12T08:40:54.567099Z",
     "shell.execute_reply": "2020-06-12T08:40:54.566012Z"
    },
    "papermill": {
     "duration": 1.128146,
     "end_time": "2020-06-12T08:40:54.567222",
     "exception": false,
     "start_time": "2020-06-12T08:40:53.439076",
     "status": "completed"
    },
    "tags": []
   },
   "outputs": [],
   "source": [
    "import scipy\n",
    "from scipy.integrate import odeint\n",
    "\n",
    "import pandas as pd\n",
    "import numpy as np\n",
    "import datetime\n",
    "\n",
    "import matplotlib.pyplot as plt\n",
    "import matplotlib.dates as mdates\n",
    "import seaborn as sns\n",
    "\n",
    "import lmfit\n",
    "from lmfit.lineshapes import gaussian, lorentzian\n",
    "\n",
    "plt.style.use('fivethirtyeight')\n",
    "%matplotlib inline "
   ]
  },
  {
   "cell_type": "code",
   "execution_count": 3,
   "metadata": {
    "execution": {
     "iopub.execute_input": "2020-06-12T08:40:54.631975Z",
     "iopub.status.busy": "2020-06-12T08:40:54.631370Z",
     "iopub.status.idle": "2020-06-12T08:40:54.651342Z",
     "shell.execute_reply": "2020-06-12T08:40:54.651845Z"
    },
    "papermill": {
     "duration": 0.053356,
     "end_time": "2020-06-12T08:40:54.651989",
     "exception": false,
     "start_time": "2020-06-12T08:40:54.598633",
     "status": "completed"
    },
    "tags": [
     "parameters"
    ]
   },
   "outputs": [],
   "source": [
    "# parameters \n",
    "\n",
    "COUNTRY = 'JPN'  # 'SGP', 'MYS', 'DEU', 'OWID_WRL'\n",
    "\n",
    "START_DATE = '2020-02-14'"
   ]
  },
  {
   "cell_type": "code",
   "execution_count": 4,
   "metadata": {
    "execution": {
     "iopub.execute_input": "2020-06-12T08:40:54.715705Z",
     "iopub.status.busy": "2020-06-12T08:40:54.715032Z",
     "iopub.status.idle": "2020-06-12T08:40:54.735798Z",
     "shell.execute_reply": "2020-06-12T08:40:54.736437Z"
    },
    "papermill": {
     "duration": 0.054615,
     "end_time": "2020-06-12T08:40:54.736585",
     "exception": false,
     "start_time": "2020-06-12T08:40:54.681970",
     "status": "completed"
    },
    "tags": [
     "injected-parameters"
    ]
   },
   "outputs": [],
   "source": [
    "# Parameters\n",
    "COUNTRY = \"CHN\"\n",
    "START_DATE = \"2020-02-14\"\n"
   ]
  },
  {
   "cell_type": "code",
   "execution_count": 5,
   "metadata": {
    "execution": {
     "iopub.execute_input": "2020-06-12T08:40:54.809291Z",
     "iopub.status.busy": "2020-06-12T08:40:54.808328Z",
     "iopub.status.idle": "2020-06-12T08:40:55.004800Z",
     "shell.execute_reply": "2020-06-12T08:40:55.004167Z"
    },
    "papermill": {
     "duration": 0.237019,
     "end_time": "2020-06-12T08:40:55.004891",
     "exception": false,
     "start_time": "2020-06-12T08:40:54.767872",
     "status": "completed"
    },
    "tags": []
   },
   "outputs": [
    {
     "data": {
      "text/plain": [
       "(23194, 33)"
      ]
     },
     "execution_count": 5,
     "metadata": {},
     "output_type": "execute_result"
    }
   ],
   "source": [
    "DATA_PATH = '../covid-19-data/public/data/owid-covid-data.csv'\n",
    "# DATA_PATH = '../covid-19-data/public/data/ecdc/full_data.csv'\n",
    "\n",
    "df = pd.read_csv(DATA_PATH)\n",
    "df['date'] = pd.to_datetime(df['date'], yearfirst=True)\n",
    "df.shape"
   ]
  },
  {
   "cell_type": "code",
   "execution_count": 6,
   "metadata": {
    "execution": {
     "iopub.execute_input": "2020-06-12T08:40:55.080372Z",
     "iopub.status.busy": "2020-06-12T08:40:55.079259Z",
     "iopub.status.idle": "2020-06-12T08:40:55.133643Z",
     "shell.execute_reply": "2020-06-12T08:40:55.128598Z"
    },
    "papermill": {
     "duration": 0.093901,
     "end_time": "2020-06-12T08:40:55.133755",
     "exception": false,
     "start_time": "2020-06-12T08:40:55.039854",
     "status": "completed"
    },
    "tags": []
   },
   "outputs": [
    {
     "data": {
      "text/html": [
       "<div>\n",
       "<style scoped>\n",
       "    .dataframe tbody tr th:only-of-type {\n",
       "        vertical-align: middle;\n",
       "    }\n",
       "\n",
       "    .dataframe tbody tr th {\n",
       "        vertical-align: top;\n",
       "    }\n",
       "\n",
       "    .dataframe thead th {\n",
       "        text-align: right;\n",
       "    }\n",
       "</style>\n",
       "<table border=\"1\" class=\"dataframe\">\n",
       "  <thead>\n",
       "    <tr style=\"text-align: right;\">\n",
       "      <th></th>\n",
       "      <th>iso_code</th>\n",
       "      <th>continent</th>\n",
       "      <th>location</th>\n",
       "      <th>date</th>\n",
       "      <th>total_cases</th>\n",
       "      <th>new_cases</th>\n",
       "      <th>total_deaths</th>\n",
       "      <th>new_deaths</th>\n",
       "      <th>total_cases_per_million</th>\n",
       "      <th>new_cases_per_million</th>\n",
       "      <th>...</th>\n",
       "      <th>aged_65_older</th>\n",
       "      <th>aged_70_older</th>\n",
       "      <th>gdp_per_capita</th>\n",
       "      <th>extreme_poverty</th>\n",
       "      <th>cvd_death_rate</th>\n",
       "      <th>diabetes_prevalence</th>\n",
       "      <th>female_smokers</th>\n",
       "      <th>male_smokers</th>\n",
       "      <th>handwashing_facilities</th>\n",
       "      <th>hospital_beds_per_thousand</th>\n",
       "    </tr>\n",
       "  </thead>\n",
       "  <tbody>\n",
       "    <tr>\n",
       "      <th>0</th>\n",
       "      <td>AFG</td>\n",
       "      <td>Asia</td>\n",
       "      <td>Afghanistan</td>\n",
       "      <td>2019-12-31</td>\n",
       "      <td>0</td>\n",
       "      <td>0</td>\n",
       "      <td>0</td>\n",
       "      <td>0</td>\n",
       "      <td>0.0</td>\n",
       "      <td>0.0</td>\n",
       "      <td>...</td>\n",
       "      <td>2.581</td>\n",
       "      <td>1.337</td>\n",
       "      <td>1803.987</td>\n",
       "      <td>NaN</td>\n",
       "      <td>597.029</td>\n",
       "      <td>9.59</td>\n",
       "      <td>NaN</td>\n",
       "      <td>NaN</td>\n",
       "      <td>37.746</td>\n",
       "      <td>0.5</td>\n",
       "    </tr>\n",
       "    <tr>\n",
       "      <th>1</th>\n",
       "      <td>AFG</td>\n",
       "      <td>Asia</td>\n",
       "      <td>Afghanistan</td>\n",
       "      <td>2020-01-01</td>\n",
       "      <td>0</td>\n",
       "      <td>0</td>\n",
       "      <td>0</td>\n",
       "      <td>0</td>\n",
       "      <td>0.0</td>\n",
       "      <td>0.0</td>\n",
       "      <td>...</td>\n",
       "      <td>2.581</td>\n",
       "      <td>1.337</td>\n",
       "      <td>1803.987</td>\n",
       "      <td>NaN</td>\n",
       "      <td>597.029</td>\n",
       "      <td>9.59</td>\n",
       "      <td>NaN</td>\n",
       "      <td>NaN</td>\n",
       "      <td>37.746</td>\n",
       "      <td>0.5</td>\n",
       "    </tr>\n",
       "    <tr>\n",
       "      <th>2</th>\n",
       "      <td>AFG</td>\n",
       "      <td>Asia</td>\n",
       "      <td>Afghanistan</td>\n",
       "      <td>2020-01-02</td>\n",
       "      <td>0</td>\n",
       "      <td>0</td>\n",
       "      <td>0</td>\n",
       "      <td>0</td>\n",
       "      <td>0.0</td>\n",
       "      <td>0.0</td>\n",
       "      <td>...</td>\n",
       "      <td>2.581</td>\n",
       "      <td>1.337</td>\n",
       "      <td>1803.987</td>\n",
       "      <td>NaN</td>\n",
       "      <td>597.029</td>\n",
       "      <td>9.59</td>\n",
       "      <td>NaN</td>\n",
       "      <td>NaN</td>\n",
       "      <td>37.746</td>\n",
       "      <td>0.5</td>\n",
       "    </tr>\n",
       "    <tr>\n",
       "      <th>3</th>\n",
       "      <td>AFG</td>\n",
       "      <td>Asia</td>\n",
       "      <td>Afghanistan</td>\n",
       "      <td>2020-01-03</td>\n",
       "      <td>0</td>\n",
       "      <td>0</td>\n",
       "      <td>0</td>\n",
       "      <td>0</td>\n",
       "      <td>0.0</td>\n",
       "      <td>0.0</td>\n",
       "      <td>...</td>\n",
       "      <td>2.581</td>\n",
       "      <td>1.337</td>\n",
       "      <td>1803.987</td>\n",
       "      <td>NaN</td>\n",
       "      <td>597.029</td>\n",
       "      <td>9.59</td>\n",
       "      <td>NaN</td>\n",
       "      <td>NaN</td>\n",
       "      <td>37.746</td>\n",
       "      <td>0.5</td>\n",
       "    </tr>\n",
       "    <tr>\n",
       "      <th>4</th>\n",
       "      <td>AFG</td>\n",
       "      <td>Asia</td>\n",
       "      <td>Afghanistan</td>\n",
       "      <td>2020-01-04</td>\n",
       "      <td>0</td>\n",
       "      <td>0</td>\n",
       "      <td>0</td>\n",
       "      <td>0</td>\n",
       "      <td>0.0</td>\n",
       "      <td>0.0</td>\n",
       "      <td>...</td>\n",
       "      <td>2.581</td>\n",
       "      <td>1.337</td>\n",
       "      <td>1803.987</td>\n",
       "      <td>NaN</td>\n",
       "      <td>597.029</td>\n",
       "      <td>9.59</td>\n",
       "      <td>NaN</td>\n",
       "      <td>NaN</td>\n",
       "      <td>37.746</td>\n",
       "      <td>0.5</td>\n",
       "    </tr>\n",
       "  </tbody>\n",
       "</table>\n",
       "<p>5 rows × 33 columns</p>\n",
       "</div>"
      ],
      "text/plain": [
       "  iso_code continent     location       date  total_cases  new_cases  \\\n",
       "0      AFG      Asia  Afghanistan 2019-12-31            0          0   \n",
       "1      AFG      Asia  Afghanistan 2020-01-01            0          0   \n",
       "2      AFG      Asia  Afghanistan 2020-01-02            0          0   \n",
       "3      AFG      Asia  Afghanistan 2020-01-03            0          0   \n",
       "4      AFG      Asia  Afghanistan 2020-01-04            0          0   \n",
       "\n",
       "   total_deaths  new_deaths  total_cases_per_million  new_cases_per_million  \\\n",
       "0             0           0                      0.0                    0.0   \n",
       "1             0           0                      0.0                    0.0   \n",
       "2             0           0                      0.0                    0.0   \n",
       "3             0           0                      0.0                    0.0   \n",
       "4             0           0                      0.0                    0.0   \n",
       "\n",
       "   ...  aged_65_older  aged_70_older  gdp_per_capita  extreme_poverty  \\\n",
       "0  ...          2.581          1.337        1803.987              NaN   \n",
       "1  ...          2.581          1.337        1803.987              NaN   \n",
       "2  ...          2.581          1.337        1803.987              NaN   \n",
       "3  ...          2.581          1.337        1803.987              NaN   \n",
       "4  ...          2.581          1.337        1803.987              NaN   \n",
       "\n",
       "   cvd_death_rate  diabetes_prevalence  female_smokers  male_smokers  \\\n",
       "0         597.029                 9.59             NaN           NaN   \n",
       "1         597.029                 9.59             NaN           NaN   \n",
       "2         597.029                 9.59             NaN           NaN   \n",
       "3         597.029                 9.59             NaN           NaN   \n",
       "4         597.029                 9.59             NaN           NaN   \n",
       "\n",
       "  handwashing_facilities  hospital_beds_per_thousand  \n",
       "0                 37.746                         0.5  \n",
       "1                 37.746                         0.5  \n",
       "2                 37.746                         0.5  \n",
       "3                 37.746                         0.5  \n",
       "4                 37.746                         0.5  \n",
       "\n",
       "[5 rows x 33 columns]"
      ]
     },
     "execution_count": 6,
     "metadata": {},
     "output_type": "execute_result"
    }
   ],
   "source": [
    "df.head()"
   ]
  },
  {
   "cell_type": "code",
   "execution_count": 7,
   "metadata": {
    "execution": {
     "iopub.execute_input": "2020-06-12T08:40:55.207250Z",
     "iopub.status.busy": "2020-06-12T08:40:55.206403Z",
     "iopub.status.idle": "2020-06-12T08:40:55.238227Z",
     "shell.execute_reply": "2020-06-12T08:40:55.238930Z"
    },
    "papermill": {
     "duration": 0.07074,
     "end_time": "2020-06-12T08:40:55.239147",
     "exception": false,
     "start_time": "2020-06-12T08:40:55.168407",
     "status": "completed"
    },
    "tags": []
   },
   "outputs": [
    {
     "data": {
      "text/plain": [
       "CAN         165\n",
       "LTU         165\n",
       "RUS         165\n",
       "BHR         164\n",
       "DNK         164\n",
       "OWID_WRL    164\n",
       "ISR         164\n",
       "NLD         164\n",
       "GBR         164\n",
       "BEL         164\n",
       "AUS         164\n",
       "IRN         164\n",
       "FIN         164\n",
       "ISL         164\n",
       "CHN         164\n",
       "HRV         164\n",
       "CZE         164\n",
       "DEU         164\n",
       "NOR         164\n",
       "BLR         164\n",
       "Name: iso_code, dtype: int64"
      ]
     },
     "execution_count": 7,
     "metadata": {},
     "output_type": "execute_result"
    }
   ],
   "source": [
    "df['iso_code'].value_counts().head(20)"
   ]
  },
  {
   "cell_type": "markdown",
   "metadata": {
    "papermill": {
     "duration": 0.033528,
     "end_time": "2020-06-12T08:40:55.309804",
     "exception": false,
     "start_time": "2020-06-12T08:40:55.276276",
     "status": "completed"
    },
    "tags": []
   },
   "source": [
    "filter country"
   ]
  },
  {
   "cell_type": "code",
   "execution_count": 8,
   "metadata": {
    "execution": {
     "iopub.execute_input": "2020-06-12T08:40:55.381229Z",
     "iopub.status.busy": "2020-06-12T08:40:55.380566Z",
     "iopub.status.idle": "2020-06-12T08:40:55.445262Z",
     "shell.execute_reply": "2020-06-12T08:40:55.445845Z"
    },
    "papermill": {
     "duration": 0.10041,
     "end_time": "2020-06-12T08:40:55.445994",
     "exception": false,
     "start_time": "2020-06-12T08:40:55.345584",
     "status": "completed"
    },
    "tags": []
   },
   "outputs": [
    {
     "data": {
      "text/html": [
       "<div>\n",
       "<style scoped>\n",
       "    .dataframe tbody tr th:only-of-type {\n",
       "        vertical-align: middle;\n",
       "    }\n",
       "\n",
       "    .dataframe tbody tr th {\n",
       "        vertical-align: top;\n",
       "    }\n",
       "\n",
       "    .dataframe thead th {\n",
       "        text-align: right;\n",
       "    }\n",
       "</style>\n",
       "<table border=\"1\" class=\"dataframe\">\n",
       "  <thead>\n",
       "    <tr style=\"text-align: right;\">\n",
       "      <th></th>\n",
       "      <th>iso_code</th>\n",
       "      <th>continent</th>\n",
       "      <th>location</th>\n",
       "      <th>date</th>\n",
       "      <th>total_cases</th>\n",
       "      <th>new_cases</th>\n",
       "      <th>total_deaths</th>\n",
       "      <th>new_deaths</th>\n",
       "      <th>total_cases_per_million</th>\n",
       "      <th>new_cases_per_million</th>\n",
       "      <th>...</th>\n",
       "      <th>aged_65_older</th>\n",
       "      <th>aged_70_older</th>\n",
       "      <th>gdp_per_capita</th>\n",
       "      <th>extreme_poverty</th>\n",
       "      <th>cvd_death_rate</th>\n",
       "      <th>diabetes_prevalence</th>\n",
       "      <th>female_smokers</th>\n",
       "      <th>male_smokers</th>\n",
       "      <th>handwashing_facilities</th>\n",
       "      <th>hospital_beds_per_thousand</th>\n",
       "    </tr>\n",
       "  </thead>\n",
       "  <tbody>\n",
       "    <tr>\n",
       "      <th>4477</th>\n",
       "      <td>CHN</td>\n",
       "      <td>Asia</td>\n",
       "      <td>China</td>\n",
       "      <td>2020-02-15</td>\n",
       "      <td>66559</td>\n",
       "      <td>2538</td>\n",
       "      <td>1524</td>\n",
       "      <td>143</td>\n",
       "      <td>46.243</td>\n",
       "      <td>1.763</td>\n",
       "      <td>...</td>\n",
       "      <td>10.641</td>\n",
       "      <td>5.929</td>\n",
       "      <td>15308.712</td>\n",
       "      <td>0.7</td>\n",
       "      <td>261.899</td>\n",
       "      <td>9.74</td>\n",
       "      <td>1.9</td>\n",
       "      <td>48.4</td>\n",
       "      <td>NaN</td>\n",
       "      <td>4.34</td>\n",
       "    </tr>\n",
       "    <tr>\n",
       "      <th>4478</th>\n",
       "      <td>CHN</td>\n",
       "      <td>Asia</td>\n",
       "      <td>China</td>\n",
       "      <td>2020-02-16</td>\n",
       "      <td>68566</td>\n",
       "      <td>2007</td>\n",
       "      <td>1666</td>\n",
       "      <td>142</td>\n",
       "      <td>47.638</td>\n",
       "      <td>1.394</td>\n",
       "      <td>...</td>\n",
       "      <td>10.641</td>\n",
       "      <td>5.929</td>\n",
       "      <td>15308.712</td>\n",
       "      <td>0.7</td>\n",
       "      <td>261.899</td>\n",
       "      <td>9.74</td>\n",
       "      <td>1.9</td>\n",
       "      <td>48.4</td>\n",
       "      <td>NaN</td>\n",
       "      <td>4.34</td>\n",
       "    </tr>\n",
       "    <tr>\n",
       "      <th>4479</th>\n",
       "      <td>CHN</td>\n",
       "      <td>Asia</td>\n",
       "      <td>China</td>\n",
       "      <td>2020-02-17</td>\n",
       "      <td>70618</td>\n",
       "      <td>2052</td>\n",
       "      <td>1771</td>\n",
       "      <td>105</td>\n",
       "      <td>49.063</td>\n",
       "      <td>1.426</td>\n",
       "      <td>...</td>\n",
       "      <td>10.641</td>\n",
       "      <td>5.929</td>\n",
       "      <td>15308.712</td>\n",
       "      <td>0.7</td>\n",
       "      <td>261.899</td>\n",
       "      <td>9.74</td>\n",
       "      <td>1.9</td>\n",
       "      <td>48.4</td>\n",
       "      <td>NaN</td>\n",
       "      <td>4.34</td>\n",
       "    </tr>\n",
       "    <tr>\n",
       "      <th>4480</th>\n",
       "      <td>CHN</td>\n",
       "      <td>Asia</td>\n",
       "      <td>China</td>\n",
       "      <td>2020-02-18</td>\n",
       "      <td>72508</td>\n",
       "      <td>1890</td>\n",
       "      <td>1869</td>\n",
       "      <td>98</td>\n",
       "      <td>50.376</td>\n",
       "      <td>1.313</td>\n",
       "      <td>...</td>\n",
       "      <td>10.641</td>\n",
       "      <td>5.929</td>\n",
       "      <td>15308.712</td>\n",
       "      <td>0.7</td>\n",
       "      <td>261.899</td>\n",
       "      <td>9.74</td>\n",
       "      <td>1.9</td>\n",
       "      <td>48.4</td>\n",
       "      <td>NaN</td>\n",
       "      <td>4.34</td>\n",
       "    </tr>\n",
       "    <tr>\n",
       "      <th>4481</th>\n",
       "      <td>CHN</td>\n",
       "      <td>Asia</td>\n",
       "      <td>China</td>\n",
       "      <td>2020-02-19</td>\n",
       "      <td>74258</td>\n",
       "      <td>1750</td>\n",
       "      <td>2008</td>\n",
       "      <td>139</td>\n",
       "      <td>51.592</td>\n",
       "      <td>1.216</td>\n",
       "      <td>...</td>\n",
       "      <td>10.641</td>\n",
       "      <td>5.929</td>\n",
       "      <td>15308.712</td>\n",
       "      <td>0.7</td>\n",
       "      <td>261.899</td>\n",
       "      <td>9.74</td>\n",
       "      <td>1.9</td>\n",
       "      <td>48.4</td>\n",
       "      <td>NaN</td>\n",
       "      <td>4.34</td>\n",
       "    </tr>\n",
       "    <tr>\n",
       "      <th>...</th>\n",
       "      <td>...</td>\n",
       "      <td>...</td>\n",
       "      <td>...</td>\n",
       "      <td>...</td>\n",
       "      <td>...</td>\n",
       "      <td>...</td>\n",
       "      <td>...</td>\n",
       "      <td>...</td>\n",
       "      <td>...</td>\n",
       "      <td>...</td>\n",
       "      <td>...</td>\n",
       "      <td>...</td>\n",
       "      <td>...</td>\n",
       "      <td>...</td>\n",
       "      <td>...</td>\n",
       "      <td>...</td>\n",
       "      <td>...</td>\n",
       "      <td>...</td>\n",
       "      <td>...</td>\n",
       "      <td>...</td>\n",
       "      <td>...</td>\n",
       "    </tr>\n",
       "    <tr>\n",
       "      <th>4590</th>\n",
       "      <td>CHN</td>\n",
       "      <td>Asia</td>\n",
       "      <td>China</td>\n",
       "      <td>2020-06-07</td>\n",
       "      <td>84186</td>\n",
       "      <td>9</td>\n",
       "      <td>4638</td>\n",
       "      <td>0</td>\n",
       "      <td>58.490</td>\n",
       "      <td>0.006</td>\n",
       "      <td>...</td>\n",
       "      <td>10.641</td>\n",
       "      <td>5.929</td>\n",
       "      <td>15308.712</td>\n",
       "      <td>0.7</td>\n",
       "      <td>261.899</td>\n",
       "      <td>9.74</td>\n",
       "      <td>1.9</td>\n",
       "      <td>48.4</td>\n",
       "      <td>NaN</td>\n",
       "      <td>4.34</td>\n",
       "    </tr>\n",
       "    <tr>\n",
       "      <th>4591</th>\n",
       "      <td>CHN</td>\n",
       "      <td>Asia</td>\n",
       "      <td>China</td>\n",
       "      <td>2020-06-08</td>\n",
       "      <td>84191</td>\n",
       "      <td>5</td>\n",
       "      <td>4638</td>\n",
       "      <td>0</td>\n",
       "      <td>58.493</td>\n",
       "      <td>0.003</td>\n",
       "      <td>...</td>\n",
       "      <td>10.641</td>\n",
       "      <td>5.929</td>\n",
       "      <td>15308.712</td>\n",
       "      <td>0.7</td>\n",
       "      <td>261.899</td>\n",
       "      <td>9.74</td>\n",
       "      <td>1.9</td>\n",
       "      <td>48.4</td>\n",
       "      <td>NaN</td>\n",
       "      <td>4.34</td>\n",
       "    </tr>\n",
       "    <tr>\n",
       "      <th>4592</th>\n",
       "      <td>CHN</td>\n",
       "      <td>Asia</td>\n",
       "      <td>China</td>\n",
       "      <td>2020-06-09</td>\n",
       "      <td>84194</td>\n",
       "      <td>3</td>\n",
       "      <td>4638</td>\n",
       "      <td>0</td>\n",
       "      <td>58.496</td>\n",
       "      <td>0.002</td>\n",
       "      <td>...</td>\n",
       "      <td>10.641</td>\n",
       "      <td>5.929</td>\n",
       "      <td>15308.712</td>\n",
       "      <td>0.7</td>\n",
       "      <td>261.899</td>\n",
       "      <td>9.74</td>\n",
       "      <td>1.9</td>\n",
       "      <td>48.4</td>\n",
       "      <td>NaN</td>\n",
       "      <td>4.34</td>\n",
       "    </tr>\n",
       "    <tr>\n",
       "      <th>4593</th>\n",
       "      <td>CHN</td>\n",
       "      <td>Asia</td>\n",
       "      <td>China</td>\n",
       "      <td>2020-06-10</td>\n",
       "      <td>84198</td>\n",
       "      <td>4</td>\n",
       "      <td>4638</td>\n",
       "      <td>0</td>\n",
       "      <td>58.498</td>\n",
       "      <td>0.003</td>\n",
       "      <td>...</td>\n",
       "      <td>10.641</td>\n",
       "      <td>5.929</td>\n",
       "      <td>15308.712</td>\n",
       "      <td>0.7</td>\n",
       "      <td>261.899</td>\n",
       "      <td>9.74</td>\n",
       "      <td>1.9</td>\n",
       "      <td>48.4</td>\n",
       "      <td>NaN</td>\n",
       "      <td>4.34</td>\n",
       "    </tr>\n",
       "    <tr>\n",
       "      <th>4594</th>\n",
       "      <td>CHN</td>\n",
       "      <td>Asia</td>\n",
       "      <td>China</td>\n",
       "      <td>2020-06-11</td>\n",
       "      <td>84209</td>\n",
       "      <td>11</td>\n",
       "      <td>4638</td>\n",
       "      <td>0</td>\n",
       "      <td>58.506</td>\n",
       "      <td>0.008</td>\n",
       "      <td>...</td>\n",
       "      <td>10.641</td>\n",
       "      <td>5.929</td>\n",
       "      <td>15308.712</td>\n",
       "      <td>0.7</td>\n",
       "      <td>261.899</td>\n",
       "      <td>9.74</td>\n",
       "      <td>1.9</td>\n",
       "      <td>48.4</td>\n",
       "      <td>NaN</td>\n",
       "      <td>4.34</td>\n",
       "    </tr>\n",
       "  </tbody>\n",
       "</table>\n",
       "<p>118 rows × 33 columns</p>\n",
       "</div>"
      ],
      "text/plain": [
       "     iso_code continent location       date  total_cases  new_cases  \\\n",
       "4477      CHN      Asia    China 2020-02-15        66559       2538   \n",
       "4478      CHN      Asia    China 2020-02-16        68566       2007   \n",
       "4479      CHN      Asia    China 2020-02-17        70618       2052   \n",
       "4480      CHN      Asia    China 2020-02-18        72508       1890   \n",
       "4481      CHN      Asia    China 2020-02-19        74258       1750   \n",
       "...       ...       ...      ...        ...          ...        ...   \n",
       "4590      CHN      Asia    China 2020-06-07        84186          9   \n",
       "4591      CHN      Asia    China 2020-06-08        84191          5   \n",
       "4592      CHN      Asia    China 2020-06-09        84194          3   \n",
       "4593      CHN      Asia    China 2020-06-10        84198          4   \n",
       "4594      CHN      Asia    China 2020-06-11        84209         11   \n",
       "\n",
       "      total_deaths  new_deaths  total_cases_per_million  \\\n",
       "4477          1524         143                   46.243   \n",
       "4478          1666         142                   47.638   \n",
       "4479          1771         105                   49.063   \n",
       "4480          1869          98                   50.376   \n",
       "4481          2008         139                   51.592   \n",
       "...            ...         ...                      ...   \n",
       "4590          4638           0                   58.490   \n",
       "4591          4638           0                   58.493   \n",
       "4592          4638           0                   58.496   \n",
       "4593          4638           0                   58.498   \n",
       "4594          4638           0                   58.506   \n",
       "\n",
       "      new_cases_per_million  ...  aged_65_older  aged_70_older  \\\n",
       "4477                  1.763  ...         10.641          5.929   \n",
       "4478                  1.394  ...         10.641          5.929   \n",
       "4479                  1.426  ...         10.641          5.929   \n",
       "4480                  1.313  ...         10.641          5.929   \n",
       "4481                  1.216  ...         10.641          5.929   \n",
       "...                     ...  ...            ...            ...   \n",
       "4590                  0.006  ...         10.641          5.929   \n",
       "4591                  0.003  ...         10.641          5.929   \n",
       "4592                  0.002  ...         10.641          5.929   \n",
       "4593                  0.003  ...         10.641          5.929   \n",
       "4594                  0.008  ...         10.641          5.929   \n",
       "\n",
       "      gdp_per_capita  extreme_poverty  cvd_death_rate  diabetes_prevalence  \\\n",
       "4477       15308.712              0.7         261.899                 9.74   \n",
       "4478       15308.712              0.7         261.899                 9.74   \n",
       "4479       15308.712              0.7         261.899                 9.74   \n",
       "4480       15308.712              0.7         261.899                 9.74   \n",
       "4481       15308.712              0.7         261.899                 9.74   \n",
       "...              ...              ...             ...                  ...   \n",
       "4590       15308.712              0.7         261.899                 9.74   \n",
       "4591       15308.712              0.7         261.899                 9.74   \n",
       "4592       15308.712              0.7         261.899                 9.74   \n",
       "4593       15308.712              0.7         261.899                 9.74   \n",
       "4594       15308.712              0.7         261.899                 9.74   \n",
       "\n",
       "      female_smokers  male_smokers handwashing_facilities  \\\n",
       "4477             1.9          48.4                    NaN   \n",
       "4478             1.9          48.4                    NaN   \n",
       "4479             1.9          48.4                    NaN   \n",
       "4480             1.9          48.4                    NaN   \n",
       "4481             1.9          48.4                    NaN   \n",
       "...              ...           ...                    ...   \n",
       "4590             1.9          48.4                    NaN   \n",
       "4591             1.9          48.4                    NaN   \n",
       "4592             1.9          48.4                    NaN   \n",
       "4593             1.9          48.4                    NaN   \n",
       "4594             1.9          48.4                    NaN   \n",
       "\n",
       "      hospital_beds_per_thousand  \n",
       "4477                        4.34  \n",
       "4478                        4.34  \n",
       "4479                        4.34  \n",
       "4480                        4.34  \n",
       "4481                        4.34  \n",
       "...                          ...  \n",
       "4590                        4.34  \n",
       "4591                        4.34  \n",
       "4592                        4.34  \n",
       "4593                        4.34  \n",
       "4594                        4.34  \n",
       "\n",
       "[118 rows x 33 columns]"
      ]
     },
     "execution_count": 8,
     "metadata": {},
     "output_type": "execute_result"
    }
   ],
   "source": [
    "df_country = df[df['iso_code'] == COUNTRY]\n",
    "df_country = df_country[df_country['date'] > START_DATE]\n",
    "df_country"
   ]
  },
  {
   "cell_type": "code",
   "execution_count": 9,
   "metadata": {
    "execution": {
     "iopub.execute_input": "2020-06-12T08:40:55.517310Z",
     "iopub.status.busy": "2020-06-12T08:40:55.516566Z",
     "iopub.status.idle": "2020-06-12T08:40:55.538397Z",
     "shell.execute_reply": "2020-06-12T08:40:55.539194Z"
    },
    "papermill": {
     "duration": 0.058826,
     "end_time": "2020-06-12T08:40:55.539320",
     "exception": false,
     "start_time": "2020-06-12T08:40:55.480494",
     "status": "completed"
    },
    "tags": []
   },
   "outputs": [
    {
     "data": {
      "text/plain": [
       "Timestamp('2020-06-11 00:00:00')"
      ]
     },
     "execution_count": 9,
     "metadata": {},
     "output_type": "execute_result"
    }
   ],
   "source": [
    "df_country['date'].max()"
   ]
  },
  {
   "cell_type": "markdown",
   "metadata": {
    "papermill": {
     "duration": 0.03238,
     "end_time": "2020-06-12T08:40:55.606547",
     "exception": false,
     "start_time": "2020-06-12T08:40:55.574167",
     "status": "completed"
    },
    "tags": []
   },
   "source": [
    "### weekly case counts"
   ]
  },
  {
   "cell_type": "code",
   "execution_count": 10,
   "metadata": {
    "execution": {
     "iopub.execute_input": "2020-06-12T08:40:55.677187Z",
     "iopub.status.busy": "2020-06-12T08:40:55.676405Z",
     "iopub.status.idle": "2020-06-12T08:40:56.369683Z",
     "shell.execute_reply": "2020-06-12T08:40:56.369024Z"
    },
    "papermill": {
     "duration": 0.729407,
     "end_time": "2020-06-12T08:40:56.369773",
     "exception": false,
     "start_time": "2020-06-12T08:40:55.640366",
     "status": "completed"
    },
    "tags": []
   },
   "outputs": [
    {
     "data": {
      "image/png": "[encoded data removed]",
      "text/plain": [
       "<Figure size 864x576 with 1 Axes>"
      ]
     },
     "metadata": {
      "needs_background": "light"
     },
     "output_type": "display_data"
    }
   ],
   "source": [
    "fig, ax = plt.subplots(1, 1, figsize=(12,8))\n",
    "    \n",
    "ax.bar(df_country['date'], df_country['new_cases'])\n",
    "ax.xaxis_date()\n",
    "#set ticks every week\n",
    "ax.xaxis.set_major_locator(mdates.WeekdayLocator())\n",
    "#set major ticks format\n",
    "ax.xaxis.set_major_formatter(mdates.DateFormatter('%b %d'))\n",
    "\n",
    "plt.show()"
   ]
  },
  {
   "cell_type": "markdown",
   "metadata": {
    "papermill": {
     "duration": 0.035619,
     "end_time": "2020-06-12T08:40:56.440675",
     "exception": false,
     "start_time": "2020-06-12T08:40:56.405056",
     "status": "completed"
    },
    "tags": []
   },
   "source": [
    "### cumulative total case counts (log)"
   ]
  },
  {
   "cell_type": "code",
   "execution_count": 11,
   "metadata": {
    "execution": {
     "iopub.execute_input": "2020-06-12T08:40:56.518155Z",
     "iopub.status.busy": "2020-06-12T08:40:56.517483Z",
     "iopub.status.idle": "2020-06-12T08:40:57.476762Z",
     "shell.execute_reply": "2020-06-12T08:40:57.476025Z"
    },
    "papermill": {
     "duration": 1.002296,
     "end_time": "2020-06-12T08:40:57.476936",
     "exception": false,
     "start_time": "2020-06-12T08:40:56.474640",
     "status": "completed"
    },
    "tags": []
   },
   "outputs": [
    {
     "data": {
      "text/plain": [
       "<matplotlib.axes._subplots.AxesSubplot at 0x7fa7b388b860>"
      ]
     },
     "execution_count": 11,
     "metadata": {},
     "output_type": "execute_result"
    },
    {
     "data": {
      "image/png": "[encoded data removed]",
      "text/plain": [
       "<Figure size 864x576 with 1 Axes>"
      ]
     },
     "metadata": {
      "needs_background": "light"
     },
     "output_type": "display_data"
    }
   ],
   "source": [
    "fig, ax = plt.subplots(figsize = (12,8)) \n",
    "plt.yscale('log')\n",
    "\n",
    "sns.lineplot(data=df_country, y='total_cases', x='date', ax=ax)"
   ]
  },
  {
   "cell_type": "markdown",
   "metadata": {
    "papermill": {
     "duration": 0.03773,
     "end_time": "2020-06-12T08:40:57.550965",
     "exception": false,
     "start_time": "2020-06-12T08:40:57.513235",
     "status": "completed"
    },
    "tags": []
   },
   "source": [
    "## SIR model with ODE  "
   ]
  },
  {
   "cell_type": "code",
   "execution_count": 12,
   "metadata": {
    "execution": {
     "iopub.execute_input": "2020-06-12T08:40:57.631757Z",
     "iopub.status.busy": "2020-06-12T08:40:57.631000Z",
     "iopub.status.idle": "2020-06-12T08:40:57.652028Z",
     "shell.execute_reply": "2020-06-12T08:40:57.652782Z"
    },
    "papermill": {
     "duration": 0.064665,
     "end_time": "2020-06-12T08:40:57.652919",
     "exception": false,
     "start_time": "2020-06-12T08:40:57.588254",
     "status": "completed"
    },
    "tags": []
   },
   "outputs": [],
   "source": [
    "def sir_model(y, t, N, beta, gamma):\n",
    "    '''\n",
    "    N: total population\n",
    "    S(t): no. of susceptible ppl on day t\n",
    "    I(t): no. of infected ppl on day t\n",
    "    R(t): no. of recovered on day t\n",
    "    beta: transmission rate; expected amount of people an infected person infects per day\n",
    "    D: number of days an infected person has and can spread the disease (from research is 18 days?) \n",
    "    gamma: recovery rate; proportion of infected recovering per day (gamma = 1/D)\n",
    "    R_0: total no. of people an infected person infects (R_0 = beta / gamma)\n",
    "    '''\n",
    "    S, I, R = y\n",
    "    \n",
    "    dSdt = -beta * S * (I / N)\n",
    "    dIdt = beta * S * (I / N) - gamma * I\n",
    "    dRdt = gamma * I\n",
    "    \n",
    "    return dSdt, dIdt, dRdt"
   ]
  },
  {
   "cell_type": "code",
   "execution_count": 13,
   "metadata": {
    "execution": {
     "iopub.execute_input": "2020-06-12T08:40:57.738341Z",
     "iopub.status.busy": "2020-06-12T08:40:57.737589Z",
     "iopub.status.idle": "2020-06-12T08:40:57.761400Z",
     "shell.execute_reply": "2020-06-12T08:40:57.760652Z"
    },
    "papermill": {
     "duration": 0.070233,
     "end_time": "2020-06-12T08:40:57.761489",
     "exception": false,
     "start_time": "2020-06-12T08:40:57.691256",
     "status": "completed"
    },
    "tags": []
   },
   "outputs": [],
   "source": [
    "def plot_sir(t, S, I, R, x_ticks):\n",
    "    f, ax = plt.subplots(1, 1, figsize=(12,6))\n",
    "    \n",
    "    ax.plot(x_ticks, S, 'b', alpha=0.7, linewidth=1, label='Susceptible')  # TODO: t\n",
    "    ax.plot(x_ticks, I, 'r', alpha=0.7, linewidth=2, label='Infected')\n",
    "    ax.plot(x_ticks, R, 'y', alpha=0.7, linewidth=1, label='Recovered')\n",
    "\n",
    "    ax.set_xlabel('Time (days)')\n",
    "\n",
    "    ax.yaxis.set_tick_params(length=0)\n",
    "    ax.xaxis.set_tick_params(length=0)\n",
    "        \n",
    "    ax.grid(b=True, which='major', c='w', lw=2, ls='-')\n",
    "    legend = ax.legend()\n",
    "    legend.get_frame().set_alpha(0.5)\n",
    "    for spine in ('top', 'right', 'bottom', 'left'):\n",
    "        ax.spines[spine].set_visible(False)\n",
    "    plt.show();"
   ]
  },
  {
   "cell_type": "markdown",
   "metadata": {
    "papermill": {
     "duration": 0.038255,
     "end_time": "2020-06-12T08:40:57.837324",
     "exception": false,
     "start_time": "2020-06-12T08:40:57.799069",
     "status": "completed"
    },
    "tags": []
   },
   "source": [
    "# curve fitting with actual country data  "
   ]
  },
  {
   "cell_type": "code",
   "execution_count": 14,
   "metadata": {
    "execution": {
     "iopub.execute_input": "2020-06-12T08:40:57.912542Z",
     "iopub.status.busy": "2020-06-12T08:40:57.911925Z",
     "iopub.status.idle": "2020-06-12T08:40:57.933814Z",
     "shell.execute_reply": "2020-06-12T08:40:57.934317Z"
    },
    "papermill": {
     "duration": 0.061942,
     "end_time": "2020-06-12T08:40:57.934461",
     "exception": false,
     "start_time": "2020-06-12T08:40:57.872519",
     "status": "completed"
    },
    "tags": []
   },
   "outputs": [
    {
     "data": {
      "text/plain": [
       "array([2538, 2007, 2052, 1890, 1750,  394,  891,  826,  647,  218,  515,\n",
       "        410,  439,  329,  428,  574,  205,  127,  119,  117,  170,  101,\n",
       "         46,   45,   20,   29,   24,   22,   19,   22,   25,   43,   23,\n",
       "         44,   99,   52,   65,  138,   69,   78,  102,   94,  119,  113,\n",
       "         98,   84,   54,  100,   70,   62,   48,   67,   56,   86,   86,\n",
       "         55,   79,   93,  112,   94,   49,   50,  352,   31,   18,   14,\n",
       "         32,   15,   12,    8,   15,   10,    3,   26,    2,    4,   12,\n",
       "          3,    2,    3,    2,    2,    2,    6,    0,   15,   19,    1,\n",
       "          7,    6,    5,    9,    6,   10,    9,    2,    2,   12,    2,\n",
       "          3,   11,    7,    1,    3,    0,   17,    5,   19,    7,    5,\n",
       "          1,   11,    6,    9,    5,    3,    4,   11])"
      ]
     },
     "execution_count": 14,
     "metadata": {},
     "output_type": "execute_result"
    }
   ],
   "source": [
    "data = df_country['new_cases'].values\n",
    "data"
   ]
  },
  {
   "cell_type": "code",
   "execution_count": 15,
   "metadata": {
    "execution": {
     "iopub.execute_input": "2020-06-12T08:40:58.016982Z",
     "iopub.status.busy": "2020-06-12T08:40:58.015495Z",
     "iopub.status.idle": "2020-06-12T08:40:58.039654Z",
     "shell.execute_reply": "2020-06-12T08:40:58.038238Z"
    },
    "papermill": {
     "duration": 0.066631,
     "end_time": "2020-06-12T08:40:58.039781",
     "exception": false,
     "start_time": "2020-06-12T08:40:57.973150",
     "status": "completed"
    },
    "tags": []
   },
   "outputs": [
    {
     "data": {
      "text/plain": [
       "118"
      ]
     },
     "execution_count": 15,
     "metadata": {},
     "output_type": "execute_result"
    }
   ],
   "source": [
    "N = 5000000\n",
    "\n",
    "# find beta & gamma from fitting\n",
    "# beta = 2.0  # infected person infects 1 other person per day\n",
    "# D = 14.0  # infections lasts X days\n",
    "# gamma = 1.0 / D\n",
    "\n",
    "days = len(data)\n",
    "days"
   ]
  },
  {
   "cell_type": "code",
   "execution_count": 16,
   "metadata": {
    "execution": {
     "iopub.execute_input": "2020-06-12T08:40:58.131070Z",
     "iopub.status.busy": "2020-06-12T08:40:58.130257Z",
     "iopub.status.idle": "2020-06-12T08:40:58.154742Z",
     "shell.execute_reply": "2020-06-12T08:40:58.154002Z"
    },
    "papermill": {
     "duration": 0.071961,
     "end_time": "2020-06-12T08:40:58.154902",
     "exception": false,
     "start_time": "2020-06-12T08:40:58.082941",
     "status": "completed"
    },
    "tags": []
   },
   "outputs": [],
   "source": [
    "def Model_SIR(days, N, beta, gamma):\n",
    "    t = np.linspace(0, days-1, days, dtype=int)  # time grid (in days)\n",
    "\n",
    "    y0 = N-1, 1, 0  # S0, I0, R0\n",
    "\n",
    "    # Integrate the equations over the time grid, t.\n",
    "    result = odeint(sir_model, y0, t, args=(N, beta, gamma))\n",
    "    S, I, R = result.T\n",
    "    return t, S, I, R"
   ]
  },
  {
   "cell_type": "code",
   "execution_count": 17,
   "metadata": {
    "execution": {
     "iopub.execute_input": "2020-06-12T08:40:58.246973Z",
     "iopub.status.busy": "2020-06-12T08:40:58.246194Z",
     "iopub.status.idle": "2020-06-12T08:40:58.269055Z",
     "shell.execute_reply": "2020-06-12T08:40:58.270485Z"
    },
    "papermill": {
     "duration": 0.072188,
     "end_time": "2020-06-12T08:40:58.270633",
     "exception": false,
     "start_time": "2020-06-12T08:40:58.198445",
     "status": "completed"
    },
    "tags": []
   },
   "outputs": [],
   "source": [
    "def fit_model(x, N, beta, gamma):\n",
    "    \"\"\"\n",
    "    returns: infections I per day ? \n",
    "    \"\"\"\n",
    "    return Model_SIR(days, N, beta, gamma)[2][x]"
   ]
  },
  {
   "cell_type": "markdown",
   "metadata": {
    "papermill": {
     "duration": 0.04097,
     "end_time": "2020-06-12T08:40:58.355438",
     "exception": false,
     "start_time": "2020-06-12T08:40:58.314468",
     "status": "completed"
    },
    "tags": []
   },
   "source": [
    "### initiate model & set params"
   ]
  },
  {
   "cell_type": "code",
   "execution_count": 18,
   "metadata": {
    "execution": {
     "iopub.execute_input": "2020-06-12T08:40:58.437610Z",
     "iopub.status.busy": "2020-06-12T08:40:58.436911Z",
     "iopub.status.idle": "2020-06-12T08:40:58.460680Z",
     "shell.execute_reply": "2020-06-12T08:40:58.461247Z"
    },
    "papermill": {
     "duration": 0.065847,
     "end_time": "2020-06-12T08:40:58.461361",
     "exception": false,
     "start_time": "2020-06-12T08:40:58.395514",
     "status": "completed"
    },
    "tags": []
   },
   "outputs": [
    {
     "data": {
      "text/html": [
       "<table><tr><th> name </th><th> value </th><th> initial value </th><th> min </th><th> max </th><th> vary </th></tr><tr><td> N </td><td>  5000000.00 </td><td> None </td><td>  0.00000000 </td><td>         inf </td><td> True </td></tr><tr><td> beta </td><td>  0.50000000 </td><td> None </td><td>  0.00000000 </td><td>         inf </td><td> True </td></tr><tr><td> gamma </td><td>  0.10000000 </td><td> None </td><td>  0.00000000 </td><td>  1.00000000 </td><td> True </td></tr></table>"
      ],
      "text/plain": [
       "Parameters([('N', <Parameter 'N', value=5000000, bounds=[0:inf]>),\n",
       "            ('beta', <Parameter 'beta', value=0.5, bounds=[0:inf]>),\n",
       "            ('gamma', <Parameter 'gamma', value=0.1, bounds=[0:1]>)])"
      ]
     },
     "execution_count": 18,
     "metadata": {},
     "output_type": "execute_result"
    }
   ],
   "source": [
    "mod = lmfit.Model(fit_model)\n",
    "\n",
    "mod.set_param_hint(\"N\", value=N, min=0, vary=True)\n",
    "mod.set_param_hint(\"beta\", value=0.5, min=0, vary=True)\n",
    "# mod.set_param_hint(\"gamma\", value=1/18, min=1/19, max=1/17, vary=True)\n",
    "mod.set_param_hint(\"gamma\", value=0.1, min=0, max=1, vary=True)\n",
    "\n",
    "params = mod.make_params()\n",
    "params"
   ]
  },
  {
   "cell_type": "code",
   "execution_count": 19,
   "metadata": {
    "execution": {
     "iopub.execute_input": "2020-06-12T08:40:58.547078Z",
     "iopub.status.busy": "2020-06-12T08:40:58.546356Z",
     "iopub.status.idle": "2020-06-12T08:40:58.992375Z",
     "shell.execute_reply": "2020-06-12T08:40:58.992950Z"
    },
    "papermill": {
     "duration": 0.492509,
     "end_time": "2020-06-12T08:40:58.993074",
     "exception": false,
     "start_time": "2020-06-12T08:40:58.500565",
     "status": "completed"
    },
    "tags": []
   },
   "outputs": [],
   "source": [
    "# fitting\n",
    "\n",
    "x_data = np.linspace(0, days-1, days, dtype=int)  # time grid (in days)\n",
    "\n",
    "results = mod.fit(data, params, method=\"leastsq\", x=x_data)  # leastsq, least_squares?"
   ]
  },
  {
   "cell_type": "code",
   "execution_count": 20,
   "metadata": {
    "execution": {
     "iopub.execute_input": "2020-06-12T08:40:59.077912Z",
     "iopub.status.busy": "2020-06-12T08:40:59.077338Z",
     "iopub.status.idle": "2020-06-12T08:40:59.388895Z",
     "shell.execute_reply": "2020-06-12T08:40:59.387897Z"
    },
    "papermill": {
     "duration": 0.355194,
     "end_time": "2020-06-12T08:40:59.389115",
     "exception": false,
     "start_time": "2020-06-12T08:40:59.033921",
     "status": "completed"
    },
    "tags": []
   },
   "outputs": [
    {
     "data": {
      "text/plain": [
       "{'N': 2517.6917550806197,\n",
       " 'beta': 9.625619947083646,\n",
       " 'gamma': 0.18601735208438996}"
      ]
     },
     "execution_count": 20,
     "metadata": {},
     "output_type": "execute_result"
    },
    {
     "data": {
      "image/png": "[encoded data removed]",
      "text/plain": [
       "<Figure size 576x360 with 1 Axes>"
      ]
     },
     "metadata": {
      "needs_background": "light"
     },
     "output_type": "display_data"
    }
   ],
   "source": [
    "plt.figure(figsize=(8,5))\n",
    "results.plot_fit(datafmt=\".\", fitfmt=\"-\");\n",
    "results.best_values"
   ]
  },
  {
   "cell_type": "code",
   "execution_count": 21,
   "metadata": {
    "execution": {
     "iopub.execute_input": "2020-06-12T08:40:59.476559Z",
     "iopub.status.busy": "2020-06-12T08:40:59.475816Z",
     "iopub.status.idle": "2020-06-12T08:40:59.772752Z",
     "shell.execute_reply": "2020-06-12T08:40:59.772066Z"
    },
    "papermill": {
     "duration": 0.341511,
     "end_time": "2020-06-12T08:40:59.772858",
     "exception": false,
     "start_time": "2020-06-12T08:40:59.431347",
     "status": "completed"
    },
    "tags": []
   },
   "outputs": [
    {
     "data": {
      "text/plain": [
       "<matplotlib.axes._subplots.AxesSubplot at 0x7fa7b3743eb8>"
      ]
     },
     "execution_count": 21,
     "metadata": {},
     "output_type": "execute_result"
    },
    {
     "data": {
      "image/png": "[encoded data removed]",
      "text/plain": [
       "<Figure size 576x360 with 1 Axes>"
      ]
     },
     "metadata": {
      "needs_background": "light"
     },
     "output_type": "display_data"
    }
   ],
   "source": [
    "plt.figure(figsize=(8,5))\n",
    "results.plot_residuals()"
   ]
  },
  {
   "cell_type": "code",
   "execution_count": 22,
   "metadata": {
    "execution": {
     "iopub.execute_input": "2020-06-12T08:40:59.864506Z",
     "iopub.status.busy": "2020-06-12T08:40:59.863546Z",
     "iopub.status.idle": "2020-06-12T08:40:59.883580Z",
     "shell.execute_reply": "2020-06-12T08:40:59.884112Z"
    },
    "papermill": {
     "duration": 0.067426,
     "end_time": "2020-06-12T08:40:59.884231",
     "exception": false,
     "start_time": "2020-06-12T08:40:59.816805",
     "status": "completed"
    },
    "tags": []
   },
   "outputs": [
    {
     "data": {
      "text/html": [
       "<h2> Model</h2> Model(fit_model) <h2>Fit Statistics</h2><table><tr><td>fitting method</td><td>leastsq</td><td></td></tr><tr><td># function evals</td><td>79</td><td></td></tr><tr><td># data points</td><td>118</td><td></td></tr><tr><td># variables</td><td>3</td><td></td></tr><tr><td>chi-square</td><td> 7875912.47</td><td></td></tr><tr><td>reduced chi-square</td><td> 68486.1954</td><td></td></tr><tr><td>Akaike info crit.</td><td> 1316.81893</td><td></td></tr><tr><td>Bayesian info crit.</td><td> 1325.13098</td><td></td></tr></table><h2>Variables</h2><table><tr><th> name </th><th> value </th><th> standard error </th><th> relative error </th><th> initial value </th><th> min </th><th> max </th><th> vary </th></tr><tr><td> N </td><td>  2517.69176 </td><td>  266.655726 </td><td> (10.59%) </td><td> 5000000 </td><td>  0.00000000 </td><td>         inf </td><td> True </td></tr><tr><td> beta </td><td>  9.62561995 </td><td>  0.92418498 </td><td> (9.60%) </td><td> 0.5 </td><td>  0.00000000 </td><td>         inf </td><td> True </td></tr><tr><td> gamma </td><td>  0.18601735 </td><td>  0.02693625 </td><td> (14.48%) </td><td> 0.1 </td><td>  0.00000000 </td><td>  1.00000000 </td><td> True </td></tr></table><h2>Correlations (unreported correlations are < 0.100)</h2><table><tr><td>N</td><td>gamma</td><td>0.7815</td></tr><tr><td>N</td><td>beta</td><td>-0.4581</td></tr><tr><td>beta</td><td>gamma</td><td>-0.4116</td></tr></table>"
      ],
      "text/plain": [
       "<lmfit.model.ModelResult at 0x7fa7b3715a20>"
      ]
     },
     "execution_count": 22,
     "metadata": {},
     "output_type": "execute_result"
    }
   ],
   "source": [
    "results"
   ]
  },
  {
   "cell_type": "code",
   "execution_count": 23,
   "metadata": {
    "execution": {
     "iopub.execute_input": "2020-06-12T08:41:00.477287Z",
     "iopub.status.busy": "2020-06-12T08:41:00.476539Z",
     "iopub.status.idle": "2020-06-12T08:41:00.498579Z",
     "shell.execute_reply": "2020-06-12T08:41:00.497969Z"
    },
    "papermill": {
     "duration": 0.569886,
     "end_time": "2020-06-12T08:41:00.498667",
     "exception": false,
     "start_time": "2020-06-12T08:40:59.928781",
     "status": "completed"
    },
    "tags": []
   },
   "outputs": [
    {
     "data": {
      "text/plain": [
       "0.05555555555555555"
      ]
     },
     "execution_count": 23,
     "metadata": {},
     "output_type": "execute_result"
    }
   ],
   "source": [
    "# gamma should be close to this: \n",
    "1/18"
   ]
  },
  {
   "cell_type": "code",
   "execution_count": 24,
   "metadata": {
    "execution": {
     "iopub.execute_input": "2020-06-12T08:41:00.597764Z",
     "iopub.status.busy": "2020-06-12T08:41:00.597062Z",
     "iopub.status.idle": "2020-06-12T08:41:00.621665Z",
     "shell.execute_reply": "2020-06-12T08:41:00.621080Z"
    },
    "papermill": {
     "duration": 0.078621,
     "end_time": "2020-06-12T08:41:00.621761",
     "exception": false,
     "start_time": "2020-06-12T08:41:00.543140",
     "status": "completed"
    },
    "tags": []
   },
   "outputs": [],
   "source": [
    "def plot_sir2(t, S, I, R, x_ticks, COUNTRY):\n",
    "    f, ax = plt.subplots(1, 1, figsize=(12,8))\n",
    "    ax.set_title('Country: %s' % COUNTRY, fontsize= 20) \n",
    "    \n",
    "    ax.plot(x_ticks, S, 'b', alpha=0.7, linewidth=1, label='Susceptible')  # TODO: t\n",
    "    ax.plot(x_ticks, I, 'r', alpha=0.7, linewidth=2, label='Infected')\n",
    "    ax.plot(x_ticks, R, 'y', alpha=0.7, linewidth=1, label='Recovered')\n",
    "\n",
    "    ax.set_xlabel('Time (days)')\n",
    "\n",
    "    ax.yaxis.set_tick_params(length=0)\n",
    "    ax.xaxis.set_tick_params(length=0)\n",
    "    \n",
    "    # ax.set_ylim(0, 1800)\n",
    "    \n",
    "    ax.grid(b=True, which='major', c='w', lw=2, ls='-')\n",
    "    legend = ax.legend()\n",
    "    legend.get_frame().set_alpha(0.5)\n",
    "    for spine in ('top', 'right', 'bottom', 'left'):\n",
    "        ax.spines[spine].set_visible(False)\n",
    "        \n",
    "    # overlay actual data\n",
    "    ax.bar(df_country['date'], df_country['new_cases'])\n",
    "\n",
    "    plt.show()"
   ]
  },
  {
   "cell_type": "code",
   "execution_count": 25,
   "metadata": {
    "execution": {
     "iopub.execute_input": "2020-06-12T08:41:00.721851Z",
     "iopub.status.busy": "2020-06-12T08:41:00.721169Z",
     "iopub.status.idle": "2020-06-12T08:41:00.741834Z",
     "shell.execute_reply": "2020-06-12T08:41:00.741244Z"
    },
    "papermill": {
     "duration": 0.076239,
     "end_time": "2020-06-12T08:41:00.741919",
     "exception": false,
     "start_time": "2020-06-12T08:41:00.665680",
     "status": "completed"
    },
    "tags": []
   },
   "outputs": [],
   "source": [
    "def plot_infected(t, S, I, R, x_ticks, COUNTRY):\n",
    "    f, ax = plt.subplots(1, 1, figsize=(12,8))\n",
    "    ax.set_title('Country: %s' % COUNTRY, fontsize= 20) \n",
    "    \n",
    "    ax.plot(x_ticks, I, 'r', alpha=0.7, linewidth=2, label='Infected (prediction)')\n",
    "\n",
    "    ax.set_xlabel('Time (days)')\n",
    "\n",
    "    ax.yaxis.set_tick_params(length=0)\n",
    "    ax.xaxis.set_tick_params(length=0)\n",
    "    \n",
    "    # ax.set_ylim(0, 1800)\n",
    "    ax.grid(b=True, which='major', c='w', lw=2, ls='-')\n",
    "    legend = ax.legend()\n",
    "    legend.get_frame().set_alpha(0.5)\n",
    "    \n",
    "    # overlay actual data\n",
    "    ax.bar(df_country['date'], df_country['new_cases'])\n",
    "\n",
    "    plt.show()"
   ]
  },
  {
   "cell_type": "code",
   "execution_count": 26,
   "metadata": {
    "execution": {
     "iopub.execute_input": "2020-06-12T08:41:00.836311Z",
     "iopub.status.busy": "2020-06-12T08:41:00.835516Z",
     "iopub.status.idle": "2020-06-12T08:41:00.858172Z",
     "shell.execute_reply": "2020-06-12T08:41:00.857459Z"
    },
    "papermill": {
     "duration": 0.072921,
     "end_time": "2020-06-12T08:41:00.858263",
     "exception": false,
     "start_time": "2020-06-12T08:41:00.785342",
     "status": "completed"
    },
    "tags": []
   },
   "outputs": [],
   "source": [
    "max_days = 210\n",
    "first_date = np.datetime64(df_country['date'].min()) - np.timedelta64(0, 'D')\n",
    "\n",
    "x_ticks = pd.date_range(start=first_date, periods=max_days, freq=\"D\")"
   ]
  },
  {
   "cell_type": "code",
   "execution_count": 27,
   "metadata": {
    "execution": {
     "iopub.execute_input": "2020-06-12T08:41:00.959904Z",
     "iopub.status.busy": "2020-06-12T08:41:00.959256Z",
     "iopub.status.idle": "2020-06-12T08:41:01.631416Z",
     "shell.execute_reply": "2020-06-12T08:41:01.631868Z"
    },
    "papermill": {
     "duration": 0.730201,
     "end_time": "2020-06-12T08:41:01.631978",
     "exception": false,
     "start_time": "2020-06-12T08:41:00.901777",
     "status": "completed"
    },
    "tags": []
   },
   "outputs": [
    {
     "data": {
      "image/png": "[encoded data removed]",
      "text/plain": [
       "<Figure size 864x576 with 1 Axes>"
      ]
     },
     "metadata": {
      "needs_background": "light"
     },
     "output_type": "display_data"
    }
   ],
   "source": [
    "plot_sir2(*Model_SIR(max_days, **results.best_values), x_ticks, COUNTRY)"
   ]
  },
  {
   "cell_type": "code",
   "execution_count": 28,
   "metadata": {
    "execution": {
     "iopub.execute_input": "2020-06-12T08:41:01.733820Z",
     "iopub.status.busy": "2020-06-12T08:41:01.733138Z",
     "iopub.status.idle": "2020-06-12T08:41:02.432175Z",
     "shell.execute_reply": "2020-06-12T08:41:02.432954Z"
    },
    "papermill": {
     "duration": 0.752506,
     "end_time": "2020-06-12T08:41:02.433085",
     "exception": false,
     "start_time": "2020-06-12T08:41:01.680579",
     "status": "completed"
    },
    "tags": []
   },
   "outputs": [
    {
     "data": {
      "image/png": "[encoded data removed]",
      "text/plain": [
       "<Figure size 864x576 with 1 Axes>"
      ]
     },
     "metadata": {
      "needs_background": "light"
     },
     "output_type": "display_data"
    }
   ],
   "source": [
    "plot_infected(*Model_SIR(max_days, **results.best_values), x_ticks, COUNTRY)"
   ]
  },
  {
   "cell_type": "markdown",
   "metadata": {
    "papermill": {
     "duration": 0.046525,
     "end_time": "2020-06-12T08:41:02.526963",
     "exception": false,
     "start_time": "2020-06-12T08:41:02.480438",
     "status": "completed"
    },
    "tags": []
   },
   "source": [
    "# observations\n",
    "\n",
    "- It is difficult to make predictions for different countries with the evolving situation and resources available. A country could be at different stages of the outbreak\n",
    "- A more complicated model could be used e.g. SEIR "
   ]
  },
  {
   "cell_type": "code",
   "execution_count": null,
   "metadata": {
    "papermill": {
     "duration": 0.044996,
     "end_time": "2020-06-12T08:41:02.618970",
     "exception": false,
     "start_time": "2020-06-12T08:41:02.573974",
     "status": "completed"
    },
    "tags": []
   },
   "outputs": [],
   "source": []
  },
  {
   "cell_type": "code",
   "execution_count": null,
   "metadata": {
    "papermill": {
     "duration": 0.055403,
     "end_time": "2020-06-12T08:41:02.729968",
     "exception": false,
     "start_time": "2020-06-12T08:41:02.674565",
     "status": "completed"
    },
    "tags": []
   },
   "outputs": [],
   "source": []
  }
 ],
 "metadata": {
  "kernelspec": {
   "display_name": "Python 3",
   "language": "python",
   "name": "python3"
  },
  "language_info": {
   "codemirror_mode": {
    "name": "ipython",
    "version": 3
   },
   "file_extension": ".py",
   "mimetype": "text/x-python",
   "name": "python",
   "nbconvert_exporter": "python",
   "pygments_lexer": "ipython3",
   "version": "3.7.3"
  },
  "papermill": {
   "duration": 10.767928,
   "end_time": "2020-06-12T08:41:03.206617",
   "environment_variables": {},
   "exception": null,
   "input_path": "sir_country_model.ipynb",
   "output_path": "output/country_CHN.ipynb",
   "parameters": {
    "COUNTRY": "CHN",
    "START_DATE": "2020-02-14"
   },
   "start_time": "2020-06-12T08:40:52.438689",
   "version": "2.1.1"
  }
 },
 "nbformat": 4,
 "nbformat_minor": 4
}