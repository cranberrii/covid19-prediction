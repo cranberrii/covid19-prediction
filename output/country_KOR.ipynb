{
 "cells": [
  {
   "cell_type": "code",
   "execution_count": 1,
   "metadata": {
    "execution": {
     "iopub.execute_input": "2020-06-12T08:40:41.975165Z",
     "iopub.status.busy": "2020-06-12T08:40:41.974306Z",
     "iopub.status.idle": "2020-06-12T08:40:41.988731Z",
     "shell.execute_reply": "2020-06-12T08:40:41.988078Z"
    },
    "papermill": {
     "duration": 0.065419,
     "end_time": "2020-06-12T08:40:41.988830",
     "exception": false,
     "start_time": "2020-06-12T08:40:41.923411",
     "status": "completed"
    },
    "tags": []
   },
   "outputs": [],
   "source": [
    "%load_ext autoreload\n",
    "%autoreload 2"
   ]
  },
  {
   "cell_type": "code",
   "execution_count": 2,
   "metadata": {
    "execution": {
     "iopub.execute_input": "2020-06-12T08:40:42.053286Z",
     "iopub.status.busy": "2020-06-12T08:40:42.052580Z",
     "iopub.status.idle": "2020-06-12T08:40:43.070058Z",
     "shell.execute_reply": "2020-06-12T08:40:43.069360Z"
    },
    "papermill": {
     "duration": 1.051376,
     "end_time": "2020-06-12T08:40:43.070146",
     "exception": false,
     "start_time": "2020-06-12T08:40:42.018770",
     "status": "completed"
    },
    "tags": []
   },
   "outputs": [],
   "source": [
    "import scipy\n",
    "from scipy.integrate import odeint\n",
    "\n",
    "import pandas as pd\n",
    "import numpy as np\n",
    "import datetime\n",
    "\n",
    "import matplotlib.pyplot as plt\n",
    "import matplotlib.dates as mdates\n",
    "import seaborn as sns\n",
    "\n",
    "import lmfit\n",
    "from lmfit.lineshapes import gaussian, lorentzian\n",
    "\n",
    "plt.style.use('fivethirtyeight')\n",
    "%matplotlib inline "
   ]
  },
  {
   "cell_type": "code",
   "execution_count": 3,
   "metadata": {
    "execution": {
     "iopub.execute_input": "2020-06-12T08:40:43.131135Z",
     "iopub.status.busy": "2020-06-12T08:40:43.130541Z",
     "iopub.status.idle": "2020-06-12T08:40:43.152333Z",
     "shell.execute_reply": "2020-06-12T08:40:43.152848Z"
    },
    "papermill": {
     "duration": 0.054327,
     "end_time": "2020-06-12T08:40:43.152970",
     "exception": false,
     "start_time": "2020-06-12T08:40:43.098643",
     "status": "completed"
    },
    "tags": [
     "parameters"
    ]
   },
   "outputs": [],
   "source": [
    "# parameters \n",
    "\n",
    "COUNTRY = 'JPN'  # 'SGP', 'MYS', 'DEU', 'OWID_WRL'\n",
    "\n",
    "START_DATE = '2020-02-14'"
   ]
  },
  {
   "cell_type": "code",
   "execution_count": 4,
   "metadata": {
    "execution": {
     "iopub.execute_input": "2020-06-12T08:40:43.212035Z",
     "iopub.status.busy": "2020-06-12T08:40:43.211425Z",
     "iopub.status.idle": "2020-06-12T08:40:43.238479Z",
     "shell.execute_reply": "2020-06-12T08:40:43.239144Z"
    },
    "papermill": {
     "duration": 0.059109,
     "end_time": "2020-06-12T08:40:43.239294",
     "exception": false,
     "start_time": "2020-06-12T08:40:43.180185",
     "status": "completed"
    },
    "tags": [
     "injected-parameters"
    ]
   },
   "outputs": [],
   "source": [
    "# Parameters\n",
    "COUNTRY = \"KOR\"\n",
    "START_DATE = \"2020-02-14\"\n"
   ]
  },
  {
   "cell_type": "code",
   "execution_count": 5,
   "metadata": {
    "execution": {
     "iopub.execute_input": "2020-06-12T08:40:43.299148Z",
     "iopub.status.busy": "2020-06-12T08:40:43.298559Z",
     "iopub.status.idle": "2020-06-12T08:40:43.457715Z",
     "shell.execute_reply": "2020-06-12T08:40:43.458295Z"
    },
    "papermill": {
     "duration": 0.189952,
     "end_time": "2020-06-12T08:40:43.458409",
     "exception": false,
     "start_time": "2020-06-12T08:40:43.268457",
     "status": "completed"
    },
    "tags": []
   },
   "outputs": [
    {
     "data": {
      "text/plain": [
       "(23194, 33)"
      ]
     },
     "execution_count": 5,
     "metadata": {},
     "output_type": "execute_result"
    }
   ],
   "source": [
    "DATA_PATH = '../covid-19-data/public/data/owid-covid-data.csv'\n",
    "# DATA_PATH = '../covid-19-data/public/data/ecdc/full_data.csv'\n",
    "\n",
    "df = pd.read_csv(DATA_PATH)\n",
    "df['date'] = pd.to_datetime(df['date'], yearfirst=True)\n",
    "df.shape"
   ]
  },
  {
   "cell_type": "code",
   "execution_count": 6,
   "metadata": {
    "execution": {
     "iopub.execute_input": "2020-06-12T08:40:43.520120Z",
     "iopub.status.busy": "2020-06-12T08:40:43.519534Z",
     "iopub.status.idle": "2020-06-12T08:40:43.565387Z",
     "shell.execute_reply": "2020-06-12T08:40:43.564746Z"
    },
    "papermill": {
     "duration": 0.077629,
     "end_time": "2020-06-12T08:40:43.565478",
     "exception": false,
     "start_time": "2020-06-12T08:40:43.487849",
     "status": "completed"
    },
    "tags": []
   },
   "outputs": [
    {
     "data": {
      "text/html": [
       "<div>\n",
       "<style scoped>\n",
       "    .dataframe tbody tr th:only-of-type {\n",
       "        vertical-align: middle;\n",
       "    }\n",
       "\n",
       "    .dataframe tbody tr th {\n",
       "        vertical-align: top;\n",
       "    }\n",
       "\n",
       "    .dataframe thead th {\n",
       "        text-align: right;\n",
       "    }\n",
       "</style>\n",
       "<table border=\"1\" class=\"dataframe\">\n",
       "  <thead>\n",
       "    <tr style=\"text-align: right;\">\n",
       "      <th></th>\n",
       "      <th>iso_code</th>\n",
       "      <th>continent</th>\n",
       "      <th>location</th>\n",
       "      <th>date</th>\n",
       "      <th>total_cases</th>\n",
       "      <th>new_cases</th>\n",
       "      <th>total_deaths</th>\n",
       "      <th>new_deaths</th>\n",
       "      <th>total_cases_per_million</th>\n",
       "      <th>new_cases_per_million</th>\n",
       "      <th>...</th>\n",
       "      <th>aged_65_older</th>\n",
       "      <th>aged_70_older</th>\n",
       "      <th>gdp_per_capita</th>\n",
       "      <th>extreme_poverty</th>\n",
       "      <th>cvd_death_rate</th>\n",
       "      <th>diabetes_prevalence</th>\n",
       "      <th>female_smokers</th>\n",
       "      <th>male_smokers</th>\n",
       "      <th>handwashing_facilities</th>\n",
       "      <th>hospital_beds_per_thousand</th>\n",
       "    </tr>\n",
       "  </thead>\n",
       "  <tbody>\n",
       "    <tr>\n",
       "      <th>0</th>\n",
       "      <td>AFG</td>\n",
       "      <td>Asia</td>\n",
       "      <td>Afghanistan</td>\n",
       "      <td>2019-12-31</td>\n",
       "      <td>0</td>\n",
       "      <td>0</td>\n",
       "      <td>0</td>\n",
       "      <td>0</td>\n",
       "      <td>0.0</td>\n",
       "      <td>0.0</td>\n",
       "      <td>...</td>\n",
       "      <td>2.581</td>\n",
       "      <td>1.337</td>\n",
       "      <td>1803.987</td>\n",
       "      <td>NaN</td>\n",
       "      <td>597.029</td>\n",
       "      <td>9.59</td>\n",
       "      <td>NaN</td>\n",
       "      <td>NaN</td>\n",
       "      <td>37.746</td>\n",
       "      <td>0.5</td>\n",
       "    </tr>\n",
       "    <tr>\n",
       "      <th>1</th>\n",
       "      <td>AFG</td>\n",
       "      <td>Asia</td>\n",
       "      <td>Afghanistan</td>\n",
       "      <td>2020-01-01</td>\n",
       "      <td>0</td>\n",
       "      <td>0</td>\n",
       "      <td>0</td>\n",
       "      <td>0</td>\n",
       "      <td>0.0</td>\n",
       "      <td>0.0</td>\n",
       "      <td>...</td>\n",
       "      <td>2.581</td>\n",
       "      <td>1.337</td>\n",
       "      <td>1803.987</td>\n",
       "      <td>NaN</td>\n",
       "      <td>597.029</td>\n",
       "      <td>9.59</td>\n",
       "      <td>NaN</td>\n",
       "      <td>NaN</td>\n",
       "      <td>37.746</td>\n",
       "      <td>0.5</td>\n",
       "    </tr>\n",
       "    <tr>\n",
       "      <th>2</th>\n",
       "      <td>AFG</td>\n",
       "      <td>Asia</td>\n",
       "      <td>Afghanistan</td>\n",
       "      <td>2020-01-02</td>\n",
       "      <td>0</td>\n",
       "      <td>0</td>\n",
       "      <td>0</td>\n",
       "      <td>0</td>\n",
       "      <td>0.0</td>\n",
       "      <td>0.0</td>\n",
       "      <td>...</td>\n",
       "      <td>2.581</td>\n",
       "      <td>1.337</td>\n",
       "      <td>1803.987</td>\n",
       "      <td>NaN</td>\n",
       "      <td>597.029</td>\n",
       "      <td>9.59</td>\n",
       "      <td>NaN</td>\n",
       "      <td>NaN</td>\n",
       "      <td>37.746</td>\n",
       "      <td>0.5</td>\n",
       "    </tr>\n",
       "    <tr>\n",
       "      <th>3</th>\n",
       "      <td>AFG</td>\n",
       "      <td>Asia</td>\n",
       "      <td>Afghanistan</td>\n",
       "      <td>2020-01-03</td>\n",
       "      <td>0</td>\n",
       "      <td>0</td>\n",
       "      <td>0</td>\n",
       "      <td>0</td>\n",
       "      <td>0.0</td>\n",
       "      <td>0.0</td>\n",
       "      <td>...</td>\n",
       "      <td>2.581</td>\n",
       "      <td>1.337</td>\n",
       "      <td>1803.987</td>\n",
       "      <td>NaN</td>\n",
       "      <td>597.029</td>\n",
       "      <td>9.59</td>\n",
       "      <td>NaN</td>\n",
       "      <td>NaN</td>\n",
       "      <td>37.746</td>\n",
       "      <td>0.5</td>\n",
       "    </tr>\n",
       "    <tr>\n",
       "      <th>4</th>\n",
       "      <td>AFG</td>\n",
       "      <td>Asia</td>\n",
       "      <td>Afghanistan</td>\n",
       "      <td>2020-01-04</td>\n",
       "      <td>0</td>\n",
       "      <td>0</td>\n",
       "      <td>0</td>\n",
       "      <td>0</td>\n",
       "      <td>0.0</td>\n",
       "      <td>0.0</td>\n",
       "      <td>...</td>\n",
       "      <td>2.581</td>\n",
       "      <td>1.337</td>\n",
       "      <td>1803.987</td>\n",
       "      <td>NaN</td>\n",
       "      <td>597.029</td>\n",
       "      <td>9.59</td>\n",
       "      <td>NaN</td>\n",
       "      <td>NaN</td>\n",
       "      <td>37.746</td>\n",
       "      <td>0.5</td>\n",
       "    </tr>\n",
       "  </tbody>\n",
       "</table>\n",
       "<p>5 rows × 33 columns</p>\n",
       "</div>"
      ],
      "text/plain": [
       "  iso_code continent     location       date  total_cases  new_cases  \\\n",
       "0      AFG      Asia  Afghanistan 2019-12-31            0          0   \n",
       "1      AFG      Asia  Afghanistan 2020-01-01            0          0   \n",
       "2      AFG      Asia  Afghanistan 2020-01-02            0          0   \n",
       "3      AFG      Asia  Afghanistan 2020-01-03            0          0   \n",
       "4      AFG      Asia  Afghanistan 2020-01-04            0          0   \n",
       "\n",
       "   total_deaths  new_deaths  total_cases_per_million  new_cases_per_million  \\\n",
       "0             0           0                      0.0                    0.0   \n",
       "1             0           0                      0.0                    0.0   \n",
       "2             0           0                      0.0                    0.0   \n",
       "3             0           0                      0.0                    0.0   \n",
       "4             0           0                      0.0                    0.0   \n",
       "\n",
       "   ...  aged_65_older  aged_70_older  gdp_per_capita  extreme_poverty  \\\n",
       "0  ...          2.581          1.337        1803.987              NaN   \n",
       "1  ...          2.581          1.337        1803.987              NaN   \n",
       "2  ...          2.581          1.337        1803.987              NaN   \n",
       "3  ...          2.581          1.337        1803.987              NaN   \n",
       "4  ...          2.581          1.337        1803.987              NaN   \n",
       "\n",
       "   cvd_death_rate  diabetes_prevalence  female_smokers  male_smokers  \\\n",
       "0         597.029                 9.59             NaN           NaN   \n",
       "1         597.029                 9.59             NaN           NaN   \n",
       "2         597.029                 9.59             NaN           NaN   \n",
       "3         597.029                 9.59             NaN           NaN   \n",
       "4         597.029                 9.59             NaN           NaN   \n",
       "\n",
       "  handwashing_facilities  hospital_beds_per_thousand  \n",
       "0                 37.746                         0.5  \n",
       "1                 37.746                         0.5  \n",
       "2                 37.746                         0.5  \n",
       "3                 37.746                         0.5  \n",
       "4                 37.746                         0.5  \n",
       "\n",
       "[5 rows x 33 columns]"
      ]
     },
     "execution_count": 6,
     "metadata": {},
     "output_type": "execute_result"
    }
   ],
   "source": [
    "df.head()"
   ]
  },
  {
   "cell_type": "code",
   "execution_count": 7,
   "metadata": {
    "execution": {
     "iopub.execute_input": "2020-06-12T08:40:43.628792Z",
     "iopub.status.busy": "2020-06-12T08:40:43.628206Z",
     "iopub.status.idle": "2020-06-12T08:40:43.658275Z",
     "shell.execute_reply": "2020-06-12T08:40:43.657658Z"
    },
    "papermill": {
     "duration": 0.062165,
     "end_time": "2020-06-12T08:40:43.658389",
     "exception": false,
     "start_time": "2020-06-12T08:40:43.596224",
     "status": "completed"
    },
    "tags": []
   },
   "outputs": [
    {
     "data": {
      "text/plain": [
       "CAN         165\n",
       "RUS         165\n",
       "LTU         165\n",
       "IRN         164\n",
       "NPL         164\n",
       "USA         164\n",
       "DNK         164\n",
       "GRC         164\n",
       "KOR         164\n",
       "EST         164\n",
       "FIN         164\n",
       "MEX         164\n",
       "AUT         164\n",
       "DEU         164\n",
       "JPN         164\n",
       "BLR         164\n",
       "OWID_WRL    164\n",
       "VNM         164\n",
       "CHN         164\n",
       "BRA         164\n",
       "Name: iso_code, dtype: int64"
      ]
     },
     "execution_count": 7,
     "metadata": {},
     "output_type": "execute_result"
    }
   ],
   "source": [
    "df['iso_code'].value_counts().head(20)"
   ]
  },
  {
   "cell_type": "markdown",
   "metadata": {
    "papermill": {
     "duration": 0.028916,
     "end_time": "2020-06-12T08:40:43.716895",
     "exception": false,
     "start_time": "2020-06-12T08:40:43.687979",
     "status": "completed"
    },
    "tags": []
   },
   "source": [
    "filter country"
   ]
  },
  {
   "cell_type": "code",
   "execution_count": 8,
   "metadata": {
    "execution": {
     "iopub.execute_input": "2020-06-12T08:40:43.783676Z",
     "iopub.status.busy": "2020-06-12T08:40:43.782785Z",
     "iopub.status.idle": "2020-06-12T08:40:43.847503Z",
     "shell.execute_reply": "2020-06-12T08:40:43.846811Z"
    },
    "papermill": {
     "duration": 0.099692,
     "end_time": "2020-06-12T08:40:43.847594",
     "exception": false,
     "start_time": "2020-06-12T08:40:43.747902",
     "status": "completed"
    },
    "tags": []
   },
   "outputs": [
    {
     "data": {
      "text/html": [
       "<div>\n",
       "<style scoped>\n",
       "    .dataframe tbody tr th:only-of-type {\n",
       "        vertical-align: middle;\n",
       "    }\n",
       "\n",
       "    .dataframe tbody tr th {\n",
       "        vertical-align: top;\n",
       "    }\n",
       "\n",
       "    .dataframe thead th {\n",
       "        text-align: right;\n",
       "    }\n",
       "</style>\n",
       "<table border=\"1\" class=\"dataframe\">\n",
       "  <thead>\n",
       "    <tr style=\"text-align: right;\">\n",
       "      <th></th>\n",
       "      <th>iso_code</th>\n",
       "      <th>continent</th>\n",
       "      <th>location</th>\n",
       "      <th>date</th>\n",
       "      <th>total_cases</th>\n",
       "      <th>new_cases</th>\n",
       "      <th>total_deaths</th>\n",
       "      <th>new_deaths</th>\n",
       "      <th>total_cases_per_million</th>\n",
       "      <th>new_cases_per_million</th>\n",
       "      <th>...</th>\n",
       "      <th>aged_65_older</th>\n",
       "      <th>aged_70_older</th>\n",
       "      <th>gdp_per_capita</th>\n",
       "      <th>extreme_poverty</th>\n",
       "      <th>cvd_death_rate</th>\n",
       "      <th>diabetes_prevalence</th>\n",
       "      <th>female_smokers</th>\n",
       "      <th>male_smokers</th>\n",
       "      <th>handwashing_facilities</th>\n",
       "      <th>hospital_beds_per_thousand</th>\n",
       "    </tr>\n",
       "  </thead>\n",
       "  <tbody>\n",
       "    <tr>\n",
       "      <th>19279</th>\n",
       "      <td>KOR</td>\n",
       "      <td>Asia</td>\n",
       "      <td>South Korea</td>\n",
       "      <td>2020-02-15</td>\n",
       "      <td>28</td>\n",
       "      <td>0</td>\n",
       "      <td>0</td>\n",
       "      <td>0</td>\n",
       "      <td>0.546</td>\n",
       "      <td>0.000</td>\n",
       "      <td>...</td>\n",
       "      <td>13.914</td>\n",
       "      <td>8.622</td>\n",
       "      <td>35938.374</td>\n",
       "      <td>0.2</td>\n",
       "      <td>85.998</td>\n",
       "      <td>6.8</td>\n",
       "      <td>6.2</td>\n",
       "      <td>40.9</td>\n",
       "      <td>NaN</td>\n",
       "      <td>12.27</td>\n",
       "    </tr>\n",
       "    <tr>\n",
       "      <th>19280</th>\n",
       "      <td>KOR</td>\n",
       "      <td>Asia</td>\n",
       "      <td>South Korea</td>\n",
       "      <td>2020-02-16</td>\n",
       "      <td>29</td>\n",
       "      <td>1</td>\n",
       "      <td>0</td>\n",
       "      <td>0</td>\n",
       "      <td>0.566</td>\n",
       "      <td>0.020</td>\n",
       "      <td>...</td>\n",
       "      <td>13.914</td>\n",
       "      <td>8.622</td>\n",
       "      <td>35938.374</td>\n",
       "      <td>0.2</td>\n",
       "      <td>85.998</td>\n",
       "      <td>6.8</td>\n",
       "      <td>6.2</td>\n",
       "      <td>40.9</td>\n",
       "      <td>NaN</td>\n",
       "      <td>12.27</td>\n",
       "    </tr>\n",
       "    <tr>\n",
       "      <th>19281</th>\n",
       "      <td>KOR</td>\n",
       "      <td>Asia</td>\n",
       "      <td>South Korea</td>\n",
       "      <td>2020-02-17</td>\n",
       "      <td>30</td>\n",
       "      <td>1</td>\n",
       "      <td>0</td>\n",
       "      <td>0</td>\n",
       "      <td>0.585</td>\n",
       "      <td>0.020</td>\n",
       "      <td>...</td>\n",
       "      <td>13.914</td>\n",
       "      <td>8.622</td>\n",
       "      <td>35938.374</td>\n",
       "      <td>0.2</td>\n",
       "      <td>85.998</td>\n",
       "      <td>6.8</td>\n",
       "      <td>6.2</td>\n",
       "      <td>40.9</td>\n",
       "      <td>NaN</td>\n",
       "      <td>12.27</td>\n",
       "    </tr>\n",
       "    <tr>\n",
       "      <th>19282</th>\n",
       "      <td>KOR</td>\n",
       "      <td>Asia</td>\n",
       "      <td>South Korea</td>\n",
       "      <td>2020-02-18</td>\n",
       "      <td>31</td>\n",
       "      <td>1</td>\n",
       "      <td>0</td>\n",
       "      <td>0</td>\n",
       "      <td>0.605</td>\n",
       "      <td>0.020</td>\n",
       "      <td>...</td>\n",
       "      <td>13.914</td>\n",
       "      <td>8.622</td>\n",
       "      <td>35938.374</td>\n",
       "      <td>0.2</td>\n",
       "      <td>85.998</td>\n",
       "      <td>6.8</td>\n",
       "      <td>6.2</td>\n",
       "      <td>40.9</td>\n",
       "      <td>NaN</td>\n",
       "      <td>12.27</td>\n",
       "    </tr>\n",
       "    <tr>\n",
       "      <th>19283</th>\n",
       "      <td>KOR</td>\n",
       "      <td>Asia</td>\n",
       "      <td>South Korea</td>\n",
       "      <td>2020-02-19</td>\n",
       "      <td>46</td>\n",
       "      <td>15</td>\n",
       "      <td>0</td>\n",
       "      <td>0</td>\n",
       "      <td>0.897</td>\n",
       "      <td>0.293</td>\n",
       "      <td>...</td>\n",
       "      <td>13.914</td>\n",
       "      <td>8.622</td>\n",
       "      <td>35938.374</td>\n",
       "      <td>0.2</td>\n",
       "      <td>85.998</td>\n",
       "      <td>6.8</td>\n",
       "      <td>6.2</td>\n",
       "      <td>40.9</td>\n",
       "      <td>NaN</td>\n",
       "      <td>12.27</td>\n",
       "    </tr>\n",
       "    <tr>\n",
       "      <th>...</th>\n",
       "      <td>...</td>\n",
       "      <td>...</td>\n",
       "      <td>...</td>\n",
       "      <td>...</td>\n",
       "      <td>...</td>\n",
       "      <td>...</td>\n",
       "      <td>...</td>\n",
       "      <td>...</td>\n",
       "      <td>...</td>\n",
       "      <td>...</td>\n",
       "      <td>...</td>\n",
       "      <td>...</td>\n",
       "      <td>...</td>\n",
       "      <td>...</td>\n",
       "      <td>...</td>\n",
       "      <td>...</td>\n",
       "      <td>...</td>\n",
       "      <td>...</td>\n",
       "      <td>...</td>\n",
       "      <td>...</td>\n",
       "      <td>...</td>\n",
       "    </tr>\n",
       "    <tr>\n",
       "      <th>19392</th>\n",
       "      <td>KOR</td>\n",
       "      <td>Asia</td>\n",
       "      <td>South Korea</td>\n",
       "      <td>2020-06-07</td>\n",
       "      <td>11776</td>\n",
       "      <td>57</td>\n",
       "      <td>273</td>\n",
       "      <td>0</td>\n",
       "      <td>229.690</td>\n",
       "      <td>1.112</td>\n",
       "      <td>...</td>\n",
       "      <td>13.914</td>\n",
       "      <td>8.622</td>\n",
       "      <td>35938.374</td>\n",
       "      <td>0.2</td>\n",
       "      <td>85.998</td>\n",
       "      <td>6.8</td>\n",
       "      <td>6.2</td>\n",
       "      <td>40.9</td>\n",
       "      <td>NaN</td>\n",
       "      <td>12.27</td>\n",
       "    </tr>\n",
       "    <tr>\n",
       "      <th>19393</th>\n",
       "      <td>KOR</td>\n",
       "      <td>Asia</td>\n",
       "      <td>South Korea</td>\n",
       "      <td>2020-06-08</td>\n",
       "      <td>11814</td>\n",
       "      <td>38</td>\n",
       "      <td>273</td>\n",
       "      <td>0</td>\n",
       "      <td>230.431</td>\n",
       "      <td>0.741</td>\n",
       "      <td>...</td>\n",
       "      <td>13.914</td>\n",
       "      <td>8.622</td>\n",
       "      <td>35938.374</td>\n",
       "      <td>0.2</td>\n",
       "      <td>85.998</td>\n",
       "      <td>6.8</td>\n",
       "      <td>6.2</td>\n",
       "      <td>40.9</td>\n",
       "      <td>NaN</td>\n",
       "      <td>12.27</td>\n",
       "    </tr>\n",
       "    <tr>\n",
       "      <th>19394</th>\n",
       "      <td>KOR</td>\n",
       "      <td>Asia</td>\n",
       "      <td>South Korea</td>\n",
       "      <td>2020-06-09</td>\n",
       "      <td>11852</td>\n",
       "      <td>38</td>\n",
       "      <td>274</td>\n",
       "      <td>1</td>\n",
       "      <td>231.172</td>\n",
       "      <td>0.741</td>\n",
       "      <td>...</td>\n",
       "      <td>13.914</td>\n",
       "      <td>8.622</td>\n",
       "      <td>35938.374</td>\n",
       "      <td>0.2</td>\n",
       "      <td>85.998</td>\n",
       "      <td>6.8</td>\n",
       "      <td>6.2</td>\n",
       "      <td>40.9</td>\n",
       "      <td>NaN</td>\n",
       "      <td>12.27</td>\n",
       "    </tr>\n",
       "    <tr>\n",
       "      <th>19395</th>\n",
       "      <td>KOR</td>\n",
       "      <td>Asia</td>\n",
       "      <td>South Korea</td>\n",
       "      <td>2020-06-10</td>\n",
       "      <td>11902</td>\n",
       "      <td>50</td>\n",
       "      <td>276</td>\n",
       "      <td>2</td>\n",
       "      <td>232.147</td>\n",
       "      <td>0.975</td>\n",
       "      <td>...</td>\n",
       "      <td>13.914</td>\n",
       "      <td>8.622</td>\n",
       "      <td>35938.374</td>\n",
       "      <td>0.2</td>\n",
       "      <td>85.998</td>\n",
       "      <td>6.8</td>\n",
       "      <td>6.2</td>\n",
       "      <td>40.9</td>\n",
       "      <td>NaN</td>\n",
       "      <td>12.27</td>\n",
       "    </tr>\n",
       "    <tr>\n",
       "      <th>19396</th>\n",
       "      <td>KOR</td>\n",
       "      <td>Asia</td>\n",
       "      <td>South Korea</td>\n",
       "      <td>2020-06-11</td>\n",
       "      <td>11947</td>\n",
       "      <td>45</td>\n",
       "      <td>276</td>\n",
       "      <td>0</td>\n",
       "      <td>233.025</td>\n",
       "      <td>0.878</td>\n",
       "      <td>...</td>\n",
       "      <td>13.914</td>\n",
       "      <td>8.622</td>\n",
       "      <td>35938.374</td>\n",
       "      <td>0.2</td>\n",
       "      <td>85.998</td>\n",
       "      <td>6.8</td>\n",
       "      <td>6.2</td>\n",
       "      <td>40.9</td>\n",
       "      <td>NaN</td>\n",
       "      <td>12.27</td>\n",
       "    </tr>\n",
       "  </tbody>\n",
       "</table>\n",
       "<p>118 rows × 33 columns</p>\n",
       "</div>"
      ],
      "text/plain": [
       "      iso_code continent     location       date  total_cases  new_cases  \\\n",
       "19279      KOR      Asia  South Korea 2020-02-15           28          0   \n",
       "19280      KOR      Asia  South Korea 2020-02-16           29          1   \n",
       "19281      KOR      Asia  South Korea 2020-02-17           30          1   \n",
       "19282      KOR      Asia  South Korea 2020-02-18           31          1   \n",
       "19283      KOR      Asia  South Korea 2020-02-19           46         15   \n",
       "...        ...       ...          ...        ...          ...        ...   \n",
       "19392      KOR      Asia  South Korea 2020-06-07        11776         57   \n",
       "19393      KOR      Asia  South Korea 2020-06-08        11814         38   \n",
       "19394      KOR      Asia  South Korea 2020-06-09        11852         38   \n",
       "19395      KOR      Asia  South Korea 2020-06-10        11902         50   \n",
       "19396      KOR      Asia  South Korea 2020-06-11        11947         45   \n",
       "\n",
       "       total_deaths  new_deaths  total_cases_per_million  \\\n",
       "19279             0           0                    0.546   \n",
       "19280             0           0                    0.566   \n",
       "19281             0           0                    0.585   \n",
       "19282             0           0                    0.605   \n",
       "19283             0           0                    0.897   \n",
       "...             ...         ...                      ...   \n",
       "19392           273           0                  229.690   \n",
       "19393           273           0                  230.431   \n",
       "19394           274           1                  231.172   \n",
       "19395           276           2                  232.147   \n",
       "19396           276           0                  233.025   \n",
       "\n",
       "       new_cases_per_million  ...  aged_65_older  aged_70_older  \\\n",
       "19279                  0.000  ...         13.914          8.622   \n",
       "19280                  0.020  ...         13.914          8.622   \n",
       "19281                  0.020  ...         13.914          8.622   \n",
       "19282                  0.020  ...         13.914          8.622   \n",
       "19283                  0.293  ...         13.914          8.622   \n",
       "...                      ...  ...            ...            ...   \n",
       "19392                  1.112  ...         13.914          8.622   \n",
       "19393                  0.741  ...         13.914          8.622   \n",
       "19394                  0.741  ...         13.914          8.622   \n",
       "19395                  0.975  ...         13.914          8.622   \n",
       "19396                  0.878  ...         13.914          8.622   \n",
       "\n",
       "       gdp_per_capita  extreme_poverty  cvd_death_rate  diabetes_prevalence  \\\n",
       "19279       35938.374              0.2          85.998                  6.8   \n",
       "19280       35938.374              0.2          85.998                  6.8   \n",
       "19281       35938.374              0.2          85.998                  6.8   \n",
       "19282       35938.374              0.2          85.998                  6.8   \n",
       "19283       35938.374              0.2          85.998                  6.8   \n",
       "...               ...              ...             ...                  ...   \n",
       "19392       35938.374              0.2          85.998                  6.8   \n",
       "19393       35938.374              0.2          85.998                  6.8   \n",
       "19394       35938.374              0.2          85.998                  6.8   \n",
       "19395       35938.374              0.2          85.998                  6.8   \n",
       "19396       35938.374              0.2          85.998                  6.8   \n",
       "\n",
       "       female_smokers  male_smokers handwashing_facilities  \\\n",
       "19279             6.2          40.9                    NaN   \n",
       "19280             6.2          40.9                    NaN   \n",
       "19281             6.2          40.9                    NaN   \n",
       "19282             6.2          40.9                    NaN   \n",
       "19283             6.2          40.9                    NaN   \n",
       "...               ...           ...                    ...   \n",
       "19392             6.2          40.9                    NaN   \n",
       "19393             6.2          40.9                    NaN   \n",
       "19394             6.2          40.9                    NaN   \n",
       "19395             6.2          40.9                    NaN   \n",
       "19396             6.2          40.9                    NaN   \n",
       "\n",
       "       hospital_beds_per_thousand  \n",
       "19279                       12.27  \n",
       "19280                       12.27  \n",
       "19281                       12.27  \n",
       "19282                       12.27  \n",
       "19283                       12.27  \n",
       "...                           ...  \n",
       "19392                       12.27  \n",
       "19393                       12.27  \n",
       "19394                       12.27  \n",
       "19395                       12.27  \n",
       "19396                       12.27  \n",
       "\n",
       "[118 rows x 33 columns]"
      ]
     },
     "execution_count": 8,
     "metadata": {},
     "output_type": "execute_result"
    }
   ],
   "source": [
    "df_country = df[df['iso_code'] == COUNTRY]\n",
    "df_country = df_country[df_country['date'] > START_DATE]\n",
    "df_country"
   ]
  },
  {
   "cell_type": "code",
   "execution_count": 9,
   "metadata": {
    "execution": {
     "iopub.execute_input": "2020-06-12T08:40:43.915807Z",
     "iopub.status.busy": "2020-06-12T08:40:43.915230Z",
     "iopub.status.idle": "2020-06-12T08:40:43.939189Z",
     "shell.execute_reply": "2020-06-12T08:40:43.938581Z"
    },
    "papermill": {
     "duration": 0.059531,
     "end_time": "2020-06-12T08:40:43.939277",
     "exception": false,
     "start_time": "2020-06-12T08:40:43.879746",
     "status": "completed"
    },
    "tags": []
   },
   "outputs": [
    {
     "data": {
      "text/plain": [
       "Timestamp('2020-06-11 00:00:00')"
      ]
     },
     "execution_count": 9,
     "metadata": {},
     "output_type": "execute_result"
    }
   ],
   "source": [
    "df_country['date'].max()"
   ]
  },
  {
   "cell_type": "markdown",
   "metadata": {
    "papermill": {
     "duration": 0.032406,
     "end_time": "2020-06-12T08:40:44.002465",
     "exception": false,
     "start_time": "2020-06-12T08:40:43.970059",
     "status": "completed"
    },
    "tags": []
   },
   "source": [
    "### weekly case counts"
   ]
  },
  {
   "cell_type": "code",
   "execution_count": 10,
   "metadata": {
    "execution": {
     "iopub.execute_input": "2020-06-12T08:40:44.072822Z",
     "iopub.status.busy": "2020-06-12T08:40:44.072230Z",
     "iopub.status.idle": "2020-06-12T08:40:44.700167Z",
     "shell.execute_reply": "2020-06-12T08:40:44.700805Z"
    },
    "papermill": {
     "duration": 0.664997,
     "end_time": "2020-06-12T08:40:44.700929",
     "exception": false,
     "start_time": "2020-06-12T08:40:44.035932",
     "status": "completed"
    },
    "tags": []
   },
   "outputs": [
    {
     "data": {
      "image/png": "[encoded data removed]",
      "text/plain": [
       "<Figure size 864x576 with 1 Axes>"
      ]
     },
     "metadata": {
      "needs_background": "light"
     },
     "output_type": "display_data"
    }
   ],
   "source": [
    "fig, ax = plt.subplots(1, 1, figsize=(12,8))\n",
    "    \n",
    "ax.bar(df_country['date'], df_country['new_cases'])\n",
    "ax.xaxis_date()\n",
    "#set ticks every week\n",
    "ax.xaxis.set_major_locator(mdates.WeekdayLocator())\n",
    "#set major ticks format\n",
    "ax.xaxis.set_major_formatter(mdates.DateFormatter('%b %d'))\n",
    "\n",
    "plt.show()"
   ]
  },
  {
   "cell_type": "markdown",
   "metadata": {
    "papermill": {
     "duration": 0.032525,
     "end_time": "2020-06-12T08:40:44.767290",
     "exception": false,
     "start_time": "2020-06-12T08:40:44.734765",
     "status": "completed"
    },
    "tags": []
   },
   "source": [
    "### cumulative total case counts (log)"
   ]
  },
  {
   "cell_type": "code",
   "execution_count": 11,
   "metadata": {
    "execution": {
     "iopub.execute_input": "2020-06-12T08:40:44.838272Z",
     "iopub.status.busy": "2020-06-12T08:40:44.837605Z",
     "iopub.status.idle": "2020-06-12T08:40:45.839380Z",
     "shell.execute_reply": "2020-06-12T08:40:45.838755Z"
    },
    "papermill": {
     "duration": 1.040968,
     "end_time": "2020-06-12T08:40:45.839469",
     "exception": false,
     "start_time": "2020-06-12T08:40:44.798501",
     "status": "completed"
    },
    "tags": []
   },
   "outputs": [
    {
     "data": {
      "text/plain": [
       "<matplotlib.axes._subplots.AxesSubplot at 0x7f2fa9ed0e80>"
      ]
     },
     "execution_count": 11,
     "metadata": {},
     "output_type": "execute_result"
    },
    {
     "data": {
      "image/png": "[encoded data removed]",
      "text/plain": [
       "<Figure size 864x576 with 1 Axes>"
      ]
     },
     "metadata": {
      "needs_background": "light"
     },
     "output_type": "display_data"
    }
   ],
   "source": [
    "fig, ax = plt.subplots(figsize = (12,8)) \n",
    "plt.yscale('log')\n",
    "\n",
    "sns.lineplot(data=df_country, y='total_cases', x='date', ax=ax)"
   ]
  },
  {
   "cell_type": "markdown",
   "metadata": {
    "papermill": {
     "duration": 0.035927,
     "end_time": "2020-06-12T08:40:45.910696",
     "exception": false,
     "start_time": "2020-06-12T08:40:45.874769",
     "status": "completed"
    },
    "tags": []
   },
   "source": [
    "## SIR model with ODE  "
   ]
  },
  {
   "cell_type": "code",
   "execution_count": 12,
   "metadata": {
    "execution": {
     "iopub.execute_input": "2020-06-12T08:40:45.992628Z",
     "iopub.status.busy": "2020-06-12T08:40:45.991900Z",
     "iopub.status.idle": "2020-06-12T08:40:46.012179Z",
     "shell.execute_reply": "2020-06-12T08:40:46.011566Z"
    },
    "papermill": {
     "duration": 0.059273,
     "end_time": "2020-06-12T08:40:46.012284",
     "exception": false,
     "start_time": "2020-06-12T08:40:45.953011",
     "status": "completed"
    },
    "tags": []
   },
   "outputs": [],
   "source": [
    "def sir_model(y, t, N, beta, gamma):\n",
    "    '''\n",
    "    N: total population\n",
    "    S(t): no. of susceptible ppl on day t\n",
    "    I(t): no. of infected ppl on day t\n",
    "    R(t): no. of recovered on day t\n",
    "    beta: transmission rate; expected amount of people an infected person infects per day\n",
    "    D: number of days an infected person has and can spread the disease (from research is 18 days?) \n",
    "    gamma: recovery rate; proportion of infected recovering per day (gamma = 1/D)\n",
    "    R_0: total no. of people an infected person infects (R_0 = beta / gamma)\n",
    "    '''\n",
    "    S, I, R = y\n",
    "    \n",
    "    dSdt = -beta * S * (I / N)\n",
    "    dIdt = beta * S * (I / N) - gamma * I\n",
    "    dRdt = gamma * I\n",
    "    \n",
    "    return dSdt, dIdt, dRdt"
   ]
  },
  {
   "cell_type": "code",
   "execution_count": 13,
   "metadata": {
    "execution": {
     "iopub.execute_input": "2020-06-12T08:40:46.092224Z",
     "iopub.status.busy": "2020-06-12T08:40:46.091563Z",
     "iopub.status.idle": "2020-06-12T08:40:46.114124Z",
     "shell.execute_reply": "2020-06-12T08:40:46.114873Z"
    },
    "papermill": {
     "duration": 0.06619,
     "end_time": "2020-06-12T08:40:46.114991",
     "exception": false,
     "start_time": "2020-06-12T08:40:46.048801",
     "status": "completed"
    },
    "tags": []
   },
   "outputs": [],
   "source": [
    "def plot_sir(t, S, I, R, x_ticks):\n",
    "    f, ax = plt.subplots(1, 1, figsize=(12,6))\n",
    "    \n",
    "    ax.plot(x_ticks, S, 'b', alpha=0.7, linewidth=1, label='Susceptible')  # TODO: t\n",
    "    ax.plot(x_ticks, I, 'r', alpha=0.7, linewidth=2, label='Infected')\n",
    "    ax.plot(x_ticks, R, 'y', alpha=0.7, linewidth=1, label='Recovered')\n",
    "\n",
    "    ax.set_xlabel('Time (days)')\n",
    "\n",
    "    ax.yaxis.set_tick_params(length=0)\n",
    "    ax.xaxis.set_tick_params(length=0)\n",
    "        \n",
    "    ax.grid(b=True, which='major', c='w', lw=2, ls='-')\n",
    "    legend = ax.legend()\n",
    "    legend.get_frame().set_alpha(0.5)\n",
    "    for spine in ('top', 'right', 'bottom', 'left'):\n",
    "        ax.spines[spine].set_visible(False)\n",
    "    plt.show();"
   ]
  },
  {
   "cell_type": "markdown",
   "metadata": {
    "papermill": {
     "duration": 0.034634,
     "end_time": "2020-06-12T08:40:46.184722",
     "exception": false,
     "start_time": "2020-06-12T08:40:46.150088",
     "status": "completed"
    },
    "tags": []
   },
   "source": [
    "# curve fitting with actual country data  "
   ]
  },
  {
   "cell_type": "code",
   "execution_count": 14,
   "metadata": {
    "execution": {
     "iopub.execute_input": "2020-06-12T08:40:46.258046Z",
     "iopub.status.busy": "2020-06-12T08:40:46.257405Z",
     "iopub.status.idle": "2020-06-12T08:40:46.277868Z",
     "shell.execute_reply": "2020-06-12T08:40:46.277261Z"
    },
    "papermill": {
     "duration": 0.058864,
     "end_time": "2020-06-12T08:40:46.277956",
     "exception": false,
     "start_time": "2020-06-12T08:40:46.219092",
     "status": "completed"
    },
    "tags": []
   },
   "outputs": [
    {
     "data": {
      "text/plain": [
       "array([  0,   1,   1,   1,  15,  34,  75, 190, 256, 161, 130, 254, 449,\n",
       "       427, 909, 595, 686, 600, 516, 438, 518, 483, 367, 248, 131, 242,\n",
       "       114, 110, 107,  76,  74,  84,  93, 152,  87, 147,  98,  64,  76,\n",
       "       100, 104,  91, 146, 105,  78, 125,   0, 190,  86,  94,  81,  47,\n",
       "        47,  53,  39,  27,   0,  62,  25,  27,  27,  22,  22,  18,   8,\n",
       "        13,   9,  11,   8,   6,  10,  10,  10,  14,   9,   4,   9,   6,\n",
       "        13,   8,   3,   2,   4,  12,  18,  34,  35,  27,  26,  29,  27,\n",
       "        19,  13,  15,  13,  32,  12,  20,  23,  25,  16,  19,  40,  79,\n",
       "        58,  39,  27,  35,  38,  49,  39,  39,  51,  57,  38,  38,  50,\n",
       "        45])"
      ]
     },
     "execution_count": 14,
     "metadata": {},
     "output_type": "execute_result"
    }
   ],
   "source": [
    "data = df_country['new_cases'].values\n",
    "data"
   ]
  },
  {
   "cell_type": "code",
   "execution_count": 15,
   "metadata": {
    "execution": {
     "iopub.execute_input": "2020-06-12T08:40:46.354831Z",
     "iopub.status.busy": "2020-06-12T08:40:46.354154Z",
     "iopub.status.idle": "2020-06-12T08:40:46.376639Z",
     "shell.execute_reply": "2020-06-12T08:40:46.376071Z"
    },
    "papermill": {
     "duration": 0.06098,
     "end_time": "2020-06-12T08:40:46.376767",
     "exception": false,
     "start_time": "2020-06-12T08:40:46.315787",
     "status": "completed"
    },
    "tags": []
   },
   "outputs": [
    {
     "data": {
      "text/plain": [
       "118"
      ]
     },
     "execution_count": 15,
     "metadata": {},
     "output_type": "execute_result"
    }
   ],
   "source": [
    "N = 5000000\n",
    "\n",
    "# find beta & gamma from fitting\n",
    "# beta = 2.0  # infected person infects 1 other person per day\n",
    "# D = 14.0  # infections lasts X days\n",
    "# gamma = 1.0 / D\n",
    "\n",
    "days = len(data)\n",
    "days"
   ]
  },
  {
   "cell_type": "code",
   "execution_count": 16,
   "metadata": {
    "execution": {
     "iopub.execute_input": "2020-06-12T08:40:46.453262Z",
     "iopub.status.busy": "2020-06-12T08:40:46.452583Z",
     "iopub.status.idle": "2020-06-12T08:40:46.472782Z",
     "shell.execute_reply": "2020-06-12T08:40:46.472148Z"
    },
    "papermill": {
     "duration": 0.060909,
     "end_time": "2020-06-12T08:40:46.472871",
     "exception": false,
     "start_time": "2020-06-12T08:40:46.411962",
     "status": "completed"
    },
    "tags": []
   },
   "outputs": [],
   "source": [
    "def Model_SIR(days, N, beta, gamma):\n",
    "    t = np.linspace(0, days-1, days, dtype=int)  # time grid (in days)\n",
    "\n",
    "    y0 = N-1, 1, 0  # S0, I0, R0\n",
    "\n",
    "    # Integrate the equations over the time grid, t.\n",
    "    result = odeint(sir_model, y0, t, args=(N, beta, gamma))\n",
    "    S, I, R = result.T\n",
    "    return t, S, I, R"
   ]
  },
  {
   "cell_type": "code",
   "execution_count": 17,
   "metadata": {
    "execution": {
     "iopub.execute_input": "2020-06-12T08:40:46.553645Z",
     "iopub.status.busy": "2020-06-12T08:40:46.552964Z",
     "iopub.status.idle": "2020-06-12T08:40:46.573604Z",
     "shell.execute_reply": "2020-06-12T08:40:46.572946Z"
    },
    "papermill": {
     "duration": 0.062738,
     "end_time": "2020-06-12T08:40:46.573724",
     "exception": false,
     "start_time": "2020-06-12T08:40:46.510986",
     "status": "completed"
    },
    "tags": []
   },
   "outputs": [],
   "source": [
    "def fit_model(x, N, beta, gamma):\n",
    "    \"\"\"\n",
    "    returns: infections I per day ? \n",
    "    \"\"\"\n",
    "    return Model_SIR(days, N, beta, gamma)[2][x]"
   ]
  },
  {
   "cell_type": "markdown",
   "metadata": {
    "papermill": {
     "duration": 0.038175,
     "end_time": "2020-06-12T08:40:46.648499",
     "exception": false,
     "start_time": "2020-06-12T08:40:46.610324",
     "status": "completed"
    },
    "tags": []
   },
   "source": [
    "### initiate model & set params"
   ]
  },
  {
   "cell_type": "code",
   "execution_count": 18,
   "metadata": {
    "execution": {
     "iopub.execute_input": "2020-06-12T08:40:46.724463Z",
     "iopub.status.busy": "2020-06-12T08:40:46.723805Z",
     "iopub.status.idle": "2020-06-12T08:40:46.747088Z",
     "shell.execute_reply": "2020-06-12T08:40:46.747884Z"
    },
    "papermill": {
     "duration": 0.065016,
     "end_time": "2020-06-12T08:40:46.748025",
     "exception": false,
     "start_time": "2020-06-12T08:40:46.683009",
     "status": "completed"
    },
    "tags": []
   },
   "outputs": [
    {
     "data": {
      "text/html": [
       "<table><tr><th> name </th><th> value </th><th> initial value </th><th> min </th><th> max </th><th> vary </th></tr><tr><td> N </td><td>  5000000.00 </td><td> None </td><td>  0.00000000 </td><td>         inf </td><td> True </td></tr><tr><td> beta </td><td>  0.50000000 </td><td> None </td><td>  0.00000000 </td><td>         inf </td><td> True </td></tr><tr><td> gamma </td><td>  0.10000000 </td><td> None </td><td>  0.00000000 </td><td>  1.00000000 </td><td> True </td></tr></table>"
      ],
      "text/plain": [
       "Parameters([('N', <Parameter 'N', value=5000000, bounds=[0:inf]>),\n",
       "            ('beta', <Parameter 'beta', value=0.5, bounds=[0:inf]>),\n",
       "            ('gamma', <Parameter 'gamma', value=0.1, bounds=[0:1]>)])"
      ]
     },
     "execution_count": 18,
     "metadata": {},
     "output_type": "execute_result"
    }
   ],
   "source": [
    "mod = lmfit.Model(fit_model)\n",
    "\n",
    "mod.set_param_hint(\"N\", value=N, min=0, vary=True)\n",
    "mod.set_param_hint(\"beta\", value=0.5, min=0, vary=True)\n",
    "# mod.set_param_hint(\"gamma\", value=1/18, min=1/19, max=1/17, vary=True)\n",
    "mod.set_param_hint(\"gamma\", value=0.1, min=0, max=1, vary=True)\n",
    "\n",
    "params = mod.make_params()\n",
    "params"
   ]
  },
  {
   "cell_type": "code",
   "execution_count": 19,
   "metadata": {
    "execution": {
     "iopub.execute_input": "2020-06-12T08:40:46.829200Z",
     "iopub.status.busy": "2020-06-12T08:40:46.828515Z",
     "iopub.status.idle": "2020-06-12T08:40:47.200153Z",
     "shell.execute_reply": "2020-06-12T08:40:47.199509Z"
    },
    "papermill": {
     "duration": 0.415328,
     "end_time": "2020-06-12T08:40:47.200244",
     "exception": false,
     "start_time": "2020-06-12T08:40:46.784916",
     "status": "completed"
    },
    "tags": []
   },
   "outputs": [],
   "source": [
    "# fitting\n",
    "\n",
    "x_data = np.linspace(0, days-1, days, dtype=int)  # time grid (in days)\n",
    "\n",
    "results = mod.fit(data, params, method=\"leastsq\", x=x_data)  # leastsq, least_squares?"
   ]
  },
  {
   "cell_type": "code",
   "execution_count": 20,
   "metadata": {
    "execution": {
     "iopub.execute_input": "2020-06-12T08:40:47.277212Z",
     "iopub.status.busy": "2020-06-12T08:40:47.276545Z",
     "iopub.status.idle": "2020-06-12T08:40:47.520230Z",
     "shell.execute_reply": "2020-06-12T08:40:47.519494Z"
    },
    "papermill": {
     "duration": 0.282968,
     "end_time": "2020-06-12T08:40:47.520321",
     "exception": false,
     "start_time": "2020-06-12T08:40:47.237353",
     "status": "completed"
    },
    "tags": []
   },
   "outputs": [
    {
     "data": {
      "text/plain": [
       "{'N': 1388.0080167428368,\n",
       " 'beta': 0.728885090300265,\n",
       " 'gamma': 0.15076778985502287}"
      ]
     },
     "execution_count": 20,
     "metadata": {},
     "output_type": "execute_result"
    },
    {
     "data": {
      "image/png": "[encoded data removed]",
      "text/plain": [
       "<Figure size 576x360 with 1 Axes>"
      ]
     },
     "metadata": {
      "needs_background": "light"
     },
     "output_type": "display_data"
    }
   ],
   "source": [
    "plt.figure(figsize=(8,5))\n",
    "results.plot_fit(datafmt=\".\", fitfmt=\"-\");\n",
    "results.best_values"
   ]
  },
  {
   "cell_type": "code",
   "execution_count": 21,
   "metadata": {
    "execution": {
     "iopub.execute_input": "2020-06-12T08:40:47.605258Z",
     "iopub.status.busy": "2020-06-12T08:40:47.604676Z",
     "iopub.status.idle": "2020-06-12T08:40:48.384961Z",
     "shell.execute_reply": "2020-06-12T08:40:48.384306Z"
    },
    "papermill": {
     "duration": 0.82262,
     "end_time": "2020-06-12T08:40:48.385051",
     "exception": false,
     "start_time": "2020-06-12T08:40:47.562431",
     "status": "completed"
    },
    "tags": []
   },
   "outputs": [
    {
     "data": {
      "text/plain": [
       "<matplotlib.axes._subplots.AxesSubplot at 0x7f2fa9f0b908>"
      ]
     },
     "execution_count": 21,
     "metadata": {},
     "output_type": "execute_result"
    },
    {
     "data": {
      "image/png": "[encoded data removed]",
      "text/plain": [
       "<Figure size 576x360 with 1 Axes>"
      ]
     },
     "metadata": {
      "needs_background": "light"
     },
     "output_type": "display_data"
    }
   ],
   "source": [
    "plt.figure(figsize=(8,5))\n",
    "results.plot_residuals()"
   ]
  },
  {
   "cell_type": "code",
   "execution_count": 22,
   "metadata": {
    "execution": {
     "iopub.execute_input": "2020-06-12T08:40:48.470844Z",
     "iopub.status.busy": "2020-06-12T08:40:48.470166Z",
     "iopub.status.idle": "2020-06-12T08:40:48.491021Z",
     "shell.execute_reply": "2020-06-12T08:40:48.490295Z"
    },
    "papermill": {
     "duration": 0.065333,
     "end_time": "2020-06-12T08:40:48.491113",
     "exception": false,
     "start_time": "2020-06-12T08:40:48.425780",
     "status": "completed"
    },
    "tags": []
   },
   "outputs": [
    {
     "data": {
      "text/html": [
       "<h2> Model</h2> Model(fit_model) <h2>Fit Statistics</h2><table><tr><td>fitting method</td><td>leastsq</td><td></td></tr><tr><td># function evals</td><td>73</td><td></td></tr><tr><td># data points</td><td>118</td><td></td></tr><tr><td># variables</td><td>3</td><td></td></tr><tr><td>chi-square</td><td> 418155.840</td><td></td></tr><tr><td>reduced chi-square</td><td> 3636.13774</td><td></td></tr><tr><td>Akaike info crit.</td><td> 970.405131</td><td></td></tr><tr><td>Bayesian info crit.</td><td> 978.717185</td><td></td></tr></table><h2>Variables</h2><table><tr><th> name </th><th> value </th><th> standard error </th><th> relative error </th><th> initial value </th><th> min </th><th> max </th><th> vary </th></tr><tr><td> N </td><td>  1388.00802 </td><td>  128.874996 </td><td> (9.28%) </td><td> 5000000 </td><td>  0.00000000 </td><td>         inf </td><td> True </td></tr><tr><td> beta </td><td>  0.72888509 </td><td>  0.01404328 </td><td> (1.93%) </td><td> 0.5 </td><td>  0.00000000 </td><td>         inf </td><td> True </td></tr><tr><td> gamma </td><td>  0.15076779 </td><td>  0.01682887 </td><td> (11.16%) </td><td> 0.1 </td><td>  0.00000000 </td><td>  1.00000000 </td><td> True </td></tr></table><h2>Correlations (unreported correlations are < 0.100)</h2><table><tr><td>N</td><td>gamma</td><td>0.9454</td></tr><tr><td>beta</td><td>gamma</td><td>0.6630</td></tr><tr><td>N</td><td>beta</td><td>0.6467</td></tr></table>"
      ],
      "text/plain": [
       "<lmfit.model.ModelResult at 0x7f2fa9b74b00>"
      ]
     },
     "execution_count": 22,
     "metadata": {},
     "output_type": "execute_result"
    }
   ],
   "source": [
    "results"
   ]
  },
  {
   "cell_type": "code",
   "execution_count": 23,
   "metadata": {
    "execution": {
     "iopub.execute_input": "2020-06-12T08:40:48.578750Z",
     "iopub.status.busy": "2020-06-12T08:40:48.578088Z",
     "iopub.status.idle": "2020-06-12T08:40:48.599260Z",
     "shell.execute_reply": "2020-06-12T08:40:48.598633Z"
    },
    "papermill": {
     "duration": 0.065965,
     "end_time": "2020-06-12T08:40:48.599350",
     "exception": false,
     "start_time": "2020-06-12T08:40:48.533385",
     "status": "completed"
    },
    "tags": []
   },
   "outputs": [
    {
     "data": {
      "text/plain": [
       "0.05555555555555555"
      ]
     },
     "execution_count": 23,
     "metadata": {},
     "output_type": "execute_result"
    }
   ],
   "source": [
    "# gamma should be close to this: \n",
    "1/18"
   ]
  },
  {
   "cell_type": "code",
   "execution_count": 24,
   "metadata": {
    "execution": {
     "iopub.execute_input": "2020-06-12T08:40:48.692353Z",
     "iopub.status.busy": "2020-06-12T08:40:48.691660Z",
     "iopub.status.idle": "2020-06-12T08:40:48.715707Z",
     "shell.execute_reply": "2020-06-12T08:40:48.716219Z"
    },
    "papermill": {
     "duration": 0.075548,
     "end_time": "2020-06-12T08:40:48.716397",
     "exception": false,
     "start_time": "2020-06-12T08:40:48.640849",
     "status": "completed"
    },
    "tags": []
   },
   "outputs": [],
   "source": [
    "def plot_sir2(t, S, I, R, x_ticks, COUNTRY):\n",
    "    f, ax = plt.subplots(1, 1, figsize=(12,8))\n",
    "    ax.set_title('Country: %s' % COUNTRY, fontsize= 20) \n",
    "    \n",
    "    ax.plot(x_ticks, S, 'b', alpha=0.7, linewidth=1, label='Susceptible')  # TODO: t\n",
    "    ax.plot(x_ticks, I, 'r', alpha=0.7, linewidth=2, label='Infected')\n",
    "    ax.plot(x_ticks, R, 'y', alpha=0.7, linewidth=1, label='Recovered')\n",
    "\n",
    "    ax.set_xlabel('Time (days)')\n",
    "\n",
    "    ax.yaxis.set_tick_params(length=0)\n",
    "    ax.xaxis.set_tick_params(length=0)\n",
    "    \n",
    "    # ax.set_ylim(0, 1800)\n",
    "    \n",
    "    ax.grid(b=True, which='major', c='w', lw=2, ls='-')\n",
    "    legend = ax.legend()\n",
    "    legend.get_frame().set_alpha(0.5)\n",
    "    for spine in ('top', 'right', 'bottom', 'left'):\n",
    "        ax.spines[spine].set_visible(False)\n",
    "        \n",
    "    # overlay actual data\n",
    "    ax.bar(df_country['date'], df_country['new_cases'])\n",
    "\n",
    "    plt.show()"
   ]
  },
  {
   "cell_type": "code",
   "execution_count": 25,
   "metadata": {
    "execution": {
     "iopub.execute_input": "2020-06-12T08:40:48.817329Z",
     "iopub.status.busy": "2020-06-12T08:40:48.816371Z",
     "iopub.status.idle": "2020-06-12T08:40:48.839743Z",
     "shell.execute_reply": "2020-06-12T08:40:48.840267Z"
    },
    "papermill": {
     "duration": 0.079962,
     "end_time": "2020-06-12T08:40:48.840408",
     "exception": false,
     "start_time": "2020-06-12T08:40:48.760446",
     "status": "completed"
    },
    "tags": []
   },
   "outputs": [],
   "source": [
    "def plot_infected(t, S, I, R, x_ticks, COUNTRY):\n",
    "    f, ax = plt.subplots(1, 1, figsize=(12,8))\n",
    "    ax.set_title('Country: %s' % COUNTRY, fontsize= 20) \n",
    "    \n",
    "    ax.plot(x_ticks, I, 'r', alpha=0.7, linewidth=2, label='Infected (prediction)')\n",
    "\n",
    "    ax.set_xlabel('Time (days)')\n",
    "\n",
    "    ax.yaxis.set_tick_params(length=0)\n",
    "    ax.xaxis.set_tick_params(length=0)\n",
    "    \n",
    "    # ax.set_ylim(0, 1800)\n",
    "    ax.grid(b=True, which='major', c='w', lw=2, ls='-')\n",
    "    legend = ax.legend()\n",
    "    legend.get_frame().set_alpha(0.5)\n",
    "    \n",
    "    # overlay actual data\n",
    "    ax.bar(df_country['date'], df_country['new_cases'])\n",
    "\n",
    "    plt.show()"
   ]
  },
  {
   "cell_type": "code",
   "execution_count": 26,
   "metadata": {
    "execution": {
     "iopub.execute_input": "2020-06-12T08:40:48.931186Z",
     "iopub.status.busy": "2020-06-12T08:40:48.930493Z",
     "iopub.status.idle": "2020-06-12T08:40:48.952124Z",
     "shell.execute_reply": "2020-06-12T08:40:48.952689Z"
    },
    "papermill": {
     "duration": 0.070253,
     "end_time": "2020-06-12T08:40:48.952811",
     "exception": false,
     "start_time": "2020-06-12T08:40:48.882558",
     "status": "completed"
    },
    "tags": []
   },
   "outputs": [],
   "source": [
    "max_days = 210\n",
    "first_date = np.datetime64(df_country['date'].min()) - np.timedelta64(0, 'D')\n",
    "\n",
    "x_ticks = pd.date_range(start=first_date, periods=max_days, freq=\"D\")"
   ]
  },
  {
   "cell_type": "code",
   "execution_count": 27,
   "metadata": {
    "execution": {
     "iopub.execute_input": "2020-06-12T08:40:49.042225Z",
     "iopub.status.busy": "2020-06-12T08:40:49.041640Z",
     "iopub.status.idle": "2020-06-12T08:40:49.753020Z",
     "shell.execute_reply": "2020-06-12T08:40:49.752318Z"
    },
    "papermill": {
     "duration": 0.75813,
     "end_time": "2020-06-12T08:40:49.753110",
     "exception": false,
     "start_time": "2020-06-12T08:40:48.994980",
     "status": "completed"
    },
    "tags": []
   },
   "outputs": [
    {
     "data": {
      "image/png": "[encoded data removed]",
      "text/plain": [
       "<Figure size 864x576 with 1 Axes>"
      ]
     },
     "metadata": {
      "needs_background": "light"
     },
     "output_type": "display_data"
    }
   ],
   "source": [
    "plot_sir2(*Model_SIR(max_days, **results.best_values), x_ticks, COUNTRY)"
   ]
  },
  {
   "cell_type": "code",
   "execution_count": 28,
   "metadata": {
    "execution": {
     "iopub.execute_input": "2020-06-12T08:40:49.849838Z",
     "iopub.status.busy": "2020-06-12T08:40:49.849175Z",
     "iopub.status.idle": "2020-06-12T08:40:50.509032Z",
     "shell.execute_reply": "2020-06-12T08:40:50.508393Z"
    },
    "papermill": {
     "duration": 0.711574,
     "end_time": "2020-06-12T08:40:50.509125",
     "exception": false,
     "start_time": "2020-06-12T08:40:49.797551",
     "status": "completed"
    },
    "tags": []
   },
   "outputs": [
    {
     "data": {
      "image/png": "[encoded data removed]",
      "text/plain": [
       "<Figure size 864x576 with 1 Axes>"
      ]
     },
     "metadata": {
      "needs_background": "light"
     },
     "output_type": "display_data"
    }
   ],
   "source": [
    "plot_infected(*Model_SIR(max_days, **results.best_values), x_ticks, COUNTRY)"
   ]
  },
  {
   "cell_type": "markdown",
   "metadata": {
    "papermill": {
     "duration": 0.045748,
     "end_time": "2020-06-12T08:40:50.600730",
     "exception": false,
     "start_time": "2020-06-12T08:40:50.554982",
     "status": "completed"
    },
    "tags": []
   },
   "source": [
    "# observations\n",
    "\n",
    "- It is difficult to make predictions for different countries with the evolving situation and resources available. A country could be at different stages of the outbreak\n",
    "- A more complicated model could be used e.g. SEIR "
   ]
  },
  {
   "cell_type": "code",
   "execution_count": null,
   "metadata": {
    "papermill": {
     "duration": 0.043373,
     "end_time": "2020-06-12T08:40:50.689838",
     "exception": false,
     "start_time": "2020-06-12T08:40:50.646465",
     "status": "completed"
    },
    "tags": []
   },
   "outputs": [],
   "source": []
  },
  {
   "cell_type": "code",
   "execution_count": null,
   "metadata": {
    "papermill": {
     "duration": 0.044611,
     "end_time": "2020-06-12T08:40:50.780370",
     "exception": false,
     "start_time": "2020-06-12T08:40:50.735759",
     "status": "completed"
    },
    "tags": []
   },
   "outputs": [],
   "source": []
  }
 ],
 "metadata": {
  "kernelspec": {
   "display_name": "Python 3",
   "language": "python",
   "name": "python3"
  },
  "language_info": {
   "codemirror_mode": {
    "name": "ipython",
    "version": 3
   },
   "file_extension": ".py",
   "mimetype": "text/x-python",
   "name": "python",
   "nbconvert_exporter": "python",
   "pygments_lexer": "ipython3",
   "version": "3.7.3"
  },
  "papermill": {
   "duration": 11.074437,
   "end_time": "2020-06-12T08:40:52.238288",
   "environment_variables": {},
   "exception": null,
   "input_path": "sir_country_model.ipynb",
   "output_path": "output/country_KOR.ipynb",
   "parameters": {
    "COUNTRY": "KOR",
    "START_DATE": "2020-02-14"
   },
   "start_time": "2020-06-12T08:40:41.163851",
   "version": "2.1.1"
  }
 },
 "nbformat": 4,
 "nbformat_minor": 4
}