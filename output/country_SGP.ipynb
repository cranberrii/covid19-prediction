{
 "cells": [
  {
   "cell_type": "code",
   "execution_count": 1,
   "metadata": {
    "execution": {
     "iopub.execute_input": "2020-06-12T08:39:41.539350Z",
     "iopub.status.busy": "2020-06-12T08:39:41.537886Z",
     "iopub.status.idle": "2020-06-12T08:39:41.550678Z",
     "shell.execute_reply": "2020-06-12T08:39:41.551571Z"
    },
    "papermill": {
     "duration": 0.075869,
     "end_time": "2020-06-12T08:39:41.551796",
     "exception": false,
     "start_time": "2020-06-12T08:39:41.475927",
     "status": "completed"
    },
    "tags": []
   },
   "outputs": [],
   "source": [
    "%load_ext autoreload\n",
    "%autoreload 2"
   ]
  },
  {
   "cell_type": "code",
   "execution_count": 2,
   "metadata": {
    "execution": {
     "iopub.execute_input": "2020-06-12T08:39:41.618880Z",
     "iopub.status.busy": "2020-06-12T08:39:41.617980Z",
     "iopub.status.idle": "2020-06-12T08:39:42.672864Z",
     "shell.execute_reply": "2020-06-12T08:39:42.673585Z"
    },
    "papermill": {
     "duration": 1.092778,
     "end_time": "2020-06-12T08:39:42.673704",
     "exception": false,
     "start_time": "2020-06-12T08:39:41.580926",
     "status": "completed"
    },
    "tags": []
   },
   "outputs": [],
   "source": [
    "import scipy\n",
    "from scipy.integrate import odeint\n",
    "\n",
    "import pandas as pd\n",
    "import numpy as np\n",
    "import datetime\n",
    "\n",
    "import matplotlib.pyplot as plt\n",
    "import matplotlib.dates as mdates\n",
    "import seaborn as sns\n",
    "\n",
    "import lmfit\n",
    "from lmfit.lineshapes import gaussian, lorentzian\n",
    "\n",
    "plt.style.use('fivethirtyeight')\n",
    "%matplotlib inline "
   ]
  },
  {
   "cell_type": "code",
   "execution_count": 3,
   "metadata": {
    "execution": {
     "iopub.execute_input": "2020-06-12T08:39:42.735407Z",
     "iopub.status.busy": "2020-06-12T08:39:42.734212Z",
     "iopub.status.idle": "2020-06-12T08:39:42.765700Z",
     "shell.execute_reply": "2020-06-12T08:39:42.766181Z"
    },
    "papermill": {
     "duration": 0.063502,
     "end_time": "2020-06-12T08:39:42.766409",
     "exception": false,
     "start_time": "2020-06-12T08:39:42.702907",
     "status": "completed"
    },
    "tags": [
     "parameters"
    ]
   },
   "outputs": [],
   "source": [
    "# parameters \n",
    "\n",
    "COUNTRY = 'JPN'  # 'SGP', 'MYS', 'DEU', 'OWID_WRL'\n",
    "\n",
    "START_DATE = '2020-02-14'"
   ]
  },
  {
   "cell_type": "code",
   "execution_count": 4,
   "metadata": {
    "execution": {
     "iopub.execute_input": "2020-06-12T08:39:42.829123Z",
     "iopub.status.busy": "2020-06-12T08:39:42.828028Z",
     "iopub.status.idle": "2020-06-12T08:39:42.851964Z",
     "shell.execute_reply": "2020-06-12T08:39:42.852454Z"
    },
    "papermill": {
     "duration": 0.058657,
     "end_time": "2020-06-12T08:39:42.852572",
     "exception": false,
     "start_time": "2020-06-12T08:39:42.793915",
     "status": "completed"
    },
    "tags": [
     "injected-parameters"
    ]
   },
   "outputs": [],
   "source": [
    "# Parameters\n",
    "COUNTRY = \"SGP\"\n",
    "START_DATE = \"2020-02-14\"\n"
   ]
  },
  {
   "cell_type": "code",
   "execution_count": 5,
   "metadata": {
    "execution": {
     "iopub.execute_input": "2020-06-12T08:39:42.914213Z",
     "iopub.status.busy": "2020-06-12T08:39:42.913625Z",
     "iopub.status.idle": "2020-06-12T08:39:43.072048Z",
     "shell.execute_reply": "2020-06-12T08:39:43.072677Z"
    },
    "papermill": {
     "duration": 0.191517,
     "end_time": "2020-06-12T08:39:43.072832",
     "exception": false,
     "start_time": "2020-06-12T08:39:42.881315",
     "status": "completed"
    },
    "tags": []
   },
   "outputs": [
    {
     "data": {
      "text/plain": [
       "(23194, 33)"
      ]
     },
     "execution_count": 5,
     "metadata": {},
     "output_type": "execute_result"
    }
   ],
   "source": [
    "DATA_PATH = '../covid-19-data/public/data/owid-covid-data.csv'\n",
    "# DATA_PATH = '../covid-19-data/public/data/ecdc/full_data.csv'\n",
    "\n",
    "df = pd.read_csv(DATA_PATH)\n",
    "df['date'] = pd.to_datetime(df['date'], yearfirst=True)\n",
    "df.shape"
   ]
  },
  {
   "cell_type": "code",
   "execution_count": 6,
   "metadata": {
    "execution": {
     "iopub.execute_input": "2020-06-12T08:39:43.135513Z",
     "iopub.status.busy": "2020-06-12T08:39:43.134581Z",
     "iopub.status.idle": "2020-06-12T08:39:43.178649Z",
     "shell.execute_reply": "2020-06-12T08:39:43.179217Z"
    },
    "papermill": {
     "duration": 0.076293,
     "end_time": "2020-06-12T08:39:43.179338",
     "exception": false,
     "start_time": "2020-06-12T08:39:43.103045",
     "status": "completed"
    },
    "tags": []
   },
   "outputs": [
    {
     "data": {
      "text/html": [
       "<div>\n",
       "<style scoped>\n",
       "    .dataframe tbody tr th:only-of-type {\n",
       "        vertical-align: middle;\n",
       "    }\n",
       "\n",
       "    .dataframe tbody tr th {\n",
       "        vertical-align: top;\n",
       "    }\n",
       "\n",
       "    .dataframe thead th {\n",
       "        text-align: right;\n",
       "    }\n",
       "</style>\n",
       "<table border=\"1\" class=\"dataframe\">\n",
       "  <thead>\n",
       "    <tr style=\"text-align: right;\">\n",
       "      <th></th>\n",
       "      <th>iso_code</th>\n",
       "      <th>continent</th>\n",
       "      <th>location</th>\n",
       "      <th>date</th>\n",
       "      <th>total_cases</th>\n",
       "      <th>new_cases</th>\n",
       "      <th>total_deaths</th>\n",
       "      <th>new_deaths</th>\n",
       "      <th>total_cases_per_million</th>\n",
       "      <th>new_cases_per_million</th>\n",
       "      <th>...</th>\n",
       "      <th>aged_65_older</th>\n",
       "      <th>aged_70_older</th>\n",
       "      <th>gdp_per_capita</th>\n",
       "      <th>extreme_poverty</th>\n",
       "      <th>cvd_death_rate</th>\n",
       "      <th>diabetes_prevalence</th>\n",
       "      <th>female_smokers</th>\n",
       "      <th>male_smokers</th>\n",
       "      <th>handwashing_facilities</th>\n",
       "      <th>hospital_beds_per_thousand</th>\n",
       "    </tr>\n",
       "  </thead>\n",
       "  <tbody>\n",
       "    <tr>\n",
       "      <th>0</th>\n",
       "      <td>AFG</td>\n",
       "      <td>Asia</td>\n",
       "      <td>Afghanistan</td>\n",
       "      <td>2019-12-31</td>\n",
       "      <td>0</td>\n",
       "      <td>0</td>\n",
       "      <td>0</td>\n",
       "      <td>0</td>\n",
       "      <td>0.0</td>\n",
       "      <td>0.0</td>\n",
       "      <td>...</td>\n",
       "      <td>2.581</td>\n",
       "      <td>1.337</td>\n",
       "      <td>1803.987</td>\n",
       "      <td>NaN</td>\n",
       "      <td>597.029</td>\n",
       "      <td>9.59</td>\n",
       "      <td>NaN</td>\n",
       "      <td>NaN</td>\n",
       "      <td>37.746</td>\n",
       "      <td>0.5</td>\n",
       "    </tr>\n",
       "    <tr>\n",
       "      <th>1</th>\n",
       "      <td>AFG</td>\n",
       "      <td>Asia</td>\n",
       "      <td>Afghanistan</td>\n",
       "      <td>2020-01-01</td>\n",
       "      <td>0</td>\n",
       "      <td>0</td>\n",
       "      <td>0</td>\n",
       "      <td>0</td>\n",
       "      <td>0.0</td>\n",
       "      <td>0.0</td>\n",
       "      <td>...</td>\n",
       "      <td>2.581</td>\n",
       "      <td>1.337</td>\n",
       "      <td>1803.987</td>\n",
       "      <td>NaN</td>\n",
       "      <td>597.029</td>\n",
       "      <td>9.59</td>\n",
       "      <td>NaN</td>\n",
       "      <td>NaN</td>\n",
       "      <td>37.746</td>\n",
       "      <td>0.5</td>\n",
       "    </tr>\n",
       "    <tr>\n",
       "      <th>2</th>\n",
       "      <td>AFG</td>\n",
       "      <td>Asia</td>\n",
       "      <td>Afghanistan</td>\n",
       "      <td>2020-01-02</td>\n",
       "      <td>0</td>\n",
       "      <td>0</td>\n",
       "      <td>0</td>\n",
       "      <td>0</td>\n",
       "      <td>0.0</td>\n",
       "      <td>0.0</td>\n",
       "      <td>...</td>\n",
       "      <td>2.581</td>\n",
       "      <td>1.337</td>\n",
       "      <td>1803.987</td>\n",
       "      <td>NaN</td>\n",
       "      <td>597.029</td>\n",
       "      <td>9.59</td>\n",
       "      <td>NaN</td>\n",
       "      <td>NaN</td>\n",
       "      <td>37.746</td>\n",
       "      <td>0.5</td>\n",
       "    </tr>\n",
       "    <tr>\n",
       "      <th>3</th>\n",
       "      <td>AFG</td>\n",
       "      <td>Asia</td>\n",
       "      <td>Afghanistan</td>\n",
       "      <td>2020-01-03</td>\n",
       "      <td>0</td>\n",
       "      <td>0</td>\n",
       "      <td>0</td>\n",
       "      <td>0</td>\n",
       "      <td>0.0</td>\n",
       "      <td>0.0</td>\n",
       "      <td>...</td>\n",
       "      <td>2.581</td>\n",
       "      <td>1.337</td>\n",
       "      <td>1803.987</td>\n",
       "      <td>NaN</td>\n",
       "      <td>597.029</td>\n",
       "      <td>9.59</td>\n",
       "      <td>NaN</td>\n",
       "      <td>NaN</td>\n",
       "      <td>37.746</td>\n",
       "      <td>0.5</td>\n",
       "    </tr>\n",
       "    <tr>\n",
       "      <th>4</th>\n",
       "      <td>AFG</td>\n",
       "      <td>Asia</td>\n",
       "      <td>Afghanistan</td>\n",
       "      <td>2020-01-04</td>\n",
       "      <td>0</td>\n",
       "      <td>0</td>\n",
       "      <td>0</td>\n",
       "      <td>0</td>\n",
       "      <td>0.0</td>\n",
       "      <td>0.0</td>\n",
       "      <td>...</td>\n",
       "      <td>2.581</td>\n",
       "      <td>1.337</td>\n",
       "      <td>1803.987</td>\n",
       "      <td>NaN</td>\n",
       "      <td>597.029</td>\n",
       "      <td>9.59</td>\n",
       "      <td>NaN</td>\n",
       "      <td>NaN</td>\n",
       "      <td>37.746</td>\n",
       "      <td>0.5</td>\n",
       "    </tr>\n",
       "  </tbody>\n",
       "</table>\n",
       "<p>5 rows × 33 columns</p>\n",
       "</div>"
      ],
      "text/plain": [
       "  iso_code continent     location       date  total_cases  new_cases  \\\n",
       "0      AFG      Asia  Afghanistan 2019-12-31            0          0   \n",
       "1      AFG      Asia  Afghanistan 2020-01-01            0          0   \n",
       "2      AFG      Asia  Afghanistan 2020-01-02            0          0   \n",
       "3      AFG      Asia  Afghanistan 2020-01-03            0          0   \n",
       "4      AFG      Asia  Afghanistan 2020-01-04            0          0   \n",
       "\n",
       "   total_deaths  new_deaths  total_cases_per_million  new_cases_per_million  \\\n",
       "0             0           0                      0.0                    0.0   \n",
       "1             0           0                      0.0                    0.0   \n",
       "2             0           0                      0.0                    0.0   \n",
       "3             0           0                      0.0                    0.0   \n",
       "4             0           0                      0.0                    0.0   \n",
       "\n",
       "   ...  aged_65_older  aged_70_older  gdp_per_capita  extreme_poverty  \\\n",
       "0  ...          2.581          1.337        1803.987              NaN   \n",
       "1  ...          2.581          1.337        1803.987              NaN   \n",
       "2  ...          2.581          1.337        1803.987              NaN   \n",
       "3  ...          2.581          1.337        1803.987              NaN   \n",
       "4  ...          2.581          1.337        1803.987              NaN   \n",
       "\n",
       "   cvd_death_rate  diabetes_prevalence  female_smokers  male_smokers  \\\n",
       "0         597.029                 9.59             NaN           NaN   \n",
       "1         597.029                 9.59             NaN           NaN   \n",
       "2         597.029                 9.59             NaN           NaN   \n",
       "3         597.029                 9.59             NaN           NaN   \n",
       "4         597.029                 9.59             NaN           NaN   \n",
       "\n",
       "  handwashing_facilities  hospital_beds_per_thousand  \n",
       "0                 37.746                         0.5  \n",
       "1                 37.746                         0.5  \n",
       "2                 37.746                         0.5  \n",
       "3                 37.746                         0.5  \n",
       "4                 37.746                         0.5  \n",
       "\n",
       "[5 rows x 33 columns]"
      ]
     },
     "execution_count": 6,
     "metadata": {},
     "output_type": "execute_result"
    }
   ],
   "source": [
    "df.head()"
   ]
  },
  {
   "cell_type": "code",
   "execution_count": 7,
   "metadata": {
    "execution": {
     "iopub.execute_input": "2020-06-12T08:39:43.244036Z",
     "iopub.status.busy": "2020-06-12T08:39:43.243447Z",
     "iopub.status.idle": "2020-06-12T08:39:43.272203Z",
     "shell.execute_reply": "2020-06-12T08:39:43.272712Z"
    },
    "papermill": {
     "duration": 0.062321,
     "end_time": "2020-06-12T08:39:43.272825",
     "exception": false,
     "start_time": "2020-06-12T08:39:43.210504",
     "status": "completed"
    },
    "tags": []
   },
   "outputs": [
    {
     "data": {
      "text/plain": [
       "CAN    165\n",
       "RUS    165\n",
       "LTU    165\n",
       "CZE    164\n",
       "CHN    164\n",
       "CHE    164\n",
       "BLR    164\n",
       "BHR    164\n",
       "DNK    164\n",
       "VNM    164\n",
       "ISR    164\n",
       "HRV    164\n",
       "AUS    164\n",
       "BRA    164\n",
       "USA    164\n",
       "AUT    164\n",
       "DEU    164\n",
       "BEL    164\n",
       "MYS    164\n",
       "SGP    164\n",
       "Name: iso_code, dtype: int64"
      ]
     },
     "execution_count": 7,
     "metadata": {},
     "output_type": "execute_result"
    }
   ],
   "source": [
    "df['iso_code'].value_counts().head(20)"
   ]
  },
  {
   "cell_type": "markdown",
   "metadata": {
    "papermill": {
     "duration": 0.02935,
     "end_time": "2020-06-12T08:39:43.331750",
     "exception": false,
     "start_time": "2020-06-12T08:39:43.302400",
     "status": "completed"
    },
    "tags": []
   },
   "source": [
    "filter country"
   ]
  },
  {
   "cell_type": "code",
   "execution_count": 8,
   "metadata": {
    "execution": {
     "iopub.execute_input": "2020-06-12T08:39:43.399677Z",
     "iopub.status.busy": "2020-06-12T08:39:43.398901Z",
     "iopub.status.idle": "2020-06-12T08:39:43.458829Z",
     "shell.execute_reply": "2020-06-12T08:39:43.459317Z"
    },
    "papermill": {
     "duration": 0.093936,
     "end_time": "2020-06-12T08:39:43.459438",
     "exception": false,
     "start_time": "2020-06-12T08:39:43.365502",
     "status": "completed"
    },
    "tags": []
   },
   "outputs": [
    {
     "data": {
      "text/html": [
       "<div>\n",
       "<style scoped>\n",
       "    .dataframe tbody tr th:only-of-type {\n",
       "        vertical-align: middle;\n",
       "    }\n",
       "\n",
       "    .dataframe tbody tr th {\n",
       "        vertical-align: top;\n",
       "    }\n",
       "\n",
       "    .dataframe thead th {\n",
       "        text-align: right;\n",
       "    }\n",
       "</style>\n",
       "<table border=\"1\" class=\"dataframe\">\n",
       "  <thead>\n",
       "    <tr style=\"text-align: right;\">\n",
       "      <th></th>\n",
       "      <th>iso_code</th>\n",
       "      <th>continent</th>\n",
       "      <th>location</th>\n",
       "      <th>date</th>\n",
       "      <th>total_cases</th>\n",
       "      <th>new_cases</th>\n",
       "      <th>total_deaths</th>\n",
       "      <th>new_deaths</th>\n",
       "      <th>total_cases_per_million</th>\n",
       "      <th>new_cases_per_million</th>\n",
       "      <th>...</th>\n",
       "      <th>aged_65_older</th>\n",
       "      <th>aged_70_older</th>\n",
       "      <th>gdp_per_capita</th>\n",
       "      <th>extreme_poverty</th>\n",
       "      <th>cvd_death_rate</th>\n",
       "      <th>diabetes_prevalence</th>\n",
       "      <th>female_smokers</th>\n",
       "      <th>male_smokers</th>\n",
       "      <th>handwashing_facilities</th>\n",
       "      <th>hospital_beds_per_thousand</th>\n",
       "    </tr>\n",
       "  </thead>\n",
       "  <tbody>\n",
       "    <tr>\n",
       "      <th>18629</th>\n",
       "      <td>SGP</td>\n",
       "      <td>Asia</td>\n",
       "      <td>Singapore</td>\n",
       "      <td>2020-02-15</td>\n",
       "      <td>67</td>\n",
       "      <td>9</td>\n",
       "      <td>0</td>\n",
       "      <td>0</td>\n",
       "      <td>11.452</td>\n",
       "      <td>1.538</td>\n",
       "      <td>...</td>\n",
       "      <td>12.922</td>\n",
       "      <td>7.049</td>\n",
       "      <td>85535.383</td>\n",
       "      <td>NaN</td>\n",
       "      <td>92.243</td>\n",
       "      <td>10.99</td>\n",
       "      <td>5.2</td>\n",
       "      <td>28.3</td>\n",
       "      <td>NaN</td>\n",
       "      <td>2.4</td>\n",
       "    </tr>\n",
       "    <tr>\n",
       "      <th>18630</th>\n",
       "      <td>SGP</td>\n",
       "      <td>Asia</td>\n",
       "      <td>Singapore</td>\n",
       "      <td>2020-02-16</td>\n",
       "      <td>72</td>\n",
       "      <td>5</td>\n",
       "      <td>0</td>\n",
       "      <td>0</td>\n",
       "      <td>12.307</td>\n",
       "      <td>0.855</td>\n",
       "      <td>...</td>\n",
       "      <td>12.922</td>\n",
       "      <td>7.049</td>\n",
       "      <td>85535.383</td>\n",
       "      <td>NaN</td>\n",
       "      <td>92.243</td>\n",
       "      <td>10.99</td>\n",
       "      <td>5.2</td>\n",
       "      <td>28.3</td>\n",
       "      <td>NaN</td>\n",
       "      <td>2.4</td>\n",
       "    </tr>\n",
       "    <tr>\n",
       "      <th>18631</th>\n",
       "      <td>SGP</td>\n",
       "      <td>Asia</td>\n",
       "      <td>Singapore</td>\n",
       "      <td>2020-02-17</td>\n",
       "      <td>75</td>\n",
       "      <td>3</td>\n",
       "      <td>0</td>\n",
       "      <td>0</td>\n",
       "      <td>12.820</td>\n",
       "      <td>0.513</td>\n",
       "      <td>...</td>\n",
       "      <td>12.922</td>\n",
       "      <td>7.049</td>\n",
       "      <td>85535.383</td>\n",
       "      <td>NaN</td>\n",
       "      <td>92.243</td>\n",
       "      <td>10.99</td>\n",
       "      <td>5.2</td>\n",
       "      <td>28.3</td>\n",
       "      <td>NaN</td>\n",
       "      <td>2.4</td>\n",
       "    </tr>\n",
       "    <tr>\n",
       "      <th>18632</th>\n",
       "      <td>SGP</td>\n",
       "      <td>Asia</td>\n",
       "      <td>Singapore</td>\n",
       "      <td>2020-02-18</td>\n",
       "      <td>77</td>\n",
       "      <td>2</td>\n",
       "      <td>0</td>\n",
       "      <td>0</td>\n",
       "      <td>13.162</td>\n",
       "      <td>0.342</td>\n",
       "      <td>...</td>\n",
       "      <td>12.922</td>\n",
       "      <td>7.049</td>\n",
       "      <td>85535.383</td>\n",
       "      <td>NaN</td>\n",
       "      <td>92.243</td>\n",
       "      <td>10.99</td>\n",
       "      <td>5.2</td>\n",
       "      <td>28.3</td>\n",
       "      <td>NaN</td>\n",
       "      <td>2.4</td>\n",
       "    </tr>\n",
       "    <tr>\n",
       "      <th>18633</th>\n",
       "      <td>SGP</td>\n",
       "      <td>Asia</td>\n",
       "      <td>Singapore</td>\n",
       "      <td>2020-02-19</td>\n",
       "      <td>81</td>\n",
       "      <td>4</td>\n",
       "      <td>0</td>\n",
       "      <td>0</td>\n",
       "      <td>13.845</td>\n",
       "      <td>0.684</td>\n",
       "      <td>...</td>\n",
       "      <td>12.922</td>\n",
       "      <td>7.049</td>\n",
       "      <td>85535.383</td>\n",
       "      <td>NaN</td>\n",
       "      <td>92.243</td>\n",
       "      <td>10.99</td>\n",
       "      <td>5.2</td>\n",
       "      <td>28.3</td>\n",
       "      <td>NaN</td>\n",
       "      <td>2.4</td>\n",
       "    </tr>\n",
       "    <tr>\n",
       "      <th>...</th>\n",
       "      <td>...</td>\n",
       "      <td>...</td>\n",
       "      <td>...</td>\n",
       "      <td>...</td>\n",
       "      <td>...</td>\n",
       "      <td>...</td>\n",
       "      <td>...</td>\n",
       "      <td>...</td>\n",
       "      <td>...</td>\n",
       "      <td>...</td>\n",
       "      <td>...</td>\n",
       "      <td>...</td>\n",
       "      <td>...</td>\n",
       "      <td>...</td>\n",
       "      <td>...</td>\n",
       "      <td>...</td>\n",
       "      <td>...</td>\n",
       "      <td>...</td>\n",
       "      <td>...</td>\n",
       "      <td>...</td>\n",
       "      <td>...</td>\n",
       "    </tr>\n",
       "    <tr>\n",
       "      <th>18742</th>\n",
       "      <td>SGP</td>\n",
       "      <td>Asia</td>\n",
       "      <td>Singapore</td>\n",
       "      <td>2020-06-07</td>\n",
       "      <td>37527</td>\n",
       "      <td>344</td>\n",
       "      <td>25</td>\n",
       "      <td>1</td>\n",
       "      <td>6414.496</td>\n",
       "      <td>58.800</td>\n",
       "      <td>...</td>\n",
       "      <td>12.922</td>\n",
       "      <td>7.049</td>\n",
       "      <td>85535.383</td>\n",
       "      <td>NaN</td>\n",
       "      <td>92.243</td>\n",
       "      <td>10.99</td>\n",
       "      <td>5.2</td>\n",
       "      <td>28.3</td>\n",
       "      <td>NaN</td>\n",
       "      <td>2.4</td>\n",
       "    </tr>\n",
       "    <tr>\n",
       "      <th>18743</th>\n",
       "      <td>SGP</td>\n",
       "      <td>Asia</td>\n",
       "      <td>Singapore</td>\n",
       "      <td>2020-06-08</td>\n",
       "      <td>37910</td>\n",
       "      <td>383</td>\n",
       "      <td>25</td>\n",
       "      <td>0</td>\n",
       "      <td>6479.962</td>\n",
       "      <td>65.466</td>\n",
       "      <td>...</td>\n",
       "      <td>12.922</td>\n",
       "      <td>7.049</td>\n",
       "      <td>85535.383</td>\n",
       "      <td>NaN</td>\n",
       "      <td>92.243</td>\n",
       "      <td>10.99</td>\n",
       "      <td>5.2</td>\n",
       "      <td>28.3</td>\n",
       "      <td>NaN</td>\n",
       "      <td>2.4</td>\n",
       "    </tr>\n",
       "    <tr>\n",
       "      <th>18744</th>\n",
       "      <td>SGP</td>\n",
       "      <td>Asia</td>\n",
       "      <td>Singapore</td>\n",
       "      <td>2020-06-09</td>\n",
       "      <td>38296</td>\n",
       "      <td>386</td>\n",
       "      <td>25</td>\n",
       "      <td>0</td>\n",
       "      <td>6545.941</td>\n",
       "      <td>65.979</td>\n",
       "      <td>...</td>\n",
       "      <td>12.922</td>\n",
       "      <td>7.049</td>\n",
       "      <td>85535.383</td>\n",
       "      <td>NaN</td>\n",
       "      <td>92.243</td>\n",
       "      <td>10.99</td>\n",
       "      <td>5.2</td>\n",
       "      <td>28.3</td>\n",
       "      <td>NaN</td>\n",
       "      <td>2.4</td>\n",
       "    </tr>\n",
       "    <tr>\n",
       "      <th>18745</th>\n",
       "      <td>SGP</td>\n",
       "      <td>Asia</td>\n",
       "      <td>Singapore</td>\n",
       "      <td>2020-06-10</td>\n",
       "      <td>38514</td>\n",
       "      <td>218</td>\n",
       "      <td>25</td>\n",
       "      <td>0</td>\n",
       "      <td>6583.204</td>\n",
       "      <td>37.263</td>\n",
       "      <td>...</td>\n",
       "      <td>12.922</td>\n",
       "      <td>7.049</td>\n",
       "      <td>85535.383</td>\n",
       "      <td>NaN</td>\n",
       "      <td>92.243</td>\n",
       "      <td>10.99</td>\n",
       "      <td>5.2</td>\n",
       "      <td>28.3</td>\n",
       "      <td>NaN</td>\n",
       "      <td>2.4</td>\n",
       "    </tr>\n",
       "    <tr>\n",
       "      <th>18746</th>\n",
       "      <td>SGP</td>\n",
       "      <td>Asia</td>\n",
       "      <td>Singapore</td>\n",
       "      <td>2020-06-11</td>\n",
       "      <td>38965</td>\n",
       "      <td>451</td>\n",
       "      <td>25</td>\n",
       "      <td>0</td>\n",
       "      <td>6660.293</td>\n",
       "      <td>77.089</td>\n",
       "      <td>...</td>\n",
       "      <td>12.922</td>\n",
       "      <td>7.049</td>\n",
       "      <td>85535.383</td>\n",
       "      <td>NaN</td>\n",
       "      <td>92.243</td>\n",
       "      <td>10.99</td>\n",
       "      <td>5.2</td>\n",
       "      <td>28.3</td>\n",
       "      <td>NaN</td>\n",
       "      <td>2.4</td>\n",
       "    </tr>\n",
       "  </tbody>\n",
       "</table>\n",
       "<p>118 rows × 33 columns</p>\n",
       "</div>"
      ],
      "text/plain": [
       "      iso_code continent   location       date  total_cases  new_cases  \\\n",
       "18629      SGP      Asia  Singapore 2020-02-15           67          9   \n",
       "18630      SGP      Asia  Singapore 2020-02-16           72          5   \n",
       "18631      SGP      Asia  Singapore 2020-02-17           75          3   \n",
       "18632      SGP      Asia  Singapore 2020-02-18           77          2   \n",
       "18633      SGP      Asia  Singapore 2020-02-19           81          4   \n",
       "...        ...       ...        ...        ...          ...        ...   \n",
       "18742      SGP      Asia  Singapore 2020-06-07        37527        344   \n",
       "18743      SGP      Asia  Singapore 2020-06-08        37910        383   \n",
       "18744      SGP      Asia  Singapore 2020-06-09        38296        386   \n",
       "18745      SGP      Asia  Singapore 2020-06-10        38514        218   \n",
       "18746      SGP      Asia  Singapore 2020-06-11        38965        451   \n",
       "\n",
       "       total_deaths  new_deaths  total_cases_per_million  \\\n",
       "18629             0           0                   11.452   \n",
       "18630             0           0                   12.307   \n",
       "18631             0           0                   12.820   \n",
       "18632             0           0                   13.162   \n",
       "18633             0           0                   13.845   \n",
       "...             ...         ...                      ...   \n",
       "18742            25           1                 6414.496   \n",
       "18743            25           0                 6479.962   \n",
       "18744            25           0                 6545.941   \n",
       "18745            25           0                 6583.204   \n",
       "18746            25           0                 6660.293   \n",
       "\n",
       "       new_cases_per_million  ...  aged_65_older  aged_70_older  \\\n",
       "18629                  1.538  ...         12.922          7.049   \n",
       "18630                  0.855  ...         12.922          7.049   \n",
       "18631                  0.513  ...         12.922          7.049   \n",
       "18632                  0.342  ...         12.922          7.049   \n",
       "18633                  0.684  ...         12.922          7.049   \n",
       "...                      ...  ...            ...            ...   \n",
       "18742                 58.800  ...         12.922          7.049   \n",
       "18743                 65.466  ...         12.922          7.049   \n",
       "18744                 65.979  ...         12.922          7.049   \n",
       "18745                 37.263  ...         12.922          7.049   \n",
       "18746                 77.089  ...         12.922          7.049   \n",
       "\n",
       "       gdp_per_capita  extreme_poverty  cvd_death_rate  diabetes_prevalence  \\\n",
       "18629       85535.383              NaN          92.243                10.99   \n",
       "18630       85535.383              NaN          92.243                10.99   \n",
       "18631       85535.383              NaN          92.243                10.99   \n",
       "18632       85535.383              NaN          92.243                10.99   \n",
       "18633       85535.383              NaN          92.243                10.99   \n",
       "...               ...              ...             ...                  ...   \n",
       "18742       85535.383              NaN          92.243                10.99   \n",
       "18743       85535.383              NaN          92.243                10.99   \n",
       "18744       85535.383              NaN          92.243                10.99   \n",
       "18745       85535.383              NaN          92.243                10.99   \n",
       "18746       85535.383              NaN          92.243                10.99   \n",
       "\n",
       "       female_smokers  male_smokers handwashing_facilities  \\\n",
       "18629             5.2          28.3                    NaN   \n",
       "18630             5.2          28.3                    NaN   \n",
       "18631             5.2          28.3                    NaN   \n",
       "18632             5.2          28.3                    NaN   \n",
       "18633             5.2          28.3                    NaN   \n",
       "...               ...           ...                    ...   \n",
       "18742             5.2          28.3                    NaN   \n",
       "18743             5.2          28.3                    NaN   \n",
       "18744             5.2          28.3                    NaN   \n",
       "18745             5.2          28.3                    NaN   \n",
       "18746             5.2          28.3                    NaN   \n",
       "\n",
       "       hospital_beds_per_thousand  \n",
       "18629                         2.4  \n",
       "18630                         2.4  \n",
       "18631                         2.4  \n",
       "18632                         2.4  \n",
       "18633                         2.4  \n",
       "...                           ...  \n",
       "18742                         2.4  \n",
       "18743                         2.4  \n",
       "18744                         2.4  \n",
       "18745                         2.4  \n",
       "18746                         2.4  \n",
       "\n",
       "[118 rows x 33 columns]"
      ]
     },
     "execution_count": 8,
     "metadata": {},
     "output_type": "execute_result"
    }
   ],
   "source": [
    "df_country = df[df['iso_code'] == COUNTRY]\n",
    "df_country = df_country[df_country['date'] > START_DATE]\n",
    "df_country"
   ]
  },
  {
   "cell_type": "code",
   "execution_count": 9,
   "metadata": {
    "execution": {
     "iopub.execute_input": "2020-06-12T08:39:43.526478Z",
     "iopub.status.busy": "2020-06-12T08:39:43.525705Z",
     "iopub.status.idle": "2020-06-12T08:39:43.546288Z",
     "shell.execute_reply": "2020-06-12T08:39:43.547100Z"
    },
    "papermill": {
     "duration": 0.054734,
     "end_time": "2020-06-12T08:39:43.547215",
     "exception": false,
     "start_time": "2020-06-12T08:39:43.492481",
     "status": "completed"
    },
    "tags": []
   },
   "outputs": [
    {
     "data": {
      "text/plain": [
       "Timestamp('2020-06-11 00:00:00')"
      ]
     },
     "execution_count": 9,
     "metadata": {},
     "output_type": "execute_result"
    }
   ],
   "source": [
    "df_country['date'].max()"
   ]
  },
  {
   "cell_type": "markdown",
   "metadata": {
    "papermill": {
     "duration": 0.031774,
     "end_time": "2020-06-12T08:39:43.609812",
     "exception": false,
     "start_time": "2020-06-12T08:39:43.578038",
     "status": "completed"
    },
    "tags": []
   },
   "source": [
    "### weekly case counts"
   ]
  },
  {
   "cell_type": "code",
   "execution_count": 10,
   "metadata": {
    "execution": {
     "iopub.execute_input": "2020-06-12T08:39:43.678325Z",
     "iopub.status.busy": "2020-06-12T08:39:43.677589Z",
     "iopub.status.idle": "2020-06-12T08:39:44.339002Z",
     "shell.execute_reply": "2020-06-12T08:39:44.339664Z"
    },
    "papermill": {
     "duration": 0.696269,
     "end_time": "2020-06-12T08:39:44.339780",
     "exception": false,
     "start_time": "2020-06-12T08:39:43.643511",
     "status": "completed"
    },
    "tags": []
   },
   "outputs": [
    {
     "data": {
      "image/png": "[encoded data removed]",
      "text/plain": [
       "<Figure size 864x576 with 1 Axes>"
      ]
     },
     "metadata": {
      "needs_background": "light"
     },
     "output_type": "display_data"
    }
   ],
   "source": [
    "fig, ax = plt.subplots(1, 1, figsize=(12,8))\n",
    "    \n",
    "ax.bar(df_country['date'], df_country['new_cases'])\n",
    "ax.xaxis_date()\n",
    "#set ticks every week\n",
    "ax.xaxis.set_major_locator(mdates.WeekdayLocator())\n",
    "#set major ticks format\n",
    "ax.xaxis.set_major_formatter(mdates.DateFormatter('%b %d'))\n",
    "\n",
    "plt.show()"
   ]
  },
  {
   "cell_type": "markdown",
   "metadata": {
    "papermill": {
     "duration": 0.03375,
     "end_time": "2020-06-12T08:39:44.407785",
     "exception": false,
     "start_time": "2020-06-12T08:39:44.374035",
     "status": "completed"
    },
    "tags": []
   },
   "source": [
    "### cumulative total case counts (log)"
   ]
  },
  {
   "cell_type": "code",
   "execution_count": 11,
   "metadata": {
    "execution": {
     "iopub.execute_input": "2020-06-12T08:39:44.478591Z",
     "iopub.status.busy": "2020-06-12T08:39:44.478061Z",
     "iopub.status.idle": "2020-06-12T08:39:45.473593Z",
     "shell.execute_reply": "2020-06-12T08:39:45.472983Z"
    },
    "papermill": {
     "duration": 1.032099,
     "end_time": "2020-06-12T08:39:45.473681",
     "exception": false,
     "start_time": "2020-06-12T08:39:44.441582",
     "status": "completed"
    },
    "tags": []
   },
   "outputs": [
    {
     "data": {
      "text/plain": [
       "<matplotlib.axes._subplots.AxesSubplot at 0x7f9e2bc840b8>"
      ]
     },
     "execution_count": 11,
     "metadata": {},
     "output_type": "execute_result"
    },
    {
     "data": {
      "image/png": "[encoded data removed]",
      "text/plain": [
       "<Figure size 864x576 with 1 Axes>"
      ]
     },
     "metadata": {
      "needs_background": "light"
     },
     "output_type": "display_data"
    }
   ],
   "source": [
    "fig, ax = plt.subplots(figsize = (12,8)) \n",
    "plt.yscale('log')\n",
    "\n",
    "sns.lineplot(data=df_country, y='total_cases', x='date', ax=ax)"
   ]
  },
  {
   "cell_type": "markdown",
   "metadata": {
    "papermill": {
     "duration": 0.035427,
     "end_time": "2020-06-12T08:39:45.545660",
     "exception": false,
     "start_time": "2020-06-12T08:39:45.510233",
     "status": "completed"
    },
    "tags": []
   },
   "source": [
    "## SIR model with ODE  "
   ]
  },
  {
   "cell_type": "code",
   "execution_count": 12,
   "metadata": {
    "execution": {
     "iopub.execute_input": "2020-06-12T08:39:45.621669Z",
     "iopub.status.busy": "2020-06-12T08:39:45.620967Z",
     "iopub.status.idle": "2020-06-12T08:39:45.642259Z",
     "shell.execute_reply": "2020-06-12T08:39:45.641537Z"
    },
    "papermill": {
     "duration": 0.061294,
     "end_time": "2020-06-12T08:39:45.642351",
     "exception": false,
     "start_time": "2020-06-12T08:39:45.581057",
     "status": "completed"
    },
    "tags": []
   },
   "outputs": [],
   "source": [
    "def sir_model(y, t, N, beta, gamma):\n",
    "    '''\n",
    "    N: total population\n",
    "    S(t): no. of susceptible ppl on day t\n",
    "    I(t): no. of infected ppl on day t\n",
    "    R(t): no. of recovered on day t\n",
    "    beta: transmission rate; expected amount of people an infected person infects per day\n",
    "    D: number of days an infected person has and can spread the disease (from research is 18 days?) \n",
    "    gamma: recovery rate; proportion of infected recovering per day (gamma = 1/D)\n",
    "    R_0: total no. of people an infected person infects (R_0 = beta / gamma)\n",
    "    '''\n",
    "    S, I, R = y\n",
    "    \n",
    "    dSdt = -beta * S * (I / N)\n",
    "    dIdt = beta * S * (I / N) - gamma * I\n",
    "    dRdt = gamma * I\n",
    "    \n",
    "    return dSdt, dIdt, dRdt"
   ]
  },
  {
   "cell_type": "code",
   "execution_count": 13,
   "metadata": {
    "execution": {
     "iopub.execute_input": "2020-06-12T08:39:45.723009Z",
     "iopub.status.busy": "2020-06-12T08:39:45.722342Z",
     "iopub.status.idle": "2020-06-12T08:39:45.745601Z",
     "shell.execute_reply": "2020-06-12T08:39:45.744987Z"
    },
    "papermill": {
     "duration": 0.066742,
     "end_time": "2020-06-12T08:39:45.745688",
     "exception": false,
     "start_time": "2020-06-12T08:39:45.678946",
     "status": "completed"
    },
    "tags": []
   },
   "outputs": [],
   "source": [
    "def plot_sir(t, S, I, R, x_ticks):\n",
    "    f, ax = plt.subplots(1, 1, figsize=(12,6))\n",
    "    \n",
    "    ax.plot(x_ticks, S, 'b', alpha=0.7, linewidth=1, label='Susceptible')  # TODO: t\n",
    "    ax.plot(x_ticks, I, 'r', alpha=0.7, linewidth=2, label='Infected')\n",
    "    ax.plot(x_ticks, R, 'y', alpha=0.7, linewidth=1, label='Recovered')\n",
    "\n",
    "    ax.set_xlabel('Time (days)')\n",
    "\n",
    "    ax.yaxis.set_tick_params(length=0)\n",
    "    ax.xaxis.set_tick_params(length=0)\n",
    "        \n",
    "    ax.grid(b=True, which='major', c='w', lw=2, ls='-')\n",
    "    legend = ax.legend()\n",
    "    legend.get_frame().set_alpha(0.5)\n",
    "    for spine in ('top', 'right', 'bottom', 'left'):\n",
    "        ax.spines[spine].set_visible(False)\n",
    "    plt.show();"
   ]
  },
  {
   "cell_type": "markdown",
   "metadata": {
    "papermill": {
     "duration": 0.045161,
     "end_time": "2020-06-12T08:39:45.828702",
     "exception": false,
     "start_time": "2020-06-12T08:39:45.783541",
     "status": "completed"
    },
    "tags": []
   },
   "source": [
    "# curve fitting with actual country data  "
   ]
  },
  {
   "cell_type": "code",
   "execution_count": 14,
   "metadata": {
    "execution": {
     "iopub.execute_input": "2020-06-12T08:39:45.908385Z",
     "iopub.status.busy": "2020-06-12T08:39:45.907523Z",
     "iopub.status.idle": "2020-06-12T08:39:45.935041Z",
     "shell.execute_reply": "2020-06-12T08:39:45.934349Z"
    },
    "papermill": {
     "duration": 0.066189,
     "end_time": "2020-06-12T08:39:45.935140",
     "exception": false,
     "start_time": "2020-06-12T08:39:45.868951",
     "status": "completed"
    },
    "tags": []
   },
   "outputs": [
    {
     "data": {
      "text/plain": [
       "array([   9,    5,    3,    2,    4,    3,    1,    1,    3,    0,    1,\n",
       "          1,    2,    3,    2,    4,    4,    2,    2,    2,    5,   13,\n",
       "          8,   12,   10,    6,   12,    9,   13,   14,   12,   17,   23,\n",
       "         47,   32,   40,   47,   23,   54,   49,   10,   26,  138,   71,\n",
       "         41,    0,   35,  121,   49,   65,   75,  120,   66,  106,  142,\n",
       "        286,    0,  390,  233,  386,  334,  447,  728,  623,  942,  596,\n",
       "       1426, 1111, 1016, 1037,  897,  618,  931,  799,  528,  690,  528,\n",
       "        932,  447,  657,  573,  632,  788,  741,  768,  753,  876,  451,\n",
       "        884,  675,  752,  793,  465,  682,  305,  451,  570,  448,  614,\n",
       "        642,  548,  344,  383,  533,  373,  611,  506,  518,  408,  544,\n",
       "        569,  517,  261,  344,  383,  386,  218,  451])"
      ]
     },
     "execution_count": 14,
     "metadata": {},
     "output_type": "execute_result"
    }
   ],
   "source": [
    "data = df_country['new_cases'].values\n",
    "data"
   ]
  },
  {
   "cell_type": "code",
   "execution_count": 15,
   "metadata": {
    "execution": {
     "iopub.execute_input": "2020-06-12T08:39:46.012165Z",
     "iopub.status.busy": "2020-06-12T08:39:46.011393Z",
     "iopub.status.idle": "2020-06-12T08:39:46.032878Z",
     "shell.execute_reply": "2020-06-12T08:39:46.033570Z"
    },
    "papermill": {
     "duration": 0.06141,
     "end_time": "2020-06-12T08:39:46.033685",
     "exception": false,
     "start_time": "2020-06-12T08:39:45.972275",
     "status": "completed"
    },
    "tags": []
   },
   "outputs": [
    {
     "data": {
      "text/plain": [
       "118"
      ]
     },
     "execution_count": 15,
     "metadata": {},
     "output_type": "execute_result"
    }
   ],
   "source": [
    "N = 5000000\n",
    "\n",
    "# find beta & gamma from fitting\n",
    "# beta = 2.0  # infected person infects 1 other person per day\n",
    "# D = 14.0  # infections lasts X days\n",
    "# gamma = 1.0 / D\n",
    "\n",
    "days = len(data)\n",
    "days"
   ]
  },
  {
   "cell_type": "code",
   "execution_count": 16,
   "metadata": {
    "execution": {
     "iopub.execute_input": "2020-06-12T08:39:46.110372Z",
     "iopub.status.busy": "2020-06-12T08:39:46.109605Z",
     "iopub.status.idle": "2020-06-12T08:39:46.131175Z",
     "shell.execute_reply": "2020-06-12T08:39:46.130613Z"
    },
    "papermill": {
     "duration": 0.061936,
     "end_time": "2020-06-12T08:39:46.131265",
     "exception": false,
     "start_time": "2020-06-12T08:39:46.069329",
     "status": "completed"
    },
    "tags": []
   },
   "outputs": [],
   "source": [
    "def Model_SIR(days, N, beta, gamma):\n",
    "    t = np.linspace(0, days-1, days, dtype=int)  # time grid (in days)\n",
    "\n",
    "    y0 = N-1, 1, 0  # S0, I0, R0\n",
    "\n",
    "    # Integrate the equations over the time grid, t.\n",
    "    result = odeint(sir_model, y0, t, args=(N, beta, gamma))\n",
    "    S, I, R = result.T\n",
    "    return t, S, I, R"
   ]
  },
  {
   "cell_type": "code",
   "execution_count": 17,
   "metadata": {
    "execution": {
     "iopub.execute_input": "2020-06-12T08:39:46.209460Z",
     "iopub.status.busy": "2020-06-12T08:39:46.208807Z",
     "iopub.status.idle": "2020-06-12T08:39:46.227721Z",
     "shell.execute_reply": "2020-06-12T08:39:46.228283Z"
    },
    "papermill": {
     "duration": 0.059739,
     "end_time": "2020-06-12T08:39:46.228403",
     "exception": false,
     "start_time": "2020-06-12T08:39:46.168664",
     "status": "completed"
    },
    "tags": []
   },
   "outputs": [],
   "source": [
    "def fit_model(x, N, beta, gamma):\n",
    "    \"\"\"\n",
    "    returns: infections I per day ? \n",
    "    \"\"\"\n",
    "    return Model_SIR(days, N, beta, gamma)[2][x]"
   ]
  },
  {
   "cell_type": "markdown",
   "metadata": {
    "papermill": {
     "duration": 0.036016,
     "end_time": "2020-06-12T08:39:46.300138",
     "exception": false,
     "start_time": "2020-06-12T08:39:46.264122",
     "status": "completed"
    },
    "tags": []
   },
   "source": [
    "### initiate model & set params"
   ]
  },
  {
   "cell_type": "code",
   "execution_count": 18,
   "metadata": {
    "execution": {
     "iopub.execute_input": "2020-06-12T08:39:46.380881Z",
     "iopub.status.busy": "2020-06-12T08:39:46.379963Z",
     "iopub.status.idle": "2020-06-12T08:39:46.403963Z",
     "shell.execute_reply": "2020-06-12T08:39:46.403336Z"
    },
    "papermill": {
     "duration": 0.065351,
     "end_time": "2020-06-12T08:39:46.404057",
     "exception": false,
     "start_time": "2020-06-12T08:39:46.338706",
     "status": "completed"
    },
    "tags": []
   },
   "outputs": [
    {
     "data": {
      "text/html": [
       "<table><tr><th> name </th><th> value </th><th> initial value </th><th> min </th><th> max </th><th> vary </th></tr><tr><td> N </td><td>  5000000.00 </td><td> None </td><td>  0.00000000 </td><td>         inf </td><td> True </td></tr><tr><td> beta </td><td>  0.50000000 </td><td> None </td><td>  0.00000000 </td><td>         inf </td><td> True </td></tr><tr><td> gamma </td><td>  0.10000000 </td><td> None </td><td>  0.00000000 </td><td>  1.00000000 </td><td> True </td></tr></table>"
      ],
      "text/plain": [
       "Parameters([('N', <Parameter 'N', value=5000000, bounds=[0:inf]>),\n",
       "            ('beta', <Parameter 'beta', value=0.5, bounds=[0:inf]>),\n",
       "            ('gamma', <Parameter 'gamma', value=0.1, bounds=[0:1]>)])"
      ]
     },
     "execution_count": 18,
     "metadata": {},
     "output_type": "execute_result"
    }
   ],
   "source": [
    "mod = lmfit.Model(fit_model)\n",
    "\n",
    "mod.set_param_hint(\"N\", value=N, min=0, vary=True)\n",
    "mod.set_param_hint(\"beta\", value=0.5, min=0, vary=True)\n",
    "# mod.set_param_hint(\"gamma\", value=1/18, min=1/19, max=1/17, vary=True)\n",
    "mod.set_param_hint(\"gamma\", value=0.1, min=0, max=1, vary=True)\n",
    "\n",
    "params = mod.make_params()\n",
    "params"
   ]
  },
  {
   "cell_type": "code",
   "execution_count": 19,
   "metadata": {
    "execution": {
     "iopub.execute_input": "2020-06-12T08:39:46.487396Z",
     "iopub.status.busy": "2020-06-12T08:39:46.486802Z",
     "iopub.status.idle": "2020-06-12T08:39:46.824738Z",
     "shell.execute_reply": "2020-06-12T08:39:46.824189Z"
    },
    "papermill": {
     "duration": 0.381021,
     "end_time": "2020-06-12T08:39:46.824831",
     "exception": false,
     "start_time": "2020-06-12T08:39:46.443810",
     "status": "completed"
    },
    "tags": []
   },
   "outputs": [],
   "source": [
    "# fitting\n",
    "\n",
    "x_data = np.linspace(0, days-1, days, dtype=int)  # time grid (in days)\n",
    "\n",
    "results = mod.fit(data, params, method=\"leastsq\", x=x_data)  # leastsq, least_squares?"
   ]
  },
  {
   "cell_type": "code",
   "execution_count": 20,
   "metadata": {
    "execution": {
     "iopub.execute_input": "2020-06-12T08:39:46.906427Z",
     "iopub.status.busy": "2020-06-12T08:39:46.905598Z",
     "iopub.status.idle": "2020-06-12T08:39:47.166415Z",
     "shell.execute_reply": "2020-06-12T08:39:47.165730Z"
    },
    "papermill": {
     "duration": 0.302751,
     "end_time": "2020-06-12T08:39:47.166512",
     "exception": false,
     "start_time": "2020-06-12T08:39:46.863761",
     "status": "completed"
    },
    "tags": []
   },
   "outputs": [
    {
     "data": {
      "text/plain": [
       "{'N': 1993.054847802298,\n",
       " 'beta': 0.1537469990774225,\n",
       " 'gamma': 0.03947028844007966}"
      ]
     },
     "execution_count": 20,
     "metadata": {},
     "output_type": "execute_result"
    },
    {
     "data": {
      "image/png": "[encoded data removed]",
      "text/plain": [
       "<Figure size 576x360 with 1 Axes>"
      ]
     },
     "metadata": {
      "needs_background": "light"
     },
     "output_type": "display_data"
    }
   ],
   "source": [
    "plt.figure(figsize=(8,5))\n",
    "results.plot_fit(datafmt=\".\", fitfmt=\"-\");\n",
    "results.best_values"
   ]
  },
  {
   "cell_type": "code",
   "execution_count": 21,
   "metadata": {
    "execution": {
     "iopub.execute_input": "2020-06-12T08:39:47.250375Z",
     "iopub.status.busy": "2020-06-12T08:39:47.249702Z",
     "iopub.status.idle": "2020-06-12T08:39:47.481562Z",
     "shell.execute_reply": "2020-06-12T08:39:47.482035Z"
    },
    "papermill": {
     "duration": 0.275683,
     "end_time": "2020-06-12T08:39:47.482147",
     "exception": false,
     "start_time": "2020-06-12T08:39:47.206464",
     "status": "completed"
    },
    "tags": []
   },
   "outputs": [
    {
     "data": {
      "text/plain": [
       "<matplotlib.axes._subplots.AxesSubplot at 0x7f9e2bd4d240>"
      ]
     },
     "execution_count": 21,
     "metadata": {},
     "output_type": "execute_result"
    },
    {
     "data": {
      "image/png": "[encoded data removed]",
      "text/plain": [
       "<Figure size 576x360 with 1 Axes>"
      ]
     },
     "metadata": {
      "needs_background": "light"
     },
     "output_type": "display_data"
    }
   ],
   "source": [
    "plt.figure(figsize=(8,5))\n",
    "results.plot_residuals()"
   ]
  },
  {
   "cell_type": "code",
   "execution_count": 22,
   "metadata": {
    "execution": {
     "iopub.execute_input": "2020-06-12T08:39:47.567857Z",
     "iopub.status.busy": "2020-06-12T08:39:47.567473Z",
     "iopub.status.idle": "2020-06-12T08:39:47.587981Z",
     "shell.execute_reply": "2020-06-12T08:39:47.587357Z"
    },
    "papermill": {
     "duration": 0.065459,
     "end_time": "2020-06-12T08:39:47.588070",
     "exception": false,
     "start_time": "2020-06-12T08:39:47.522611",
     "status": "completed"
    },
    "tags": []
   },
   "outputs": [
    {
     "data": {
      "text/html": [
       "<h2> Model</h2> Model(fit_model) <h2>Fit Statistics</h2><table><tr><td>fitting method</td><td>leastsq</td><td></td></tr><tr><td># function evals</td><td>98</td><td></td></tr><tr><td># data points</td><td>118</td><td></td></tr><tr><td># variables</td><td>3</td><td></td></tr><tr><td>chi-square</td><td> 2601350.63</td><td></td></tr><tr><td>reduced chi-square</td><td> 22620.4403</td><td></td></tr><tr><td>Akaike info crit.</td><td> 1186.10109</td><td></td></tr><tr><td>Bayesian info crit.</td><td> 1194.41315</td><td></td></tr></table><h2>Variables</h2><table><tr><th> name </th><th> value </th><th> standard error </th><th> relative error </th><th> initial value </th><th> min </th><th> max </th><th> vary </th></tr><tr><td> N </td><td>  1993.05485 </td><td>  384.224716 </td><td> (19.28%) </td><td> 5000000 </td><td>  0.00000000 </td><td>         inf </td><td> True </td></tr><tr><td> beta </td><td>  0.15374700 </td><td>  0.00759174 </td><td> (4.94%) </td><td> 0.5 </td><td>  0.00000000 </td><td>         inf </td><td> True </td></tr><tr><td> gamma </td><td>  0.03947029 </td><td>  0.00922648 </td><td> (23.38%) </td><td> 0.1 </td><td>  0.00000000 </td><td>  1.00000000 </td><td> True </td></tr></table><h2>Correlations (unreported correlations are < 0.100)</h2><table><tr><td>N</td><td>gamma</td><td>0.9875</td></tr><tr><td>beta</td><td>gamma</td><td>0.9694</td></tr><tr><td>N</td><td>beta</td><td>0.9570</td></tr></table>"
      ],
      "text/plain": [
       "<lmfit.model.ModelResult at 0x7f9e2ba743c8>"
      ]
     },
     "execution_count": 22,
     "metadata": {},
     "output_type": "execute_result"
    }
   ],
   "source": [
    "results"
   ]
  },
  {
   "cell_type": "code",
   "execution_count": 23,
   "metadata": {
    "execution": {
     "iopub.execute_input": "2020-06-12T08:39:47.677553Z",
     "iopub.status.busy": "2020-06-12T08:39:47.676484Z",
     "iopub.status.idle": "2020-06-12T08:39:47.697525Z",
     "shell.execute_reply": "2020-06-12T08:39:47.696924Z"
    },
    "papermill": {
     "duration": 0.067023,
     "end_time": "2020-06-12T08:39:47.697624",
     "exception": false,
     "start_time": "2020-06-12T08:39:47.630601",
     "status": "completed"
    },
    "tags": []
   },
   "outputs": [
    {
     "data": {
      "text/plain": [
       "0.05555555555555555"
      ]
     },
     "execution_count": 23,
     "metadata": {},
     "output_type": "execute_result"
    }
   ],
   "source": [
    "# gamma should be close to this: \n",
    "1/18"
   ]
  },
  {
   "cell_type": "code",
   "execution_count": 24,
   "metadata": {
    "execution": {
     "iopub.execute_input": "2020-06-12T08:39:47.794108Z",
     "iopub.status.busy": "2020-06-12T08:39:47.793333Z",
     "iopub.status.idle": "2020-06-12T08:39:47.818481Z",
     "shell.execute_reply": "2020-06-12T08:39:47.817829Z"
    },
    "papermill": {
     "duration": 0.076336,
     "end_time": "2020-06-12T08:39:47.818573",
     "exception": false,
     "start_time": "2020-06-12T08:39:47.742237",
     "status": "completed"
    },
    "tags": []
   },
   "outputs": [],
   "source": [
    "def plot_sir2(t, S, I, R, x_ticks, COUNTRY):\n",
    "    f, ax = plt.subplots(1, 1, figsize=(12,8))\n",
    "    ax.set_title('Country: %s' % COUNTRY, fontsize= 20) \n",
    "    \n",
    "    ax.plot(x_ticks, S, 'b', alpha=0.7, linewidth=1, label='Susceptible')  # TODO: t\n",
    "    ax.plot(x_ticks, I, 'r', alpha=0.7, linewidth=2, label='Infected')\n",
    "    ax.plot(x_ticks, R, 'y', alpha=0.7, linewidth=1, label='Recovered')\n",
    "\n",
    "    ax.set_xlabel('Time (days)')\n",
    "\n",
    "    ax.yaxis.set_tick_params(length=0)\n",
    "    ax.xaxis.set_tick_params(length=0)\n",
    "    \n",
    "    # ax.set_ylim(0, 1800)\n",
    "    \n",
    "    ax.grid(b=True, which='major', c='w', lw=2, ls='-')\n",
    "    legend = ax.legend()\n",
    "    legend.get_frame().set_alpha(0.5)\n",
    "    for spine in ('top', 'right', 'bottom', 'left'):\n",
    "        ax.spines[spine].set_visible(False)\n",
    "        \n",
    "    # overlay actual data\n",
    "    ax.bar(df_country['date'], df_country['new_cases'])\n",
    "\n",
    "    plt.show()"
   ]
  },
  {
   "cell_type": "code",
   "execution_count": 25,
   "metadata": {
    "execution": {
     "iopub.execute_input": "2020-06-12T08:39:47.913454Z",
     "iopub.status.busy": "2020-06-12T08:39:47.912381Z",
     "iopub.status.idle": "2020-06-12T08:39:47.935319Z",
     "shell.execute_reply": "2020-06-12T08:39:47.934676Z"
    },
    "papermill": {
     "duration": 0.07254,
     "end_time": "2020-06-12T08:39:47.935409",
     "exception": false,
     "start_time": "2020-06-12T08:39:47.862869",
     "status": "completed"
    },
    "tags": []
   },
   "outputs": [],
   "source": [
    "def plot_infected(t, S, I, R, x_ticks, COUNTRY):\n",
    "    f, ax = plt.subplots(1, 1, figsize=(12,8))\n",
    "    ax.set_title('Country: %s' % COUNTRY, fontsize= 20) \n",
    "    \n",
    "    ax.plot(x_ticks, I, 'r', alpha=0.7, linewidth=2, label='Infected (prediction)')\n",
    "\n",
    "    ax.set_xlabel('Time (days)')\n",
    "\n",
    "    ax.yaxis.set_tick_params(length=0)\n",
    "    ax.xaxis.set_tick_params(length=0)\n",
    "    \n",
    "    # ax.set_ylim(0, 1800)\n",
    "    ax.grid(b=True, which='major', c='w', lw=2, ls='-')\n",
    "    legend = ax.legend()\n",
    "    legend.get_frame().set_alpha(0.5)\n",
    "    \n",
    "    # overlay actual data\n",
    "    ax.bar(df_country['date'], df_country['new_cases'])\n",
    "\n",
    "    plt.show()"
   ]
  },
  {
   "cell_type": "code",
   "execution_count": 26,
   "metadata": {
    "execution": {
     "iopub.execute_input": "2020-06-12T08:39:48.027375Z",
     "iopub.status.busy": "2020-06-12T08:39:48.026642Z",
     "iopub.status.idle": "2020-06-12T08:39:48.048612Z",
     "shell.execute_reply": "2020-06-12T08:39:48.047976Z"
    },
    "papermill": {
     "duration": 0.070098,
     "end_time": "2020-06-12T08:39:48.048723",
     "exception": false,
     "start_time": "2020-06-12T08:39:47.978625",
     "status": "completed"
    },
    "tags": []
   },
   "outputs": [],
   "source": [
    "max_days = 210\n",
    "first_date = np.datetime64(df_country['date'].min()) - np.timedelta64(0, 'D')\n",
    "\n",
    "x_ticks = pd.date_range(start=first_date, periods=max_days, freq=\"D\")"
   ]
  },
  {
   "cell_type": "code",
   "execution_count": 27,
   "metadata": {
    "execution": {
     "iopub.execute_input": "2020-06-12T08:39:48.138006Z",
     "iopub.status.busy": "2020-06-12T08:39:48.137365Z",
     "iopub.status.idle": "2020-06-12T08:39:48.826702Z",
     "shell.execute_reply": "2020-06-12T08:39:48.825936Z"
    },
    "papermill": {
     "duration": 0.735027,
     "end_time": "2020-06-12T08:39:48.826793",
     "exception": false,
     "start_time": "2020-06-12T08:39:48.091766",
     "status": "completed"
    },
    "tags": []
   },
   "outputs": [
    {
     "data": {
      "image/png": "[encoded data removed]",
      "text/plain": [
       "<Figure size 864x576 with 1 Axes>"
      ]
     },
     "metadata": {
      "needs_background": "light"
     },
     "output_type": "display_data"
    }
   ],
   "source": [
    "plot_sir2(*Model_SIR(max_days, **results.best_values), x_ticks, COUNTRY)"
   ]
  },
  {
   "cell_type": "code",
   "execution_count": 28,
   "metadata": {
    "execution": {
     "iopub.execute_input": "2020-06-12T08:39:48.922507Z",
     "iopub.status.busy": "2020-06-12T08:39:48.921923Z",
     "iopub.status.idle": "2020-06-12T08:39:49.556444Z",
     "shell.execute_reply": "2020-06-12T08:39:49.555785Z"
    },
    "papermill": {
     "duration": 0.683894,
     "end_time": "2020-06-12T08:39:49.556570",
     "exception": false,
     "start_time": "2020-06-12T08:39:48.872676",
     "status": "completed"
    },
    "tags": []
   },
   "outputs": [
    {
     "data": {
      "image/png": "[encoded data removed]",
      "text/plain": [
       "<Figure size 864x576 with 1 Axes>"
      ]
     },
     "metadata": {
      "needs_background": "light"
     },
     "output_type": "display_data"
    }
   ],
   "source": [
    "plot_infected(*Model_SIR(max_days, **results.best_values), x_ticks, COUNTRY)"
   ]
  },
  {
   "cell_type": "markdown",
   "metadata": {
    "papermill": {
     "duration": 0.045511,
     "end_time": "2020-06-12T08:39:49.648819",
     "exception": false,
     "start_time": "2020-06-12T08:39:49.603308",
     "status": "completed"
    },
    "tags": []
   },
   "source": [
    "# observations\n",
    "\n",
    "- It is difficult to make predictions for different countries with the evolving situation and resources available. A country could be at different stages of the outbreak\n",
    "- A more complicated model could be used e.g. SEIR "
   ]
  },
  {
   "cell_type": "code",
   "execution_count": null,
   "metadata": {
    "papermill": {
     "duration": 0.045202,
     "end_time": "2020-06-12T08:39:49.738517",
     "exception": false,
     "start_time": "2020-06-12T08:39:49.693315",
     "status": "completed"
    },
    "tags": []
   },
   "outputs": [],
   "source": []
  },
  {
   "cell_type": "code",
   "execution_count": null,
   "metadata": {
    "papermill": {
     "duration": 0.047172,
     "end_time": "2020-06-12T08:39:49.833127",
     "exception": false,
     "start_time": "2020-06-12T08:39:49.785955",
     "status": "completed"
    },
    "tags": []
   },
   "outputs": [],
   "source": []
  }
 ],
 "metadata": {
  "kernelspec": {
   "display_name": "Python 3",
   "language": "python",
   "name": "python3"
  },
  "language_info": {
   "codemirror_mode": {
    "name": "ipython",
    "version": 3
   },
   "file_extension": ".py",
   "mimetype": "text/x-python",
   "name": "python",
   "nbconvert_exporter": "python",
   "pygments_lexer": "ipython3",
   "version": "3.7.3"
  },
  "papermill": {
   "duration": 9.611259,
   "end_time": "2020-06-12T08:39:50.302671",
   "environment_variables": {},
   "exception": null,
   "input_path": "sir_country_model.ipynb",
   "output_path": "output/country_SGP.ipynb",
   "parameters": {
    "COUNTRY": "SGP",
    "START_DATE": "2020-02-14"
   },
   "start_time": "2020-06-12T08:39:40.691412",
   "version": "2.1.1"
  }
 },
 "nbformat": 4,
 "nbformat_minor": 4
}