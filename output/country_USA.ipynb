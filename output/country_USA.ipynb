{
 "cells": [
  {
   "cell_type": "code",
   "execution_count": 1,
   "metadata": {
    "execution": {
     "iopub.execute_input": "2020-06-12T08:40:21.964848Z",
     "iopub.status.busy": "2020-06-12T08:40:21.964144Z",
     "iopub.status.idle": "2020-06-12T08:40:21.981568Z",
     "shell.execute_reply": "2020-06-12T08:40:21.981026Z"
    },
    "papermill": {
     "duration": 0.069002,
     "end_time": "2020-06-12T08:40:21.981668",
     "exception": false,
     "start_time": "2020-06-12T08:40:21.912666",
     "status": "completed"
    },
    "tags": []
   },
   "outputs": [],
   "source": [
    "%load_ext autoreload\n",
    "%autoreload 2"
   ]
  },
  {
   "cell_type": "code",
   "execution_count": 2,
   "metadata": {
    "execution": {
     "iopub.execute_input": "2020-06-12T08:40:22.056651Z",
     "iopub.status.busy": "2020-06-12T08:40:22.055875Z",
     "iopub.status.idle": "2020-06-12T08:40:23.084827Z",
     "shell.execute_reply": "2020-06-12T08:40:23.084003Z"
    },
    "papermill": {
     "duration": 1.074513,
     "end_time": "2020-06-12T08:40:23.084941",
     "exception": false,
     "start_time": "2020-06-12T08:40:22.010428",
     "status": "completed"
    },
    "tags": []
   },
   "outputs": [],
   "source": [
    "import scipy\n",
    "from scipy.integrate import odeint\n",
    "\n",
    "import pandas as pd\n",
    "import numpy as np\n",
    "import datetime\n",
    "\n",
    "import matplotlib.pyplot as plt\n",
    "import matplotlib.dates as mdates\n",
    "import seaborn as sns\n",
    "\n",
    "import lmfit\n",
    "from lmfit.lineshapes import gaussian, lorentzian\n",
    "\n",
    "plt.style.use('fivethirtyeight')\n",
    "%matplotlib inline "
   ]
  },
  {
   "cell_type": "code",
   "execution_count": 3,
   "metadata": {
    "execution": {
     "iopub.execute_input": "2020-06-12T08:40:23.145942Z",
     "iopub.status.busy": "2020-06-12T08:40:23.145262Z",
     "iopub.status.idle": "2020-06-12T08:40:23.165734Z",
     "shell.execute_reply": "2020-06-12T08:40:23.165046Z"
    },
    "papermill": {
     "duration": 0.051241,
     "end_time": "2020-06-12T08:40:23.165825",
     "exception": false,
     "start_time": "2020-06-12T08:40:23.114584",
     "status": "completed"
    },
    "tags": [
     "parameters"
    ]
   },
   "outputs": [],
   "source": [
    "# parameters \n",
    "\n",
    "COUNTRY = 'JPN'  # 'SGP', 'MYS', 'DEU', 'OWID_WRL'\n",
    "\n",
    "START_DATE = '2020-02-14'"
   ]
  },
  {
   "cell_type": "code",
   "execution_count": 4,
   "metadata": {
    "execution": {
     "iopub.execute_input": "2020-06-12T08:40:23.240842Z",
     "iopub.status.busy": "2020-06-12T08:40:23.240162Z",
     "iopub.status.idle": "2020-06-12T08:40:23.265757Z",
     "shell.execute_reply": "2020-06-12T08:40:23.265121Z"
    },
    "papermill": {
     "duration": 0.055614,
     "end_time": "2020-06-12T08:40:23.265848",
     "exception": false,
     "start_time": "2020-06-12T08:40:23.210234",
     "status": "completed"
    },
    "tags": [
     "injected-parameters"
    ]
   },
   "outputs": [],
   "source": [
    "# Parameters\n",
    "COUNTRY = \"USA\"\n",
    "START_DATE = \"2020-02-14\"\n"
   ]
  },
  {
   "cell_type": "code",
   "execution_count": 5,
   "metadata": {
    "execution": {
     "iopub.execute_input": "2020-06-12T08:40:23.328775Z",
     "iopub.status.busy": "2020-06-12T08:40:23.328180Z",
     "iopub.status.idle": "2020-06-12T08:40:23.492447Z",
     "shell.execute_reply": "2020-06-12T08:40:23.491728Z"
    },
    "papermill": {
     "duration": 0.197258,
     "end_time": "2020-06-12T08:40:23.492550",
     "exception": false,
     "start_time": "2020-06-12T08:40:23.295292",
     "status": "completed"
    },
    "tags": []
   },
   "outputs": [
    {
     "data": {
      "text/plain": [
       "(23194, 33)"
      ]
     },
     "execution_count": 5,
     "metadata": {},
     "output_type": "execute_result"
    }
   ],
   "source": [
    "DATA_PATH = '../covid-19-data/public/data/owid-covid-data.csv'\n",
    "# DATA_PATH = '../covid-19-data/public/data/ecdc/full_data.csv'\n",
    "\n",
    "df = pd.read_csv(DATA_PATH)\n",
    "df['date'] = pd.to_datetime(df['date'], yearfirst=True)\n",
    "df.shape"
   ]
  },
  {
   "cell_type": "code",
   "execution_count": 6,
   "metadata": {
    "execution": {
     "iopub.execute_input": "2020-06-12T08:40:23.554480Z",
     "iopub.status.busy": "2020-06-12T08:40:23.553842Z",
     "iopub.status.idle": "2020-06-12T08:40:23.598691Z",
     "shell.execute_reply": "2020-06-12T08:40:23.598177Z"
    },
    "papermill": {
     "duration": 0.077225,
     "end_time": "2020-06-12T08:40:23.598783",
     "exception": false,
     "start_time": "2020-06-12T08:40:23.521558",
     "status": "completed"
    },
    "tags": []
   },
   "outputs": [
    {
     "data": {
      "text/html": [
       "<div>\n",
       "<style scoped>\n",
       "    .dataframe tbody tr th:only-of-type {\n",
       "        vertical-align: middle;\n",
       "    }\n",
       "\n",
       "    .dataframe tbody tr th {\n",
       "        vertical-align: top;\n",
       "    }\n",
       "\n",
       "    .dataframe thead th {\n",
       "        text-align: right;\n",
       "    }\n",
       "</style>\n",
       "<table border=\"1\" class=\"dataframe\">\n",
       "  <thead>\n",
       "    <tr style=\"text-align: right;\">\n",
       "      <th></th>\n",
       "      <th>iso_code</th>\n",
       "      <th>continent</th>\n",
       "      <th>location</th>\n",
       "      <th>date</th>\n",
       "      <th>total_cases</th>\n",
       "      <th>new_cases</th>\n",
       "      <th>total_deaths</th>\n",
       "      <th>new_deaths</th>\n",
       "      <th>total_cases_per_million</th>\n",
       "      <th>new_cases_per_million</th>\n",
       "      <th>...</th>\n",
       "      <th>aged_65_older</th>\n",
       "      <th>aged_70_older</th>\n",
       "      <th>gdp_per_capita</th>\n",
       "      <th>extreme_poverty</th>\n",
       "      <th>cvd_death_rate</th>\n",
       "      <th>diabetes_prevalence</th>\n",
       "      <th>female_smokers</th>\n",
       "      <th>male_smokers</th>\n",
       "      <th>handwashing_facilities</th>\n",
       "      <th>hospital_beds_per_thousand</th>\n",
       "    </tr>\n",
       "  </thead>\n",
       "  <tbody>\n",
       "    <tr>\n",
       "      <th>0</th>\n",
       "      <td>AFG</td>\n",
       "      <td>Asia</td>\n",
       "      <td>Afghanistan</td>\n",
       "      <td>2019-12-31</td>\n",
       "      <td>0</td>\n",
       "      <td>0</td>\n",
       "      <td>0</td>\n",
       "      <td>0</td>\n",
       "      <td>0.0</td>\n",
       "      <td>0.0</td>\n",
       "      <td>...</td>\n",
       "      <td>2.581</td>\n",
       "      <td>1.337</td>\n",
       "      <td>1803.987</td>\n",
       "      <td>NaN</td>\n",
       "      <td>597.029</td>\n",
       "      <td>9.59</td>\n",
       "      <td>NaN</td>\n",
       "      <td>NaN</td>\n",
       "      <td>37.746</td>\n",
       "      <td>0.5</td>\n",
       "    </tr>\n",
       "    <tr>\n",
       "      <th>1</th>\n",
       "      <td>AFG</td>\n",
       "      <td>Asia</td>\n",
       "      <td>Afghanistan</td>\n",
       "      <td>2020-01-01</td>\n",
       "      <td>0</td>\n",
       "      <td>0</td>\n",
       "      <td>0</td>\n",
       "      <td>0</td>\n",
       "      <td>0.0</td>\n",
       "      <td>0.0</td>\n",
       "      <td>...</td>\n",
       "      <td>2.581</td>\n",
       "      <td>1.337</td>\n",
       "      <td>1803.987</td>\n",
       "      <td>NaN</td>\n",
       "      <td>597.029</td>\n",
       "      <td>9.59</td>\n",
       "      <td>NaN</td>\n",
       "      <td>NaN</td>\n",
       "      <td>37.746</td>\n",
       "      <td>0.5</td>\n",
       "    </tr>\n",
       "    <tr>\n",
       "      <th>2</th>\n",
       "      <td>AFG</td>\n",
       "      <td>Asia</td>\n",
       "      <td>Afghanistan</td>\n",
       "      <td>2020-01-02</td>\n",
       "      <td>0</td>\n",
       "      <td>0</td>\n",
       "      <td>0</td>\n",
       "      <td>0</td>\n",
       "      <td>0.0</td>\n",
       "      <td>0.0</td>\n",
       "      <td>...</td>\n",
       "      <td>2.581</td>\n",
       "      <td>1.337</td>\n",
       "      <td>1803.987</td>\n",
       "      <td>NaN</td>\n",
       "      <td>597.029</td>\n",
       "      <td>9.59</td>\n",
       "      <td>NaN</td>\n",
       "      <td>NaN</td>\n",
       "      <td>37.746</td>\n",
       "      <td>0.5</td>\n",
       "    </tr>\n",
       "    <tr>\n",
       "      <th>3</th>\n",
       "      <td>AFG</td>\n",
       "      <td>Asia</td>\n",
       "      <td>Afghanistan</td>\n",
       "      <td>2020-01-03</td>\n",
       "      <td>0</td>\n",
       "      <td>0</td>\n",
       "      <td>0</td>\n",
       "      <td>0</td>\n",
       "      <td>0.0</td>\n",
       "      <td>0.0</td>\n",
       "      <td>...</td>\n",
       "      <td>2.581</td>\n",
       "      <td>1.337</td>\n",
       "      <td>1803.987</td>\n",
       "      <td>NaN</td>\n",
       "      <td>597.029</td>\n",
       "      <td>9.59</td>\n",
       "      <td>NaN</td>\n",
       "      <td>NaN</td>\n",
       "      <td>37.746</td>\n",
       "      <td>0.5</td>\n",
       "    </tr>\n",
       "    <tr>\n",
       "      <th>4</th>\n",
       "      <td>AFG</td>\n",
       "      <td>Asia</td>\n",
       "      <td>Afghanistan</td>\n",
       "      <td>2020-01-04</td>\n",
       "      <td>0</td>\n",
       "      <td>0</td>\n",
       "      <td>0</td>\n",
       "      <td>0</td>\n",
       "      <td>0.0</td>\n",
       "      <td>0.0</td>\n",
       "      <td>...</td>\n",
       "      <td>2.581</td>\n",
       "      <td>1.337</td>\n",
       "      <td>1803.987</td>\n",
       "      <td>NaN</td>\n",
       "      <td>597.029</td>\n",
       "      <td>9.59</td>\n",
       "      <td>NaN</td>\n",
       "      <td>NaN</td>\n",
       "      <td>37.746</td>\n",
       "      <td>0.5</td>\n",
       "    </tr>\n",
       "  </tbody>\n",
       "</table>\n",
       "<p>5 rows × 33 columns</p>\n",
       "</div>"
      ],
      "text/plain": [
       "  iso_code continent     location       date  total_cases  new_cases  \\\n",
       "0      AFG      Asia  Afghanistan 2019-12-31            0          0   \n",
       "1      AFG      Asia  Afghanistan 2020-01-01            0          0   \n",
       "2      AFG      Asia  Afghanistan 2020-01-02            0          0   \n",
       "3      AFG      Asia  Afghanistan 2020-01-03            0          0   \n",
       "4      AFG      Asia  Afghanistan 2020-01-04            0          0   \n",
       "\n",
       "   total_deaths  new_deaths  total_cases_per_million  new_cases_per_million  \\\n",
       "0             0           0                      0.0                    0.0   \n",
       "1             0           0                      0.0                    0.0   \n",
       "2             0           0                      0.0                    0.0   \n",
       "3             0           0                      0.0                    0.0   \n",
       "4             0           0                      0.0                    0.0   \n",
       "\n",
       "   ...  aged_65_older  aged_70_older  gdp_per_capita  extreme_poverty  \\\n",
       "0  ...          2.581          1.337        1803.987              NaN   \n",
       "1  ...          2.581          1.337        1803.987              NaN   \n",
       "2  ...          2.581          1.337        1803.987              NaN   \n",
       "3  ...          2.581          1.337        1803.987              NaN   \n",
       "4  ...          2.581          1.337        1803.987              NaN   \n",
       "\n",
       "   cvd_death_rate  diabetes_prevalence  female_smokers  male_smokers  \\\n",
       "0         597.029                 9.59             NaN           NaN   \n",
       "1         597.029                 9.59             NaN           NaN   \n",
       "2         597.029                 9.59             NaN           NaN   \n",
       "3         597.029                 9.59             NaN           NaN   \n",
       "4         597.029                 9.59             NaN           NaN   \n",
       "\n",
       "  handwashing_facilities  hospital_beds_per_thousand  \n",
       "0                 37.746                         0.5  \n",
       "1                 37.746                         0.5  \n",
       "2                 37.746                         0.5  \n",
       "3                 37.746                         0.5  \n",
       "4                 37.746                         0.5  \n",
       "\n",
       "[5 rows x 33 columns]"
      ]
     },
     "execution_count": 6,
     "metadata": {},
     "output_type": "execute_result"
    }
   ],
   "source": [
    "df.head()"
   ]
  },
  {
   "cell_type": "code",
   "execution_count": 7,
   "metadata": {
    "execution": {
     "iopub.execute_input": "2020-06-12T08:40:23.661835Z",
     "iopub.status.busy": "2020-06-12T08:40:23.661231Z",
     "iopub.status.idle": "2020-06-12T08:40:23.690914Z",
     "shell.execute_reply": "2020-06-12T08:40:23.691392Z"
    },
    "papermill": {
     "duration": 0.063011,
     "end_time": "2020-06-12T08:40:23.691509",
     "exception": false,
     "start_time": "2020-06-12T08:40:23.628498",
     "status": "completed"
    },
    "tags": []
   },
   "outputs": [
    {
     "data": {
      "text/plain": [
       "LTU    165\n",
       "CAN    165\n",
       "RUS    165\n",
       "GRC    164\n",
       "JPN    164\n",
       "NOR    164\n",
       "GBR    164\n",
       "CHN    164\n",
       "SWE    164\n",
       "NLD    164\n",
       "ISR    164\n",
       "AUS    164\n",
       "SGP    164\n",
       "CZE    164\n",
       "DNK    164\n",
       "BEL    164\n",
       "MYS    164\n",
       "HRV    164\n",
       "IRN    164\n",
       "BLR    164\n",
       "Name: iso_code, dtype: int64"
      ]
     },
     "execution_count": 7,
     "metadata": {},
     "output_type": "execute_result"
    }
   ],
   "source": [
    "df['iso_code'].value_counts().head(20)"
   ]
  },
  {
   "cell_type": "markdown",
   "metadata": {
    "papermill": {
     "duration": 0.030201,
     "end_time": "2020-06-12T08:40:23.769513",
     "exception": false,
     "start_time": "2020-06-12T08:40:23.739312",
     "status": "completed"
    },
    "tags": []
   },
   "source": [
    "filter country"
   ]
  },
  {
   "cell_type": "code",
   "execution_count": 8,
   "metadata": {
    "execution": {
     "iopub.execute_input": "2020-06-12T08:40:23.837331Z",
     "iopub.status.busy": "2020-06-12T08:40:23.836540Z",
     "iopub.status.idle": "2020-06-12T08:40:23.897106Z",
     "shell.execute_reply": "2020-06-12T08:40:23.897561Z"
    },
    "papermill": {
     "duration": 0.098857,
     "end_time": "2020-06-12T08:40:23.897724",
     "exception": false,
     "start_time": "2020-06-12T08:40:23.798867",
     "status": "completed"
    },
    "tags": []
   },
   "outputs": [
    {
     "data": {
      "text/html": [
       "<div>\n",
       "<style scoped>\n",
       "    .dataframe tbody tr th:only-of-type {\n",
       "        vertical-align: middle;\n",
       "    }\n",
       "\n",
       "    .dataframe tbody tr th {\n",
       "        vertical-align: top;\n",
       "    }\n",
       "\n",
       "    .dataframe thead th {\n",
       "        text-align: right;\n",
       "    }\n",
       "</style>\n",
       "<table border=\"1\" class=\"dataframe\">\n",
       "  <thead>\n",
       "    <tr style=\"text-align: right;\">\n",
       "      <th></th>\n",
       "      <th>iso_code</th>\n",
       "      <th>continent</th>\n",
       "      <th>location</th>\n",
       "      <th>date</th>\n",
       "      <th>total_cases</th>\n",
       "      <th>new_cases</th>\n",
       "      <th>total_deaths</th>\n",
       "      <th>new_deaths</th>\n",
       "      <th>total_cases_per_million</th>\n",
       "      <th>new_cases_per_million</th>\n",
       "      <th>...</th>\n",
       "      <th>aged_65_older</th>\n",
       "      <th>aged_70_older</th>\n",
       "      <th>gdp_per_capita</th>\n",
       "      <th>extreme_poverty</th>\n",
       "      <th>cvd_death_rate</th>\n",
       "      <th>diabetes_prevalence</th>\n",
       "      <th>female_smokers</th>\n",
       "      <th>male_smokers</th>\n",
       "      <th>handwashing_facilities</th>\n",
       "      <th>hospital_beds_per_thousand</th>\n",
       "    </tr>\n",
       "  </thead>\n",
       "  <tbody>\n",
       "    <tr>\n",
       "      <th>21971</th>\n",
       "      <td>USA</td>\n",
       "      <td>North America</td>\n",
       "      <td>United States</td>\n",
       "      <td>2020-02-15</td>\n",
       "      <td>15</td>\n",
       "      <td>0</td>\n",
       "      <td>0</td>\n",
       "      <td>0</td>\n",
       "      <td>0.045</td>\n",
       "      <td>0.000</td>\n",
       "      <td>...</td>\n",
       "      <td>15.413</td>\n",
       "      <td>9.732</td>\n",
       "      <td>54225.446</td>\n",
       "      <td>1.2</td>\n",
       "      <td>151.089</td>\n",
       "      <td>10.79</td>\n",
       "      <td>19.1</td>\n",
       "      <td>24.6</td>\n",
       "      <td>NaN</td>\n",
       "      <td>2.77</td>\n",
       "    </tr>\n",
       "    <tr>\n",
       "      <th>21972</th>\n",
       "      <td>USA</td>\n",
       "      <td>North America</td>\n",
       "      <td>United States</td>\n",
       "      <td>2020-02-16</td>\n",
       "      <td>15</td>\n",
       "      <td>0</td>\n",
       "      <td>0</td>\n",
       "      <td>0</td>\n",
       "      <td>0.045</td>\n",
       "      <td>0.000</td>\n",
       "      <td>...</td>\n",
       "      <td>15.413</td>\n",
       "      <td>9.732</td>\n",
       "      <td>54225.446</td>\n",
       "      <td>1.2</td>\n",
       "      <td>151.089</td>\n",
       "      <td>10.79</td>\n",
       "      <td>19.1</td>\n",
       "      <td>24.6</td>\n",
       "      <td>NaN</td>\n",
       "      <td>2.77</td>\n",
       "    </tr>\n",
       "    <tr>\n",
       "      <th>21973</th>\n",
       "      <td>USA</td>\n",
       "      <td>North America</td>\n",
       "      <td>United States</td>\n",
       "      <td>2020-02-17</td>\n",
       "      <td>15</td>\n",
       "      <td>0</td>\n",
       "      <td>0</td>\n",
       "      <td>0</td>\n",
       "      <td>0.045</td>\n",
       "      <td>0.000</td>\n",
       "      <td>...</td>\n",
       "      <td>15.413</td>\n",
       "      <td>9.732</td>\n",
       "      <td>54225.446</td>\n",
       "      <td>1.2</td>\n",
       "      <td>151.089</td>\n",
       "      <td>10.79</td>\n",
       "      <td>19.1</td>\n",
       "      <td>24.6</td>\n",
       "      <td>NaN</td>\n",
       "      <td>2.77</td>\n",
       "    </tr>\n",
       "    <tr>\n",
       "      <th>21974</th>\n",
       "      <td>USA</td>\n",
       "      <td>North America</td>\n",
       "      <td>United States</td>\n",
       "      <td>2020-02-18</td>\n",
       "      <td>15</td>\n",
       "      <td>0</td>\n",
       "      <td>0</td>\n",
       "      <td>0</td>\n",
       "      <td>0.045</td>\n",
       "      <td>0.000</td>\n",
       "      <td>...</td>\n",
       "      <td>15.413</td>\n",
       "      <td>9.732</td>\n",
       "      <td>54225.446</td>\n",
       "      <td>1.2</td>\n",
       "      <td>151.089</td>\n",
       "      <td>10.79</td>\n",
       "      <td>19.1</td>\n",
       "      <td>24.6</td>\n",
       "      <td>NaN</td>\n",
       "      <td>2.77</td>\n",
       "    </tr>\n",
       "    <tr>\n",
       "      <th>21975</th>\n",
       "      <td>USA</td>\n",
       "      <td>North America</td>\n",
       "      <td>United States</td>\n",
       "      <td>2020-02-19</td>\n",
       "      <td>15</td>\n",
       "      <td>0</td>\n",
       "      <td>0</td>\n",
       "      <td>0</td>\n",
       "      <td>0.045</td>\n",
       "      <td>0.000</td>\n",
       "      <td>...</td>\n",
       "      <td>15.413</td>\n",
       "      <td>9.732</td>\n",
       "      <td>54225.446</td>\n",
       "      <td>1.2</td>\n",
       "      <td>151.089</td>\n",
       "      <td>10.79</td>\n",
       "      <td>19.1</td>\n",
       "      <td>24.6</td>\n",
       "      <td>NaN</td>\n",
       "      <td>2.77</td>\n",
       "    </tr>\n",
       "    <tr>\n",
       "      <th>...</th>\n",
       "      <td>...</td>\n",
       "      <td>...</td>\n",
       "      <td>...</td>\n",
       "      <td>...</td>\n",
       "      <td>...</td>\n",
       "      <td>...</td>\n",
       "      <td>...</td>\n",
       "      <td>...</td>\n",
       "      <td>...</td>\n",
       "      <td>...</td>\n",
       "      <td>...</td>\n",
       "      <td>...</td>\n",
       "      <td>...</td>\n",
       "      <td>...</td>\n",
       "      <td>...</td>\n",
       "      <td>...</td>\n",
       "      <td>...</td>\n",
       "      <td>...</td>\n",
       "      <td>...</td>\n",
       "      <td>...</td>\n",
       "      <td>...</td>\n",
       "    </tr>\n",
       "    <tr>\n",
       "      <th>22084</th>\n",
       "      <td>USA</td>\n",
       "      <td>North America</td>\n",
       "      <td>United States</td>\n",
       "      <td>2020-06-07</td>\n",
       "      <td>1920061</td>\n",
       "      <td>22223</td>\n",
       "      <td>109802</td>\n",
       "      <td>659</td>\n",
       "      <td>5800.742</td>\n",
       "      <td>67.138</td>\n",
       "      <td>...</td>\n",
       "      <td>15.413</td>\n",
       "      <td>9.732</td>\n",
       "      <td>54225.446</td>\n",
       "      <td>1.2</td>\n",
       "      <td>151.089</td>\n",
       "      <td>10.79</td>\n",
       "      <td>19.1</td>\n",
       "      <td>24.6</td>\n",
       "      <td>NaN</td>\n",
       "      <td>2.77</td>\n",
       "    </tr>\n",
       "    <tr>\n",
       "      <th>22085</th>\n",
       "      <td>USA</td>\n",
       "      <td>North America</td>\n",
       "      <td>United States</td>\n",
       "      <td>2020-06-08</td>\n",
       "      <td>1942363</td>\n",
       "      <td>22302</td>\n",
       "      <td>110514</td>\n",
       "      <td>712</td>\n",
       "      <td>5868.119</td>\n",
       "      <td>67.377</td>\n",
       "      <td>...</td>\n",
       "      <td>15.413</td>\n",
       "      <td>9.732</td>\n",
       "      <td>54225.446</td>\n",
       "      <td>1.2</td>\n",
       "      <td>151.089</td>\n",
       "      <td>10.79</td>\n",
       "      <td>19.1</td>\n",
       "      <td>24.6</td>\n",
       "      <td>NaN</td>\n",
       "      <td>2.77</td>\n",
       "    </tr>\n",
       "    <tr>\n",
       "      <th>22086</th>\n",
       "      <td>USA</td>\n",
       "      <td>North America</td>\n",
       "      <td>United States</td>\n",
       "      <td>2020-06-09</td>\n",
       "      <td>1961185</td>\n",
       "      <td>18822</td>\n",
       "      <td>111007</td>\n",
       "      <td>493</td>\n",
       "      <td>5924.983</td>\n",
       "      <td>56.864</td>\n",
       "      <td>...</td>\n",
       "      <td>15.413</td>\n",
       "      <td>9.732</td>\n",
       "      <td>54225.446</td>\n",
       "      <td>1.2</td>\n",
       "      <td>151.089</td>\n",
       "      <td>10.79</td>\n",
       "      <td>19.1</td>\n",
       "      <td>24.6</td>\n",
       "      <td>NaN</td>\n",
       "      <td>2.77</td>\n",
       "    </tr>\n",
       "    <tr>\n",
       "      <th>22087</th>\n",
       "      <td>USA</td>\n",
       "      <td>North America</td>\n",
       "      <td>United States</td>\n",
       "      <td>2020-06-10</td>\n",
       "      <td>1979850</td>\n",
       "      <td>18665</td>\n",
       "      <td>112006</td>\n",
       "      <td>999</td>\n",
       "      <td>5981.372</td>\n",
       "      <td>56.389</td>\n",
       "      <td>...</td>\n",
       "      <td>15.413</td>\n",
       "      <td>9.732</td>\n",
       "      <td>54225.446</td>\n",
       "      <td>1.2</td>\n",
       "      <td>151.089</td>\n",
       "      <td>10.79</td>\n",
       "      <td>19.1</td>\n",
       "      <td>24.6</td>\n",
       "      <td>NaN</td>\n",
       "      <td>2.77</td>\n",
       "    </tr>\n",
       "    <tr>\n",
       "      <th>22088</th>\n",
       "      <td>USA</td>\n",
       "      <td>North America</td>\n",
       "      <td>United States</td>\n",
       "      <td>2020-06-11</td>\n",
       "      <td>2000464</td>\n",
       "      <td>20614</td>\n",
       "      <td>112924</td>\n",
       "      <td>918</td>\n",
       "      <td>6043.650</td>\n",
       "      <td>62.277</td>\n",
       "      <td>...</td>\n",
       "      <td>15.413</td>\n",
       "      <td>9.732</td>\n",
       "      <td>54225.446</td>\n",
       "      <td>1.2</td>\n",
       "      <td>151.089</td>\n",
       "      <td>10.79</td>\n",
       "      <td>19.1</td>\n",
       "      <td>24.6</td>\n",
       "      <td>NaN</td>\n",
       "      <td>2.77</td>\n",
       "    </tr>\n",
       "  </tbody>\n",
       "</table>\n",
       "<p>118 rows × 33 columns</p>\n",
       "</div>"
      ],
      "text/plain": [
       "      iso_code      continent       location       date  total_cases  \\\n",
       "21971      USA  North America  United States 2020-02-15           15   \n",
       "21972      USA  North America  United States 2020-02-16           15   \n",
       "21973      USA  North America  United States 2020-02-17           15   \n",
       "21974      USA  North America  United States 2020-02-18           15   \n",
       "21975      USA  North America  United States 2020-02-19           15   \n",
       "...        ...            ...            ...        ...          ...   \n",
       "22084      USA  North America  United States 2020-06-07      1920061   \n",
       "22085      USA  North America  United States 2020-06-08      1942363   \n",
       "22086      USA  North America  United States 2020-06-09      1961185   \n",
       "22087      USA  North America  United States 2020-06-10      1979850   \n",
       "22088      USA  North America  United States 2020-06-11      2000464   \n",
       "\n",
       "       new_cases  total_deaths  new_deaths  total_cases_per_million  \\\n",
       "21971          0             0           0                    0.045   \n",
       "21972          0             0           0                    0.045   \n",
       "21973          0             0           0                    0.045   \n",
       "21974          0             0           0                    0.045   \n",
       "21975          0             0           0                    0.045   \n",
       "...          ...           ...         ...                      ...   \n",
       "22084      22223        109802         659                 5800.742   \n",
       "22085      22302        110514         712                 5868.119   \n",
       "22086      18822        111007         493                 5924.983   \n",
       "22087      18665        112006         999                 5981.372   \n",
       "22088      20614        112924         918                 6043.650   \n",
       "\n",
       "       new_cases_per_million  ...  aged_65_older  aged_70_older  \\\n",
       "21971                  0.000  ...         15.413          9.732   \n",
       "21972                  0.000  ...         15.413          9.732   \n",
       "21973                  0.000  ...         15.413          9.732   \n",
       "21974                  0.000  ...         15.413          9.732   \n",
       "21975                  0.000  ...         15.413          9.732   \n",
       "...                      ...  ...            ...            ...   \n",
       "22084                 67.138  ...         15.413          9.732   \n",
       "22085                 67.377  ...         15.413          9.732   \n",
       "22086                 56.864  ...         15.413          9.732   \n",
       "22087                 56.389  ...         15.413          9.732   \n",
       "22088                 62.277  ...         15.413          9.732   \n",
       "\n",
       "       gdp_per_capita  extreme_poverty  cvd_death_rate  diabetes_prevalence  \\\n",
       "21971       54225.446              1.2         151.089                10.79   \n",
       "21972       54225.446              1.2         151.089                10.79   \n",
       "21973       54225.446              1.2         151.089                10.79   \n",
       "21974       54225.446              1.2         151.089                10.79   \n",
       "21975       54225.446              1.2         151.089                10.79   \n",
       "...               ...              ...             ...                  ...   \n",
       "22084       54225.446              1.2         151.089                10.79   \n",
       "22085       54225.446              1.2         151.089                10.79   \n",
       "22086       54225.446              1.2         151.089                10.79   \n",
       "22087       54225.446              1.2         151.089                10.79   \n",
       "22088       54225.446              1.2         151.089                10.79   \n",
       "\n",
       "       female_smokers  male_smokers handwashing_facilities  \\\n",
       "21971            19.1          24.6                    NaN   \n",
       "21972            19.1          24.6                    NaN   \n",
       "21973            19.1          24.6                    NaN   \n",
       "21974            19.1          24.6                    NaN   \n",
       "21975            19.1          24.6                    NaN   \n",
       "...               ...           ...                    ...   \n",
       "22084            19.1          24.6                    NaN   \n",
       "22085            19.1          24.6                    NaN   \n",
       "22086            19.1          24.6                    NaN   \n",
       "22087            19.1          24.6                    NaN   \n",
       "22088            19.1          24.6                    NaN   \n",
       "\n",
       "       hospital_beds_per_thousand  \n",
       "21971                        2.77  \n",
       "21972                        2.77  \n",
       "21973                        2.77  \n",
       "21974                        2.77  \n",
       "21975                        2.77  \n",
       "...                           ...  \n",
       "22084                        2.77  \n",
       "22085                        2.77  \n",
       "22086                        2.77  \n",
       "22087                        2.77  \n",
       "22088                        2.77  \n",
       "\n",
       "[118 rows x 33 columns]"
      ]
     },
     "execution_count": 8,
     "metadata": {},
     "output_type": "execute_result"
    }
   ],
   "source": [
    "df_country = df[df['iso_code'] == COUNTRY]\n",
    "df_country = df_country[df_country['date'] > START_DATE]\n",
    "df_country"
   ]
  },
  {
   "cell_type": "code",
   "execution_count": 9,
   "metadata": {
    "execution": {
     "iopub.execute_input": "2020-06-12T08:40:23.969847Z",
     "iopub.status.busy": "2020-06-12T08:40:23.969136Z",
     "iopub.status.idle": "2020-06-12T08:40:23.990598Z",
     "shell.execute_reply": "2020-06-12T08:40:23.989913Z"
    },
    "papermill": {
     "duration": 0.05819,
     "end_time": "2020-06-12T08:40:23.990687",
     "exception": false,
     "start_time": "2020-06-12T08:40:23.932497",
     "status": "completed"
    },
    "tags": []
   },
   "outputs": [
    {
     "data": {
      "text/plain": [
       "Timestamp('2020-06-11 00:00:00')"
      ]
     },
     "execution_count": 9,
     "metadata": {},
     "output_type": "execute_result"
    }
   ],
   "source": [
    "df_country['date'].max()"
   ]
  },
  {
   "cell_type": "markdown",
   "metadata": {
    "papermill": {
     "duration": 0.030838,
     "end_time": "2020-06-12T08:40:24.052196",
     "exception": false,
     "start_time": "2020-06-12T08:40:24.021358",
     "status": "completed"
    },
    "tags": []
   },
   "source": [
    "### weekly case counts"
   ]
  },
  {
   "cell_type": "code",
   "execution_count": 10,
   "metadata": {
    "execution": {
     "iopub.execute_input": "2020-06-12T08:40:24.125588Z",
     "iopub.status.busy": "2020-06-12T08:40:24.124997Z",
     "iopub.status.idle": "2020-06-12T08:40:24.757831Z",
     "shell.execute_reply": "2020-06-12T08:40:24.758286Z"
    },
    "papermill": {
     "duration": 0.672032,
     "end_time": "2020-06-12T08:40:24.758470",
     "exception": false,
     "start_time": "2020-06-12T08:40:24.086438",
     "status": "completed"
    },
    "tags": []
   },
   "outputs": [
    {
     "data": {
      "image/png": "[encoded data removed]",
      "text/plain": [
       "<Figure size 864x576 with 1 Axes>"
      ]
     },
     "metadata": {
      "needs_background": "light"
     },
     "output_type": "display_data"
    }
   ],
   "source": [
    "fig, ax = plt.subplots(1, 1, figsize=(12,8))\n",
    "    \n",
    "ax.bar(df_country['date'], df_country['new_cases'])\n",
    "ax.xaxis_date()\n",
    "#set ticks every week\n",
    "ax.xaxis.set_major_locator(mdates.WeekdayLocator())\n",
    "#set major ticks format\n",
    "ax.xaxis.set_major_formatter(mdates.DateFormatter('%b %d'))\n",
    "\n",
    "plt.show()"
   ]
  },
  {
   "cell_type": "markdown",
   "metadata": {
    "papermill": {
     "duration": 0.035751,
     "end_time": "2020-06-12T08:40:24.827381",
     "exception": false,
     "start_time": "2020-06-12T08:40:24.791630",
     "status": "completed"
    },
    "tags": []
   },
   "source": [
    "### cumulative total case counts (log)"
   ]
  },
  {
   "cell_type": "code",
   "execution_count": 11,
   "metadata": {
    "execution": {
     "iopub.execute_input": "2020-06-12T08:40:24.897095Z",
     "iopub.status.busy": "2020-06-12T08:40:24.896330Z",
     "iopub.status.idle": "2020-06-12T08:40:26.136791Z",
     "shell.execute_reply": "2020-06-12T08:40:26.136064Z"
    },
    "papermill": {
     "duration": 1.27707,
     "end_time": "2020-06-12T08:40:26.136881",
     "exception": false,
     "start_time": "2020-06-12T08:40:24.859811",
     "status": "completed"
    },
    "tags": []
   },
   "outputs": [
    {
     "data": {
      "text/plain": [
       "<matplotlib.axes._subplots.AxesSubplot at 0x7fee8e4a52b0>"
      ]
     },
     "execution_count": 11,
     "metadata": {},
     "output_type": "execute_result"
    },
    {
     "data": {
      "image/png": "[encoded data removed]",
      "text/plain": [
       "<Figure size 864x576 with 1 Axes>"
      ]
     },
     "metadata": {
      "needs_background": "light"
     },
     "output_type": "display_data"
    }
   ],
   "source": [
    "fig, ax = plt.subplots(figsize = (12,8)) \n",
    "plt.yscale('log')\n",
    "\n",
    "sns.lineplot(data=df_country, y='total_cases', x='date', ax=ax)"
   ]
  },
  {
   "cell_type": "markdown",
   "metadata": {
    "papermill": {
     "duration": 0.034887,
     "end_time": "2020-06-12T08:40:26.206567",
     "exception": false,
     "start_time": "2020-06-12T08:40:26.171680",
     "status": "completed"
    },
    "tags": []
   },
   "source": [
    "## SIR model with ODE  "
   ]
  },
  {
   "cell_type": "code",
   "execution_count": 12,
   "metadata": {
    "execution": {
     "iopub.execute_input": "2020-06-12T08:40:26.279422Z",
     "iopub.status.busy": "2020-06-12T08:40:26.278821Z",
     "iopub.status.idle": "2020-06-12T08:40:26.299181Z",
     "shell.execute_reply": "2020-06-12T08:40:26.298486Z"
    },
    "papermill": {
     "duration": 0.059143,
     "end_time": "2020-06-12T08:40:26.299274",
     "exception": false,
     "start_time": "2020-06-12T08:40:26.240131",
     "status": "completed"
    },
    "tags": []
   },
   "outputs": [],
   "source": [
    "def sir_model(y, t, N, beta, gamma):\n",
    "    '''\n",
    "    N: total population\n",
    "    S(t): no. of susceptible ppl on day t\n",
    "    I(t): no. of infected ppl on day t\n",
    "    R(t): no. of recovered on day t\n",
    "    beta: transmission rate; expected amount of people an infected person infects per day\n",
    "    D: number of days an infected person has and can spread the disease (from research is 18 days?) \n",
    "    gamma: recovery rate; proportion of infected recovering per day (gamma = 1/D)\n",
    "    R_0: total no. of people an infected person infects (R_0 = beta / gamma)\n",
    "    '''\n",
    "    S, I, R = y\n",
    "    \n",
    "    dSdt = -beta * S * (I / N)\n",
    "    dIdt = beta * S * (I / N) - gamma * I\n",
    "    dRdt = gamma * I\n",
    "    \n",
    "    return dSdt, dIdt, dRdt"
   ]
  },
  {
   "cell_type": "code",
   "execution_count": 13,
   "metadata": {
    "execution": {
     "iopub.execute_input": "2020-06-12T08:40:26.378347Z",
     "iopub.status.busy": "2020-06-12T08:40:26.377752Z",
     "iopub.status.idle": "2020-06-12T08:40:26.400677Z",
     "shell.execute_reply": "2020-06-12T08:40:26.400180Z"
    },
    "papermill": {
     "duration": 0.066091,
     "end_time": "2020-06-12T08:40:26.400765",
     "exception": false,
     "start_time": "2020-06-12T08:40:26.334674",
     "status": "completed"
    },
    "tags": []
   },
   "outputs": [],
   "source": [
    "def plot_sir(t, S, I, R, x_ticks):\n",
    "    f, ax = plt.subplots(1, 1, figsize=(12,6))\n",
    "    \n",
    "    ax.plot(x_ticks, S, 'b', alpha=0.7, linewidth=1, label='Susceptible')  # TODO: t\n",
    "    ax.plot(x_ticks, I, 'r', alpha=0.7, linewidth=2, label='Infected')\n",
    "    ax.plot(x_ticks, R, 'y', alpha=0.7, linewidth=1, label='Recovered')\n",
    "\n",
    "    ax.set_xlabel('Time (days)')\n",
    "\n",
    "    ax.yaxis.set_tick_params(length=0)\n",
    "    ax.xaxis.set_tick_params(length=0)\n",
    "        \n",
    "    ax.grid(b=True, which='major', c='w', lw=2, ls='-')\n",
    "    legend = ax.legend()\n",
    "    legend.get_frame().set_alpha(0.5)\n",
    "    for spine in ('top', 'right', 'bottom', 'left'):\n",
    "        ax.spines[spine].set_visible(False)\n",
    "    plt.show();"
   ]
  },
  {
   "cell_type": "markdown",
   "metadata": {
    "papermill": {
     "duration": 0.035638,
     "end_time": "2020-06-12T08:40:26.471816",
     "exception": false,
     "start_time": "2020-06-12T08:40:26.436178",
     "status": "completed"
    },
    "tags": []
   },
   "source": [
    "# curve fitting with actual country data  "
   ]
  },
  {
   "cell_type": "code",
   "execution_count": 14,
   "metadata": {
    "execution": {
     "iopub.execute_input": "2020-06-12T08:40:26.544251Z",
     "iopub.status.busy": "2020-06-12T08:40:26.543352Z",
     "iopub.status.idle": "2020-06-12T08:40:26.565889Z",
     "shell.execute_reply": "2020-06-12T08:40:26.565269Z"
    },
    "papermill": {
     "duration": 0.060374,
     "end_time": "2020-06-12T08:40:26.565978",
     "exception": false,
     "start_time": "2020-06-12T08:40:26.505604",
     "status": "completed"
    },
    "tags": []
   },
   "outputs": [
    {
     "data": {
      "text/plain": [
       "array([    0,     0,     0,     0,     0,     0,     1,    19,     0,\n",
       "           0,    18,     0,     6,     1,     6,     3,    20,    14,\n",
       "          22,    34,    74,   105,    95,   121,   200,   271,   287,\n",
       "         351,   511,   777,   823,   887,  1766,  2988,  4835,  5374,\n",
       "        7123,  8459, 11236,  8789, 13963, 16797, 18695, 19979, 18360,\n",
       "       21595, 24998, 27103, 28819, 32425, 34272, 25398, 30561, 30613,\n",
       "       33323, 33901, 35527, 28391, 27620, 25023, 26922, 30148, 31667,\n",
       "       30833, 32922, 24601, 28065, 37289, 17588, 26543, 21352, 48529,\n",
       "       26857, 22541, 24132, 27326, 29917, 33955, 29288, 24972, 22593,\n",
       "       23841, 24128, 28369, 26957, 25612, 20258, 18117, 22048, 20782,\n",
       "       27143, 25508, 24487, 18873, 21841, 19970, 23285, 25434, 24147,\n",
       "       21236, 20568, 19064, 18910, 18721, 21817, 25337, 23297, 19807,\n",
       "       21086, 20544, 19699, 21140, 25178, 22223, 22302, 18822, 18665,\n",
       "       20614])"
      ]
     },
     "execution_count": 14,
     "metadata": {},
     "output_type": "execute_result"
    }
   ],
   "source": [
    "data = df_country['new_cases'].values\n",
    "data"
   ]
  },
  {
   "cell_type": "code",
   "execution_count": 15,
   "metadata": {
    "execution": {
     "iopub.execute_input": "2020-06-12T08:40:26.643122Z",
     "iopub.status.busy": "2020-06-12T08:40:26.642213Z",
     "iopub.status.idle": "2020-06-12T08:40:26.663339Z",
     "shell.execute_reply": "2020-06-12T08:40:26.662685Z"
    },
    "papermill": {
     "duration": 0.060945,
     "end_time": "2020-06-12T08:40:26.663429",
     "exception": false,
     "start_time": "2020-06-12T08:40:26.602484",
     "status": "completed"
    },
    "tags": []
   },
   "outputs": [
    {
     "data": {
      "text/plain": [
       "118"
      ]
     },
     "execution_count": 15,
     "metadata": {},
     "output_type": "execute_result"
    }
   ],
   "source": [
    "N = 5000000\n",
    "\n",
    "# find beta & gamma from fitting\n",
    "# beta = 2.0  # infected person infects 1 other person per day\n",
    "# D = 14.0  # infections lasts X days\n",
    "# gamma = 1.0 / D\n",
    "\n",
    "days = len(data)\n",
    "days"
   ]
  },
  {
   "cell_type": "code",
   "execution_count": 16,
   "metadata": {
    "execution": {
     "iopub.execute_input": "2020-06-12T08:40:26.740346Z",
     "iopub.status.busy": "2020-06-12T08:40:26.739643Z",
     "iopub.status.idle": "2020-06-12T08:40:26.759873Z",
     "shell.execute_reply": "2020-06-12T08:40:26.759243Z"
    },
    "papermill": {
     "duration": 0.060887,
     "end_time": "2020-06-12T08:40:26.759959",
     "exception": false,
     "start_time": "2020-06-12T08:40:26.699072",
     "status": "completed"
    },
    "tags": []
   },
   "outputs": [],
   "source": [
    "def Model_SIR(days, N, beta, gamma):\n",
    "    t = np.linspace(0, days-1, days, dtype=int)  # time grid (in days)\n",
    "\n",
    "    y0 = N-1, 1, 0  # S0, I0, R0\n",
    "\n",
    "    # Integrate the equations over the time grid, t.\n",
    "    result = odeint(sir_model, y0, t, args=(N, beta, gamma))\n",
    "    S, I, R = result.T\n",
    "    return t, S, I, R"
   ]
  },
  {
   "cell_type": "code",
   "execution_count": 17,
   "metadata": {
    "execution": {
     "iopub.execute_input": "2020-06-12T08:40:26.841233Z",
     "iopub.status.busy": "2020-06-12T08:40:26.840502Z",
     "iopub.status.idle": "2020-06-12T08:40:26.860498Z",
     "shell.execute_reply": "2020-06-12T08:40:26.860981Z"
    },
    "papermill": {
     "duration": 0.064209,
     "end_time": "2020-06-12T08:40:26.861101",
     "exception": false,
     "start_time": "2020-06-12T08:40:26.796892",
     "status": "completed"
    },
    "tags": []
   },
   "outputs": [],
   "source": [
    "def fit_model(x, N, beta, gamma):\n",
    "    \"\"\"\n",
    "    returns: infections I per day ? \n",
    "    \"\"\"\n",
    "    return Model_SIR(days, N, beta, gamma)[2][x]"
   ]
  },
  {
   "cell_type": "markdown",
   "metadata": {
    "papermill": {
     "duration": 0.03808,
     "end_time": "2020-06-12T08:40:26.936551",
     "exception": false,
     "start_time": "2020-06-12T08:40:26.898471",
     "status": "completed"
    },
    "tags": []
   },
   "source": [
    "### initiate model & set params"
   ]
  },
  {
   "cell_type": "code",
   "execution_count": 18,
   "metadata": {
    "execution": {
     "iopub.execute_input": "2020-06-12T08:40:27.013219Z",
     "iopub.status.busy": "2020-06-12T08:40:27.012580Z",
     "iopub.status.idle": "2020-06-12T08:40:27.036510Z",
     "shell.execute_reply": "2020-06-12T08:40:27.035841Z"
    },
    "papermill": {
     "duration": 0.064447,
     "end_time": "2020-06-12T08:40:27.036603",
     "exception": false,
     "start_time": "2020-06-12T08:40:26.972156",
     "status": "completed"
    },
    "tags": []
   },
   "outputs": [
    {
     "data": {
      "text/html": [
       "<table><tr><th> name </th><th> value </th><th> initial value </th><th> min </th><th> max </th><th> vary </th></tr><tr><td> N </td><td>  5000000.00 </td><td> None </td><td>  0.00000000 </td><td>         inf </td><td> True </td></tr><tr><td> beta </td><td>  0.50000000 </td><td> None </td><td>  0.00000000 </td><td>         inf </td><td> True </td></tr><tr><td> gamma </td><td>  0.10000000 </td><td> None </td><td>  0.00000000 </td><td>  1.00000000 </td><td> True </td></tr></table>"
      ],
      "text/plain": [
       "Parameters([('N', <Parameter 'N', value=5000000, bounds=[0:inf]>),\n",
       "            ('beta', <Parameter 'beta', value=0.5, bounds=[0:inf]>),\n",
       "            ('gamma', <Parameter 'gamma', value=0.1, bounds=[0:1]>)])"
      ]
     },
     "execution_count": 18,
     "metadata": {},
     "output_type": "execute_result"
    }
   ],
   "source": [
    "mod = lmfit.Model(fit_model)\n",
    "\n",
    "mod.set_param_hint(\"N\", value=N, min=0, vary=True)\n",
    "mod.set_param_hint(\"beta\", value=0.5, min=0, vary=True)\n",
    "# mod.set_param_hint(\"gamma\", value=1/18, min=1/19, max=1/17, vary=True)\n",
    "mod.set_param_hint(\"gamma\", value=0.1, min=0, max=1, vary=True)\n",
    "\n",
    "params = mod.make_params()\n",
    "params"
   ]
  },
  {
   "cell_type": "code",
   "execution_count": 19,
   "metadata": {
    "execution": {
     "iopub.execute_input": "2020-06-12T08:40:27.114387Z",
     "iopub.status.busy": "2020-06-12T08:40:27.113717Z",
     "iopub.status.idle": "2020-06-12T08:40:27.298659Z",
     "shell.execute_reply": "2020-06-12T08:40:27.298014Z"
    },
    "papermill": {
     "duration": 0.225686,
     "end_time": "2020-06-12T08:40:27.298752",
     "exception": false,
     "start_time": "2020-06-12T08:40:27.073066",
     "status": "completed"
    },
    "tags": []
   },
   "outputs": [],
   "source": [
    "# fitting\n",
    "\n",
    "x_data = np.linspace(0, days-1, days, dtype=int)  # time grid (in days)\n",
    "\n",
    "results = mod.fit(data, params, method=\"leastsq\", x=x_data)  # leastsq, least_squares?"
   ]
  },
  {
   "cell_type": "code",
   "execution_count": 20,
   "metadata": {
    "execution": {
     "iopub.execute_input": "2020-06-12T08:40:27.375566Z",
     "iopub.status.busy": "2020-06-12T08:40:27.374959Z",
     "iopub.status.idle": "2020-06-12T08:40:27.628394Z",
     "shell.execute_reply": "2020-06-12T08:40:27.627784Z"
    },
    "papermill": {
     "duration": 0.293142,
     "end_time": "2020-06-12T08:40:27.628484",
     "exception": false,
     "start_time": "2020-06-12T08:40:27.335342",
     "status": "completed"
    },
    "tags": []
   },
   "outputs": [
    {
     "data": {
      "text/plain": [
       "{'N': 35759.598743759,\n",
       " 'beta': 0.2597269351256597,\n",
       " 'gamma': 0.00830002066449792}"
      ]
     },
     "execution_count": 20,
     "metadata": {},
     "output_type": "execute_result"
    },
    {
     "data": {
      "image/png": "[encoded data removed]",
      "text/plain": [
       "<Figure size 576x360 with 1 Axes>"
      ]
     },
     "metadata": {
      "needs_background": "light"
     },
     "output_type": "display_data"
    }
   ],
   "source": [
    "plt.figure(figsize=(8,5))\n",
    "results.plot_fit(datafmt=\".\", fitfmt=\"-\");\n",
    "results.best_values"
   ]
  },
  {
   "cell_type": "code",
   "execution_count": 21,
   "metadata": {
    "execution": {
     "iopub.execute_input": "2020-06-12T08:40:27.712469Z",
     "iopub.status.busy": "2020-06-12T08:40:27.711868Z",
     "iopub.status.idle": "2020-06-12T08:40:27.966569Z",
     "shell.execute_reply": "2020-06-12T08:40:27.965769Z"
    },
    "papermill": {
     "duration": 0.297994,
     "end_time": "2020-06-12T08:40:27.966660",
     "exception": false,
     "start_time": "2020-06-12T08:40:27.668666",
     "status": "completed"
    },
    "tags": []
   },
   "outputs": [
    {
     "data": {
      "text/plain": [
       "<matplotlib.axes._subplots.AxesSubplot at 0x7fee8e4d3240>"
      ]
     },
     "execution_count": 21,
     "metadata": {},
     "output_type": "execute_result"
    },
    {
     "data": {
      "image/png": "[encoded data removed]",
      "text/plain": [
       "<Figure size 576x360 with 1 Axes>"
      ]
     },
     "metadata": {
      "needs_background": "light"
     },
     "output_type": "display_data"
    }
   ],
   "source": [
    "plt.figure(figsize=(8,5))\n",
    "results.plot_residuals()"
   ]
  },
  {
   "cell_type": "code",
   "execution_count": 22,
   "metadata": {
    "execution": {
     "iopub.execute_input": "2020-06-12T08:40:28.052063Z",
     "iopub.status.busy": "2020-06-12T08:40:28.051462Z",
     "iopub.status.idle": "2020-06-12T08:40:28.071944Z",
     "shell.execute_reply": "2020-06-12T08:40:28.072442Z"
    },
    "papermill": {
     "duration": 0.065709,
     "end_time": "2020-06-12T08:40:28.072558",
     "exception": false,
     "start_time": "2020-06-12T08:40:28.006849",
     "status": "completed"
    },
    "tags": []
   },
   "outputs": [
    {
     "data": {
      "text/html": [
       "<h2> Model</h2> Model(fit_model) <h2>Fit Statistics</h2><table><tr><td>fitting method</td><td>leastsq</td><td></td></tr><tr><td># function evals</td><td>38</td><td></td></tr><tr><td># data points</td><td>118</td><td></td></tr><tr><td># variables</td><td>3</td><td></td></tr><tr><td>chi-square</td><td> 1.2661e+09</td><td></td></tr><tr><td>reduced chi-square</td><td> 11009841.0</td><td></td></tr><tr><td>Akaike info crit.</td><td> 1916.24861</td><td></td></tr><tr><td>Bayesian info crit.</td><td> 1924.56067</td><td></td></tr></table><h2>Variables</h2><table><tr><th> name </th><th> value </th><th> standard error </th><th> relative error </th><th> initial value </th><th> min </th><th> max </th><th> vary </th></tr><tr><td> N </td><td>  35759.5987 </td><td>  1229.80133 </td><td> (3.44%) </td><td> 5000000 </td><td>  0.00000000 </td><td>         inf </td><td> True </td></tr><tr><td> beta </td><td>  0.25972694 </td><td>  0.00295575 </td><td> (1.14%) </td><td> 0.5 </td><td>  0.00000000 </td><td>         inf </td><td> True </td></tr><tr><td> gamma </td><td>  0.00830002 </td><td>  8.9905e-04 </td><td> (10.83%) </td><td> 0.1 </td><td>  0.00000000 </td><td>  1.00000000 </td><td> True </td></tr></table><h2>Correlations (unreported correlations are < 0.100)</h2><table><tr><td>N</td><td>gamma</td><td>0.9007</td></tr><tr><td>N</td><td>beta</td><td>-0.1180</td></tr><tr><td>beta</td><td>gamma</td><td>-0.1125</td></tr></table>"
      ],
      "text/plain": [
       "<lmfit.model.ModelResult at 0x7fee8e5240b8>"
      ]
     },
     "execution_count": 22,
     "metadata": {},
     "output_type": "execute_result"
    }
   ],
   "source": [
    "results"
   ]
  },
  {
   "cell_type": "code",
   "execution_count": 23,
   "metadata": {
    "execution": {
     "iopub.execute_input": "2020-06-12T08:40:28.158554Z",
     "iopub.status.busy": "2020-06-12T08:40:28.157944Z",
     "iopub.status.idle": "2020-06-12T08:40:28.177930Z",
     "shell.execute_reply": "2020-06-12T08:40:28.177160Z"
    },
    "papermill": {
     "duration": 0.063944,
     "end_time": "2020-06-12T08:40:28.178018",
     "exception": false,
     "start_time": "2020-06-12T08:40:28.114074",
     "status": "completed"
    },
    "tags": []
   },
   "outputs": [
    {
     "data": {
      "text/plain": [
       "0.05555555555555555"
      ]
     },
     "execution_count": 23,
     "metadata": {},
     "output_type": "execute_result"
    }
   ],
   "source": [
    "# gamma should be close to this: \n",
    "1/18"
   ]
  },
  {
   "cell_type": "code",
   "execution_count": 24,
   "metadata": {
    "execution": {
     "iopub.execute_input": "2020-06-12T08:40:28.270956Z",
     "iopub.status.busy": "2020-06-12T08:40:28.270283Z",
     "iopub.status.idle": "2020-06-12T08:40:28.297032Z",
     "shell.execute_reply": "2020-06-12T08:40:28.296227Z"
    },
    "papermill": {
     "duration": 0.076682,
     "end_time": "2020-06-12T08:40:28.297131",
     "exception": false,
     "start_time": "2020-06-12T08:40:28.220449",
     "status": "completed"
    },
    "tags": []
   },
   "outputs": [],
   "source": [
    "def plot_sir2(t, S, I, R, x_ticks, COUNTRY):\n",
    "    f, ax = plt.subplots(1, 1, figsize=(12,8))\n",
    "    ax.set_title('Country: %s' % COUNTRY, fontsize= 20) \n",
    "    \n",
    "    ax.plot(x_ticks, S, 'b', alpha=0.7, linewidth=1, label='Susceptible')  # TODO: t\n",
    "    ax.plot(x_ticks, I, 'r', alpha=0.7, linewidth=2, label='Infected')\n",
    "    ax.plot(x_ticks, R, 'y', alpha=0.7, linewidth=1, label='Recovered')\n",
    "\n",
    "    ax.set_xlabel('Time (days)')\n",
    "\n",
    "    ax.yaxis.set_tick_params(length=0)\n",
    "    ax.xaxis.set_tick_params(length=0)\n",
    "    \n",
    "    # ax.set_ylim(0, 1800)\n",
    "    \n",
    "    ax.grid(b=True, which='major', c='w', lw=2, ls='-')\n",
    "    legend = ax.legend()\n",
    "    legend.get_frame().set_alpha(0.5)\n",
    "    for spine in ('top', 'right', 'bottom', 'left'):\n",
    "        ax.spines[spine].set_visible(False)\n",
    "        \n",
    "    # overlay actual data\n",
    "    ax.bar(df_country['date'], df_country['new_cases'])\n",
    "\n",
    "    plt.show()"
   ]
  },
  {
   "cell_type": "code",
   "execution_count": 25,
   "metadata": {
    "execution": {
     "iopub.execute_input": "2020-06-12T08:40:28.389734Z",
     "iopub.status.busy": "2020-06-12T08:40:28.389096Z",
     "iopub.status.idle": "2020-06-12T08:40:28.413843Z",
     "shell.execute_reply": "2020-06-12T08:40:28.412899Z"
    },
    "papermill": {
     "duration": 0.07478,
     "end_time": "2020-06-12T08:40:28.413962",
     "exception": false,
     "start_time": "2020-06-12T08:40:28.339182",
     "status": "completed"
    },
    "tags": []
   },
   "outputs": [],
   "source": [
    "def plot_infected(t, S, I, R, x_ticks, COUNTRY):\n",
    "    f, ax = plt.subplots(1, 1, figsize=(12,8))\n",
    "    ax.set_title('Country: %s' % COUNTRY, fontsize= 20) \n",
    "    \n",
    "    ax.plot(x_ticks, I, 'r', alpha=0.7, linewidth=2, label='Infected (prediction)')\n",
    "\n",
    "    ax.set_xlabel('Time (days)')\n",
    "\n",
    "    ax.yaxis.set_tick_params(length=0)\n",
    "    ax.xaxis.set_tick_params(length=0)\n",
    "    \n",
    "    # ax.set_ylim(0, 1800)\n",
    "    ax.grid(b=True, which='major', c='w', lw=2, ls='-')\n",
    "    legend = ax.legend()\n",
    "    legend.get_frame().set_alpha(0.5)\n",
    "    \n",
    "    # overlay actual data\n",
    "    ax.bar(df_country['date'], df_country['new_cases'])\n",
    "\n",
    "    plt.show()"
   ]
  },
  {
   "cell_type": "code",
   "execution_count": 26,
   "metadata": {
    "execution": {
     "iopub.execute_input": "2020-06-12T08:40:28.504293Z",
     "iopub.status.busy": "2020-06-12T08:40:28.503640Z",
     "iopub.status.idle": "2020-06-12T08:40:28.524667Z",
     "shell.execute_reply": "2020-06-12T08:40:28.524045Z"
    },
    "papermill": {
     "duration": 0.06792,
     "end_time": "2020-06-12T08:40:28.524756",
     "exception": false,
     "start_time": "2020-06-12T08:40:28.456836",
     "status": "completed"
    },
    "tags": []
   },
   "outputs": [],
   "source": [
    "max_days = 210\n",
    "first_date = np.datetime64(df_country['date'].min()) - np.timedelta64(0, 'D')\n",
    "\n",
    "x_ticks = pd.date_range(start=first_date, periods=max_days, freq=\"D\")"
   ]
  },
  {
   "cell_type": "code",
   "execution_count": 27,
   "metadata": {
    "execution": {
     "iopub.execute_input": "2020-06-12T08:40:28.613727Z",
     "iopub.status.busy": "2020-06-12T08:40:28.612990Z",
     "iopub.status.idle": "2020-06-12T08:40:29.314685Z",
     "shell.execute_reply": "2020-06-12T08:40:29.314052Z"
    },
    "papermill": {
     "duration": 0.747628,
     "end_time": "2020-06-12T08:40:29.314776",
     "exception": false,
     "start_time": "2020-06-12T08:40:28.567148",
     "status": "completed"
    },
    "tags": []
   },
   "outputs": [
    {
     "data": {
      "image/png": "[encoded data removed]",
      "text/plain": [
       "<Figure size 864x576 with 1 Axes>"
      ]
     },
     "metadata": {
      "needs_background": "light"
     },
     "output_type": "display_data"
    }
   ],
   "source": [
    "plot_sir2(*Model_SIR(max_days, **results.best_values), x_ticks, COUNTRY)"
   ]
  },
  {
   "cell_type": "code",
   "execution_count": 28,
   "metadata": {
    "execution": {
     "iopub.execute_input": "2020-06-12T08:40:29.406489Z",
     "iopub.status.busy": "2020-06-12T08:40:29.405695Z",
     "iopub.status.idle": "2020-06-12T08:40:30.077009Z",
     "shell.execute_reply": "2020-06-12T08:40:30.077582Z"
    },
    "papermill": {
     "duration": 0.719871,
     "end_time": "2020-06-12T08:40:30.077761",
     "exception": false,
     "start_time": "2020-06-12T08:40:29.357890",
     "status": "completed"
    },
    "tags": []
   },
   "outputs": [
    {
     "data": {
      "image/png": "[encoded data removed]",
      "text/plain": [
       "<Figure size 864x576 with 1 Axes>"
      ]
     },
     "metadata": {
      "needs_background": "light"
     },
     "output_type": "display_data"
    }
   ],
   "source": [
    "plot_infected(*Model_SIR(max_days, **results.best_values), x_ticks, COUNTRY)"
   ]
  },
  {
   "cell_type": "markdown",
   "metadata": {
    "papermill": {
     "duration": 0.047911,
     "end_time": "2020-06-12T08:40:30.170120",
     "exception": false,
     "start_time": "2020-06-12T08:40:30.122209",
     "status": "completed"
    },
    "tags": []
   },
   "source": [
    "# observations\n",
    "\n",
    "- It is difficult to make predictions for different countries with the evolving situation and resources available. A country could be at different stages of the outbreak\n",
    "- A more complicated model could be used e.g. SEIR "
   ]
  },
  {
   "cell_type": "code",
   "execution_count": null,
   "metadata": {
    "papermill": {
     "duration": 0.045801,
     "end_time": "2020-06-12T08:40:30.258290",
     "exception": false,
     "start_time": "2020-06-12T08:40:30.212489",
     "status": "completed"
    },
    "tags": []
   },
   "outputs": [],
   "source": []
  },
  {
   "cell_type": "code",
   "execution_count": null,
   "metadata": {
    "papermill": {
     "duration": 0.046118,
     "end_time": "2020-06-12T08:40:30.351321",
     "exception": false,
     "start_time": "2020-06-12T08:40:30.305203",
     "status": "completed"
    },
    "tags": []
   },
   "outputs": [],
   "source": []
  }
 ],
 "metadata": {
  "kernelspec": {
   "display_name": "Python 3",
   "language": "python",
   "name": "python3"
  },
  "language_info": {
   "codemirror_mode": {
    "name": "ipython",
    "version": 3
   },
   "file_extension": ".py",
   "mimetype": "text/x-python",
   "name": "python",
   "nbconvert_exporter": "python",
   "pygments_lexer": "ipython3",
   "version": "3.7.3"
  },
  "papermill": {
   "duration": 9.657069,
   "end_time": "2020-06-12T08:40:30.813538",
   "environment_variables": {},
   "exception": null,
   "input_path": "sir_country_model.ipynb",
   "output_path": "output/country_USA.ipynb",
   "parameters": {
    "COUNTRY": "USA",
    "START_DATE": "2020-02-14"
   },
   "start_time": "2020-06-12T08:40:21.156469",
   "version": "2.1.1"
  }
 },
 "nbformat": 4,
 "nbformat_minor": 4
}