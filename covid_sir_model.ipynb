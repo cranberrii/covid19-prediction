{
 "cells": [
  {
   "cell_type": "code",
   "execution_count": 1,
   "metadata": {},
   "outputs": [],
   "source": [
    "import scipy\n",
    "from scipy.integrate import odeint\n",
    "\n",
    "import pandas as pd\n",
    "import numpy as np\n",
    "\n",
    "import matplotlib.pyplot as plt\n",
    "import matplotlib.dates as mdates\n",
    "import seaborn as sns\n",
    "\n",
    "import lmfit\n",
    "from lmfit.lineshapes import gaussian, lorentzian\n",
    "\n",
    "plt.style.use('fivethirtyeight')\n",
    "%matplotlib inline "
   ]
  },
  {
   "cell_type": "code",
   "execution_count": 2,
   "metadata": {},
   "outputs": [
    {
     "data": {
      "text/plain": [
       "(16174, 29)"
      ]
     },
     "execution_count": 2,
     "metadata": {},
     "output_type": "execute_result"
    }
   ],
   "source": [
    "DATA_PATH = '../covid-19-data/public/data/owid-covid-data.csv'\n",
    "# DATA_PATH = '../covid-19-data/public/data/ecdc/full_data.csv'\n",
    "\n",
    "df = pd.read_csv(DATA_PATH)\n",
    "df['date'] = pd.to_datetime(df['date'], yearfirst=True)\n",
    "df.shape"
   ]
  },
  {
   "cell_type": "code",
   "execution_count": 3,
   "metadata": {},
   "outputs": [
    {
     "data": {
      "text/html": [
       "<div>\n",
       "<style scoped>\n",
       "    .dataframe tbody tr th:only-of-type {\n",
       "        vertical-align: middle;\n",
       "    }\n",
       "\n",
       "    .dataframe tbody tr th {\n",
       "        vertical-align: top;\n",
       "    }\n",
       "\n",
       "    .dataframe thead th {\n",
       "        text-align: right;\n",
       "    }\n",
       "</style>\n",
       "<table border=\"1\" class=\"dataframe\">\n",
       "  <thead>\n",
       "    <tr style=\"text-align: right;\">\n",
       "      <th></th>\n",
       "      <th>iso_code</th>\n",
       "      <th>location</th>\n",
       "      <th>date</th>\n",
       "      <th>total_cases</th>\n",
       "      <th>new_cases</th>\n",
       "      <th>total_deaths</th>\n",
       "      <th>new_deaths</th>\n",
       "      <th>total_cases_per_million</th>\n",
       "      <th>new_cases_per_million</th>\n",
       "      <th>total_deaths_per_million</th>\n",
       "      <th>...</th>\n",
       "      <th>aged_65_older</th>\n",
       "      <th>aged_70_older</th>\n",
       "      <th>gdp_per_capita</th>\n",
       "      <th>extreme_poverty</th>\n",
       "      <th>cvd_death_rate</th>\n",
       "      <th>diabetes_prevalence</th>\n",
       "      <th>female_smokers</th>\n",
       "      <th>male_smokers</th>\n",
       "      <th>handwashing_facilities</th>\n",
       "      <th>hospital_beds_per_100k</th>\n",
       "    </tr>\n",
       "  </thead>\n",
       "  <tbody>\n",
       "    <tr>\n",
       "      <th>0</th>\n",
       "      <td>ABW</td>\n",
       "      <td>Aruba</td>\n",
       "      <td>2020-03-13</td>\n",
       "      <td>2</td>\n",
       "      <td>2</td>\n",
       "      <td>0</td>\n",
       "      <td>0</td>\n",
       "      <td>18.733</td>\n",
       "      <td>18.733</td>\n",
       "      <td>0.0</td>\n",
       "      <td>...</td>\n",
       "      <td>13.085</td>\n",
       "      <td>7.452</td>\n",
       "      <td>35973.781</td>\n",
       "      <td>NaN</td>\n",
       "      <td>NaN</td>\n",
       "      <td>11.62</td>\n",
       "      <td>NaN</td>\n",
       "      <td>NaN</td>\n",
       "      <td>NaN</td>\n",
       "      <td>NaN</td>\n",
       "    </tr>\n",
       "    <tr>\n",
       "      <th>1</th>\n",
       "      <td>ABW</td>\n",
       "      <td>Aruba</td>\n",
       "      <td>2020-03-20</td>\n",
       "      <td>4</td>\n",
       "      <td>2</td>\n",
       "      <td>0</td>\n",
       "      <td>0</td>\n",
       "      <td>37.465</td>\n",
       "      <td>18.733</td>\n",
       "      <td>0.0</td>\n",
       "      <td>...</td>\n",
       "      <td>13.085</td>\n",
       "      <td>7.452</td>\n",
       "      <td>35973.781</td>\n",
       "      <td>NaN</td>\n",
       "      <td>NaN</td>\n",
       "      <td>11.62</td>\n",
       "      <td>NaN</td>\n",
       "      <td>NaN</td>\n",
       "      <td>NaN</td>\n",
       "      <td>NaN</td>\n",
       "    </tr>\n",
       "    <tr>\n",
       "      <th>2</th>\n",
       "      <td>ABW</td>\n",
       "      <td>Aruba</td>\n",
       "      <td>2020-03-24</td>\n",
       "      <td>12</td>\n",
       "      <td>8</td>\n",
       "      <td>0</td>\n",
       "      <td>0</td>\n",
       "      <td>112.395</td>\n",
       "      <td>74.930</td>\n",
       "      <td>0.0</td>\n",
       "      <td>...</td>\n",
       "      <td>13.085</td>\n",
       "      <td>7.452</td>\n",
       "      <td>35973.781</td>\n",
       "      <td>NaN</td>\n",
       "      <td>NaN</td>\n",
       "      <td>11.62</td>\n",
       "      <td>NaN</td>\n",
       "      <td>NaN</td>\n",
       "      <td>NaN</td>\n",
       "      <td>NaN</td>\n",
       "    </tr>\n",
       "    <tr>\n",
       "      <th>3</th>\n",
       "      <td>ABW</td>\n",
       "      <td>Aruba</td>\n",
       "      <td>2020-03-25</td>\n",
       "      <td>17</td>\n",
       "      <td>5</td>\n",
       "      <td>0</td>\n",
       "      <td>0</td>\n",
       "      <td>159.227</td>\n",
       "      <td>46.831</td>\n",
       "      <td>0.0</td>\n",
       "      <td>...</td>\n",
       "      <td>13.085</td>\n",
       "      <td>7.452</td>\n",
       "      <td>35973.781</td>\n",
       "      <td>NaN</td>\n",
       "      <td>NaN</td>\n",
       "      <td>11.62</td>\n",
       "      <td>NaN</td>\n",
       "      <td>NaN</td>\n",
       "      <td>NaN</td>\n",
       "      <td>NaN</td>\n",
       "    </tr>\n",
       "    <tr>\n",
       "      <th>4</th>\n",
       "      <td>ABW</td>\n",
       "      <td>Aruba</td>\n",
       "      <td>2020-03-26</td>\n",
       "      <td>19</td>\n",
       "      <td>2</td>\n",
       "      <td>0</td>\n",
       "      <td>0</td>\n",
       "      <td>177.959</td>\n",
       "      <td>18.733</td>\n",
       "      <td>0.0</td>\n",
       "      <td>...</td>\n",
       "      <td>13.085</td>\n",
       "      <td>7.452</td>\n",
       "      <td>35973.781</td>\n",
       "      <td>NaN</td>\n",
       "      <td>NaN</td>\n",
       "      <td>11.62</td>\n",
       "      <td>NaN</td>\n",
       "      <td>NaN</td>\n",
       "      <td>NaN</td>\n",
       "      <td>NaN</td>\n",
       "    </tr>\n",
       "  </tbody>\n",
       "</table>\n",
       "<p>5 rows × 29 columns</p>\n",
       "</div>"
      ],
      "text/plain": [
       "  iso_code location       date  total_cases  new_cases  total_deaths  \\\n",
       "0      ABW    Aruba 2020-03-13            2          2             0   \n",
       "1      ABW    Aruba 2020-03-20            4          2             0   \n",
       "2      ABW    Aruba 2020-03-24           12          8             0   \n",
       "3      ABW    Aruba 2020-03-25           17          5             0   \n",
       "4      ABW    Aruba 2020-03-26           19          2             0   \n",
       "\n",
       "   new_deaths  total_cases_per_million  new_cases_per_million  \\\n",
       "0           0                   18.733                 18.733   \n",
       "1           0                   37.465                 18.733   \n",
       "2           0                  112.395                 74.930   \n",
       "3           0                  159.227                 46.831   \n",
       "4           0                  177.959                 18.733   \n",
       "\n",
       "   total_deaths_per_million  ...  aged_65_older  aged_70_older  \\\n",
       "0                       0.0  ...         13.085          7.452   \n",
       "1                       0.0  ...         13.085          7.452   \n",
       "2                       0.0  ...         13.085          7.452   \n",
       "3                       0.0  ...         13.085          7.452   \n",
       "4                       0.0  ...         13.085          7.452   \n",
       "\n",
       "   gdp_per_capita  extreme_poverty  cvd_death_rate diabetes_prevalence  \\\n",
       "0       35973.781              NaN             NaN               11.62   \n",
       "1       35973.781              NaN             NaN               11.62   \n",
       "2       35973.781              NaN             NaN               11.62   \n",
       "3       35973.781              NaN             NaN               11.62   \n",
       "4       35973.781              NaN             NaN               11.62   \n",
       "\n",
       "   female_smokers  male_smokers  handwashing_facilities  \\\n",
       "0             NaN           NaN                     NaN   \n",
       "1             NaN           NaN                     NaN   \n",
       "2             NaN           NaN                     NaN   \n",
       "3             NaN           NaN                     NaN   \n",
       "4             NaN           NaN                     NaN   \n",
       "\n",
       "   hospital_beds_per_100k  \n",
       "0                     NaN  \n",
       "1                     NaN  \n",
       "2                     NaN  \n",
       "3                     NaN  \n",
       "4                     NaN  \n",
       "\n",
       "[5 rows x 29 columns]"
      ]
     },
     "execution_count": 3,
     "metadata": {},
     "output_type": "execute_result"
    }
   ],
   "source": [
    "df.head()"
   ]
  },
  {
   "cell_type": "code",
   "execution_count": 4,
   "metadata": {},
   "outputs": [
    {
     "name": "stdout",
     "output_type": "stream",
     "text": [
      "<class 'pandas.core.frame.DataFrame'>\n",
      "RangeIndex: 16174 entries, 0 to 16173\n",
      "Data columns (total 29 columns):\n",
      " #   Column                    Non-Null Count  Dtype         \n",
      "---  ------                    --------------  -----         \n",
      " 0   iso_code                  16110 non-null  object        \n",
      " 1   location                  16174 non-null  object        \n",
      " 2   date                      16174 non-null  datetime64[ns]\n",
      " 3   total_cases               16174 non-null  int64         \n",
      " 4   new_cases                 16174 non-null  int64         \n",
      " 5   total_deaths              16174 non-null  int64         \n",
      " 6   new_deaths                16174 non-null  int64         \n",
      " 7   total_cases_per_million   15871 non-null  float64       \n",
      " 8   new_cases_per_million     15871 non-null  float64       \n",
      " 9   total_deaths_per_million  15871 non-null  float64       \n",
      " 10  new_deaths_per_million    15871 non-null  float64       \n",
      " 11  total_tests               4061 non-null   float64       \n",
      " 12  new_tests                 3638 non-null   float64       \n",
      " 13  total_tests_per_thousand  4061 non-null   float64       \n",
      " 14  new_tests_per_thousand    3643 non-null   float64       \n",
      " 15  tests_units               4061 non-null   object        \n",
      " 16  population                15953 non-null  float64       \n",
      " 17  population_density        15504 non-null  float64       \n",
      " 18  median_age                14791 non-null  float64       \n",
      " 19  aged_65_older             14599 non-null  float64       \n",
      " 20  aged_70_older             14718 non-null  float64       \n",
      " 21  gdp_per_capita            14612 non-null  float64       \n",
      " 22  extreme_poverty           9743 non-null   float64       \n",
      " 23  cvd_death_rate            14822 non-null  float64       \n",
      " 24  diabetes_prevalence       15255 non-null  float64       \n",
      " 25  female_smokers            12262 non-null  float64       \n",
      " 26  male_smokers              12139 non-null  float64       \n",
      " 27  handwashing_facilities    6271 non-null   float64       \n",
      " 28  hospital_beds_per_100k    13789 non-null  float64       \n",
      "dtypes: datetime64[ns](1), float64(21), int64(4), object(3)\n",
      "memory usage: 3.6+ MB\n"
     ]
    }
   ],
   "source": [
    "df.info()"
   ]
  },
  {
   "cell_type": "code",
   "execution_count": 5,
   "metadata": {},
   "outputs": [
    {
     "data": {
      "text/plain": [
       "EST    131\n",
       "ISL    131\n",
       "FIN    131\n",
       "AUT    131\n",
       "BEL    131\n",
       "      ... \n",
       "YEM     30\n",
       "ESH     14\n",
       "TJK      9\n",
       "COM      8\n",
       "HKG      5\n",
       "Name: iso_code, Length: 210, dtype: int64"
      ]
     },
     "execution_count": 5,
     "metadata": {},
     "output_type": "execute_result"
    }
   ],
   "source": [
    "df['iso_code'].value_counts()"
   ]
  },
  {
   "cell_type": "markdown",
   "metadata": {},
   "source": [
    "*choose a country*"
   ]
  },
  {
   "cell_type": "code",
   "execution_count": 6,
   "metadata": {},
   "outputs": [],
   "source": [
    "COUNTRY = 'MYS'  # 'SGP', 'MYS'\n",
    "\n",
    "START_DATE = '2020-01-30'"
   ]
  },
  {
   "cell_type": "code",
   "execution_count": 7,
   "metadata": {},
   "outputs": [
    {
     "data": {
      "text/html": [
       "<div>\n",
       "<style scoped>\n",
       "    .dataframe tbody tr th:only-of-type {\n",
       "        vertical-align: middle;\n",
       "    }\n",
       "\n",
       "    .dataframe tbody tr th {\n",
       "        vertical-align: top;\n",
       "    }\n",
       "\n",
       "    .dataframe thead th {\n",
       "        text-align: right;\n",
       "    }\n",
       "</style>\n",
       "<table border=\"1\" class=\"dataframe\">\n",
       "  <thead>\n",
       "    <tr style=\"text-align: right;\">\n",
       "      <th></th>\n",
       "      <th>iso_code</th>\n",
       "      <th>location</th>\n",
       "      <th>date</th>\n",
       "      <th>total_cases</th>\n",
       "      <th>new_cases</th>\n",
       "      <th>total_deaths</th>\n",
       "      <th>new_deaths</th>\n",
       "      <th>total_cases_per_million</th>\n",
       "      <th>new_cases_per_million</th>\n",
       "      <th>total_deaths_per_million</th>\n",
       "      <th>...</th>\n",
       "      <th>aged_65_older</th>\n",
       "      <th>aged_70_older</th>\n",
       "      <th>gdp_per_capita</th>\n",
       "      <th>extreme_poverty</th>\n",
       "      <th>cvd_death_rate</th>\n",
       "      <th>diabetes_prevalence</th>\n",
       "      <th>female_smokers</th>\n",
       "      <th>male_smokers</th>\n",
       "      <th>handwashing_facilities</th>\n",
       "      <th>hospital_beds_per_100k</th>\n",
       "    </tr>\n",
       "  </thead>\n",
       "  <tbody>\n",
       "    <tr>\n",
       "      <th>10736</th>\n",
       "      <td>MYS</td>\n",
       "      <td>Malaysia</td>\n",
       "      <td>2020-01-31</td>\n",
       "      <td>8</td>\n",
       "      <td>1</td>\n",
       "      <td>0</td>\n",
       "      <td>0</td>\n",
       "      <td>0.247</td>\n",
       "      <td>0.031</td>\n",
       "      <td>0.000</td>\n",
       "      <td>...</td>\n",
       "      <td>6.293</td>\n",
       "      <td>3.407</td>\n",
       "      <td>26808.164</td>\n",
       "      <td>0.1</td>\n",
       "      <td>260.942</td>\n",
       "      <td>16.74</td>\n",
       "      <td>1.0</td>\n",
       "      <td>42.4</td>\n",
       "      <td>NaN</td>\n",
       "      <td>1.9</td>\n",
       "    </tr>\n",
       "    <tr>\n",
       "      <th>10737</th>\n",
       "      <td>MYS</td>\n",
       "      <td>Malaysia</td>\n",
       "      <td>2020-02-01</td>\n",
       "      <td>8</td>\n",
       "      <td>0</td>\n",
       "      <td>0</td>\n",
       "      <td>0</td>\n",
       "      <td>0.247</td>\n",
       "      <td>0.000</td>\n",
       "      <td>0.000</td>\n",
       "      <td>...</td>\n",
       "      <td>6.293</td>\n",
       "      <td>3.407</td>\n",
       "      <td>26808.164</td>\n",
       "      <td>0.1</td>\n",
       "      <td>260.942</td>\n",
       "      <td>16.74</td>\n",
       "      <td>1.0</td>\n",
       "      <td>42.4</td>\n",
       "      <td>NaN</td>\n",
       "      <td>1.9</td>\n",
       "    </tr>\n",
       "    <tr>\n",
       "      <th>10738</th>\n",
       "      <td>MYS</td>\n",
       "      <td>Malaysia</td>\n",
       "      <td>2020-02-02</td>\n",
       "      <td>8</td>\n",
       "      <td>0</td>\n",
       "      <td>0</td>\n",
       "      <td>0</td>\n",
       "      <td>0.247</td>\n",
       "      <td>0.000</td>\n",
       "      <td>0.000</td>\n",
       "      <td>...</td>\n",
       "      <td>6.293</td>\n",
       "      <td>3.407</td>\n",
       "      <td>26808.164</td>\n",
       "      <td>0.1</td>\n",
       "      <td>260.942</td>\n",
       "      <td>16.74</td>\n",
       "      <td>1.0</td>\n",
       "      <td>42.4</td>\n",
       "      <td>NaN</td>\n",
       "      <td>1.9</td>\n",
       "    </tr>\n",
       "    <tr>\n",
       "      <th>10739</th>\n",
       "      <td>MYS</td>\n",
       "      <td>Malaysia</td>\n",
       "      <td>2020-02-03</td>\n",
       "      <td>8</td>\n",
       "      <td>0</td>\n",
       "      <td>0</td>\n",
       "      <td>0</td>\n",
       "      <td>0.247</td>\n",
       "      <td>0.000</td>\n",
       "      <td>0.000</td>\n",
       "      <td>...</td>\n",
       "      <td>6.293</td>\n",
       "      <td>3.407</td>\n",
       "      <td>26808.164</td>\n",
       "      <td>0.1</td>\n",
       "      <td>260.942</td>\n",
       "      <td>16.74</td>\n",
       "      <td>1.0</td>\n",
       "      <td>42.4</td>\n",
       "      <td>NaN</td>\n",
       "      <td>1.9</td>\n",
       "    </tr>\n",
       "    <tr>\n",
       "      <th>10740</th>\n",
       "      <td>MYS</td>\n",
       "      <td>Malaysia</td>\n",
       "      <td>2020-02-04</td>\n",
       "      <td>8</td>\n",
       "      <td>0</td>\n",
       "      <td>0</td>\n",
       "      <td>0</td>\n",
       "      <td>0.247</td>\n",
       "      <td>0.000</td>\n",
       "      <td>0.000</td>\n",
       "      <td>...</td>\n",
       "      <td>6.293</td>\n",
       "      <td>3.407</td>\n",
       "      <td>26808.164</td>\n",
       "      <td>0.1</td>\n",
       "      <td>260.942</td>\n",
       "      <td>16.74</td>\n",
       "      <td>1.0</td>\n",
       "      <td>42.4</td>\n",
       "      <td>NaN</td>\n",
       "      <td>1.9</td>\n",
       "    </tr>\n",
       "    <tr>\n",
       "      <th>...</th>\n",
       "      <td>...</td>\n",
       "      <td>...</td>\n",
       "      <td>...</td>\n",
       "      <td>...</td>\n",
       "      <td>...</td>\n",
       "      <td>...</td>\n",
       "      <td>...</td>\n",
       "      <td>...</td>\n",
       "      <td>...</td>\n",
       "      <td>...</td>\n",
       "      <td>...</td>\n",
       "      <td>...</td>\n",
       "      <td>...</td>\n",
       "      <td>...</td>\n",
       "      <td>...</td>\n",
       "      <td>...</td>\n",
       "      <td>...</td>\n",
       "      <td>...</td>\n",
       "      <td>...</td>\n",
       "      <td>...</td>\n",
       "      <td>...</td>\n",
       "    </tr>\n",
       "    <tr>\n",
       "      <th>10830</th>\n",
       "      <td>MYS</td>\n",
       "      <td>Malaysia</td>\n",
       "      <td>2020-05-05</td>\n",
       "      <td>6353</td>\n",
       "      <td>55</td>\n",
       "      <td>105</td>\n",
       "      <td>0</td>\n",
       "      <td>196.286</td>\n",
       "      <td>1.699</td>\n",
       "      <td>3.244</td>\n",
       "      <td>...</td>\n",
       "      <td>6.293</td>\n",
       "      <td>3.407</td>\n",
       "      <td>26808.164</td>\n",
       "      <td>0.1</td>\n",
       "      <td>260.942</td>\n",
       "      <td>16.74</td>\n",
       "      <td>1.0</td>\n",
       "      <td>42.4</td>\n",
       "      <td>NaN</td>\n",
       "      <td>1.9</td>\n",
       "    </tr>\n",
       "    <tr>\n",
       "      <th>10831</th>\n",
       "      <td>MYS</td>\n",
       "      <td>Malaysia</td>\n",
       "      <td>2020-05-06</td>\n",
       "      <td>6383</td>\n",
       "      <td>30</td>\n",
       "      <td>106</td>\n",
       "      <td>1</td>\n",
       "      <td>197.213</td>\n",
       "      <td>0.927</td>\n",
       "      <td>3.275</td>\n",
       "      <td>...</td>\n",
       "      <td>6.293</td>\n",
       "      <td>3.407</td>\n",
       "      <td>26808.164</td>\n",
       "      <td>0.1</td>\n",
       "      <td>260.942</td>\n",
       "      <td>16.74</td>\n",
       "      <td>1.0</td>\n",
       "      <td>42.4</td>\n",
       "      <td>NaN</td>\n",
       "      <td>1.9</td>\n",
       "    </tr>\n",
       "    <tr>\n",
       "      <th>10832</th>\n",
       "      <td>MYS</td>\n",
       "      <td>Malaysia</td>\n",
       "      <td>2020-05-07</td>\n",
       "      <td>6428</td>\n",
       "      <td>45</td>\n",
       "      <td>107</td>\n",
       "      <td>1</td>\n",
       "      <td>198.603</td>\n",
       "      <td>1.390</td>\n",
       "      <td>3.306</td>\n",
       "      <td>...</td>\n",
       "      <td>6.293</td>\n",
       "      <td>3.407</td>\n",
       "      <td>26808.164</td>\n",
       "      <td>0.1</td>\n",
       "      <td>260.942</td>\n",
       "      <td>16.74</td>\n",
       "      <td>1.0</td>\n",
       "      <td>42.4</td>\n",
       "      <td>NaN</td>\n",
       "      <td>1.9</td>\n",
       "    </tr>\n",
       "    <tr>\n",
       "      <th>10833</th>\n",
       "      <td>MYS</td>\n",
       "      <td>Malaysia</td>\n",
       "      <td>2020-05-08</td>\n",
       "      <td>6467</td>\n",
       "      <td>39</td>\n",
       "      <td>107</td>\n",
       "      <td>0</td>\n",
       "      <td>199.808</td>\n",
       "      <td>1.205</td>\n",
       "      <td>3.306</td>\n",
       "      <td>...</td>\n",
       "      <td>6.293</td>\n",
       "      <td>3.407</td>\n",
       "      <td>26808.164</td>\n",
       "      <td>0.1</td>\n",
       "      <td>260.942</td>\n",
       "      <td>16.74</td>\n",
       "      <td>1.0</td>\n",
       "      <td>42.4</td>\n",
       "      <td>NaN</td>\n",
       "      <td>1.9</td>\n",
       "    </tr>\n",
       "    <tr>\n",
       "      <th>10834</th>\n",
       "      <td>MYS</td>\n",
       "      <td>Malaysia</td>\n",
       "      <td>2020-05-09</td>\n",
       "      <td>6535</td>\n",
       "      <td>68</td>\n",
       "      <td>107</td>\n",
       "      <td>0</td>\n",
       "      <td>201.909</td>\n",
       "      <td>2.101</td>\n",
       "      <td>3.306</td>\n",
       "      <td>...</td>\n",
       "      <td>6.293</td>\n",
       "      <td>3.407</td>\n",
       "      <td>26808.164</td>\n",
       "      <td>0.1</td>\n",
       "      <td>260.942</td>\n",
       "      <td>16.74</td>\n",
       "      <td>1.0</td>\n",
       "      <td>42.4</td>\n",
       "      <td>NaN</td>\n",
       "      <td>1.9</td>\n",
       "    </tr>\n",
       "  </tbody>\n",
       "</table>\n",
       "<p>99 rows × 29 columns</p>\n",
       "</div>"
      ],
      "text/plain": [
       "      iso_code  location       date  total_cases  new_cases  total_deaths  \\\n",
       "10736      MYS  Malaysia 2020-01-31            8          1             0   \n",
       "10737      MYS  Malaysia 2020-02-01            8          0             0   \n",
       "10738      MYS  Malaysia 2020-02-02            8          0             0   \n",
       "10739      MYS  Malaysia 2020-02-03            8          0             0   \n",
       "10740      MYS  Malaysia 2020-02-04            8          0             0   \n",
       "...        ...       ...        ...          ...        ...           ...   \n",
       "10830      MYS  Malaysia 2020-05-05         6353         55           105   \n",
       "10831      MYS  Malaysia 2020-05-06         6383         30           106   \n",
       "10832      MYS  Malaysia 2020-05-07         6428         45           107   \n",
       "10833      MYS  Malaysia 2020-05-08         6467         39           107   \n",
       "10834      MYS  Malaysia 2020-05-09         6535         68           107   \n",
       "\n",
       "       new_deaths  total_cases_per_million  new_cases_per_million  \\\n",
       "10736           0                    0.247                  0.031   \n",
       "10737           0                    0.247                  0.000   \n",
       "10738           0                    0.247                  0.000   \n",
       "10739           0                    0.247                  0.000   \n",
       "10740           0                    0.247                  0.000   \n",
       "...           ...                      ...                    ...   \n",
       "10830           0                  196.286                  1.699   \n",
       "10831           1                  197.213                  0.927   \n",
       "10832           1                  198.603                  1.390   \n",
       "10833           0                  199.808                  1.205   \n",
       "10834           0                  201.909                  2.101   \n",
       "\n",
       "       total_deaths_per_million  ...  aged_65_older  aged_70_older  \\\n",
       "10736                     0.000  ...          6.293          3.407   \n",
       "10737                     0.000  ...          6.293          3.407   \n",
       "10738                     0.000  ...          6.293          3.407   \n",
       "10739                     0.000  ...          6.293          3.407   \n",
       "10740                     0.000  ...          6.293          3.407   \n",
       "...                         ...  ...            ...            ...   \n",
       "10830                     3.244  ...          6.293          3.407   \n",
       "10831                     3.275  ...          6.293          3.407   \n",
       "10832                     3.306  ...          6.293          3.407   \n",
       "10833                     3.306  ...          6.293          3.407   \n",
       "10834                     3.306  ...          6.293          3.407   \n",
       "\n",
       "       gdp_per_capita  extreme_poverty  cvd_death_rate diabetes_prevalence  \\\n",
       "10736       26808.164              0.1         260.942               16.74   \n",
       "10737       26808.164              0.1         260.942               16.74   \n",
       "10738       26808.164              0.1         260.942               16.74   \n",
       "10739       26808.164              0.1         260.942               16.74   \n",
       "10740       26808.164              0.1         260.942               16.74   \n",
       "...               ...              ...             ...                 ...   \n",
       "10830       26808.164              0.1         260.942               16.74   \n",
       "10831       26808.164              0.1         260.942               16.74   \n",
       "10832       26808.164              0.1         260.942               16.74   \n",
       "10833       26808.164              0.1         260.942               16.74   \n",
       "10834       26808.164              0.1         260.942               16.74   \n",
       "\n",
       "       female_smokers  male_smokers  handwashing_facilities  \\\n",
       "10736             1.0          42.4                     NaN   \n",
       "10737             1.0          42.4                     NaN   \n",
       "10738             1.0          42.4                     NaN   \n",
       "10739             1.0          42.4                     NaN   \n",
       "10740             1.0          42.4                     NaN   \n",
       "...               ...           ...                     ...   \n",
       "10830             1.0          42.4                     NaN   \n",
       "10831             1.0          42.4                     NaN   \n",
       "10832             1.0          42.4                     NaN   \n",
       "10833             1.0          42.4                     NaN   \n",
       "10834             1.0          42.4                     NaN   \n",
       "\n",
       "       hospital_beds_per_100k  \n",
       "10736                     1.9  \n",
       "10737                     1.9  \n",
       "10738                     1.9  \n",
       "10739                     1.9  \n",
       "10740                     1.9  \n",
       "...                       ...  \n",
       "10830                     1.9  \n",
       "10831                     1.9  \n",
       "10832                     1.9  \n",
       "10833                     1.9  \n",
       "10834                     1.9  \n",
       "\n",
       "[99 rows x 29 columns]"
      ]
     },
     "execution_count": 7,
     "metadata": {},
     "output_type": "execute_result"
    }
   ],
   "source": [
    "df_country = df[df['iso_code'] == COUNTRY]\n",
    "df_country = df_country[df_country['date'] > START_DATE]\n",
    "df_country"
   ]
  },
  {
   "cell_type": "markdown",
   "metadata": {},
   "source": [
    "### weekly case counts"
   ]
  },
  {
   "cell_type": "code",
   "execution_count": 8,
   "metadata": {},
   "outputs": [
    {
     "data": {
      "image/png": "[encoded data removed]",
      "text/plain": [
       "<Figure size 864x432 with 1 Axes>"
      ]
     },
     "metadata": {
      "needs_background": "light"
     },
     "output_type": "display_data"
    }
   ],
   "source": [
    "fig, ax = plt.subplots(1, 1, figsize=(12,6))\n",
    "    \n",
    "ax.bar(df_country['date'], df_country['new_cases'])\n",
    "ax.xaxis_date()\n",
    "#set ticks every week\n",
    "ax.xaxis.set_major_locator(mdates.WeekdayLocator())\n",
    "#set major ticks format\n",
    "ax.xaxis.set_major_formatter(mdates.DateFormatter('%b %d'))\n",
    "\n",
    "plt.show()"
   ]
  },
  {
   "cell_type": "markdown",
   "metadata": {},
   "source": [
    "### cumulative total case counts (log)"
   ]
  },
  {
   "cell_type": "code",
   "execution_count": 9,
   "metadata": {},
   "outputs": [
    {
     "data": {
      "text/plain": [
       "<matplotlib.axes._subplots.AxesSubplot at 0x7f8c73c9fef0>"
      ]
     },
     "execution_count": 9,
     "metadata": {},
     "output_type": "execute_result"
    },
    {
     "data": {
      "image/png": "[encoded data removed]",
      "text/plain": [
       "<Figure size 864x432 with 1 Axes>"
      ]
     },
     "metadata": {
      "needs_background": "light"
     },
     "output_type": "display_data"
    }
   ],
   "source": [
    "fig, ax = plt.subplots(figsize = (12,6)) \n",
    "plt.yscale('log')\n",
    "\n",
    "sns.lineplot(data=df_country, y='total_cases', x='date', ax=ax)"
   ]
  },
  {
   "cell_type": "code",
   "execution_count": 10,
   "metadata": {},
   "outputs": [],
   "source": [
    "# fig, ax = plt.subplots(figsize = (12,6)) \n",
    "\n",
    "# x_dates = df_sgp['date'].dt.strftime('%Y-%M-%D').sort_values().unique()\n",
    "# ax.set_xticklabels(labels=x_dates, rotation=45, ha='right')\n",
    "\n",
    "# sns.barplot(data=df_sgp, y='new_cases', x='date', ci=None, ax=ax)"
   ]
  },
  {
   "cell_type": "markdown",
   "metadata": {},
   "source": [
    "## SIR model with ODE  "
   ]
  },
  {
   "cell_type": "code",
   "execution_count": 11,
   "metadata": {},
   "outputs": [],
   "source": [
    "def sir_model(y, t, N, beta, gamma):\n",
    "    '''\n",
    "    N: total population\n",
    "    S(t): no. of susceptible ppl on day t\n",
    "    I(t): no. of infected ppl on day t\n",
    "    R(t): no. of recovered on day t\n",
    "    beta: expected amount of people an infected person infects per day\n",
    "    D: number of days an infected person has and can spread the disease\n",
    "    gamma: proportion of infected recovering per day (gamma = 1/D)\n",
    "    R_0: total no. of people an infected person infects (R_0 = beta / gamma)\n",
    "    '''\n",
    "    S, I, R = y\n",
    "    \n",
    "    dSdt = -beta * S * (I / N)\n",
    "    dIdt = beta * S * (I / N) - gamma * I\n",
    "    dRdt = gamma * I\n",
    "    \n",
    "    return dSdt, dIdt, dRdt"
   ]
  },
  {
   "cell_type": "markdown",
   "metadata": {},
   "source": [
    "### demo SIR ODE: set initial conditions"
   ]
  },
  {
   "cell_type": "code",
   "execution_count": 12,
   "metadata": {},
   "outputs": [],
   "source": [
    "N = 1000000\n",
    "beta = 1.0  # infected person infects 1 other person per day\n",
    "D = 21.0  # infections lasts four days\n",
    "gamma = 1.0 / D\n",
    "\n",
    "days = 100\n",
    "\n",
    "I0 = 20\n",
    "S0 = N - I0\n",
    "R0 = 0"
   ]
  },
  {
   "cell_type": "code",
   "execution_count": 13,
   "metadata": {},
   "outputs": [],
   "source": [
    "t = np.linspace(0, days, days)  # time grid (in days)\n",
    "\n",
    "y0 = S0, I0, R0\n",
    "\n",
    "# Integrate the SIR equations over the time grid, t.\n",
    "result = odeint(sir_model, y0, t, args=(N, beta, gamma))\n",
    "S, I, R = result.T"
   ]
  },
  {
   "cell_type": "code",
   "execution_count": 14,
   "metadata": {},
   "outputs": [
    {
     "data": {
      "text/plain": [
       "(100, 3)"
      ]
     },
     "execution_count": 14,
     "metadata": {},
     "output_type": "execute_result"
    }
   ],
   "source": [
    "result.shape"
   ]
  },
  {
   "cell_type": "code",
   "execution_count": 15,
   "metadata": {},
   "outputs": [
    {
     "data": {
      "text/plain": [
       "array([1.03365580e-03, 1.47546919e+04, 9.85245307e+05])"
      ]
     },
     "execution_count": 15,
     "metadata": {},
     "output_type": "execute_result"
    }
   ],
   "source": [
    "result[99]"
   ]
  },
  {
   "cell_type": "code",
   "execution_count": 16,
   "metadata": {},
   "outputs": [],
   "source": [
    "def plot_sir(t, S, I, R, x_ticks):\n",
    "    f, ax = plt.subplots(1, 1, figsize=(12,6))\n",
    "    \n",
    "    ax.plot(x_ticks, S, 'b', alpha=0.7, linewidth=1, label='Susceptible')  # TODO: t\n",
    "    ax.plot(x_ticks, I, 'r', alpha=0.7, linewidth=2, label='Infected')\n",
    "    ax.plot(x_ticks, R, 'y', alpha=0.7, linewidth=1, label='Recovered')\n",
    "\n",
    "    ax.set_xlabel('Time (days)')\n",
    "\n",
    "    ax.yaxis.set_tick_params(length=0)\n",
    "    ax.xaxis.set_tick_params(length=0)\n",
    "        \n",
    "    ax.grid(b=True, which='major', c='w', lw=2, ls='-')\n",
    "    legend = ax.legend()\n",
    "    legend.get_frame().set_alpha(0.5)\n",
    "    for spine in ('top', 'right', 'bottom', 'left'):\n",
    "        ax.spines[spine].set_visible(False)\n",
    "    plt.show();"
   ]
  },
  {
   "cell_type": "code",
   "execution_count": 17,
   "metadata": {},
   "outputs": [],
   "source": [
    "first_date = np.datetime64(df_country['date'].min()) - np.timedelta64(0, 'D')\n",
    "\n",
    "x_ticks = pd.date_range(start=first_date, periods=days, freq=\"D\")"
   ]
  },
  {
   "cell_type": "code",
   "execution_count": 18,
   "metadata": {},
   "outputs": [
    {
     "data": {
      "image/png": "[encoded data removed]",
      "text/plain": [
       "<Figure size 864x432 with 1 Axes>"
      ]
     },
     "metadata": {
      "needs_background": "light"
     },
     "output_type": "display_data"
    }
   ],
   "source": [
    "plot_sir(t, S, I, R, x_ticks)"
   ]
  },
  {
   "cell_type": "code",
   "execution_count": null,
   "metadata": {},
   "outputs": [],
   "source": []
  },
  {
   "cell_type": "markdown",
   "metadata": {},
   "source": [
    "### curve fitting example with lmfit"
   ]
  },
  {
   "cell_type": "code",
   "execution_count": 19,
   "metadata": {},
   "outputs": [
    {
     "data": {
      "text/plain": [
       "[<matplotlib.lines.Line2D at 0x7f8c73129b70>]"
      ]
     },
     "execution_count": 19,
     "metadata": {},
     "output_type": "execute_result"
    },
    {
     "data": {
      "image/png": "[encoded data removed]",
      "text/plain": [
       "<Figure size 432x288 with 1 Axes>"
      ]
     },
     "metadata": {
      "needs_background": "light"
     },
     "output_type": "display_data"
    }
   ],
   "source": [
    "np.random.seed(555)\n",
    "x = np.linspace(0, 20.0, 1000)\n",
    "\n",
    "data = (gaussian(x, 21, 7.1, 2.1) + np.random.normal(scale=0.3, size=x.size))  # normal distr. with some noise\n",
    "\n",
    "plt.plot(x, data)"
   ]
  },
  {
   "cell_type": "code",
   "execution_count": 20,
   "metadata": {},
   "outputs": [
    {
     "data": {
      "text/html": [
       "<table><tr><th> name </th><th> value </th><th> initial value </th><th> min </th><th> max </th><th> vary </th></tr><tr><td> a </td><td>  10.0000000 </td><td> None </td><td>        -inf </td><td>         inf </td><td> True </td></tr><tr><td> b </td><td>  5.00000000 </td><td> None </td><td>        -inf </td><td>         inf </td><td> True </td></tr><tr><td> c </td><td>  1.00000000 </td><td> None </td><td>        -inf </td><td>         inf </td><td> True </td></tr></table>"
      ],
      "text/plain": [
       "Parameters([('a', <Parameter 'a', value=10.0, bounds=[-inf:inf]>),\n",
       "            ('b', <Parameter 'b', value=5.0, bounds=[-inf:inf]>),\n",
       "            ('c', <Parameter 'c', value=1.0, bounds=[-inf:inf]>)])"
      ]
     },
     "execution_count": 20,
     "metadata": {},
     "output_type": "execute_result"
    }
   ],
   "source": [
    "# define a function that takes x as the first argument, and then the parameters to be fitted (a, b, c)\n",
    "def f(x, a, b, c):\n",
    "    return gaussian(x, a, b, c)\n",
    "\n",
    "\n",
    "mod = lmfit.Model(f)\n",
    "# we set the parameters (and some initial parameter guesses)\n",
    "mod.set_param_hint(\"a\", value=10.0, vary=True)\n",
    "mod.set_param_hint(\"b\", value=5.0, vary=True)\n",
    "mod.set_param_hint(\"c\", value=1.0, vary=True)\n",
    "\n",
    "params = mod.make_params()\n",
    "params"
   ]
  },
  {
   "cell_type": "code",
   "execution_count": 21,
   "metadata": {},
   "outputs": [
    {
     "data": {
      "text/plain": [
       "{'a': 20.893950161752713, 'b': 7.1071101616645285, 'c': 2.0980312203106943}"
      ]
     },
     "execution_count": 21,
     "metadata": {},
     "output_type": "execute_result"
    },
    {
     "data": {
      "image/png": "[encoded data removed]",
      "text/plain": [
       "<Figure size 576x288 with 1 Axes>"
      ]
     },
     "metadata": {
      "needs_background": "light"
     },
     "output_type": "display_data"
    }
   ],
   "source": [
    "# fitting\n",
    "result = mod.fit(data, params, method=\"leastsq\", x=x)\n",
    "\n",
    "plt.figure(figsize=(8,4))\n",
    "result.plot_fit(datafmt=\"-\");\n",
    "result.best_values"
   ]
  },
  {
   "cell_type": "code",
   "execution_count": 22,
   "metadata": {},
   "outputs": [],
   "source": [
    "# result"
   ]
  },
  {
   "cell_type": "code",
   "execution_count": null,
   "metadata": {},
   "outputs": [],
   "source": []
  },
  {
   "cell_type": "markdown",
   "metadata": {},
   "source": [
    "# curve fitting with real country data  "
   ]
  },
  {
   "cell_type": "markdown",
   "metadata": {},
   "source": [
    "set initial conditions"
   ]
  },
  {
   "cell_type": "code",
   "execution_count": 23,
   "metadata": {},
   "outputs": [
    {
     "data": {
      "text/plain": [
       "array([  1,   0,   0,   0,   0,   2,   2,   2,   1,   1,   2,   0,   0,\n",
       "         0,   1,   2,   1,   0,   0,   0,   0,   0,   0,   0,   0,   0,\n",
       "         0,   0,   1,   2,   0,   4,   7,  14,   0,  33,  10,   6,  18,\n",
       "        12,  20,   9,  39,  41, 190, 125, 120, 117, 110, 130, 153, 123,\n",
       "       212, 106, 172, 235, 130, 159, 150, 156, 140, 142, 208, 217, 150,\n",
       "       179, 131, 170, 156, 109, 118, 184, 153, 134, 170,  85, 110,  69,\n",
       "        54,  84,  36,  57,  50,  71,  88,  51,  38,  40,  31,  94,  57,\n",
       "        69, 105, 122,  55,  30,  45,  39,  68])"
      ]
     },
     "execution_count": 23,
     "metadata": {},
     "output_type": "execute_result"
    }
   ],
   "source": [
    "data = df_country['new_cases'].values\n",
    "data"
   ]
  },
  {
   "cell_type": "code",
   "execution_count": 24,
   "metadata": {},
   "outputs": [
    {
     "data": {
      "text/plain": [
       "99"
      ]
     },
     "execution_count": 24,
     "metadata": {},
     "output_type": "execute_result"
    }
   ],
   "source": [
    "N = 5000000\n",
    "\n",
    "# find beta & gamma from fitting\n",
    "# beta = 2.0  # infected person infects 1 other person per day\n",
    "# D = 14.0  # infections lasts four days\n",
    "# gamma = 1.0 / D\n",
    "\n",
    "days = len(data)\n",
    "days"
   ]
  },
  {
   "cell_type": "code",
   "execution_count": 25,
   "metadata": {},
   "outputs": [],
   "source": [
    "def Model_SIR(days, N, beta, gamma):\n",
    "    t = np.linspace(0, days-1, days, dtype=int)  # time grid (in days)\n",
    "\n",
    "    y0 = N-1, 1, 0  # S0, I0, R0\n",
    "\n",
    "    # Integrate the equations over the time grid, t.\n",
    "    result = odeint(sir_model, y0, t, args=(N, beta, gamma))\n",
    "    S, I, R = result.T\n",
    "    return t, S, I, R"
   ]
  },
  {
   "cell_type": "code",
   "execution_count": 26,
   "metadata": {},
   "outputs": [],
   "source": [
    "def fit_model(x, N, beta, gamma):\n",
    "    \"\"\"\n",
    "    returns: infections I per day ? \n",
    "    \"\"\"\n",
    "    return Model_SIR(days, N, beta, gamma)[2][x]"
   ]
  },
  {
   "cell_type": "code",
   "execution_count": 27,
   "metadata": {},
   "outputs": [
    {
     "data": {
      "text/html": [
       "<table><tr><th> name </th><th> value </th><th> initial value </th><th> min </th><th> max </th><th> vary </th></tr><tr><td> N </td><td>  5000000.00 </td><td> None </td><td>  0.00000000 </td><td>         inf </td><td> True </td></tr><tr><td> beta </td><td>  10.0000000 </td><td> None </td><td>  0.00000000 </td><td>         inf </td><td> True </td></tr><tr><td> gamma </td><td>  0.10000000 </td><td> None </td><td>  0.00000000 </td><td>  1.00000000 </td><td> True </td></tr></table>"
      ],
      "text/plain": [
       "Parameters([('N', <Parameter 'N', value=5000000, bounds=[0:inf]>),\n",
       "            ('beta', <Parameter 'beta', value=10.0, bounds=[0:inf]>),\n",
       "            ('gamma', <Parameter 'gamma', value=0.1, bounds=[0:1]>)])"
      ]
     },
     "execution_count": 27,
     "metadata": {},
     "output_type": "execute_result"
    }
   ],
   "source": [
    "# initiate model\n",
    "\n",
    "mod = lmfit.Model(fit_model)\n",
    "\n",
    "mod.set_param_hint(\"N\", value=N, min=0, vary=True)\n",
    "mod.set_param_hint(\"beta\", value=10.0, min=0, vary=True)\n",
    "mod.set_param_hint(\"gamma\", value=0.1, min=0, max=1, vary=True)\n",
    "\n",
    "params = mod.make_params()\n",
    "params"
   ]
  },
  {
   "cell_type": "code",
   "execution_count": 28,
   "metadata": {},
   "outputs": [],
   "source": [
    "# fitting\n",
    "\n",
    "x_data = np.linspace(0, days-1, days, dtype=int)  # time grid (in days)\n",
    "\n",
    "results = mod.fit(data, params, method=\"leastsq\", x=x_data)  # leastsq, least_squares?"
   ]
  },
  {
   "cell_type": "code",
   "execution_count": 29,
   "metadata": {},
   "outputs": [
    {
     "data": {
      "text/plain": [
       "{'N': 1948.1482044385082,\n",
       " 'beta': 0.28682258126756466,\n",
       " 'gamma': 0.1764788150236256}"
      ]
     },
     "execution_count": 29,
     "metadata": {},
     "output_type": "execute_result"
    },
    {
     "data": {
      "image/png": "[encoded data removed]",
      "text/plain": [
       "<Figure size 576x360 with 1 Axes>"
      ]
     },
     "metadata": {
      "needs_background": "light"
     },
     "output_type": "display_data"
    }
   ],
   "source": [
    "plt.figure(figsize=(8,5))\n",
    "results.plot_fit(datafmt=\"-\");\n",
    "results.best_values"
   ]
  },
  {
   "cell_type": "code",
   "execution_count": 30,
   "metadata": {},
   "outputs": [
    {
     "data": {
      "text/html": [
       "<h2> Model</h2> Model(fit_model) <h2>Fit Statistics</h2><table><tr><td>fitting method</td><td>leastsq</td><td></td></tr><tr><td># function evals</td><td>180</td><td></td></tr><tr><td># data points</td><td>99</td><td></td></tr><tr><td># variables</td><td>3</td><td></td></tr><tr><td>chi-square</td><td> 90035.7631</td><td></td></tr><tr><td>reduced chi-square</td><td> 937.872532</td><td></td></tr><tr><td>Akaike info crit.</td><td> 680.471396</td><td></td></tr><tr><td>Bayesian info crit.</td><td> 688.256756</td><td></td></tr></table><h2>Variables</h2><table><tr><th> name </th><th> value </th><th> standard error </th><th> relative error </th><th> initial value </th><th> min </th><th> max </th><th> vary </th></tr><tr><td> N </td><td>  1948.14820 </td><td>  1367.76002 </td><td> (70.21%) </td><td> 5000000 </td><td>  0.00000000 </td><td>         inf </td><td> True </td></tr><tr><td> beta </td><td>  0.28682258 </td><td>  0.08333809 </td><td> (29.06%) </td><td> 10.0 </td><td>  0.00000000 </td><td>         inf </td><td> True </td></tr><tr><td> gamma </td><td>  0.17647882 </td><td>  0.08574699 </td><td> (48.59%) </td><td> 0.1 </td><td>  0.00000000 </td><td>  1.00000000 </td><td> True </td></tr></table><h2>Correlations (unreported correlations are < 0.100)</h2><table><tr><td>beta</td><td>gamma</td><td>0.9998</td></tr><tr><td>N</td><td>gamma</td><td>0.9989</td></tr><tr><td>N</td><td>beta</td><td>0.9986</td></tr></table>"
      ],
      "text/plain": [
       "<lmfit.model.ModelResult at 0x7f8c734e9ac8>"
      ]
     },
     "execution_count": 30,
     "metadata": {},
     "output_type": "execute_result"
    }
   ],
   "source": [
    "results"
   ]
  },
  {
   "cell_type": "code",
   "execution_count": 38,
   "metadata": {},
   "outputs": [],
   "source": [
    "def plot_sir2(t, S, I, R, x_ticks):\n",
    "    f, ax = plt.subplots(1, 1, figsize=(12,8))\n",
    "    ax.set_title('Country: %s' % COUNTRY, fontsize= 20) \n",
    "    \n",
    "    ax.plot(x_ticks, S, 'b', alpha=0.7, linewidth=1, label='Susceptible')  # TODO: t\n",
    "    ax.plot(x_ticks, I, 'r', alpha=0.7, linewidth=2, label='Infected')\n",
    "    ax.plot(x_ticks, R, 'y', alpha=0.7, linewidth=1, label='Recovered')\n",
    "\n",
    "    ax.set_xlabel('Time (days)')\n",
    "\n",
    "    ax.yaxis.set_tick_params(length=0)\n",
    "    ax.xaxis.set_tick_params(length=0)\n",
    "    \n",
    "    # ax.set_ylim(0, 1800)\n",
    "    \n",
    "    ax.grid(b=True, which='major', c='w', lw=2, ls='-')\n",
    "    legend = ax.legend()\n",
    "    legend.get_frame().set_alpha(0.5)\n",
    "    for spine in ('top', 'right', 'bottom', 'left'):\n",
    "        ax.spines[spine].set_visible(False)\n",
    "        \n",
    "    # overlay actual data\n",
    "    ax.bar(df_country['date'], df_country['new_cases'])\n",
    "\n",
    "    plt.show()"
   ]
  },
  {
   "cell_type": "code",
   "execution_count": 39,
   "metadata": {},
   "outputs": [],
   "source": [
    "def plot_infected(t, S, I, R, x_ticks):\n",
    "    f, ax = plt.subplots(1, 1, figsize=(12,8))\n",
    "    ax.set_title('Country: %s' % COUNTRY, fontsize= 20) \n",
    "    \n",
    "    ax.plot(x_ticks, I, 'r', alpha=0.7, linewidth=2, label='Infected (predicted)')\n",
    "\n",
    "    ax.set_xlabel('Time (days)')\n",
    "\n",
    "    ax.yaxis.set_tick_params(length=0)\n",
    "    ax.xaxis.set_tick_params(length=0)\n",
    "    \n",
    "    # ax.set_ylim(0, 1800)\n",
    "    ax.grid(b=True, which='major', c='w', lw=2, ls='-')\n",
    "    legend = ax.legend()\n",
    "    legend.get_frame().set_alpha(0.5)\n",
    "    \n",
    "    # overlay actual data\n",
    "    ax.bar(df_country['date'], df_country['new_cases'])\n",
    "\n",
    "    plt.show()"
   ]
  },
  {
   "cell_type": "code",
   "execution_count": 40,
   "metadata": {},
   "outputs": [],
   "source": [
    "max_days = 240\n",
    "\n",
    "first_date = np.datetime64(df_country['date'].min()) - np.timedelta64(0, 'D')\n",
    "\n",
    "x_ticks = pd.date_range(start=first_date, periods=max_days, freq=\"D\")"
   ]
  },
  {
   "cell_type": "code",
   "execution_count": 41,
   "metadata": {},
   "outputs": [
    {
     "data": {
      "image/png": "[encoded data removed]",
      "text/plain": [
       "<Figure size 864x576 with 1 Axes>"
      ]
     },
     "metadata": {
      "needs_background": "light"
     },
     "output_type": "display_data"
    }
   ],
   "source": [
    "plot_sir2(*Model_SIR(max_days, **results.best_values), x_ticks)"
   ]
  },
  {
   "cell_type": "code",
   "execution_count": 42,
   "metadata": {},
   "outputs": [
    {
     "data": {
      "image/png": "[encoded data removed]",
      "text/plain": [
       "<Figure size 864x576 with 1 Axes>"
      ]
     },
     "metadata": {
      "needs_background": "light"
     },
     "output_type": "display_data"
    }
   ],
   "source": [
    "plot_infected(*Model_SIR(max_days, **results.best_values), x_ticks)"
   ]
  },
  {
   "cell_type": "code",
   "execution_count": null,
   "metadata": {},
   "outputs": [],
   "source": []
  },
  {
   "cell_type": "code",
   "execution_count": null,
   "metadata": {},
   "outputs": [],
   "source": []
  },
  {
   "cell_type": "code",
   "execution_count": null,
   "metadata": {},
   "outputs": [],
   "source": []
  }
 ],
 "metadata": {
  "kernelspec": {
   "display_name": "Python 3",
   "language": "python",
   "name": "python3"
  },
  "language_info": {
   "codemirror_mode": {
    "name": "ipython",
    "version": 3
   },
   "file_extension": ".py",
   "mimetype": "text/x-python",
   "name": "python",
   "nbconvert_exporter": "python",
   "pygments_lexer": "ipython3",
   "version": "3.7.3"
  }
 },
 "nbformat": 4,
 "nbformat_minor": 4
}
