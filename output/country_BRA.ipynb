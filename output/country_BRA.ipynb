{
 "cells": [
  {
   "cell_type": "code",
   "execution_count": 1,
   "metadata": {
    "execution": {
     "iopub.execute_input": "2020-06-12T08:40:31.886563Z",
     "iopub.status.busy": "2020-06-12T08:40:31.885777Z",
     "iopub.status.idle": "2020-06-12T08:40:31.907232Z",
     "shell.execute_reply": "2020-06-12T08:40:31.906355Z"
    },
    "papermill": {
     "duration": 0.081164,
     "end_time": "2020-06-12T08:40:31.907425",
     "exception": false,
     "start_time": "2020-06-12T08:40:31.826261",
     "status": "completed"
    },
    "tags": []
   },
   "outputs": [],
   "source": [
    "%load_ext autoreload\n",
    "%autoreload 2"
   ]
  },
  {
   "cell_type": "code",
   "execution_count": 2,
   "metadata": {
    "execution": {
     "iopub.execute_input": "2020-06-12T08:40:31.976397Z",
     "iopub.status.busy": "2020-06-12T08:40:31.975534Z",
     "iopub.status.idle": "2020-06-12T08:40:33.008728Z",
     "shell.execute_reply": "2020-06-12T08:40:33.007965Z"
    },
    "papermill": {
     "duration": 1.067571,
     "end_time": "2020-06-12T08:40:33.008834",
     "exception": false,
     "start_time": "2020-06-12T08:40:31.941263",
     "status": "completed"
    },
    "tags": []
   },
   "outputs": [],
   "source": [
    "import scipy\n",
    "from scipy.integrate import odeint\n",
    "\n",
    "import pandas as pd\n",
    "import numpy as np\n",
    "import datetime\n",
    "\n",
    "import matplotlib.pyplot as plt\n",
    "import matplotlib.dates as mdates\n",
    "import seaborn as sns\n",
    "\n",
    "import lmfit\n",
    "from lmfit.lineshapes import gaussian, lorentzian\n",
    "\n",
    "plt.style.use('fivethirtyeight')\n",
    "%matplotlib inline "
   ]
  },
  {
   "cell_type": "code",
   "execution_count": 3,
   "metadata": {
    "execution": {
     "iopub.execute_input": "2020-06-12T08:40:33.070174Z",
     "iopub.status.busy": "2020-06-12T08:40:33.069508Z",
     "iopub.status.idle": "2020-06-12T08:40:33.089125Z",
     "shell.execute_reply": "2020-06-12T08:40:33.088488Z"
    },
    "papermill": {
     "duration": 0.05099,
     "end_time": "2020-06-12T08:40:33.089219",
     "exception": false,
     "start_time": "2020-06-12T08:40:33.038229",
     "status": "completed"
    },
    "tags": [
     "parameters"
    ]
   },
   "outputs": [],
   "source": [
    "# parameters \n",
    "\n",
    "COUNTRY = 'JPN'  # 'SGP', 'MYS', 'DEU', 'OWID_WRL'\n",
    "\n",
    "START_DATE = '2020-02-14'"
   ]
  },
  {
   "cell_type": "code",
   "execution_count": 4,
   "metadata": {
    "execution": {
     "iopub.execute_input": "2020-06-12T08:40:33.147815Z",
     "iopub.status.busy": "2020-06-12T08:40:33.146465Z",
     "iopub.status.idle": "2020-06-12T08:40:33.166628Z",
     "shell.execute_reply": "2020-06-12T08:40:33.167337Z"
    },
    "papermill": {
     "duration": 0.051017,
     "end_time": "2020-06-12T08:40:33.167454",
     "exception": false,
     "start_time": "2020-06-12T08:40:33.116437",
     "status": "completed"
    },
    "tags": [
     "injected-parameters"
    ]
   },
   "outputs": [],
   "source": [
    "# Parameters\n",
    "COUNTRY = \"BRA\"\n",
    "START_DATE = \"2020-02-14\"\n"
   ]
  },
  {
   "cell_type": "code",
   "execution_count": 5,
   "metadata": {
    "execution": {
     "iopub.execute_input": "2020-06-12T08:40:33.227721Z",
     "iopub.status.busy": "2020-06-12T08:40:33.227126Z",
     "iopub.status.idle": "2020-06-12T08:40:33.390067Z",
     "shell.execute_reply": "2020-06-12T08:40:33.389346Z"
    },
    "papermill": {
     "duration": 0.194332,
     "end_time": "2020-06-12T08:40:33.390153",
     "exception": false,
     "start_time": "2020-06-12T08:40:33.195821",
     "status": "completed"
    },
    "tags": []
   },
   "outputs": [
    {
     "data": {
      "text/plain": [
       "(23194, 33)"
      ]
     },
     "execution_count": 5,
     "metadata": {},
     "output_type": "execute_result"
    }
   ],
   "source": [
    "DATA_PATH = '../covid-19-data/public/data/owid-covid-data.csv'\n",
    "# DATA_PATH = '../covid-19-data/public/data/ecdc/full_data.csv'\n",
    "\n",
    "df = pd.read_csv(DATA_PATH)\n",
    "df['date'] = pd.to_datetime(df['date'], yearfirst=True)\n",
    "df.shape"
   ]
  },
  {
   "cell_type": "code",
   "execution_count": 6,
   "metadata": {
    "execution": {
     "iopub.execute_input": "2020-06-12T08:40:33.451981Z",
     "iopub.status.busy": "2020-06-12T08:40:33.451398Z",
     "iopub.status.idle": "2020-06-12T08:40:33.496813Z",
     "shell.execute_reply": "2020-06-12T08:40:33.496087Z"
    },
    "papermill": {
     "duration": 0.077239,
     "end_time": "2020-06-12T08:40:33.496901",
     "exception": false,
     "start_time": "2020-06-12T08:40:33.419662",
     "status": "completed"
    },
    "tags": []
   },
   "outputs": [
    {
     "data": {
      "text/html": [
       "<div>\n",
       "<style scoped>\n",
       "    .dataframe tbody tr th:only-of-type {\n",
       "        vertical-align: middle;\n",
       "    }\n",
       "\n",
       "    .dataframe tbody tr th {\n",
       "        vertical-align: top;\n",
       "    }\n",
       "\n",
       "    .dataframe thead th {\n",
       "        text-align: right;\n",
       "    }\n",
       "</style>\n",
       "<table border=\"1\" class=\"dataframe\">\n",
       "  <thead>\n",
       "    <tr style=\"text-align: right;\">\n",
       "      <th></th>\n",
       "      <th>iso_code</th>\n",
       "      <th>continent</th>\n",
       "      <th>location</th>\n",
       "      <th>date</th>\n",
       "      <th>total_cases</th>\n",
       "      <th>new_cases</th>\n",
       "      <th>total_deaths</th>\n",
       "      <th>new_deaths</th>\n",
       "      <th>total_cases_per_million</th>\n",
       "      <th>new_cases_per_million</th>\n",
       "      <th>...</th>\n",
       "      <th>aged_65_older</th>\n",
       "      <th>aged_70_older</th>\n",
       "      <th>gdp_per_capita</th>\n",
       "      <th>extreme_poverty</th>\n",
       "      <th>cvd_death_rate</th>\n",
       "      <th>diabetes_prevalence</th>\n",
       "      <th>female_smokers</th>\n",
       "      <th>male_smokers</th>\n",
       "      <th>handwashing_facilities</th>\n",
       "      <th>hospital_beds_per_thousand</th>\n",
       "    </tr>\n",
       "  </thead>\n",
       "  <tbody>\n",
       "    <tr>\n",
       "      <th>0</th>\n",
       "      <td>AFG</td>\n",
       "      <td>Asia</td>\n",
       "      <td>Afghanistan</td>\n",
       "      <td>2019-12-31</td>\n",
       "      <td>0</td>\n",
       "      <td>0</td>\n",
       "      <td>0</td>\n",
       "      <td>0</td>\n",
       "      <td>0.0</td>\n",
       "      <td>0.0</td>\n",
       "      <td>...</td>\n",
       "      <td>2.581</td>\n",
       "      <td>1.337</td>\n",
       "      <td>1803.987</td>\n",
       "      <td>NaN</td>\n",
       "      <td>597.029</td>\n",
       "      <td>9.59</td>\n",
       "      <td>NaN</td>\n",
       "      <td>NaN</td>\n",
       "      <td>37.746</td>\n",
       "      <td>0.5</td>\n",
       "    </tr>\n",
       "    <tr>\n",
       "      <th>1</th>\n",
       "      <td>AFG</td>\n",
       "      <td>Asia</td>\n",
       "      <td>Afghanistan</td>\n",
       "      <td>2020-01-01</td>\n",
       "      <td>0</td>\n",
       "      <td>0</td>\n",
       "      <td>0</td>\n",
       "      <td>0</td>\n",
       "      <td>0.0</td>\n",
       "      <td>0.0</td>\n",
       "      <td>...</td>\n",
       "      <td>2.581</td>\n",
       "      <td>1.337</td>\n",
       "      <td>1803.987</td>\n",
       "      <td>NaN</td>\n",
       "      <td>597.029</td>\n",
       "      <td>9.59</td>\n",
       "      <td>NaN</td>\n",
       "      <td>NaN</td>\n",
       "      <td>37.746</td>\n",
       "      <td>0.5</td>\n",
       "    </tr>\n",
       "    <tr>\n",
       "      <th>2</th>\n",
       "      <td>AFG</td>\n",
       "      <td>Asia</td>\n",
       "      <td>Afghanistan</td>\n",
       "      <td>2020-01-02</td>\n",
       "      <td>0</td>\n",
       "      <td>0</td>\n",
       "      <td>0</td>\n",
       "      <td>0</td>\n",
       "      <td>0.0</td>\n",
       "      <td>0.0</td>\n",
       "      <td>...</td>\n",
       "      <td>2.581</td>\n",
       "      <td>1.337</td>\n",
       "      <td>1803.987</td>\n",
       "      <td>NaN</td>\n",
       "      <td>597.029</td>\n",
       "      <td>9.59</td>\n",
       "      <td>NaN</td>\n",
       "      <td>NaN</td>\n",
       "      <td>37.746</td>\n",
       "      <td>0.5</td>\n",
       "    </tr>\n",
       "    <tr>\n",
       "      <th>3</th>\n",
       "      <td>AFG</td>\n",
       "      <td>Asia</td>\n",
       "      <td>Afghanistan</td>\n",
       "      <td>2020-01-03</td>\n",
       "      <td>0</td>\n",
       "      <td>0</td>\n",
       "      <td>0</td>\n",
       "      <td>0</td>\n",
       "      <td>0.0</td>\n",
       "      <td>0.0</td>\n",
       "      <td>...</td>\n",
       "      <td>2.581</td>\n",
       "      <td>1.337</td>\n",
       "      <td>1803.987</td>\n",
       "      <td>NaN</td>\n",
       "      <td>597.029</td>\n",
       "      <td>9.59</td>\n",
       "      <td>NaN</td>\n",
       "      <td>NaN</td>\n",
       "      <td>37.746</td>\n",
       "      <td>0.5</td>\n",
       "    </tr>\n",
       "    <tr>\n",
       "      <th>4</th>\n",
       "      <td>AFG</td>\n",
       "      <td>Asia</td>\n",
       "      <td>Afghanistan</td>\n",
       "      <td>2020-01-04</td>\n",
       "      <td>0</td>\n",
       "      <td>0</td>\n",
       "      <td>0</td>\n",
       "      <td>0</td>\n",
       "      <td>0.0</td>\n",
       "      <td>0.0</td>\n",
       "      <td>...</td>\n",
       "      <td>2.581</td>\n",
       "      <td>1.337</td>\n",
       "      <td>1803.987</td>\n",
       "      <td>NaN</td>\n",
       "      <td>597.029</td>\n",
       "      <td>9.59</td>\n",
       "      <td>NaN</td>\n",
       "      <td>NaN</td>\n",
       "      <td>37.746</td>\n",
       "      <td>0.5</td>\n",
       "    </tr>\n",
       "  </tbody>\n",
       "</table>\n",
       "<p>5 rows × 33 columns</p>\n",
       "</div>"
      ],
      "text/plain": [
       "  iso_code continent     location       date  total_cases  new_cases  \\\n",
       "0      AFG      Asia  Afghanistan 2019-12-31            0          0   \n",
       "1      AFG      Asia  Afghanistan 2020-01-01            0          0   \n",
       "2      AFG      Asia  Afghanistan 2020-01-02            0          0   \n",
       "3      AFG      Asia  Afghanistan 2020-01-03            0          0   \n",
       "4      AFG      Asia  Afghanistan 2020-01-04            0          0   \n",
       "\n",
       "   total_deaths  new_deaths  total_cases_per_million  new_cases_per_million  \\\n",
       "0             0           0                      0.0                    0.0   \n",
       "1             0           0                      0.0                    0.0   \n",
       "2             0           0                      0.0                    0.0   \n",
       "3             0           0                      0.0                    0.0   \n",
       "4             0           0                      0.0                    0.0   \n",
       "\n",
       "   ...  aged_65_older  aged_70_older  gdp_per_capita  extreme_poverty  \\\n",
       "0  ...          2.581          1.337        1803.987              NaN   \n",
       "1  ...          2.581          1.337        1803.987              NaN   \n",
       "2  ...          2.581          1.337        1803.987              NaN   \n",
       "3  ...          2.581          1.337        1803.987              NaN   \n",
       "4  ...          2.581          1.337        1803.987              NaN   \n",
       "\n",
       "   cvd_death_rate  diabetes_prevalence  female_smokers  male_smokers  \\\n",
       "0         597.029                 9.59             NaN           NaN   \n",
       "1         597.029                 9.59             NaN           NaN   \n",
       "2         597.029                 9.59             NaN           NaN   \n",
       "3         597.029                 9.59             NaN           NaN   \n",
       "4         597.029                 9.59             NaN           NaN   \n",
       "\n",
       "  handwashing_facilities  hospital_beds_per_thousand  \n",
       "0                 37.746                         0.5  \n",
       "1                 37.746                         0.5  \n",
       "2                 37.746                         0.5  \n",
       "3                 37.746                         0.5  \n",
       "4                 37.746                         0.5  \n",
       "\n",
       "[5 rows x 33 columns]"
      ]
     },
     "execution_count": 6,
     "metadata": {},
     "output_type": "execute_result"
    }
   ],
   "source": [
    "df.head()"
   ]
  },
  {
   "cell_type": "code",
   "execution_count": 7,
   "metadata": {
    "execution": {
     "iopub.execute_input": "2020-06-12T08:40:33.560798Z",
     "iopub.status.busy": "2020-06-12T08:40:33.560147Z",
     "iopub.status.idle": "2020-06-12T08:40:33.598787Z",
     "shell.execute_reply": "2020-06-12T08:40:33.597981Z"
    },
    "papermill": {
     "duration": 0.071581,
     "end_time": "2020-06-12T08:40:33.598902",
     "exception": false,
     "start_time": "2020-06-12T08:40:33.527321",
     "status": "completed"
    },
    "tags": []
   },
   "outputs": [
    {
     "data": {
      "text/plain": [
       "LTU    165\n",
       "RUS    165\n",
       "CAN    165\n",
       "MEX    164\n",
       "ISL    164\n",
       "CHN    164\n",
       "EST    164\n",
       "ITA    164\n",
       "USA    164\n",
       "SGP    164\n",
       "GBR    164\n",
       "NPL    164\n",
       "DEU    164\n",
       "BLR    164\n",
       "NOR    164\n",
       "JPN    164\n",
       "BEL    164\n",
       "AUS    164\n",
       "BHR    164\n",
       "CZE    164\n",
       "Name: iso_code, dtype: int64"
      ]
     },
     "execution_count": 7,
     "metadata": {},
     "output_type": "execute_result"
    }
   ],
   "source": [
    "df['iso_code'].value_counts().head(20)"
   ]
  },
  {
   "cell_type": "markdown",
   "metadata": {
    "papermill": {
     "duration": 0.030527,
     "end_time": "2020-06-12T08:40:33.662246",
     "exception": false,
     "start_time": "2020-06-12T08:40:33.631719",
     "status": "completed"
    },
    "tags": []
   },
   "source": [
    "filter country"
   ]
  },
  {
   "cell_type": "code",
   "execution_count": 8,
   "metadata": {
    "execution": {
     "iopub.execute_input": "2020-06-12T08:40:33.724555Z",
     "iopub.status.busy": "2020-06-12T08:40:33.723858Z",
     "iopub.status.idle": "2020-06-12T08:40:33.785317Z",
     "shell.execute_reply": "2020-06-12T08:40:33.784697Z"
    },
    "papermill": {
     "duration": 0.094057,
     "end_time": "2020-06-12T08:40:33.785405",
     "exception": false,
     "start_time": "2020-06-12T08:40:33.691348",
     "status": "completed"
    },
    "tags": []
   },
   "outputs": [
    {
     "data": {
      "text/html": [
       "<div>\n",
       "<style scoped>\n",
       "    .dataframe tbody tr th:only-of-type {\n",
       "        vertical-align: middle;\n",
       "    }\n",
       "\n",
       "    .dataframe tbody tr th {\n",
       "        vertical-align: top;\n",
       "    }\n",
       "\n",
       "    .dataframe thead th {\n",
       "        text-align: right;\n",
       "    }\n",
       "</style>\n",
       "<table border=\"1\" class=\"dataframe\">\n",
       "  <thead>\n",
       "    <tr style=\"text-align: right;\">\n",
       "      <th></th>\n",
       "      <th>iso_code</th>\n",
       "      <th>continent</th>\n",
       "      <th>location</th>\n",
       "      <th>date</th>\n",
       "      <th>total_cases</th>\n",
       "      <th>new_cases</th>\n",
       "      <th>total_deaths</th>\n",
       "      <th>new_deaths</th>\n",
       "      <th>total_cases_per_million</th>\n",
       "      <th>new_cases_per_million</th>\n",
       "      <th>...</th>\n",
       "      <th>aged_65_older</th>\n",
       "      <th>aged_70_older</th>\n",
       "      <th>gdp_per_capita</th>\n",
       "      <th>extreme_poverty</th>\n",
       "      <th>cvd_death_rate</th>\n",
       "      <th>diabetes_prevalence</th>\n",
       "      <th>female_smokers</th>\n",
       "      <th>male_smokers</th>\n",
       "      <th>handwashing_facilities</th>\n",
       "      <th>hospital_beds_per_thousand</th>\n",
       "    </tr>\n",
       "  </thead>\n",
       "  <tbody>\n",
       "    <tr>\n",
       "      <th>3036</th>\n",
       "      <td>BRA</td>\n",
       "      <td>South America</td>\n",
       "      <td>Brazil</td>\n",
       "      <td>2020-02-15</td>\n",
       "      <td>0</td>\n",
       "      <td>0</td>\n",
       "      <td>0</td>\n",
       "      <td>0</td>\n",
       "      <td>0.000</td>\n",
       "      <td>0.000</td>\n",
       "      <td>...</td>\n",
       "      <td>8.552</td>\n",
       "      <td>5.06</td>\n",
       "      <td>14103.452</td>\n",
       "      <td>3.4</td>\n",
       "      <td>177.961</td>\n",
       "      <td>8.11</td>\n",
       "      <td>10.1</td>\n",
       "      <td>17.9</td>\n",
       "      <td>NaN</td>\n",
       "      <td>2.2</td>\n",
       "    </tr>\n",
       "    <tr>\n",
       "      <th>3037</th>\n",
       "      <td>BRA</td>\n",
       "      <td>South America</td>\n",
       "      <td>Brazil</td>\n",
       "      <td>2020-02-16</td>\n",
       "      <td>0</td>\n",
       "      <td>0</td>\n",
       "      <td>0</td>\n",
       "      <td>0</td>\n",
       "      <td>0.000</td>\n",
       "      <td>0.000</td>\n",
       "      <td>...</td>\n",
       "      <td>8.552</td>\n",
       "      <td>5.06</td>\n",
       "      <td>14103.452</td>\n",
       "      <td>3.4</td>\n",
       "      <td>177.961</td>\n",
       "      <td>8.11</td>\n",
       "      <td>10.1</td>\n",
       "      <td>17.9</td>\n",
       "      <td>NaN</td>\n",
       "      <td>2.2</td>\n",
       "    </tr>\n",
       "    <tr>\n",
       "      <th>3038</th>\n",
       "      <td>BRA</td>\n",
       "      <td>South America</td>\n",
       "      <td>Brazil</td>\n",
       "      <td>2020-02-17</td>\n",
       "      <td>0</td>\n",
       "      <td>0</td>\n",
       "      <td>0</td>\n",
       "      <td>0</td>\n",
       "      <td>0.000</td>\n",
       "      <td>0.000</td>\n",
       "      <td>...</td>\n",
       "      <td>8.552</td>\n",
       "      <td>5.06</td>\n",
       "      <td>14103.452</td>\n",
       "      <td>3.4</td>\n",
       "      <td>177.961</td>\n",
       "      <td>8.11</td>\n",
       "      <td>10.1</td>\n",
       "      <td>17.9</td>\n",
       "      <td>NaN</td>\n",
       "      <td>2.2</td>\n",
       "    </tr>\n",
       "    <tr>\n",
       "      <th>3039</th>\n",
       "      <td>BRA</td>\n",
       "      <td>South America</td>\n",
       "      <td>Brazil</td>\n",
       "      <td>2020-02-18</td>\n",
       "      <td>0</td>\n",
       "      <td>0</td>\n",
       "      <td>0</td>\n",
       "      <td>0</td>\n",
       "      <td>0.000</td>\n",
       "      <td>0.000</td>\n",
       "      <td>...</td>\n",
       "      <td>8.552</td>\n",
       "      <td>5.06</td>\n",
       "      <td>14103.452</td>\n",
       "      <td>3.4</td>\n",
       "      <td>177.961</td>\n",
       "      <td>8.11</td>\n",
       "      <td>10.1</td>\n",
       "      <td>17.9</td>\n",
       "      <td>NaN</td>\n",
       "      <td>2.2</td>\n",
       "    </tr>\n",
       "    <tr>\n",
       "      <th>3040</th>\n",
       "      <td>BRA</td>\n",
       "      <td>South America</td>\n",
       "      <td>Brazil</td>\n",
       "      <td>2020-02-19</td>\n",
       "      <td>0</td>\n",
       "      <td>0</td>\n",
       "      <td>0</td>\n",
       "      <td>0</td>\n",
       "      <td>0.000</td>\n",
       "      <td>0.000</td>\n",
       "      <td>...</td>\n",
       "      <td>8.552</td>\n",
       "      <td>5.06</td>\n",
       "      <td>14103.452</td>\n",
       "      <td>3.4</td>\n",
       "      <td>177.961</td>\n",
       "      <td>8.11</td>\n",
       "      <td>10.1</td>\n",
       "      <td>17.9</td>\n",
       "      <td>NaN</td>\n",
       "      <td>2.2</td>\n",
       "    </tr>\n",
       "    <tr>\n",
       "      <th>...</th>\n",
       "      <td>...</td>\n",
       "      <td>...</td>\n",
       "      <td>...</td>\n",
       "      <td>...</td>\n",
       "      <td>...</td>\n",
       "      <td>...</td>\n",
       "      <td>...</td>\n",
       "      <td>...</td>\n",
       "      <td>...</td>\n",
       "      <td>...</td>\n",
       "      <td>...</td>\n",
       "      <td>...</td>\n",
       "      <td>...</td>\n",
       "      <td>...</td>\n",
       "      <td>...</td>\n",
       "      <td>...</td>\n",
       "      <td>...</td>\n",
       "      <td>...</td>\n",
       "      <td>...</td>\n",
       "      <td>...</td>\n",
       "      <td>...</td>\n",
       "    </tr>\n",
       "    <tr>\n",
       "      <th>3149</th>\n",
       "      <td>BRA</td>\n",
       "      <td>South America</td>\n",
       "      <td>Brazil</td>\n",
       "      <td>2020-06-07</td>\n",
       "      <td>672837</td>\n",
       "      <td>27075</td>\n",
       "      <td>35930</td>\n",
       "      <td>904</td>\n",
       "      <td>3165.407</td>\n",
       "      <td>127.376</td>\n",
       "      <td>...</td>\n",
       "      <td>8.552</td>\n",
       "      <td>5.06</td>\n",
       "      <td>14103.452</td>\n",
       "      <td>3.4</td>\n",
       "      <td>177.961</td>\n",
       "      <td>8.11</td>\n",
       "      <td>10.1</td>\n",
       "      <td>17.9</td>\n",
       "      <td>NaN</td>\n",
       "      <td>2.2</td>\n",
       "    </tr>\n",
       "    <tr>\n",
       "      <th>3150</th>\n",
       "      <td>BRA</td>\n",
       "      <td>South America</td>\n",
       "      <td>Brazil</td>\n",
       "      <td>2020-06-08</td>\n",
       "      <td>691758</td>\n",
       "      <td>18921</td>\n",
       "      <td>36455</td>\n",
       "      <td>525</td>\n",
       "      <td>3254.422</td>\n",
       "      <td>89.015</td>\n",
       "      <td>...</td>\n",
       "      <td>8.552</td>\n",
       "      <td>5.06</td>\n",
       "      <td>14103.452</td>\n",
       "      <td>3.4</td>\n",
       "      <td>177.961</td>\n",
       "      <td>8.11</td>\n",
       "      <td>10.1</td>\n",
       "      <td>17.9</td>\n",
       "      <td>NaN</td>\n",
       "      <td>2.2</td>\n",
       "    </tr>\n",
       "    <tr>\n",
       "      <th>3151</th>\n",
       "      <td>BRA</td>\n",
       "      <td>South America</td>\n",
       "      <td>Brazil</td>\n",
       "      <td>2020-06-09</td>\n",
       "      <td>707412</td>\n",
       "      <td>15654</td>\n",
       "      <td>37134</td>\n",
       "      <td>679</td>\n",
       "      <td>3328.067</td>\n",
       "      <td>73.645</td>\n",
       "      <td>...</td>\n",
       "      <td>8.552</td>\n",
       "      <td>5.06</td>\n",
       "      <td>14103.452</td>\n",
       "      <td>3.4</td>\n",
       "      <td>177.961</td>\n",
       "      <td>8.11</td>\n",
       "      <td>10.1</td>\n",
       "      <td>17.9</td>\n",
       "      <td>NaN</td>\n",
       "      <td>2.2</td>\n",
       "    </tr>\n",
       "    <tr>\n",
       "      <th>3152</th>\n",
       "      <td>BRA</td>\n",
       "      <td>South America</td>\n",
       "      <td>Brazil</td>\n",
       "      <td>2020-06-10</td>\n",
       "      <td>739503</td>\n",
       "      <td>32091</td>\n",
       "      <td>38406</td>\n",
       "      <td>1272</td>\n",
       "      <td>3479.041</td>\n",
       "      <td>150.974</td>\n",
       "      <td>...</td>\n",
       "      <td>8.552</td>\n",
       "      <td>5.06</td>\n",
       "      <td>14103.452</td>\n",
       "      <td>3.4</td>\n",
       "      <td>177.961</td>\n",
       "      <td>8.11</td>\n",
       "      <td>10.1</td>\n",
       "      <td>17.9</td>\n",
       "      <td>NaN</td>\n",
       "      <td>2.2</td>\n",
       "    </tr>\n",
       "    <tr>\n",
       "      <th>3153</th>\n",
       "      <td>BRA</td>\n",
       "      <td>South America</td>\n",
       "      <td>Brazil</td>\n",
       "      <td>2020-06-11</td>\n",
       "      <td>772416</td>\n",
       "      <td>32913</td>\n",
       "      <td>39680</td>\n",
       "      <td>1274</td>\n",
       "      <td>3633.883</td>\n",
       "      <td>154.841</td>\n",
       "      <td>...</td>\n",
       "      <td>8.552</td>\n",
       "      <td>5.06</td>\n",
       "      <td>14103.452</td>\n",
       "      <td>3.4</td>\n",
       "      <td>177.961</td>\n",
       "      <td>8.11</td>\n",
       "      <td>10.1</td>\n",
       "      <td>17.9</td>\n",
       "      <td>NaN</td>\n",
       "      <td>2.2</td>\n",
       "    </tr>\n",
       "  </tbody>\n",
       "</table>\n",
       "<p>118 rows × 33 columns</p>\n",
       "</div>"
      ],
      "text/plain": [
       "     iso_code      continent location       date  total_cases  new_cases  \\\n",
       "3036      BRA  South America   Brazil 2020-02-15            0          0   \n",
       "3037      BRA  South America   Brazil 2020-02-16            0          0   \n",
       "3038      BRA  South America   Brazil 2020-02-17            0          0   \n",
       "3039      BRA  South America   Brazil 2020-02-18            0          0   \n",
       "3040      BRA  South America   Brazil 2020-02-19            0          0   \n",
       "...       ...            ...      ...        ...          ...        ...   \n",
       "3149      BRA  South America   Brazil 2020-06-07       672837      27075   \n",
       "3150      BRA  South America   Brazil 2020-06-08       691758      18921   \n",
       "3151      BRA  South America   Brazil 2020-06-09       707412      15654   \n",
       "3152      BRA  South America   Brazil 2020-06-10       739503      32091   \n",
       "3153      BRA  South America   Brazil 2020-06-11       772416      32913   \n",
       "\n",
       "      total_deaths  new_deaths  total_cases_per_million  \\\n",
       "3036             0           0                    0.000   \n",
       "3037             0           0                    0.000   \n",
       "3038             0           0                    0.000   \n",
       "3039             0           0                    0.000   \n",
       "3040             0           0                    0.000   \n",
       "...            ...         ...                      ...   \n",
       "3149         35930         904                 3165.407   \n",
       "3150         36455         525                 3254.422   \n",
       "3151         37134         679                 3328.067   \n",
       "3152         38406        1272                 3479.041   \n",
       "3153         39680        1274                 3633.883   \n",
       "\n",
       "      new_cases_per_million  ...  aged_65_older  aged_70_older  \\\n",
       "3036                  0.000  ...          8.552           5.06   \n",
       "3037                  0.000  ...          8.552           5.06   \n",
       "3038                  0.000  ...          8.552           5.06   \n",
       "3039                  0.000  ...          8.552           5.06   \n",
       "3040                  0.000  ...          8.552           5.06   \n",
       "...                     ...  ...            ...            ...   \n",
       "3149                127.376  ...          8.552           5.06   \n",
       "3150                 89.015  ...          8.552           5.06   \n",
       "3151                 73.645  ...          8.552           5.06   \n",
       "3152                150.974  ...          8.552           5.06   \n",
       "3153                154.841  ...          8.552           5.06   \n",
       "\n",
       "      gdp_per_capita  extreme_poverty  cvd_death_rate  diabetes_prevalence  \\\n",
       "3036       14103.452              3.4         177.961                 8.11   \n",
       "3037       14103.452              3.4         177.961                 8.11   \n",
       "3038       14103.452              3.4         177.961                 8.11   \n",
       "3039       14103.452              3.4         177.961                 8.11   \n",
       "3040       14103.452              3.4         177.961                 8.11   \n",
       "...              ...              ...             ...                  ...   \n",
       "3149       14103.452              3.4         177.961                 8.11   \n",
       "3150       14103.452              3.4         177.961                 8.11   \n",
       "3151       14103.452              3.4         177.961                 8.11   \n",
       "3152       14103.452              3.4         177.961                 8.11   \n",
       "3153       14103.452              3.4         177.961                 8.11   \n",
       "\n",
       "      female_smokers  male_smokers handwashing_facilities  \\\n",
       "3036            10.1          17.9                    NaN   \n",
       "3037            10.1          17.9                    NaN   \n",
       "3038            10.1          17.9                    NaN   \n",
       "3039            10.1          17.9                    NaN   \n",
       "3040            10.1          17.9                    NaN   \n",
       "...              ...           ...                    ...   \n",
       "3149            10.1          17.9                    NaN   \n",
       "3150            10.1          17.9                    NaN   \n",
       "3151            10.1          17.9                    NaN   \n",
       "3152            10.1          17.9                    NaN   \n",
       "3153            10.1          17.9                    NaN   \n",
       "\n",
       "      hospital_beds_per_thousand  \n",
       "3036                         2.2  \n",
       "3037                         2.2  \n",
       "3038                         2.2  \n",
       "3039                         2.2  \n",
       "3040                         2.2  \n",
       "...                          ...  \n",
       "3149                         2.2  \n",
       "3150                         2.2  \n",
       "3151                         2.2  \n",
       "3152                         2.2  \n",
       "3153                         2.2  \n",
       "\n",
       "[118 rows x 33 columns]"
      ]
     },
     "execution_count": 8,
     "metadata": {},
     "output_type": "execute_result"
    }
   ],
   "source": [
    "df_country = df[df['iso_code'] == COUNTRY]\n",
    "df_country = df_country[df_country['date'] > START_DATE]\n",
    "df_country"
   ]
  },
  {
   "cell_type": "code",
   "execution_count": 9,
   "metadata": {
    "execution": {
     "iopub.execute_input": "2020-06-12T08:40:33.856656Z",
     "iopub.status.busy": "2020-06-12T08:40:33.855960Z",
     "iopub.status.idle": "2020-06-12T08:40:33.877095Z",
     "shell.execute_reply": "2020-06-12T08:40:33.876439Z"
    },
    "papermill": {
     "duration": 0.056827,
     "end_time": "2020-06-12T08:40:33.877188",
     "exception": false,
     "start_time": "2020-06-12T08:40:33.820361",
     "status": "completed"
    },
    "tags": []
   },
   "outputs": [
    {
     "data": {
      "text/plain": [
       "Timestamp('2020-06-11 00:00:00')"
      ]
     },
     "execution_count": 9,
     "metadata": {},
     "output_type": "execute_result"
    }
   ],
   "source": [
    "df_country['date'].max()"
   ]
  },
  {
   "cell_type": "markdown",
   "metadata": {
    "papermill": {
     "duration": 0.032503,
     "end_time": "2020-06-12T08:40:33.940641",
     "exception": false,
     "start_time": "2020-06-12T08:40:33.908138",
     "status": "completed"
    },
    "tags": []
   },
   "source": [
    "### weekly case counts"
   ]
  },
  {
   "cell_type": "code",
   "execution_count": 10,
   "metadata": {
    "execution": {
     "iopub.execute_input": "2020-06-12T08:40:34.013828Z",
     "iopub.status.busy": "2020-06-12T08:40:34.013139Z",
     "iopub.status.idle": "2020-06-12T08:40:34.640027Z",
     "shell.execute_reply": "2020-06-12T08:40:34.640736Z"
    },
    "papermill": {
     "duration": 0.665027,
     "end_time": "2020-06-12T08:40:34.640951",
     "exception": false,
     "start_time": "2020-06-12T08:40:33.975924",
     "status": "completed"
    },
    "tags": []
   },
   "outputs": [
    {
     "data": {
      "image/png": "[encoded data removed]",
      "text/plain": [
       "<Figure size 864x576 with 1 Axes>"
      ]
     },
     "metadata": {
      "needs_background": "light"
     },
     "output_type": "display_data"
    }
   ],
   "source": [
    "fig, ax = plt.subplots(1, 1, figsize=(12,8))\n",
    "    \n",
    "ax.bar(df_country['date'], df_country['new_cases'])\n",
    "ax.xaxis_date()\n",
    "#set ticks every week\n",
    "ax.xaxis.set_major_locator(mdates.WeekdayLocator())\n",
    "#set major ticks format\n",
    "ax.xaxis.set_major_formatter(mdates.DateFormatter('%b %d'))\n",
    "\n",
    "plt.show()"
   ]
  },
  {
   "cell_type": "markdown",
   "metadata": {
    "papermill": {
     "duration": 0.033543,
     "end_time": "2020-06-12T08:40:34.709267",
     "exception": false,
     "start_time": "2020-06-12T08:40:34.675724",
     "status": "completed"
    },
    "tags": []
   },
   "source": [
    "### cumulative total case counts (log)"
   ]
  },
  {
   "cell_type": "code",
   "execution_count": 11,
   "metadata": {
    "execution": {
     "iopub.execute_input": "2020-06-12T08:40:34.778123Z",
     "iopub.status.busy": "2020-06-12T08:40:34.777508Z",
     "iopub.status.idle": "2020-06-12T08:40:36.090863Z",
     "shell.execute_reply": "2020-06-12T08:40:36.090109Z"
    },
    "papermill": {
     "duration": 1.34952,
     "end_time": "2020-06-12T08:40:36.090948",
     "exception": false,
     "start_time": "2020-06-12T08:40:34.741428",
     "status": "completed"
    },
    "tags": []
   },
   "outputs": [
    {
     "data": {
      "text/plain": [
       "<matplotlib.axes._subplots.AxesSubplot at 0x7f53063afba8>"
      ]
     },
     "execution_count": 11,
     "metadata": {},
     "output_type": "execute_result"
    },
    {
     "data": {
      "image/png": "[encoded data removed]",
      "text/plain": [
       "<Figure size 864x576 with 1 Axes>"
      ]
     },
     "metadata": {
      "needs_background": "light"
     },
     "output_type": "display_data"
    }
   ],
   "source": [
    "fig, ax = plt.subplots(figsize = (12,8)) \n",
    "plt.yscale('log')\n",
    "\n",
    "sns.lineplot(data=df_country, y='total_cases', x='date', ax=ax)"
   ]
  },
  {
   "cell_type": "markdown",
   "metadata": {
    "papermill": {
     "duration": 0.037029,
     "end_time": "2020-06-12T08:40:36.163972",
     "exception": false,
     "start_time": "2020-06-12T08:40:36.126943",
     "status": "completed"
    },
    "tags": []
   },
   "source": [
    "## SIR model with ODE  "
   ]
  },
  {
   "cell_type": "code",
   "execution_count": 12,
   "metadata": {
    "execution": {
     "iopub.execute_input": "2020-06-12T08:40:36.236336Z",
     "iopub.status.busy": "2020-06-12T08:40:36.235694Z",
     "iopub.status.idle": "2020-06-12T08:40:36.255644Z",
     "shell.execute_reply": "2020-06-12T08:40:36.255059Z"
    },
    "papermill": {
     "duration": 0.058397,
     "end_time": "2020-06-12T08:40:36.255822",
     "exception": false,
     "start_time": "2020-06-12T08:40:36.197425",
     "status": "completed"
    },
    "tags": []
   },
   "outputs": [],
   "source": [
    "def sir_model(y, t, N, beta, gamma):\n",
    "    '''\n",
    "    N: total population\n",
    "    S(t): no. of susceptible ppl on day t\n",
    "    I(t): no. of infected ppl on day t\n",
    "    R(t): no. of recovered on day t\n",
    "    beta: transmission rate; expected amount of people an infected person infects per day\n",
    "    D: number of days an infected person has and can spread the disease (from research is 18 days?) \n",
    "    gamma: recovery rate; proportion of infected recovering per day (gamma = 1/D)\n",
    "    R_0: total no. of people an infected person infects (R_0 = beta / gamma)\n",
    "    '''\n",
    "    S, I, R = y\n",
    "    \n",
    "    dSdt = -beta * S * (I / N)\n",
    "    dIdt = beta * S * (I / N) - gamma * I\n",
    "    dRdt = gamma * I\n",
    "    \n",
    "    return dSdt, dIdt, dRdt"
   ]
  },
  {
   "cell_type": "code",
   "execution_count": 13,
   "metadata": {
    "execution": {
     "iopub.execute_input": "2020-06-12T08:40:36.334748Z",
     "iopub.status.busy": "2020-06-12T08:40:36.334104Z",
     "iopub.status.idle": "2020-06-12T08:40:36.357273Z",
     "shell.execute_reply": "2020-06-12T08:40:36.356502Z"
    },
    "papermill": {
     "duration": 0.066456,
     "end_time": "2020-06-12T08:40:36.357362",
     "exception": false,
     "start_time": "2020-06-12T08:40:36.290906",
     "status": "completed"
    },
    "tags": []
   },
   "outputs": [],
   "source": [
    "def plot_sir(t, S, I, R, x_ticks):\n",
    "    f, ax = plt.subplots(1, 1, figsize=(12,6))\n",
    "    \n",
    "    ax.plot(x_ticks, S, 'b', alpha=0.7, linewidth=1, label='Susceptible')  # TODO: t\n",
    "    ax.plot(x_ticks, I, 'r', alpha=0.7, linewidth=2, label='Infected')\n",
    "    ax.plot(x_ticks, R, 'y', alpha=0.7, linewidth=1, label='Recovered')\n",
    "\n",
    "    ax.set_xlabel('Time (days)')\n",
    "\n",
    "    ax.yaxis.set_tick_params(length=0)\n",
    "    ax.xaxis.set_tick_params(length=0)\n",
    "        \n",
    "    ax.grid(b=True, which='major', c='w', lw=2, ls='-')\n",
    "    legend = ax.legend()\n",
    "    legend.get_frame().set_alpha(0.5)\n",
    "    for spine in ('top', 'right', 'bottom', 'left'):\n",
    "        ax.spines[spine].set_visible(False)\n",
    "    plt.show();"
   ]
  },
  {
   "cell_type": "markdown",
   "metadata": {
    "papermill": {
     "duration": 0.037464,
     "end_time": "2020-06-12T08:40:36.429925",
     "exception": false,
     "start_time": "2020-06-12T08:40:36.392461",
     "status": "completed"
    },
    "tags": []
   },
   "source": [
    "# curve fitting with actual country data  "
   ]
  },
  {
   "cell_type": "code",
   "execution_count": 14,
   "metadata": {
    "execution": {
     "iopub.execute_input": "2020-06-12T08:40:36.506295Z",
     "iopub.status.busy": "2020-06-12T08:40:36.505435Z",
     "iopub.status.idle": "2020-06-12T08:40:36.528046Z",
     "shell.execute_reply": "2020-06-12T08:40:36.528618Z"
    },
    "papermill": {
     "duration": 0.064821,
     "end_time": "2020-06-12T08:40:36.528729",
     "exception": false,
     "start_time": "2020-06-12T08:40:36.463908",
     "status": "completed"
    },
    "tags": []
   },
   "outputs": [
    {
     "data": {
      "text/plain": [
       "array([    0,     0,     0,     0,     0,     0,     0,     0,     0,\n",
       "           0,     0,     1,     0,     0,     0,     1,     0,     0,\n",
       "           0,     1,     5,     5,     0,    12,     0,     9,    18,\n",
       "          25,    21,    23,    79,    34,    57,   137,   193,   283,\n",
       "         224,   418,   345,   310,   232,   482,   502,   487,   352,\n",
       "         323,  1138,  1119,  1074,  1146,  1222,   852,   926,  1661,\n",
       "        2210,  1930,  1781,  1089,  1442,  1261,  1832,  3058,  2105,\n",
       "        3257,  2917,  2055,  1927,  2498,  2678,  3735,  3503,  5514,\n",
       "        3379,  4613,  5385,  6276,  7218,  6209,  4970,  4588,  6633,\n",
       "        6935, 10503,  9888, 10222, 10611,  6760,  5632,  9258, 11385,\n",
       "       13944, 15305, 14919,  7938, 13140, 17408, 19951, 18508, 20803,\n",
       "       16508, 15813, 11687, 16324, 20599, 26417, 26928, 33274, 16409,\n",
       "       11598, 28936, 28633, 30916, 30830, 27075, 18921, 15654, 32091,\n",
       "       32913])"
      ]
     },
     "execution_count": 14,
     "metadata": {},
     "output_type": "execute_result"
    }
   ],
   "source": [
    "data = df_country['new_cases'].values\n",
    "data"
   ]
  },
  {
   "cell_type": "code",
   "execution_count": 15,
   "metadata": {
    "execution": {
     "iopub.execute_input": "2020-06-12T08:40:36.605076Z",
     "iopub.status.busy": "2020-06-12T08:40:36.604465Z",
     "iopub.status.idle": "2020-06-12T08:40:36.624732Z",
     "shell.execute_reply": "2020-06-12T08:40:36.625299Z"
    },
    "papermill": {
     "duration": 0.060305,
     "end_time": "2020-06-12T08:40:36.625411",
     "exception": false,
     "start_time": "2020-06-12T08:40:36.565106",
     "status": "completed"
    },
    "tags": []
   },
   "outputs": [
    {
     "data": {
      "text/plain": [
       "118"
      ]
     },
     "execution_count": 15,
     "metadata": {},
     "output_type": "execute_result"
    }
   ],
   "source": [
    "N = 5000000\n",
    "\n",
    "# find beta & gamma from fitting\n",
    "# beta = 2.0  # infected person infects 1 other person per day\n",
    "# D = 14.0  # infections lasts X days\n",
    "# gamma = 1.0 / D\n",
    "\n",
    "days = len(data)\n",
    "days"
   ]
  },
  {
   "cell_type": "code",
   "execution_count": 16,
   "metadata": {
    "execution": {
     "iopub.execute_input": "2020-06-12T08:40:36.702453Z",
     "iopub.status.busy": "2020-06-12T08:40:36.701867Z",
     "iopub.status.idle": "2020-06-12T08:40:36.722789Z",
     "shell.execute_reply": "2020-06-12T08:40:36.723480Z"
    },
    "papermill": {
     "duration": 0.063519,
     "end_time": "2020-06-12T08:40:36.723647",
     "exception": false,
     "start_time": "2020-06-12T08:40:36.660128",
     "status": "completed"
    },
    "tags": []
   },
   "outputs": [],
   "source": [
    "def Model_SIR(days, N, beta, gamma):\n",
    "    t = np.linspace(0, days-1, days, dtype=int)  # time grid (in days)\n",
    "\n",
    "    y0 = N-1, 1, 0  # S0, I0, R0\n",
    "\n",
    "    # Integrate the equations over the time grid, t.\n",
    "    result = odeint(sir_model, y0, t, args=(N, beta, gamma))\n",
    "    S, I, R = result.T\n",
    "    return t, S, I, R"
   ]
  },
  {
   "cell_type": "code",
   "execution_count": 17,
   "metadata": {
    "execution": {
     "iopub.execute_input": "2020-06-12T08:40:36.802063Z",
     "iopub.status.busy": "2020-06-12T08:40:36.801475Z",
     "iopub.status.idle": "2020-06-12T08:40:36.824032Z",
     "shell.execute_reply": "2020-06-12T08:40:36.823302Z"
    },
    "papermill": {
     "duration": 0.064071,
     "end_time": "2020-06-12T08:40:36.824124",
     "exception": false,
     "start_time": "2020-06-12T08:40:36.760053",
     "status": "completed"
    },
    "tags": []
   },
   "outputs": [],
   "source": [
    "def fit_model(x, N, beta, gamma):\n",
    "    \"\"\"\n",
    "    returns: infections I per day ? \n",
    "    \"\"\"\n",
    "    return Model_SIR(days, N, beta, gamma)[2][x]"
   ]
  },
  {
   "cell_type": "markdown",
   "metadata": {
    "papermill": {
     "duration": 0.035922,
     "end_time": "2020-06-12T08:40:36.899181",
     "exception": false,
     "start_time": "2020-06-12T08:40:36.863259",
     "status": "completed"
    },
    "tags": []
   },
   "source": [
    "### initiate model & set params"
   ]
  },
  {
   "cell_type": "code",
   "execution_count": 18,
   "metadata": {
    "execution": {
     "iopub.execute_input": "2020-06-12T08:40:36.982656Z",
     "iopub.status.busy": "2020-06-12T08:40:36.981641Z",
     "iopub.status.idle": "2020-06-12T08:40:37.007829Z",
     "shell.execute_reply": "2020-06-12T08:40:37.007306Z"
    },
    "papermill": {
     "duration": 0.070595,
     "end_time": "2020-06-12T08:40:37.007921",
     "exception": false,
     "start_time": "2020-06-12T08:40:36.937326",
     "status": "completed"
    },
    "tags": []
   },
   "outputs": [
    {
     "data": {
      "text/html": [
       "<table><tr><th> name </th><th> value </th><th> initial value </th><th> min </th><th> max </th><th> vary </th></tr><tr><td> N </td><td>  5000000.00 </td><td> None </td><td>  0.00000000 </td><td>         inf </td><td> True </td></tr><tr><td> beta </td><td>  0.50000000 </td><td> None </td><td>  0.00000000 </td><td>         inf </td><td> True </td></tr><tr><td> gamma </td><td>  0.10000000 </td><td> None </td><td>  0.00000000 </td><td>  1.00000000 </td><td> True </td></tr></table>"
      ],
      "text/plain": [
       "Parameters([('N', <Parameter 'N', value=5000000, bounds=[0:inf]>),\n",
       "            ('beta', <Parameter 'beta', value=0.5, bounds=[0:inf]>),\n",
       "            ('gamma', <Parameter 'gamma', value=0.1, bounds=[0:1]>)])"
      ]
     },
     "execution_count": 18,
     "metadata": {},
     "output_type": "execute_result"
    }
   ],
   "source": [
    "mod = lmfit.Model(fit_model)\n",
    "\n",
    "mod.set_param_hint(\"N\", value=N, min=0, vary=True)\n",
    "mod.set_param_hint(\"beta\", value=0.5, min=0, vary=True)\n",
    "# mod.set_param_hint(\"gamma\", value=1/18, min=1/19, max=1/17, vary=True)\n",
    "mod.set_param_hint(\"gamma\", value=0.1, min=0, max=1, vary=True)\n",
    "\n",
    "params = mod.make_params()\n",
    "params"
   ]
  },
  {
   "cell_type": "code",
   "execution_count": 19,
   "metadata": {
    "execution": {
     "iopub.execute_input": "2020-06-12T08:40:37.090730Z",
     "iopub.status.busy": "2020-06-12T08:40:37.090116Z",
     "iopub.status.idle": "2020-06-12T08:40:37.538741Z",
     "shell.execute_reply": "2020-06-12T08:40:37.537977Z"
    },
    "papermill": {
     "duration": 0.490627,
     "end_time": "2020-06-12T08:40:37.538882",
     "exception": false,
     "start_time": "2020-06-12T08:40:37.048255",
     "status": "completed"
    },
    "tags": []
   },
   "outputs": [],
   "source": [
    "# fitting\n",
    "\n",
    "x_data = np.linspace(0, days-1, days, dtype=int)  # time grid (in days)\n",
    "\n",
    "results = mod.fit(data, params, method=\"leastsq\", x=x_data)  # leastsq, least_squares?"
   ]
  },
  {
   "cell_type": "code",
   "execution_count": 20,
   "metadata": {
    "execution": {
     "iopub.execute_input": "2020-06-12T08:40:37.617622Z",
     "iopub.status.busy": "2020-06-12T08:40:37.617033Z",
     "iopub.status.idle": "2020-06-12T08:40:37.879064Z",
     "shell.execute_reply": "2020-06-12T08:40:37.878439Z"
    },
    "papermill": {
     "duration": 0.302669,
     "end_time": "2020-06-12T08:40:37.879154",
     "exception": false,
     "start_time": "2020-06-12T08:40:37.576485",
     "status": "completed"
    },
    "tags": []
   },
   "outputs": [
    {
     "data": {
      "text/plain": [
       "{'N': 28278.403926746603,\n",
       " 'beta': 0.11105828544204788,\n",
       " 'gamma': 1.9281493068845634e-10}"
      ]
     },
     "execution_count": 20,
     "metadata": {},
     "output_type": "execute_result"
    },
    {
     "data": {
      "image/png": "[encoded data removed]",
      "text/plain": [
       "<Figure size 576x360 with 1 Axes>"
      ]
     },
     "metadata": {
      "needs_background": "light"
     },
     "output_type": "display_data"
    }
   ],
   "source": [
    "plt.figure(figsize=(8,5))\n",
    "results.plot_fit(datafmt=\".\", fitfmt=\"-\");\n",
    "results.best_values"
   ]
  },
  {
   "cell_type": "code",
   "execution_count": 21,
   "metadata": {
    "execution": {
     "iopub.execute_input": "2020-06-12T08:40:37.963852Z",
     "iopub.status.busy": "2020-06-12T08:40:37.963177Z",
     "iopub.status.idle": "2020-06-12T08:40:38.189045Z",
     "shell.execute_reply": "2020-06-12T08:40:38.189447Z"
    },
    "papermill": {
     "duration": 0.269962,
     "end_time": "2020-06-12T08:40:38.189570",
     "exception": false,
     "start_time": "2020-06-12T08:40:37.919608",
     "status": "completed"
    },
    "tags": []
   },
   "outputs": [
    {
     "data": {
      "text/plain": [
       "<matplotlib.axes._subplots.AxesSubplot at 0x7f53062cec50>"
      ]
     },
     "execution_count": 21,
     "metadata": {},
     "output_type": "execute_result"
    },
    {
     "data": {
      "image/png": "[encoded data removed]",
      "text/plain": [
       "<Figure size 576x360 with 1 Axes>"
      ]
     },
     "metadata": {
      "needs_background": "light"
     },
     "output_type": "display_data"
    }
   ],
   "source": [
    "plt.figure(figsize=(8,5))\n",
    "results.plot_residuals()"
   ]
  },
  {
   "cell_type": "code",
   "execution_count": 22,
   "metadata": {
    "execution": {
     "iopub.execute_input": "2020-06-12T08:40:38.276462Z",
     "iopub.status.busy": "2020-06-12T08:40:38.275716Z",
     "iopub.status.idle": "2020-06-12T08:40:38.297143Z",
     "shell.execute_reply": "2020-06-12T08:40:38.296390Z"
    },
    "papermill": {
     "duration": 0.066914,
     "end_time": "2020-06-12T08:40:38.297240",
     "exception": false,
     "start_time": "2020-06-12T08:40:38.230326",
     "status": "completed"
    },
    "tags": []
   },
   "outputs": [
    {
     "data": {
      "text/html": [
       "<h2> Model</h2> Model(fit_model) <h2>Fit Statistics</h2><table><tr><td>fitting method</td><td>leastsq</td><td></td></tr><tr><td># function evals</td><td>121</td><td></td></tr><tr><td># data points</td><td>118</td><td></td></tr><tr><td># variables</td><td>3</td><td></td></tr><tr><td>chi-square</td><td> 1.0125e+09</td><td></td></tr><tr><td>reduced chi-square</td><td> 8804601.72</td><td></td></tr><tr><td>Akaike info crit.</td><td> 1889.87384</td><td></td></tr><tr><td>Bayesian info crit.</td><td> 1898.18590</td><td></td></tr></table><h2>Variables</h2><table><tr><th> name </th><th> value </th><th> standard error </th><th> relative error </th><th> initial value </th><th> min </th><th> max </th><th> vary </th></tr><tr><td> N </td><td>  28278.4039 </td><td>  14158.7389 </td><td> (50.07%) </td><td> 5000000 </td><td>  0.00000000 </td><td>         inf </td><td> True </td></tr><tr><td> beta </td><td>  0.11105829 </td><td>  0.01625182 </td><td> (14.63%) </td><td> 0.5 </td><td>  0.00000000 </td><td>         inf </td><td> True </td></tr><tr><td> gamma </td><td>  1.9281e-10 </td><td>  0.01783101 </td><td> (9247735022.85%) </td><td> 0.1 </td><td>  0.00000000 </td><td>  1.00000000 </td><td> True </td></tr></table><h2>Correlations (unreported correlations are < 0.100)</h2><table><tr><td>beta</td><td>gamma</td><td>0.9969</td></tr><tr><td>N</td><td>gamma</td><td>0.9961</td></tr><tr><td>N</td><td>beta</td><td>0.9881</td></tr></table>"
      ],
      "text/plain": [
       "<lmfit.model.ModelResult at 0x7f530634b400>"
      ]
     },
     "execution_count": 22,
     "metadata": {},
     "output_type": "execute_result"
    }
   ],
   "source": [
    "results"
   ]
  },
  {
   "cell_type": "code",
   "execution_count": 23,
   "metadata": {
    "execution": {
     "iopub.execute_input": "2020-06-12T08:40:38.382852Z",
     "iopub.status.busy": "2020-06-12T08:40:38.382182Z",
     "iopub.status.idle": "2020-06-12T08:40:38.402636Z",
     "shell.execute_reply": "2020-06-12T08:40:38.401903Z"
    },
    "papermill": {
     "duration": 0.063919,
     "end_time": "2020-06-12T08:40:38.402726",
     "exception": false,
     "start_time": "2020-06-12T08:40:38.338807",
     "status": "completed"
    },
    "tags": []
   },
   "outputs": [
    {
     "data": {
      "text/plain": [
       "0.05555555555555555"
      ]
     },
     "execution_count": 23,
     "metadata": {},
     "output_type": "execute_result"
    }
   ],
   "source": [
    "# gamma should be close to this: \n",
    "1/18"
   ]
  },
  {
   "cell_type": "code",
   "execution_count": 24,
   "metadata": {
    "execution": {
     "iopub.execute_input": "2020-06-12T08:40:38.495604Z",
     "iopub.status.busy": "2020-06-12T08:40:38.493861Z",
     "iopub.status.idle": "2020-06-12T08:40:38.519158Z",
     "shell.execute_reply": "2020-06-12T08:40:38.518537Z"
    },
    "papermill": {
     "duration": 0.07389,
     "end_time": "2020-06-12T08:40:38.519299",
     "exception": false,
     "start_time": "2020-06-12T08:40:38.445409",
     "status": "completed"
    },
    "tags": []
   },
   "outputs": [],
   "source": [
    "def plot_sir2(t, S, I, R, x_ticks, COUNTRY):\n",
    "    f, ax = plt.subplots(1, 1, figsize=(12,8))\n",
    "    ax.set_title('Country: %s' % COUNTRY, fontsize= 20) \n",
    "    \n",
    "    ax.plot(x_ticks, S, 'b', alpha=0.7, linewidth=1, label='Susceptible')  # TODO: t\n",
    "    ax.plot(x_ticks, I, 'r', alpha=0.7, linewidth=2, label='Infected')\n",
    "    ax.plot(x_ticks, R, 'y', alpha=0.7, linewidth=1, label='Recovered')\n",
    "\n",
    "    ax.set_xlabel('Time (days)')\n",
    "\n",
    "    ax.yaxis.set_tick_params(length=0)\n",
    "    ax.xaxis.set_tick_params(length=0)\n",
    "    \n",
    "    # ax.set_ylim(0, 1800)\n",
    "    \n",
    "    ax.grid(b=True, which='major', c='w', lw=2, ls='-')\n",
    "    legend = ax.legend()\n",
    "    legend.get_frame().set_alpha(0.5)\n",
    "    for spine in ('top', 'right', 'bottom', 'left'):\n",
    "        ax.spines[spine].set_visible(False)\n",
    "        \n",
    "    # overlay actual data\n",
    "    ax.bar(df_country['date'], df_country['new_cases'])\n",
    "\n",
    "    plt.show()"
   ]
  },
  {
   "cell_type": "code",
   "execution_count": 25,
   "metadata": {
    "execution": {
     "iopub.execute_input": "2020-06-12T08:40:38.611467Z",
     "iopub.status.busy": "2020-06-12T08:40:38.610840Z",
     "iopub.status.idle": "2020-06-12T08:40:38.632124Z",
     "shell.execute_reply": "2020-06-12T08:40:38.632588Z"
    },
    "papermill": {
     "duration": 0.070445,
     "end_time": "2020-06-12T08:40:38.632701",
     "exception": false,
     "start_time": "2020-06-12T08:40:38.562256",
     "status": "completed"
    },
    "tags": []
   },
   "outputs": [],
   "source": [
    "def plot_infected(t, S, I, R, x_ticks, COUNTRY):\n",
    "    f, ax = plt.subplots(1, 1, figsize=(12,8))\n",
    "    ax.set_title('Country: %s' % COUNTRY, fontsize= 20) \n",
    "    \n",
    "    ax.plot(x_ticks, I, 'r', alpha=0.7, linewidth=2, label='Infected (prediction)')\n",
    "\n",
    "    ax.set_xlabel('Time (days)')\n",
    "\n",
    "    ax.yaxis.set_tick_params(length=0)\n",
    "    ax.xaxis.set_tick_params(length=0)\n",
    "    \n",
    "    # ax.set_ylim(0, 1800)\n",
    "    ax.grid(b=True, which='major', c='w', lw=2, ls='-')\n",
    "    legend = ax.legend()\n",
    "    legend.get_frame().set_alpha(0.5)\n",
    "    \n",
    "    # overlay actual data\n",
    "    ax.bar(df_country['date'], df_country['new_cases'])\n",
    "\n",
    "    plt.show()"
   ]
  },
  {
   "cell_type": "code",
   "execution_count": 26,
   "metadata": {
    "execution": {
     "iopub.execute_input": "2020-06-12T08:40:38.722922Z",
     "iopub.status.busy": "2020-06-12T08:40:38.722329Z",
     "iopub.status.idle": "2020-06-12T08:40:38.742981Z",
     "shell.execute_reply": "2020-06-12T08:40:38.743472Z"
    },
    "papermill": {
     "duration": 0.067816,
     "end_time": "2020-06-12T08:40:38.743684",
     "exception": false,
     "start_time": "2020-06-12T08:40:38.675868",
     "status": "completed"
    },
    "tags": []
   },
   "outputs": [],
   "source": [
    "max_days = 210\n",
    "first_date = np.datetime64(df_country['date'].min()) - np.timedelta64(0, 'D')\n",
    "\n",
    "x_ticks = pd.date_range(start=first_date, periods=max_days, freq=\"D\")"
   ]
  },
  {
   "cell_type": "code",
   "execution_count": 27,
   "metadata": {
    "execution": {
     "iopub.execute_input": "2020-06-12T08:40:38.836067Z",
     "iopub.status.busy": "2020-06-12T08:40:38.835460Z",
     "iopub.status.idle": "2020-06-12T08:40:39.502733Z",
     "shell.execute_reply": "2020-06-12T08:40:39.503779Z"
    },
    "papermill": {
     "duration": 0.717583,
     "end_time": "2020-06-12T08:40:39.504028",
     "exception": false,
     "start_time": "2020-06-12T08:40:38.786445",
     "status": "completed"
    },
    "tags": []
   },
   "outputs": [
    {
     "data": {
      "image/png": "[encoded data removed]",
      "text/plain": [
       "<Figure size 864x576 with 1 Axes>"
      ]
     },
     "metadata": {
      "needs_background": "light"
     },
     "output_type": "display_data"
    }
   ],
   "source": [
    "plot_sir2(*Model_SIR(max_days, **results.best_values), x_ticks, COUNTRY)"
   ]
  },
  {
   "cell_type": "code",
   "execution_count": 28,
   "metadata": {
    "execution": {
     "iopub.execute_input": "2020-06-12T08:40:39.597571Z",
     "iopub.status.busy": "2020-06-12T08:40:39.596900Z",
     "iopub.status.idle": "2020-06-12T08:40:40.240295Z",
     "shell.execute_reply": "2020-06-12T08:40:40.240836Z"
    },
    "papermill": {
     "duration": 0.692009,
     "end_time": "2020-06-12T08:40:40.240944",
     "exception": false,
     "start_time": "2020-06-12T08:40:39.548935",
     "status": "completed"
    },
    "tags": []
   },
   "outputs": [
    {
     "data": {
      "image/png": "[encoded data removed]",
      "text/plain": [
       "<Figure size 864x576 with 1 Axes>"
      ]
     },
     "metadata": {
      "needs_background": "light"
     },
     "output_type": "display_data"
    }
   ],
   "source": [
    "plot_infected(*Model_SIR(max_days, **results.best_values), x_ticks, COUNTRY)"
   ]
  },
  {
   "cell_type": "markdown",
   "metadata": {
    "papermill": {
     "duration": 0.044955,
     "end_time": "2020-06-12T08:40:40.330093",
     "exception": false,
     "start_time": "2020-06-12T08:40:40.285138",
     "status": "completed"
    },
    "tags": []
   },
   "source": [
    "# observations\n",
    "\n",
    "- It is difficult to make predictions for different countries with the evolving situation and resources available. A country could be at different stages of the outbreak\n",
    "- A more complicated model could be used e.g. SEIR "
   ]
  },
  {
   "cell_type": "code",
   "execution_count": null,
   "metadata": {
    "papermill": {
     "duration": 0.044141,
     "end_time": "2020-06-12T08:40:40.418920",
     "exception": false,
     "start_time": "2020-06-12T08:40:40.374779",
     "status": "completed"
    },
    "tags": []
   },
   "outputs": [],
   "source": []
  },
  {
   "cell_type": "code",
   "execution_count": null,
   "metadata": {
    "papermill": {
     "duration": 0.045693,
     "end_time": "2020-06-12T08:40:40.509828",
     "exception": false,
     "start_time": "2020-06-12T08:40:40.464135",
     "status": "completed"
    },
    "tags": []
   },
   "outputs": [],
   "source": []
  }
 ],
 "metadata": {
  "kernelspec": {
   "display_name": "Python 3",
   "language": "python",
   "name": "python3"
  },
  "language_info": {
   "codemirror_mode": {
    "name": "ipython",
    "version": 3
   },
   "file_extension": ".py",
   "mimetype": "text/x-python",
   "name": "python",
   "nbconvert_exporter": "python",
   "pygments_lexer": "ipython3",
   "version": "3.7.3"
  },
  "papermill": {
   "duration": 9.916044,
   "end_time": "2020-06-12T08:40:40.974729",
   "environment_variables": {},
   "exception": null,
   "input_path": "sir_country_model.ipynb",
   "output_path": "output/country_BRA.ipynb",
   "parameters": {
    "COUNTRY": "BRA",
    "START_DATE": "2020-02-14"
   },
   "start_time": "2020-06-12T08:40:31.058685",
   "version": "2.1.1"
  }
 },
 "nbformat": 4,
 "nbformat_minor": 4
}